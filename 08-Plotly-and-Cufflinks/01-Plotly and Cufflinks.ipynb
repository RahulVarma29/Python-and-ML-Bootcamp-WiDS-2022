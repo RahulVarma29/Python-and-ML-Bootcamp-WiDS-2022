{
 "cells": [
  {
   "cell_type": "markdown",
   "metadata": {},
   "source": [
    "___\n",
    "\n",
    "<a href='https://www.schoolofds.com'><center><img src='../schoolofds_logo.png' width = 500/></center></a>\n",
    "___\n",
    "<center><em>Content Copyright by School of Data Science #schoolofds</em></center>\n",
    "\n",
    "\n",
    "\n",
    "# Plotly and Cufflinks"
   ]
  },
  {
   "cell_type": "markdown",
   "metadata": {},
   "source": [
    "Plotly is a library that allows you to create interactive plots that you can use in dashboards or websites (you can save them as html files or static images).\n",
    "\n",
    "## Installation\n",
    "\n",
    "In order for this all to work, you'll need to install plotly and cufflinks to call plots directly off of a pandas dataframe. These libraries are not currently available through **conda** but are available through **pip**. Install the libraries at your command line/terminal using:\n",
    "\n",
    "    pip install plotly\n",
    "    pip install cufflinks\n",
    "\n",
    "** NOTE: Make sure you only have one installation of Python on your computer when you do this, otherwise the installation may not work. **\n",
    "\n",
    "## Imports and Set-up"
   ]
  },
  {
   "cell_type": "code",
   "execution_count": 1,
   "metadata": {},
   "outputs": [],
   "source": [
    "import pandas as pd\n",
    "import numpy as np\n",
    "%matplotlib inline"
   ]
  },
  {
   "cell_type": "code",
   "execution_count": 2,
   "metadata": {},
   "outputs": [
    {
     "name": "stdout",
     "output_type": "stream",
     "text": [
      "5.1.0\n"
     ]
    }
   ],
   "source": [
    "from plotly import __version__\n",
    "from plotly.offline import download_plotlyjs, init_notebook_mode, plot, iplot\n",
    "\n",
    "print(__version__) # requires version >= 1.9.0"
   ]
  },
  {
   "cell_type": "code",
   "execution_count": 3,
   "metadata": {},
   "outputs": [],
   "source": [
    "import cufflinks as cf"
   ]
  },
  {
   "cell_type": "code",
   "execution_count": 4,
   "metadata": {},
   "outputs": [
    {
     "data": {
      "text/html": [
       "        <script type=\"text/javascript\">\n",
       "        window.PlotlyConfig = {MathJaxConfig: 'local'};\n",
       "        if (window.MathJax) {MathJax.Hub.Config({SVG: {font: \"STIX-Web\"}});}\n",
       "        if (typeof require !== 'undefined') {\n",
       "        require.undef(\"plotly\");\n",
       "        requirejs.config({\n",
       "            paths: {\n",
       "                'plotly': ['https://cdn.plot.ly/plotly-2.2.0.min']\n",
       "            }\n",
       "        });\n",
       "        require(['plotly'], function(Plotly) {\n",
       "            window._Plotly = Plotly;\n",
       "        });\n",
       "        }\n",
       "        </script>\n",
       "        "
      ]
     },
     "metadata": {},
     "output_type": "display_data"
    }
   ],
   "source": [
    "# For Notebooks\n",
    "init_notebook_mode(connected=True)"
   ]
  },
  {
   "cell_type": "code",
   "execution_count": 5,
   "metadata": {},
   "outputs": [
    {
     "data": {
      "text/html": [
       "        <script type=\"text/javascript\">\n",
       "        window.PlotlyConfig = {MathJaxConfig: 'local'};\n",
       "        if (window.MathJax) {MathJax.Hub.Config({SVG: {font: \"STIX-Web\"}});}\n",
       "        if (typeof require !== 'undefined') {\n",
       "        require.undef(\"plotly\");\n",
       "        requirejs.config({\n",
       "            paths: {\n",
       "                'plotly': ['https://cdn.plot.ly/plotly-2.2.0.min']\n",
       "            }\n",
       "        });\n",
       "        require(['plotly'], function(Plotly) {\n",
       "            window._Plotly = Plotly;\n",
       "        });\n",
       "        }\n",
       "        </script>\n",
       "        "
      ]
     },
     "metadata": {},
     "output_type": "display_data"
    }
   ],
   "source": [
    "# For offline use\n",
    "cf.go_offline()"
   ]
  },
  {
   "cell_type": "markdown",
   "metadata": {},
   "source": [
    "### Fake Data"
   ]
  },
  {
   "cell_type": "code",
   "execution_count": 6,
   "metadata": {},
   "outputs": [],
   "source": [
    "df = pd.DataFrame(np.random.randn(100,4),columns='A B C D'.split())"
   ]
  },
  {
   "cell_type": "code",
   "execution_count": 7,
   "metadata": {},
   "outputs": [
    {
     "data": {
      "text/html": [
       "<div>\n",
       "<style scoped>\n",
       "    .dataframe tbody tr th:only-of-type {\n",
       "        vertical-align: middle;\n",
       "    }\n",
       "\n",
       "    .dataframe tbody tr th {\n",
       "        vertical-align: top;\n",
       "    }\n",
       "\n",
       "    .dataframe thead th {\n",
       "        text-align: right;\n",
       "    }\n",
       "</style>\n",
       "<table border=\"1\" class=\"dataframe\">\n",
       "  <thead>\n",
       "    <tr style=\"text-align: right;\">\n",
       "      <th></th>\n",
       "      <th>A</th>\n",
       "      <th>B</th>\n",
       "      <th>C</th>\n",
       "      <th>D</th>\n",
       "    </tr>\n",
       "  </thead>\n",
       "  <tbody>\n",
       "    <tr>\n",
       "      <th>0</th>\n",
       "      <td>0.195701</td>\n",
       "      <td>-1.903905</td>\n",
       "      <td>-0.197428</td>\n",
       "      <td>0.738191</td>\n",
       "    </tr>\n",
       "    <tr>\n",
       "      <th>1</th>\n",
       "      <td>-0.116383</td>\n",
       "      <td>0.415676</td>\n",
       "      <td>0.489584</td>\n",
       "      <td>0.053886</td>\n",
       "    </tr>\n",
       "    <tr>\n",
       "      <th>2</th>\n",
       "      <td>-0.526326</td>\n",
       "      <td>-0.850055</td>\n",
       "      <td>1.168655</td>\n",
       "      <td>1.088153</td>\n",
       "    </tr>\n",
       "    <tr>\n",
       "      <th>3</th>\n",
       "      <td>0.861095</td>\n",
       "      <td>-1.671416</td>\n",
       "      <td>-1.323967</td>\n",
       "      <td>-1.007727</td>\n",
       "    </tr>\n",
       "    <tr>\n",
       "      <th>4</th>\n",
       "      <td>-0.334509</td>\n",
       "      <td>0.349023</td>\n",
       "      <td>0.315341</td>\n",
       "      <td>-0.418818</td>\n",
       "    </tr>\n",
       "  </tbody>\n",
       "</table>\n",
       "</div>"
      ],
      "text/plain": [
       "          A         B         C         D\n",
       "0  0.195701 -1.903905 -0.197428  0.738191\n",
       "1 -0.116383  0.415676  0.489584  0.053886\n",
       "2 -0.526326 -0.850055  1.168655  1.088153\n",
       "3  0.861095 -1.671416 -1.323967 -1.007727\n",
       "4 -0.334509  0.349023  0.315341 -0.418818"
      ]
     },
     "execution_count": 7,
     "metadata": {},
     "output_type": "execute_result"
    }
   ],
   "source": [
    "df.head()"
   ]
  },
  {
   "cell_type": "code",
   "execution_count": 8,
   "metadata": {},
   "outputs": [],
   "source": [
    "df2 = pd.DataFrame({'Category':['A','B','C'],'Values':[32,43,50]})"
   ]
  },
  {
   "cell_type": "code",
   "execution_count": 9,
   "metadata": {},
   "outputs": [
    {
     "data": {
      "text/html": [
       "<div>\n",
       "<style scoped>\n",
       "    .dataframe tbody tr th:only-of-type {\n",
       "        vertical-align: middle;\n",
       "    }\n",
       "\n",
       "    .dataframe tbody tr th {\n",
       "        vertical-align: top;\n",
       "    }\n",
       "\n",
       "    .dataframe thead th {\n",
       "        text-align: right;\n",
       "    }\n",
       "</style>\n",
       "<table border=\"1\" class=\"dataframe\">\n",
       "  <thead>\n",
       "    <tr style=\"text-align: right;\">\n",
       "      <th></th>\n",
       "      <th>Category</th>\n",
       "      <th>Values</th>\n",
       "    </tr>\n",
       "  </thead>\n",
       "  <tbody>\n",
       "    <tr>\n",
       "      <th>0</th>\n",
       "      <td>A</td>\n",
       "      <td>32</td>\n",
       "    </tr>\n",
       "    <tr>\n",
       "      <th>1</th>\n",
       "      <td>B</td>\n",
       "      <td>43</td>\n",
       "    </tr>\n",
       "    <tr>\n",
       "      <th>2</th>\n",
       "      <td>C</td>\n",
       "      <td>50</td>\n",
       "    </tr>\n",
       "  </tbody>\n",
       "</table>\n",
       "</div>"
      ],
      "text/plain": [
       "  Category  Values\n",
       "0        A      32\n",
       "1        B      43\n",
       "2        C      50"
      ]
     },
     "execution_count": 9,
     "metadata": {},
     "output_type": "execute_result"
    }
   ],
   "source": [
    "df2.head()"
   ]
  },
  {
   "cell_type": "markdown",
   "metadata": {},
   "source": [
    "## Using Cufflinks and iplot()\n",
    "\n",
    "* scatter\n",
    "* bar\n",
    "* box\n",
    "* spread\n",
    "* ratio\n",
    "* heatmap\n",
    "* surface\n",
    "* histogram\n",
    "* bubble"
   ]
  },
  {
   "cell_type": "markdown",
   "metadata": {},
   "source": [
    "## Scatter"
   ]
  },
  {
   "cell_type": "code",
   "execution_count": 10,
   "metadata": {},
   "outputs": [
    {
     "data": {
      "application/vnd.plotly.v1+json": {
       "config": {
        "linkText": "Export to plot.ly",
        "plotlyServerURL": "https://plot.ly",
        "showLink": true
       },
       "data": [
        {
         "line": {
          "color": "rgba(255, 153, 51, 1.0)",
          "dash": "solid",
          "shape": "linear",
          "width": 1.3
         },
         "marker": {
          "size": 10,
          "symbol": "circle"
         },
         "mode": "markers",
         "name": "B",
         "text": "",
         "type": "scatter",
         "x": [
          0.19570059565133208,
          -0.11638330238179669,
          -0.5263256747464582,
          0.8610945321778738,
          -0.3345094465099812,
          0.4408512168711264,
          2.0611077294617712,
          1.1374697047856683,
          -2.1227841875235915,
          1.0292971245745437,
          -0.8364203147960749,
          -0.6258215956665029,
          0.32260095981402637,
          -0.5338387260601835,
          0.6554935664092758,
          1.3736166940602932,
          -0.16495693119745544,
          0.24892874967136702,
          -0.29073261749369766,
          -0.4848063202571289,
          0.6565018657582203,
          -0.36886003694137837,
          0.9473286259130218,
          -0.15192208276392827,
          1.2988105359456485,
          0.22536144692944,
          -1.7445131583390414,
          -1.7640829188462417,
          -1.3763078782535882,
          0.44519599256836434,
          -0.8554265172487281,
          -1.3953353375893736,
          -0.17028847631552607,
          1.2440683236221601,
          1.4351880669067858,
          0.7728377529760181,
          -1.0037061329445511,
          -0.2701346533922767,
          0.263104393296739,
          -0.7310213812969807,
          1.2388398269721017,
          0.46366664662763946,
          -0.09545311315395906,
          -0.6499121108716162,
          -0.25047578428123174,
          -0.7127984780688053,
          0.7110061869252203,
          -0.24074269104144155,
          1.1725672162496483,
          -0.039110608379132855,
          -1.6171364298868847,
          0.8312532821658801,
          -0.032679420067335714,
          0.4859103679519266,
          -0.7535388109234928,
          -0.18912123287211038,
          -1.0403500296557093,
          -0.06219828252596251,
          -1.2761097495726967,
          -0.7380962783569485,
          0.046532238213436,
          -0.5253498256135178,
          -0.4033347119360634,
          -0.08742523631256073,
          -0.38926161053757746,
          0.052737864070574125,
          0.3344579681239486,
          -0.10835434406514376,
          0.054127556806846194,
          0.6032359649720735,
          -1.051406108831842,
          0.7540278979632805,
          0.23644120628538473,
          0.1207891181609108,
          0.18499947890991988,
          0.1304225960231744,
          -0.24489518923344927,
          -0.24068375165242298,
          -0.2763643515085313,
          1.2769322738387565,
          0.6250457444879429,
          -0.17985864709213464,
          0.6502686683025198,
          -0.9452275155825481,
          -1.3426584570541529,
          -1.207128794704555,
          -0.2982937118808505,
          0.11118077103631854,
          1.1977346185162063,
          1.068086693648832,
          1.5337007101930478,
          0.129364274914311,
          -0.5267070376888813,
          -0.1507647819590437,
          -0.253644450631918,
          1.304303981456091,
          -1.3622893199635842,
          -0.5479738141889986,
          1.7245967171812724,
          -0.6053625371178464
         ],
         "y": [
          -1.9039051872194404,
          0.41567584575502137,
          -0.8500551105602945,
          -1.671415698067484,
          0.34902348200098277,
          0.5397321899986275,
          0.7822989116806651,
          -0.7181762676338362,
          -1.6048847969742268,
          -0.28390524053597044,
          -0.2544920313036875,
          0.6580987147545254,
          0.2905384073895607,
          -0.6479322773424703,
          1.4560026616500317,
          -0.4536461754780206,
          0.7004603745030877,
          -1.5464930754789366,
          -0.16322468517313587,
          -0.7548093771049874,
          0.6659135464236476,
          2.059981525156413,
          -0.884493064348931,
          -0.38156249622353255,
          0.19262367405809266,
          0.5473919628467429,
          1.547864817081784,
          0.7295495737738722,
          -1.0412645454837997,
          -1.4386762374682316,
          0.649166310831736,
          -2.3441776498198332,
          -0.2471046319944664,
          0.30042921252640914,
          -1.4319025000255197,
          -0.39701453731115993,
          2.369867746154535,
          -0.5926917296631201,
          -0.2987824930791812,
          -0.4728537299883391,
          2.1497965061361333,
          1.2177318058678004,
          -0.3136206903877042,
          1.6492744026324628,
          -0.9269217399175947,
          0.3175296680171701,
          2.4208137981136284,
          -0.4232717640908274,
          -0.032071324577330126,
          -1.6133508281147728,
          0.30110401618146465,
          -1.6943928569303872,
          0.02329836798108102,
          -0.6582175383544171,
          -0.9231732652496449,
          -0.3665566365075626,
          0.4846993344503613,
          1.104977891592252,
          -0.9035272204986705,
          -0.12985610274943768,
          -0.1821179267844909,
          -0.15059695921959254,
          0.28568805152605853,
          -1.1989949589496258,
          0.017817989819181007,
          -0.34868779585261733,
          -1.3128165938969547,
          2.7361308864903373,
          0.14705769934721588,
          1.7839586180818037,
          0.2792922855416744,
          -0.7230348685840761,
          -1.4779738212518898,
          -1.4618062917125283,
          1.9703481657211541,
          1.2676591244598243,
          0.22817150219098725,
          0.8577007057173187,
          -1.2560616239825597,
          -0.9302539650051844,
          1.1963756510029406,
          0.5267467063123779,
          -0.1348262964779555,
          -0.30604736190366066,
          0.022555198762383655,
          -0.16793166099803278,
          0.6500910390970416,
          -1.650632391323068,
          -1.9996797908113744,
          1.0858725584498004,
          0.005392031409097878,
          1.7117229874270576,
          0.4965048249908904,
          -0.6806504054977754,
          -0.41912197067726653,
          0.3686131823036771,
          -0.3102240940882463,
          -0.5326242897864948,
          0.13540925071550378,
          1.2241412510202085
         ]
        }
       ],
       "layout": {
        "legend": {
         "bgcolor": "#F5F6F9",
         "font": {
          "color": "#4D5663"
         }
        },
        "paper_bgcolor": "#F5F6F9",
        "plot_bgcolor": "#F5F6F9",
        "template": {
         "data": {
          "bar": [
           {
            "error_x": {
             "color": "#2a3f5f"
            },
            "error_y": {
             "color": "#2a3f5f"
            },
            "marker": {
             "line": {
              "color": "#E5ECF6",
              "width": 0.5
             },
             "pattern": {
              "fillmode": "overlay",
              "size": 10,
              "solidity": 0.2
             }
            },
            "type": "bar"
           }
          ],
          "barpolar": [
           {
            "marker": {
             "line": {
              "color": "#E5ECF6",
              "width": 0.5
             },
             "pattern": {
              "fillmode": "overlay",
              "size": 10,
              "solidity": 0.2
             }
            },
            "type": "barpolar"
           }
          ],
          "carpet": [
           {
            "aaxis": {
             "endlinecolor": "#2a3f5f",
             "gridcolor": "white",
             "linecolor": "white",
             "minorgridcolor": "white",
             "startlinecolor": "#2a3f5f"
            },
            "baxis": {
             "endlinecolor": "#2a3f5f",
             "gridcolor": "white",
             "linecolor": "white",
             "minorgridcolor": "white",
             "startlinecolor": "#2a3f5f"
            },
            "type": "carpet"
           }
          ],
          "choropleth": [
           {
            "colorbar": {
             "outlinewidth": 0,
             "ticks": ""
            },
            "type": "choropleth"
           }
          ],
          "contour": [
           {
            "colorbar": {
             "outlinewidth": 0,
             "ticks": ""
            },
            "colorscale": [
             [
              0,
              "#0d0887"
             ],
             [
              0.1111111111111111,
              "#46039f"
             ],
             [
              0.2222222222222222,
              "#7201a8"
             ],
             [
              0.3333333333333333,
              "#9c179e"
             ],
             [
              0.4444444444444444,
              "#bd3786"
             ],
             [
              0.5555555555555556,
              "#d8576b"
             ],
             [
              0.6666666666666666,
              "#ed7953"
             ],
             [
              0.7777777777777778,
              "#fb9f3a"
             ],
             [
              0.8888888888888888,
              "#fdca26"
             ],
             [
              1,
              "#f0f921"
             ]
            ],
            "type": "contour"
           }
          ],
          "contourcarpet": [
           {
            "colorbar": {
             "outlinewidth": 0,
             "ticks": ""
            },
            "type": "contourcarpet"
           }
          ],
          "heatmap": [
           {
            "colorbar": {
             "outlinewidth": 0,
             "ticks": ""
            },
            "colorscale": [
             [
              0,
              "#0d0887"
             ],
             [
              0.1111111111111111,
              "#46039f"
             ],
             [
              0.2222222222222222,
              "#7201a8"
             ],
             [
              0.3333333333333333,
              "#9c179e"
             ],
             [
              0.4444444444444444,
              "#bd3786"
             ],
             [
              0.5555555555555556,
              "#d8576b"
             ],
             [
              0.6666666666666666,
              "#ed7953"
             ],
             [
              0.7777777777777778,
              "#fb9f3a"
             ],
             [
              0.8888888888888888,
              "#fdca26"
             ],
             [
              1,
              "#f0f921"
             ]
            ],
            "type": "heatmap"
           }
          ],
          "heatmapgl": [
           {
            "colorbar": {
             "outlinewidth": 0,
             "ticks": ""
            },
            "colorscale": [
             [
              0,
              "#0d0887"
             ],
             [
              0.1111111111111111,
              "#46039f"
             ],
             [
              0.2222222222222222,
              "#7201a8"
             ],
             [
              0.3333333333333333,
              "#9c179e"
             ],
             [
              0.4444444444444444,
              "#bd3786"
             ],
             [
              0.5555555555555556,
              "#d8576b"
             ],
             [
              0.6666666666666666,
              "#ed7953"
             ],
             [
              0.7777777777777778,
              "#fb9f3a"
             ],
             [
              0.8888888888888888,
              "#fdca26"
             ],
             [
              1,
              "#f0f921"
             ]
            ],
            "type": "heatmapgl"
           }
          ],
          "histogram": [
           {
            "marker": {
             "pattern": {
              "fillmode": "overlay",
              "size": 10,
              "solidity": 0.2
             }
            },
            "type": "histogram"
           }
          ],
          "histogram2d": [
           {
            "colorbar": {
             "outlinewidth": 0,
             "ticks": ""
            },
            "colorscale": [
             [
              0,
              "#0d0887"
             ],
             [
              0.1111111111111111,
              "#46039f"
             ],
             [
              0.2222222222222222,
              "#7201a8"
             ],
             [
              0.3333333333333333,
              "#9c179e"
             ],
             [
              0.4444444444444444,
              "#bd3786"
             ],
             [
              0.5555555555555556,
              "#d8576b"
             ],
             [
              0.6666666666666666,
              "#ed7953"
             ],
             [
              0.7777777777777778,
              "#fb9f3a"
             ],
             [
              0.8888888888888888,
              "#fdca26"
             ],
             [
              1,
              "#f0f921"
             ]
            ],
            "type": "histogram2d"
           }
          ],
          "histogram2dcontour": [
           {
            "colorbar": {
             "outlinewidth": 0,
             "ticks": ""
            },
            "colorscale": [
             [
              0,
              "#0d0887"
             ],
             [
              0.1111111111111111,
              "#46039f"
             ],
             [
              0.2222222222222222,
              "#7201a8"
             ],
             [
              0.3333333333333333,
              "#9c179e"
             ],
             [
              0.4444444444444444,
              "#bd3786"
             ],
             [
              0.5555555555555556,
              "#d8576b"
             ],
             [
              0.6666666666666666,
              "#ed7953"
             ],
             [
              0.7777777777777778,
              "#fb9f3a"
             ],
             [
              0.8888888888888888,
              "#fdca26"
             ],
             [
              1,
              "#f0f921"
             ]
            ],
            "type": "histogram2dcontour"
           }
          ],
          "mesh3d": [
           {
            "colorbar": {
             "outlinewidth": 0,
             "ticks": ""
            },
            "type": "mesh3d"
           }
          ],
          "parcoords": [
           {
            "line": {
             "colorbar": {
              "outlinewidth": 0,
              "ticks": ""
             }
            },
            "type": "parcoords"
           }
          ],
          "pie": [
           {
            "automargin": true,
            "type": "pie"
           }
          ],
          "scatter": [
           {
            "marker": {
             "colorbar": {
              "outlinewidth": 0,
              "ticks": ""
             }
            },
            "type": "scatter"
           }
          ],
          "scatter3d": [
           {
            "line": {
             "colorbar": {
              "outlinewidth": 0,
              "ticks": ""
             }
            },
            "marker": {
             "colorbar": {
              "outlinewidth": 0,
              "ticks": ""
             }
            },
            "type": "scatter3d"
           }
          ],
          "scattercarpet": [
           {
            "marker": {
             "colorbar": {
              "outlinewidth": 0,
              "ticks": ""
             }
            },
            "type": "scattercarpet"
           }
          ],
          "scattergeo": [
           {
            "marker": {
             "colorbar": {
              "outlinewidth": 0,
              "ticks": ""
             }
            },
            "type": "scattergeo"
           }
          ],
          "scattergl": [
           {
            "marker": {
             "colorbar": {
              "outlinewidth": 0,
              "ticks": ""
             }
            },
            "type": "scattergl"
           }
          ],
          "scattermapbox": [
           {
            "marker": {
             "colorbar": {
              "outlinewidth": 0,
              "ticks": ""
             }
            },
            "type": "scattermapbox"
           }
          ],
          "scatterpolar": [
           {
            "marker": {
             "colorbar": {
              "outlinewidth": 0,
              "ticks": ""
             }
            },
            "type": "scatterpolar"
           }
          ],
          "scatterpolargl": [
           {
            "marker": {
             "colorbar": {
              "outlinewidth": 0,
              "ticks": ""
             }
            },
            "type": "scatterpolargl"
           }
          ],
          "scatterternary": [
           {
            "marker": {
             "colorbar": {
              "outlinewidth": 0,
              "ticks": ""
             }
            },
            "type": "scatterternary"
           }
          ],
          "surface": [
           {
            "colorbar": {
             "outlinewidth": 0,
             "ticks": ""
            },
            "colorscale": [
             [
              0,
              "#0d0887"
             ],
             [
              0.1111111111111111,
              "#46039f"
             ],
             [
              0.2222222222222222,
              "#7201a8"
             ],
             [
              0.3333333333333333,
              "#9c179e"
             ],
             [
              0.4444444444444444,
              "#bd3786"
             ],
             [
              0.5555555555555556,
              "#d8576b"
             ],
             [
              0.6666666666666666,
              "#ed7953"
             ],
             [
              0.7777777777777778,
              "#fb9f3a"
             ],
             [
              0.8888888888888888,
              "#fdca26"
             ],
             [
              1,
              "#f0f921"
             ]
            ],
            "type": "surface"
           }
          ],
          "table": [
           {
            "cells": {
             "fill": {
              "color": "#EBF0F8"
             },
             "line": {
              "color": "white"
             }
            },
            "header": {
             "fill": {
              "color": "#C8D4E3"
             },
             "line": {
              "color": "white"
             }
            },
            "type": "table"
           }
          ]
         },
         "layout": {
          "annotationdefaults": {
           "arrowcolor": "#2a3f5f",
           "arrowhead": 0,
           "arrowwidth": 1
          },
          "autotypenumbers": "strict",
          "coloraxis": {
           "colorbar": {
            "outlinewidth": 0,
            "ticks": ""
           }
          },
          "colorscale": {
           "diverging": [
            [
             0,
             "#8e0152"
            ],
            [
             0.1,
             "#c51b7d"
            ],
            [
             0.2,
             "#de77ae"
            ],
            [
             0.3,
             "#f1b6da"
            ],
            [
             0.4,
             "#fde0ef"
            ],
            [
             0.5,
             "#f7f7f7"
            ],
            [
             0.6,
             "#e6f5d0"
            ],
            [
             0.7,
             "#b8e186"
            ],
            [
             0.8,
             "#7fbc41"
            ],
            [
             0.9,
             "#4d9221"
            ],
            [
             1,
             "#276419"
            ]
           ],
           "sequential": [
            [
             0,
             "#0d0887"
            ],
            [
             0.1111111111111111,
             "#46039f"
            ],
            [
             0.2222222222222222,
             "#7201a8"
            ],
            [
             0.3333333333333333,
             "#9c179e"
            ],
            [
             0.4444444444444444,
             "#bd3786"
            ],
            [
             0.5555555555555556,
             "#d8576b"
            ],
            [
             0.6666666666666666,
             "#ed7953"
            ],
            [
             0.7777777777777778,
             "#fb9f3a"
            ],
            [
             0.8888888888888888,
             "#fdca26"
            ],
            [
             1,
             "#f0f921"
            ]
           ],
           "sequentialminus": [
            [
             0,
             "#0d0887"
            ],
            [
             0.1111111111111111,
             "#46039f"
            ],
            [
             0.2222222222222222,
             "#7201a8"
            ],
            [
             0.3333333333333333,
             "#9c179e"
            ],
            [
             0.4444444444444444,
             "#bd3786"
            ],
            [
             0.5555555555555556,
             "#d8576b"
            ],
            [
             0.6666666666666666,
             "#ed7953"
            ],
            [
             0.7777777777777778,
             "#fb9f3a"
            ],
            [
             0.8888888888888888,
             "#fdca26"
            ],
            [
             1,
             "#f0f921"
            ]
           ]
          },
          "colorway": [
           "#636efa",
           "#EF553B",
           "#00cc96",
           "#ab63fa",
           "#FFA15A",
           "#19d3f3",
           "#FF6692",
           "#B6E880",
           "#FF97FF",
           "#FECB52"
          ],
          "font": {
           "color": "#2a3f5f"
          },
          "geo": {
           "bgcolor": "white",
           "lakecolor": "white",
           "landcolor": "#E5ECF6",
           "showlakes": true,
           "showland": true,
           "subunitcolor": "white"
          },
          "hoverlabel": {
           "align": "left"
          },
          "hovermode": "closest",
          "mapbox": {
           "style": "light"
          },
          "paper_bgcolor": "white",
          "plot_bgcolor": "#E5ECF6",
          "polar": {
           "angularaxis": {
            "gridcolor": "white",
            "linecolor": "white",
            "ticks": ""
           },
           "bgcolor": "#E5ECF6",
           "radialaxis": {
            "gridcolor": "white",
            "linecolor": "white",
            "ticks": ""
           }
          },
          "scene": {
           "xaxis": {
            "backgroundcolor": "#E5ECF6",
            "gridcolor": "white",
            "gridwidth": 2,
            "linecolor": "white",
            "showbackground": true,
            "ticks": "",
            "zerolinecolor": "white"
           },
           "yaxis": {
            "backgroundcolor": "#E5ECF6",
            "gridcolor": "white",
            "gridwidth": 2,
            "linecolor": "white",
            "showbackground": true,
            "ticks": "",
            "zerolinecolor": "white"
           },
           "zaxis": {
            "backgroundcolor": "#E5ECF6",
            "gridcolor": "white",
            "gridwidth": 2,
            "linecolor": "white",
            "showbackground": true,
            "ticks": "",
            "zerolinecolor": "white"
           }
          },
          "shapedefaults": {
           "line": {
            "color": "#2a3f5f"
           }
          },
          "ternary": {
           "aaxis": {
            "gridcolor": "white",
            "linecolor": "white",
            "ticks": ""
           },
           "baxis": {
            "gridcolor": "white",
            "linecolor": "white",
            "ticks": ""
           },
           "bgcolor": "#E5ECF6",
           "caxis": {
            "gridcolor": "white",
            "linecolor": "white",
            "ticks": ""
           }
          },
          "title": {
           "x": 0.05
          },
          "xaxis": {
           "automargin": true,
           "gridcolor": "white",
           "linecolor": "white",
           "ticks": "",
           "title": {
            "standoff": 15
           },
           "zerolinecolor": "white",
           "zerolinewidth": 2
          },
          "yaxis": {
           "automargin": true,
           "gridcolor": "white",
           "linecolor": "white",
           "ticks": "",
           "title": {
            "standoff": 15
           },
           "zerolinecolor": "white",
           "zerolinewidth": 2
          }
         }
        },
        "title": {
         "font": {
          "color": "#4D5663"
         }
        },
        "xaxis": {
         "gridcolor": "#E1E5ED",
         "showgrid": true,
         "tickfont": {
          "color": "#4D5663"
         },
         "title": {
          "font": {
           "color": "#4D5663"
          },
          "text": ""
         },
         "zerolinecolor": "#E1E5ED"
        },
        "yaxis": {
         "gridcolor": "#E1E5ED",
         "showgrid": true,
         "tickfont": {
          "color": "#4D5663"
         },
         "title": {
          "font": {
           "color": "#4D5663"
          },
          "text": ""
         },
         "zerolinecolor": "#E1E5ED"
        }
       }
      },
      "text/html": [
       "<div>                            <div id=\"59074105-dec8-4c27-a56e-a37e246e6576\" class=\"plotly-graph-div\" style=\"height:525px; width:100%;\"></div>            <script type=\"text/javascript\">                require([\"plotly\"], function(Plotly) {                    window.PLOTLYENV=window.PLOTLYENV || {};\n",
       "                    window.PLOTLYENV.BASE_URL='https://plot.ly';                                    if (document.getElementById(\"59074105-dec8-4c27-a56e-a37e246e6576\")) {                    Plotly.newPlot(                        \"59074105-dec8-4c27-a56e-a37e246e6576\",                        [{\"line\":{\"color\":\"rgba(255, 153, 51, 1.0)\",\"dash\":\"solid\",\"shape\":\"linear\",\"width\":1.3},\"marker\":{\"size\":10,\"symbol\":\"circle\"},\"mode\":\"markers\",\"name\":\"B\",\"text\":\"\",\"type\":\"scatter\",\"x\":[0.19570059565133208,-0.11638330238179669,-0.5263256747464582,0.8610945321778738,-0.3345094465099812,0.4408512168711264,2.0611077294617712,1.1374697047856683,-2.1227841875235915,1.0292971245745437,-0.8364203147960749,-0.6258215956665029,0.32260095981402637,-0.5338387260601835,0.6554935664092758,1.3736166940602932,-0.16495693119745544,0.24892874967136702,-0.29073261749369766,-0.4848063202571289,0.6565018657582203,-0.36886003694137837,0.9473286259130218,-0.15192208276392827,1.2988105359456485,0.22536144692944,-1.7445131583390414,-1.7640829188462417,-1.3763078782535882,0.44519599256836434,-0.8554265172487281,-1.3953353375893736,-0.17028847631552607,1.2440683236221601,1.4351880669067858,0.7728377529760181,-1.0037061329445511,-0.2701346533922767,0.263104393296739,-0.7310213812969807,1.2388398269721017,0.46366664662763946,-0.09545311315395906,-0.6499121108716162,-0.25047578428123174,-0.7127984780688053,0.7110061869252203,-0.24074269104144155,1.1725672162496483,-0.039110608379132855,-1.6171364298868847,0.8312532821658801,-0.032679420067335714,0.4859103679519266,-0.7535388109234928,-0.18912123287211038,-1.0403500296557093,-0.06219828252596251,-1.2761097495726967,-0.7380962783569485,0.046532238213436,-0.5253498256135178,-0.4033347119360634,-0.08742523631256073,-0.38926161053757746,0.052737864070574125,0.3344579681239486,-0.10835434406514376,0.054127556806846194,0.6032359649720735,-1.051406108831842,0.7540278979632805,0.23644120628538473,0.1207891181609108,0.18499947890991988,0.1304225960231744,-0.24489518923344927,-0.24068375165242298,-0.2763643515085313,1.2769322738387565,0.6250457444879429,-0.17985864709213464,0.6502686683025198,-0.9452275155825481,-1.3426584570541529,-1.207128794704555,-0.2982937118808505,0.11118077103631854,1.1977346185162063,1.068086693648832,1.5337007101930478,0.129364274914311,-0.5267070376888813,-0.1507647819590437,-0.253644450631918,1.304303981456091,-1.3622893199635842,-0.5479738141889986,1.7245967171812724,-0.6053625371178464],\"y\":[-1.9039051872194404,0.41567584575502137,-0.8500551105602945,-1.671415698067484,0.34902348200098277,0.5397321899986275,0.7822989116806651,-0.7181762676338362,-1.6048847969742268,-0.28390524053597044,-0.2544920313036875,0.6580987147545254,0.2905384073895607,-0.6479322773424703,1.4560026616500317,-0.4536461754780206,0.7004603745030877,-1.5464930754789366,-0.16322468517313587,-0.7548093771049874,0.6659135464236476,2.059981525156413,-0.884493064348931,-0.38156249622353255,0.19262367405809266,0.5473919628467429,1.547864817081784,0.7295495737738722,-1.0412645454837997,-1.4386762374682316,0.649166310831736,-2.3441776498198332,-0.2471046319944664,0.30042921252640914,-1.4319025000255197,-0.39701453731115993,2.369867746154535,-0.5926917296631201,-0.2987824930791812,-0.4728537299883391,2.1497965061361333,1.2177318058678004,-0.3136206903877042,1.6492744026324628,-0.9269217399175947,0.3175296680171701,2.4208137981136284,-0.4232717640908274,-0.032071324577330126,-1.6133508281147728,0.30110401618146465,-1.6943928569303872,0.02329836798108102,-0.6582175383544171,-0.9231732652496449,-0.3665566365075626,0.4846993344503613,1.104977891592252,-0.9035272204986705,-0.12985610274943768,-0.1821179267844909,-0.15059695921959254,0.28568805152605853,-1.1989949589496258,0.017817989819181007,-0.34868779585261733,-1.3128165938969547,2.7361308864903373,0.14705769934721588,1.7839586180818037,0.2792922855416744,-0.7230348685840761,-1.4779738212518898,-1.4618062917125283,1.9703481657211541,1.2676591244598243,0.22817150219098725,0.8577007057173187,-1.2560616239825597,-0.9302539650051844,1.1963756510029406,0.5267467063123779,-0.1348262964779555,-0.30604736190366066,0.022555198762383655,-0.16793166099803278,0.6500910390970416,-1.650632391323068,-1.9996797908113744,1.0858725584498004,0.005392031409097878,1.7117229874270576,0.4965048249908904,-0.6806504054977754,-0.41912197067726653,0.3686131823036771,-0.3102240940882463,-0.5326242897864948,0.13540925071550378,1.2241412510202085]}],                        {\"legend\":{\"bgcolor\":\"#F5F6F9\",\"font\":{\"color\":\"#4D5663\"}},\"paper_bgcolor\":\"#F5F6F9\",\"plot_bgcolor\":\"#F5F6F9\",\"template\":{\"data\":{\"bar\":[{\"error_x\":{\"color\":\"#2a3f5f\"},\"error_y\":{\"color\":\"#2a3f5f\"},\"marker\":{\"line\":{\"color\":\"#E5ECF6\",\"width\":0.5},\"pattern\":{\"fillmode\":\"overlay\",\"size\":10,\"solidity\":0.2}},\"type\":\"bar\"}],\"barpolar\":[{\"marker\":{\"line\":{\"color\":\"#E5ECF6\",\"width\":0.5},\"pattern\":{\"fillmode\":\"overlay\",\"size\":10,\"solidity\":0.2}},\"type\":\"barpolar\"}],\"carpet\":[{\"aaxis\":{\"endlinecolor\":\"#2a3f5f\",\"gridcolor\":\"white\",\"linecolor\":\"white\",\"minorgridcolor\":\"white\",\"startlinecolor\":\"#2a3f5f\"},\"baxis\":{\"endlinecolor\":\"#2a3f5f\",\"gridcolor\":\"white\",\"linecolor\":\"white\",\"minorgridcolor\":\"white\",\"startlinecolor\":\"#2a3f5f\"},\"type\":\"carpet\"}],\"choropleth\":[{\"colorbar\":{\"outlinewidth\":0,\"ticks\":\"\"},\"type\":\"choropleth\"}],\"contour\":[{\"colorbar\":{\"outlinewidth\":0,\"ticks\":\"\"},\"colorscale\":[[0.0,\"#0d0887\"],[0.1111111111111111,\"#46039f\"],[0.2222222222222222,\"#7201a8\"],[0.3333333333333333,\"#9c179e\"],[0.4444444444444444,\"#bd3786\"],[0.5555555555555556,\"#d8576b\"],[0.6666666666666666,\"#ed7953\"],[0.7777777777777778,\"#fb9f3a\"],[0.8888888888888888,\"#fdca26\"],[1.0,\"#f0f921\"]],\"type\":\"contour\"}],\"contourcarpet\":[{\"colorbar\":{\"outlinewidth\":0,\"ticks\":\"\"},\"type\":\"contourcarpet\"}],\"heatmap\":[{\"colorbar\":{\"outlinewidth\":0,\"ticks\":\"\"},\"colorscale\":[[0.0,\"#0d0887\"],[0.1111111111111111,\"#46039f\"],[0.2222222222222222,\"#7201a8\"],[0.3333333333333333,\"#9c179e\"],[0.4444444444444444,\"#bd3786\"],[0.5555555555555556,\"#d8576b\"],[0.6666666666666666,\"#ed7953\"],[0.7777777777777778,\"#fb9f3a\"],[0.8888888888888888,\"#fdca26\"],[1.0,\"#f0f921\"]],\"type\":\"heatmap\"}],\"heatmapgl\":[{\"colorbar\":{\"outlinewidth\":0,\"ticks\":\"\"},\"colorscale\":[[0.0,\"#0d0887\"],[0.1111111111111111,\"#46039f\"],[0.2222222222222222,\"#7201a8\"],[0.3333333333333333,\"#9c179e\"],[0.4444444444444444,\"#bd3786\"],[0.5555555555555556,\"#d8576b\"],[0.6666666666666666,\"#ed7953\"],[0.7777777777777778,\"#fb9f3a\"],[0.8888888888888888,\"#fdca26\"],[1.0,\"#f0f921\"]],\"type\":\"heatmapgl\"}],\"histogram\":[{\"marker\":{\"pattern\":{\"fillmode\":\"overlay\",\"size\":10,\"solidity\":0.2}},\"type\":\"histogram\"}],\"histogram2d\":[{\"colorbar\":{\"outlinewidth\":0,\"ticks\":\"\"},\"colorscale\":[[0.0,\"#0d0887\"],[0.1111111111111111,\"#46039f\"],[0.2222222222222222,\"#7201a8\"],[0.3333333333333333,\"#9c179e\"],[0.4444444444444444,\"#bd3786\"],[0.5555555555555556,\"#d8576b\"],[0.6666666666666666,\"#ed7953\"],[0.7777777777777778,\"#fb9f3a\"],[0.8888888888888888,\"#fdca26\"],[1.0,\"#f0f921\"]],\"type\":\"histogram2d\"}],\"histogram2dcontour\":[{\"colorbar\":{\"outlinewidth\":0,\"ticks\":\"\"},\"colorscale\":[[0.0,\"#0d0887\"],[0.1111111111111111,\"#46039f\"],[0.2222222222222222,\"#7201a8\"],[0.3333333333333333,\"#9c179e\"],[0.4444444444444444,\"#bd3786\"],[0.5555555555555556,\"#d8576b\"],[0.6666666666666666,\"#ed7953\"],[0.7777777777777778,\"#fb9f3a\"],[0.8888888888888888,\"#fdca26\"],[1.0,\"#f0f921\"]],\"type\":\"histogram2dcontour\"}],\"mesh3d\":[{\"colorbar\":{\"outlinewidth\":0,\"ticks\":\"\"},\"type\":\"mesh3d\"}],\"parcoords\":[{\"line\":{\"colorbar\":{\"outlinewidth\":0,\"ticks\":\"\"}},\"type\":\"parcoords\"}],\"pie\":[{\"automargin\":true,\"type\":\"pie\"}],\"scatter\":[{\"marker\":{\"colorbar\":{\"outlinewidth\":0,\"ticks\":\"\"}},\"type\":\"scatter\"}],\"scatter3d\":[{\"line\":{\"colorbar\":{\"outlinewidth\":0,\"ticks\":\"\"}},\"marker\":{\"colorbar\":{\"outlinewidth\":0,\"ticks\":\"\"}},\"type\":\"scatter3d\"}],\"scattercarpet\":[{\"marker\":{\"colorbar\":{\"outlinewidth\":0,\"ticks\":\"\"}},\"type\":\"scattercarpet\"}],\"scattergeo\":[{\"marker\":{\"colorbar\":{\"outlinewidth\":0,\"ticks\":\"\"}},\"type\":\"scattergeo\"}],\"scattergl\":[{\"marker\":{\"colorbar\":{\"outlinewidth\":0,\"ticks\":\"\"}},\"type\":\"scattergl\"}],\"scattermapbox\":[{\"marker\":{\"colorbar\":{\"outlinewidth\":0,\"ticks\":\"\"}},\"type\":\"scattermapbox\"}],\"scatterpolar\":[{\"marker\":{\"colorbar\":{\"outlinewidth\":0,\"ticks\":\"\"}},\"type\":\"scatterpolar\"}],\"scatterpolargl\":[{\"marker\":{\"colorbar\":{\"outlinewidth\":0,\"ticks\":\"\"}},\"type\":\"scatterpolargl\"}],\"scatterternary\":[{\"marker\":{\"colorbar\":{\"outlinewidth\":0,\"ticks\":\"\"}},\"type\":\"scatterternary\"}],\"surface\":[{\"colorbar\":{\"outlinewidth\":0,\"ticks\":\"\"},\"colorscale\":[[0.0,\"#0d0887\"],[0.1111111111111111,\"#46039f\"],[0.2222222222222222,\"#7201a8\"],[0.3333333333333333,\"#9c179e\"],[0.4444444444444444,\"#bd3786\"],[0.5555555555555556,\"#d8576b\"],[0.6666666666666666,\"#ed7953\"],[0.7777777777777778,\"#fb9f3a\"],[0.8888888888888888,\"#fdca26\"],[1.0,\"#f0f921\"]],\"type\":\"surface\"}],\"table\":[{\"cells\":{\"fill\":{\"color\":\"#EBF0F8\"},\"line\":{\"color\":\"white\"}},\"header\":{\"fill\":{\"color\":\"#C8D4E3\"},\"line\":{\"color\":\"white\"}},\"type\":\"table\"}]},\"layout\":{\"annotationdefaults\":{\"arrowcolor\":\"#2a3f5f\",\"arrowhead\":0,\"arrowwidth\":1},\"autotypenumbers\":\"strict\",\"coloraxis\":{\"colorbar\":{\"outlinewidth\":0,\"ticks\":\"\"}},\"colorscale\":{\"diverging\":[[0,\"#8e0152\"],[0.1,\"#c51b7d\"],[0.2,\"#de77ae\"],[0.3,\"#f1b6da\"],[0.4,\"#fde0ef\"],[0.5,\"#f7f7f7\"],[0.6,\"#e6f5d0\"],[0.7,\"#b8e186\"],[0.8,\"#7fbc41\"],[0.9,\"#4d9221\"],[1,\"#276419\"]],\"sequential\":[[0.0,\"#0d0887\"],[0.1111111111111111,\"#46039f\"],[0.2222222222222222,\"#7201a8\"],[0.3333333333333333,\"#9c179e\"],[0.4444444444444444,\"#bd3786\"],[0.5555555555555556,\"#d8576b\"],[0.6666666666666666,\"#ed7953\"],[0.7777777777777778,\"#fb9f3a\"],[0.8888888888888888,\"#fdca26\"],[1.0,\"#f0f921\"]],\"sequentialminus\":[[0.0,\"#0d0887\"],[0.1111111111111111,\"#46039f\"],[0.2222222222222222,\"#7201a8\"],[0.3333333333333333,\"#9c179e\"],[0.4444444444444444,\"#bd3786\"],[0.5555555555555556,\"#d8576b\"],[0.6666666666666666,\"#ed7953\"],[0.7777777777777778,\"#fb9f3a\"],[0.8888888888888888,\"#fdca26\"],[1.0,\"#f0f921\"]]},\"colorway\":[\"#636efa\",\"#EF553B\",\"#00cc96\",\"#ab63fa\",\"#FFA15A\",\"#19d3f3\",\"#FF6692\",\"#B6E880\",\"#FF97FF\",\"#FECB52\"],\"font\":{\"color\":\"#2a3f5f\"},\"geo\":{\"bgcolor\":\"white\",\"lakecolor\":\"white\",\"landcolor\":\"#E5ECF6\",\"showlakes\":true,\"showland\":true,\"subunitcolor\":\"white\"},\"hoverlabel\":{\"align\":\"left\"},\"hovermode\":\"closest\",\"mapbox\":{\"style\":\"light\"},\"paper_bgcolor\":\"white\",\"plot_bgcolor\":\"#E5ECF6\",\"polar\":{\"angularaxis\":{\"gridcolor\":\"white\",\"linecolor\":\"white\",\"ticks\":\"\"},\"bgcolor\":\"#E5ECF6\",\"radialaxis\":{\"gridcolor\":\"white\",\"linecolor\":\"white\",\"ticks\":\"\"}},\"scene\":{\"xaxis\":{\"backgroundcolor\":\"#E5ECF6\",\"gridcolor\":\"white\",\"gridwidth\":2,\"linecolor\":\"white\",\"showbackground\":true,\"ticks\":\"\",\"zerolinecolor\":\"white\"},\"yaxis\":{\"backgroundcolor\":\"#E5ECF6\",\"gridcolor\":\"white\",\"gridwidth\":2,\"linecolor\":\"white\",\"showbackground\":true,\"ticks\":\"\",\"zerolinecolor\":\"white\"},\"zaxis\":{\"backgroundcolor\":\"#E5ECF6\",\"gridcolor\":\"white\",\"gridwidth\":2,\"linecolor\":\"white\",\"showbackground\":true,\"ticks\":\"\",\"zerolinecolor\":\"white\"}},\"shapedefaults\":{\"line\":{\"color\":\"#2a3f5f\"}},\"ternary\":{\"aaxis\":{\"gridcolor\":\"white\",\"linecolor\":\"white\",\"ticks\":\"\"},\"baxis\":{\"gridcolor\":\"white\",\"linecolor\":\"white\",\"ticks\":\"\"},\"bgcolor\":\"#E5ECF6\",\"caxis\":{\"gridcolor\":\"white\",\"linecolor\":\"white\",\"ticks\":\"\"}},\"title\":{\"x\":0.05},\"xaxis\":{\"automargin\":true,\"gridcolor\":\"white\",\"linecolor\":\"white\",\"ticks\":\"\",\"title\":{\"standoff\":15},\"zerolinecolor\":\"white\",\"zerolinewidth\":2},\"yaxis\":{\"automargin\":true,\"gridcolor\":\"white\",\"linecolor\":\"white\",\"ticks\":\"\",\"title\":{\"standoff\":15},\"zerolinecolor\":\"white\",\"zerolinewidth\":2}}},\"title\":{\"font\":{\"color\":\"#4D5663\"}},\"xaxis\":{\"gridcolor\":\"#E1E5ED\",\"showgrid\":true,\"tickfont\":{\"color\":\"#4D5663\"},\"title\":{\"font\":{\"color\":\"#4D5663\"},\"text\":\"\"},\"zerolinecolor\":\"#E1E5ED\"},\"yaxis\":{\"gridcolor\":\"#E1E5ED\",\"showgrid\":true,\"tickfont\":{\"color\":\"#4D5663\"},\"title\":{\"font\":{\"color\":\"#4D5663\"},\"text\":\"\"},\"zerolinecolor\":\"#E1E5ED\"}},                        {\"showLink\": true, \"linkText\": \"Export to plot.ly\", \"plotlyServerURL\": \"https://plot.ly\", \"responsive\": true}                    ).then(function(){\n",
       "                            \n",
       "var gd = document.getElementById('59074105-dec8-4c27-a56e-a37e246e6576');\n",
       "var x = new MutationObserver(function (mutations, observer) {{\n",
       "        var display = window.getComputedStyle(gd).display;\n",
       "        if (!display || display === 'none') {{\n",
       "            console.log([gd, 'removed!']);\n",
       "            Plotly.purge(gd);\n",
       "            observer.disconnect();\n",
       "        }}\n",
       "}});\n",
       "\n",
       "// Listen for the removal of the full notebook cells\n",
       "var notebookContainer = gd.closest('#notebook-container');\n",
       "if (notebookContainer) {{\n",
       "    x.observe(notebookContainer, {childList: true});\n",
       "}}\n",
       "\n",
       "// Listen for the clearing of the current output cell\n",
       "var outputEl = gd.closest('.output');\n",
       "if (outputEl) {{\n",
       "    x.observe(outputEl, {childList: true});\n",
       "}}\n",
       "\n",
       "                        })                };                });            </script>        </div>"
      ]
     },
     "metadata": {},
     "output_type": "display_data"
    }
   ],
   "source": [
    "df.iplot(kind='scatter',x='A',y='B',mode='markers',size=10)"
   ]
  },
  {
   "cell_type": "markdown",
   "metadata": {},
   "source": [
    "## Bar Plots"
   ]
  },
  {
   "cell_type": "code",
   "execution_count": 11,
   "metadata": {},
   "outputs": [
    {
     "data": {
      "application/vnd.plotly.v1+json": {
       "config": {
        "linkText": "Export to plot.ly",
        "plotlyServerURL": "https://plot.ly",
        "showLink": true
       },
       "data": [
        {
         "marker": {
          "color": "rgba(255, 153, 51, 0.6)",
          "line": {
           "color": "rgba(255, 153, 51, 1.0)",
           "width": 1
          }
         },
         "name": "Values",
         "orientation": "v",
         "text": "",
         "type": "bar",
         "x": [
          "A",
          "B",
          "C"
         ],
         "y": [
          32,
          43,
          50
         ]
        }
       ],
       "layout": {
        "legend": {
         "bgcolor": "#F5F6F9",
         "font": {
          "color": "#4D5663"
         }
        },
        "paper_bgcolor": "#F5F6F9",
        "plot_bgcolor": "#F5F6F9",
        "template": {
         "data": {
          "bar": [
           {
            "error_x": {
             "color": "#2a3f5f"
            },
            "error_y": {
             "color": "#2a3f5f"
            },
            "marker": {
             "line": {
              "color": "#E5ECF6",
              "width": 0.5
             },
             "pattern": {
              "fillmode": "overlay",
              "size": 10,
              "solidity": 0.2
             }
            },
            "type": "bar"
           }
          ],
          "barpolar": [
           {
            "marker": {
             "line": {
              "color": "#E5ECF6",
              "width": 0.5
             },
             "pattern": {
              "fillmode": "overlay",
              "size": 10,
              "solidity": 0.2
             }
            },
            "type": "barpolar"
           }
          ],
          "carpet": [
           {
            "aaxis": {
             "endlinecolor": "#2a3f5f",
             "gridcolor": "white",
             "linecolor": "white",
             "minorgridcolor": "white",
             "startlinecolor": "#2a3f5f"
            },
            "baxis": {
             "endlinecolor": "#2a3f5f",
             "gridcolor": "white",
             "linecolor": "white",
             "minorgridcolor": "white",
             "startlinecolor": "#2a3f5f"
            },
            "type": "carpet"
           }
          ],
          "choropleth": [
           {
            "colorbar": {
             "outlinewidth": 0,
             "ticks": ""
            },
            "type": "choropleth"
           }
          ],
          "contour": [
           {
            "colorbar": {
             "outlinewidth": 0,
             "ticks": ""
            },
            "colorscale": [
             [
              0,
              "#0d0887"
             ],
             [
              0.1111111111111111,
              "#46039f"
             ],
             [
              0.2222222222222222,
              "#7201a8"
             ],
             [
              0.3333333333333333,
              "#9c179e"
             ],
             [
              0.4444444444444444,
              "#bd3786"
             ],
             [
              0.5555555555555556,
              "#d8576b"
             ],
             [
              0.6666666666666666,
              "#ed7953"
             ],
             [
              0.7777777777777778,
              "#fb9f3a"
             ],
             [
              0.8888888888888888,
              "#fdca26"
             ],
             [
              1,
              "#f0f921"
             ]
            ],
            "type": "contour"
           }
          ],
          "contourcarpet": [
           {
            "colorbar": {
             "outlinewidth": 0,
             "ticks": ""
            },
            "type": "contourcarpet"
           }
          ],
          "heatmap": [
           {
            "colorbar": {
             "outlinewidth": 0,
             "ticks": ""
            },
            "colorscale": [
             [
              0,
              "#0d0887"
             ],
             [
              0.1111111111111111,
              "#46039f"
             ],
             [
              0.2222222222222222,
              "#7201a8"
             ],
             [
              0.3333333333333333,
              "#9c179e"
             ],
             [
              0.4444444444444444,
              "#bd3786"
             ],
             [
              0.5555555555555556,
              "#d8576b"
             ],
             [
              0.6666666666666666,
              "#ed7953"
             ],
             [
              0.7777777777777778,
              "#fb9f3a"
             ],
             [
              0.8888888888888888,
              "#fdca26"
             ],
             [
              1,
              "#f0f921"
             ]
            ],
            "type": "heatmap"
           }
          ],
          "heatmapgl": [
           {
            "colorbar": {
             "outlinewidth": 0,
             "ticks": ""
            },
            "colorscale": [
             [
              0,
              "#0d0887"
             ],
             [
              0.1111111111111111,
              "#46039f"
             ],
             [
              0.2222222222222222,
              "#7201a8"
             ],
             [
              0.3333333333333333,
              "#9c179e"
             ],
             [
              0.4444444444444444,
              "#bd3786"
             ],
             [
              0.5555555555555556,
              "#d8576b"
             ],
             [
              0.6666666666666666,
              "#ed7953"
             ],
             [
              0.7777777777777778,
              "#fb9f3a"
             ],
             [
              0.8888888888888888,
              "#fdca26"
             ],
             [
              1,
              "#f0f921"
             ]
            ],
            "type": "heatmapgl"
           }
          ],
          "histogram": [
           {
            "marker": {
             "pattern": {
              "fillmode": "overlay",
              "size": 10,
              "solidity": 0.2
             }
            },
            "type": "histogram"
           }
          ],
          "histogram2d": [
           {
            "colorbar": {
             "outlinewidth": 0,
             "ticks": ""
            },
            "colorscale": [
             [
              0,
              "#0d0887"
             ],
             [
              0.1111111111111111,
              "#46039f"
             ],
             [
              0.2222222222222222,
              "#7201a8"
             ],
             [
              0.3333333333333333,
              "#9c179e"
             ],
             [
              0.4444444444444444,
              "#bd3786"
             ],
             [
              0.5555555555555556,
              "#d8576b"
             ],
             [
              0.6666666666666666,
              "#ed7953"
             ],
             [
              0.7777777777777778,
              "#fb9f3a"
             ],
             [
              0.8888888888888888,
              "#fdca26"
             ],
             [
              1,
              "#f0f921"
             ]
            ],
            "type": "histogram2d"
           }
          ],
          "histogram2dcontour": [
           {
            "colorbar": {
             "outlinewidth": 0,
             "ticks": ""
            },
            "colorscale": [
             [
              0,
              "#0d0887"
             ],
             [
              0.1111111111111111,
              "#46039f"
             ],
             [
              0.2222222222222222,
              "#7201a8"
             ],
             [
              0.3333333333333333,
              "#9c179e"
             ],
             [
              0.4444444444444444,
              "#bd3786"
             ],
             [
              0.5555555555555556,
              "#d8576b"
             ],
             [
              0.6666666666666666,
              "#ed7953"
             ],
             [
              0.7777777777777778,
              "#fb9f3a"
             ],
             [
              0.8888888888888888,
              "#fdca26"
             ],
             [
              1,
              "#f0f921"
             ]
            ],
            "type": "histogram2dcontour"
           }
          ],
          "mesh3d": [
           {
            "colorbar": {
             "outlinewidth": 0,
             "ticks": ""
            },
            "type": "mesh3d"
           }
          ],
          "parcoords": [
           {
            "line": {
             "colorbar": {
              "outlinewidth": 0,
              "ticks": ""
             }
            },
            "type": "parcoords"
           }
          ],
          "pie": [
           {
            "automargin": true,
            "type": "pie"
           }
          ],
          "scatter": [
           {
            "marker": {
             "colorbar": {
              "outlinewidth": 0,
              "ticks": ""
             }
            },
            "type": "scatter"
           }
          ],
          "scatter3d": [
           {
            "line": {
             "colorbar": {
              "outlinewidth": 0,
              "ticks": ""
             }
            },
            "marker": {
             "colorbar": {
              "outlinewidth": 0,
              "ticks": ""
             }
            },
            "type": "scatter3d"
           }
          ],
          "scattercarpet": [
           {
            "marker": {
             "colorbar": {
              "outlinewidth": 0,
              "ticks": ""
             }
            },
            "type": "scattercarpet"
           }
          ],
          "scattergeo": [
           {
            "marker": {
             "colorbar": {
              "outlinewidth": 0,
              "ticks": ""
             }
            },
            "type": "scattergeo"
           }
          ],
          "scattergl": [
           {
            "marker": {
             "colorbar": {
              "outlinewidth": 0,
              "ticks": ""
             }
            },
            "type": "scattergl"
           }
          ],
          "scattermapbox": [
           {
            "marker": {
             "colorbar": {
              "outlinewidth": 0,
              "ticks": ""
             }
            },
            "type": "scattermapbox"
           }
          ],
          "scatterpolar": [
           {
            "marker": {
             "colorbar": {
              "outlinewidth": 0,
              "ticks": ""
             }
            },
            "type": "scatterpolar"
           }
          ],
          "scatterpolargl": [
           {
            "marker": {
             "colorbar": {
              "outlinewidth": 0,
              "ticks": ""
             }
            },
            "type": "scatterpolargl"
           }
          ],
          "scatterternary": [
           {
            "marker": {
             "colorbar": {
              "outlinewidth": 0,
              "ticks": ""
             }
            },
            "type": "scatterternary"
           }
          ],
          "surface": [
           {
            "colorbar": {
             "outlinewidth": 0,
             "ticks": ""
            },
            "colorscale": [
             [
              0,
              "#0d0887"
             ],
             [
              0.1111111111111111,
              "#46039f"
             ],
             [
              0.2222222222222222,
              "#7201a8"
             ],
             [
              0.3333333333333333,
              "#9c179e"
             ],
             [
              0.4444444444444444,
              "#bd3786"
             ],
             [
              0.5555555555555556,
              "#d8576b"
             ],
             [
              0.6666666666666666,
              "#ed7953"
             ],
             [
              0.7777777777777778,
              "#fb9f3a"
             ],
             [
              0.8888888888888888,
              "#fdca26"
             ],
             [
              1,
              "#f0f921"
             ]
            ],
            "type": "surface"
           }
          ],
          "table": [
           {
            "cells": {
             "fill": {
              "color": "#EBF0F8"
             },
             "line": {
              "color": "white"
             }
            },
            "header": {
             "fill": {
              "color": "#C8D4E3"
             },
             "line": {
              "color": "white"
             }
            },
            "type": "table"
           }
          ]
         },
         "layout": {
          "annotationdefaults": {
           "arrowcolor": "#2a3f5f",
           "arrowhead": 0,
           "arrowwidth": 1
          },
          "autotypenumbers": "strict",
          "coloraxis": {
           "colorbar": {
            "outlinewidth": 0,
            "ticks": ""
           }
          },
          "colorscale": {
           "diverging": [
            [
             0,
             "#8e0152"
            ],
            [
             0.1,
             "#c51b7d"
            ],
            [
             0.2,
             "#de77ae"
            ],
            [
             0.3,
             "#f1b6da"
            ],
            [
             0.4,
             "#fde0ef"
            ],
            [
             0.5,
             "#f7f7f7"
            ],
            [
             0.6,
             "#e6f5d0"
            ],
            [
             0.7,
             "#b8e186"
            ],
            [
             0.8,
             "#7fbc41"
            ],
            [
             0.9,
             "#4d9221"
            ],
            [
             1,
             "#276419"
            ]
           ],
           "sequential": [
            [
             0,
             "#0d0887"
            ],
            [
             0.1111111111111111,
             "#46039f"
            ],
            [
             0.2222222222222222,
             "#7201a8"
            ],
            [
             0.3333333333333333,
             "#9c179e"
            ],
            [
             0.4444444444444444,
             "#bd3786"
            ],
            [
             0.5555555555555556,
             "#d8576b"
            ],
            [
             0.6666666666666666,
             "#ed7953"
            ],
            [
             0.7777777777777778,
             "#fb9f3a"
            ],
            [
             0.8888888888888888,
             "#fdca26"
            ],
            [
             1,
             "#f0f921"
            ]
           ],
           "sequentialminus": [
            [
             0,
             "#0d0887"
            ],
            [
             0.1111111111111111,
             "#46039f"
            ],
            [
             0.2222222222222222,
             "#7201a8"
            ],
            [
             0.3333333333333333,
             "#9c179e"
            ],
            [
             0.4444444444444444,
             "#bd3786"
            ],
            [
             0.5555555555555556,
             "#d8576b"
            ],
            [
             0.6666666666666666,
             "#ed7953"
            ],
            [
             0.7777777777777778,
             "#fb9f3a"
            ],
            [
             0.8888888888888888,
             "#fdca26"
            ],
            [
             1,
             "#f0f921"
            ]
           ]
          },
          "colorway": [
           "#636efa",
           "#EF553B",
           "#00cc96",
           "#ab63fa",
           "#FFA15A",
           "#19d3f3",
           "#FF6692",
           "#B6E880",
           "#FF97FF",
           "#FECB52"
          ],
          "font": {
           "color": "#2a3f5f"
          },
          "geo": {
           "bgcolor": "white",
           "lakecolor": "white",
           "landcolor": "#E5ECF6",
           "showlakes": true,
           "showland": true,
           "subunitcolor": "white"
          },
          "hoverlabel": {
           "align": "left"
          },
          "hovermode": "closest",
          "mapbox": {
           "style": "light"
          },
          "paper_bgcolor": "white",
          "plot_bgcolor": "#E5ECF6",
          "polar": {
           "angularaxis": {
            "gridcolor": "white",
            "linecolor": "white",
            "ticks": ""
           },
           "bgcolor": "#E5ECF6",
           "radialaxis": {
            "gridcolor": "white",
            "linecolor": "white",
            "ticks": ""
           }
          },
          "scene": {
           "xaxis": {
            "backgroundcolor": "#E5ECF6",
            "gridcolor": "white",
            "gridwidth": 2,
            "linecolor": "white",
            "showbackground": true,
            "ticks": "",
            "zerolinecolor": "white"
           },
           "yaxis": {
            "backgroundcolor": "#E5ECF6",
            "gridcolor": "white",
            "gridwidth": 2,
            "linecolor": "white",
            "showbackground": true,
            "ticks": "",
            "zerolinecolor": "white"
           },
           "zaxis": {
            "backgroundcolor": "#E5ECF6",
            "gridcolor": "white",
            "gridwidth": 2,
            "linecolor": "white",
            "showbackground": true,
            "ticks": "",
            "zerolinecolor": "white"
           }
          },
          "shapedefaults": {
           "line": {
            "color": "#2a3f5f"
           }
          },
          "ternary": {
           "aaxis": {
            "gridcolor": "white",
            "linecolor": "white",
            "ticks": ""
           },
           "baxis": {
            "gridcolor": "white",
            "linecolor": "white",
            "ticks": ""
           },
           "bgcolor": "#E5ECF6",
           "caxis": {
            "gridcolor": "white",
            "linecolor": "white",
            "ticks": ""
           }
          },
          "title": {
           "x": 0.05
          },
          "xaxis": {
           "automargin": true,
           "gridcolor": "white",
           "linecolor": "white",
           "ticks": "",
           "title": {
            "standoff": 15
           },
           "zerolinecolor": "white",
           "zerolinewidth": 2
          },
          "yaxis": {
           "automargin": true,
           "gridcolor": "white",
           "linecolor": "white",
           "ticks": "",
           "title": {
            "standoff": 15
           },
           "zerolinecolor": "white",
           "zerolinewidth": 2
          }
         }
        },
        "title": {
         "font": {
          "color": "#4D5663"
         }
        },
        "xaxis": {
         "gridcolor": "#E1E5ED",
         "showgrid": true,
         "tickfont": {
          "color": "#4D5663"
         },
         "title": {
          "font": {
           "color": "#4D5663"
          },
          "text": ""
         },
         "zerolinecolor": "#E1E5ED"
        },
        "yaxis": {
         "gridcolor": "#E1E5ED",
         "showgrid": true,
         "tickfont": {
          "color": "#4D5663"
         },
         "title": {
          "font": {
           "color": "#4D5663"
          },
          "text": ""
         },
         "zerolinecolor": "#E1E5ED"
        }
       }
      },
      "text/html": [
       "<div>                            <div id=\"09379b53-05bb-4f19-bedb-77263843e15b\" class=\"plotly-graph-div\" style=\"height:525px; width:100%;\"></div>            <script type=\"text/javascript\">                require([\"plotly\"], function(Plotly) {                    window.PLOTLYENV=window.PLOTLYENV || {};\n",
       "                    window.PLOTLYENV.BASE_URL='https://plot.ly';                                    if (document.getElementById(\"09379b53-05bb-4f19-bedb-77263843e15b\")) {                    Plotly.newPlot(                        \"09379b53-05bb-4f19-bedb-77263843e15b\",                        [{\"marker\":{\"color\":\"rgba(255, 153, 51, 0.6)\",\"line\":{\"color\":\"rgba(255, 153, 51, 1.0)\",\"width\":1}},\"name\":\"Values\",\"orientation\":\"v\",\"text\":\"\",\"type\":\"bar\",\"x\":[\"A\",\"B\",\"C\"],\"y\":[32,43,50]}],                        {\"legend\":{\"bgcolor\":\"#F5F6F9\",\"font\":{\"color\":\"#4D5663\"}},\"paper_bgcolor\":\"#F5F6F9\",\"plot_bgcolor\":\"#F5F6F9\",\"template\":{\"data\":{\"bar\":[{\"error_x\":{\"color\":\"#2a3f5f\"},\"error_y\":{\"color\":\"#2a3f5f\"},\"marker\":{\"line\":{\"color\":\"#E5ECF6\",\"width\":0.5},\"pattern\":{\"fillmode\":\"overlay\",\"size\":10,\"solidity\":0.2}},\"type\":\"bar\"}],\"barpolar\":[{\"marker\":{\"line\":{\"color\":\"#E5ECF6\",\"width\":0.5},\"pattern\":{\"fillmode\":\"overlay\",\"size\":10,\"solidity\":0.2}},\"type\":\"barpolar\"}],\"carpet\":[{\"aaxis\":{\"endlinecolor\":\"#2a3f5f\",\"gridcolor\":\"white\",\"linecolor\":\"white\",\"minorgridcolor\":\"white\",\"startlinecolor\":\"#2a3f5f\"},\"baxis\":{\"endlinecolor\":\"#2a3f5f\",\"gridcolor\":\"white\",\"linecolor\":\"white\",\"minorgridcolor\":\"white\",\"startlinecolor\":\"#2a3f5f\"},\"type\":\"carpet\"}],\"choropleth\":[{\"colorbar\":{\"outlinewidth\":0,\"ticks\":\"\"},\"type\":\"choropleth\"}],\"contour\":[{\"colorbar\":{\"outlinewidth\":0,\"ticks\":\"\"},\"colorscale\":[[0.0,\"#0d0887\"],[0.1111111111111111,\"#46039f\"],[0.2222222222222222,\"#7201a8\"],[0.3333333333333333,\"#9c179e\"],[0.4444444444444444,\"#bd3786\"],[0.5555555555555556,\"#d8576b\"],[0.6666666666666666,\"#ed7953\"],[0.7777777777777778,\"#fb9f3a\"],[0.8888888888888888,\"#fdca26\"],[1.0,\"#f0f921\"]],\"type\":\"contour\"}],\"contourcarpet\":[{\"colorbar\":{\"outlinewidth\":0,\"ticks\":\"\"},\"type\":\"contourcarpet\"}],\"heatmap\":[{\"colorbar\":{\"outlinewidth\":0,\"ticks\":\"\"},\"colorscale\":[[0.0,\"#0d0887\"],[0.1111111111111111,\"#46039f\"],[0.2222222222222222,\"#7201a8\"],[0.3333333333333333,\"#9c179e\"],[0.4444444444444444,\"#bd3786\"],[0.5555555555555556,\"#d8576b\"],[0.6666666666666666,\"#ed7953\"],[0.7777777777777778,\"#fb9f3a\"],[0.8888888888888888,\"#fdca26\"],[1.0,\"#f0f921\"]],\"type\":\"heatmap\"}],\"heatmapgl\":[{\"colorbar\":{\"outlinewidth\":0,\"ticks\":\"\"},\"colorscale\":[[0.0,\"#0d0887\"],[0.1111111111111111,\"#46039f\"],[0.2222222222222222,\"#7201a8\"],[0.3333333333333333,\"#9c179e\"],[0.4444444444444444,\"#bd3786\"],[0.5555555555555556,\"#d8576b\"],[0.6666666666666666,\"#ed7953\"],[0.7777777777777778,\"#fb9f3a\"],[0.8888888888888888,\"#fdca26\"],[1.0,\"#f0f921\"]],\"type\":\"heatmapgl\"}],\"histogram\":[{\"marker\":{\"pattern\":{\"fillmode\":\"overlay\",\"size\":10,\"solidity\":0.2}},\"type\":\"histogram\"}],\"histogram2d\":[{\"colorbar\":{\"outlinewidth\":0,\"ticks\":\"\"},\"colorscale\":[[0.0,\"#0d0887\"],[0.1111111111111111,\"#46039f\"],[0.2222222222222222,\"#7201a8\"],[0.3333333333333333,\"#9c179e\"],[0.4444444444444444,\"#bd3786\"],[0.5555555555555556,\"#d8576b\"],[0.6666666666666666,\"#ed7953\"],[0.7777777777777778,\"#fb9f3a\"],[0.8888888888888888,\"#fdca26\"],[1.0,\"#f0f921\"]],\"type\":\"histogram2d\"}],\"histogram2dcontour\":[{\"colorbar\":{\"outlinewidth\":0,\"ticks\":\"\"},\"colorscale\":[[0.0,\"#0d0887\"],[0.1111111111111111,\"#46039f\"],[0.2222222222222222,\"#7201a8\"],[0.3333333333333333,\"#9c179e\"],[0.4444444444444444,\"#bd3786\"],[0.5555555555555556,\"#d8576b\"],[0.6666666666666666,\"#ed7953\"],[0.7777777777777778,\"#fb9f3a\"],[0.8888888888888888,\"#fdca26\"],[1.0,\"#f0f921\"]],\"type\":\"histogram2dcontour\"}],\"mesh3d\":[{\"colorbar\":{\"outlinewidth\":0,\"ticks\":\"\"},\"type\":\"mesh3d\"}],\"parcoords\":[{\"line\":{\"colorbar\":{\"outlinewidth\":0,\"ticks\":\"\"}},\"type\":\"parcoords\"}],\"pie\":[{\"automargin\":true,\"type\":\"pie\"}],\"scatter\":[{\"marker\":{\"colorbar\":{\"outlinewidth\":0,\"ticks\":\"\"}},\"type\":\"scatter\"}],\"scatter3d\":[{\"line\":{\"colorbar\":{\"outlinewidth\":0,\"ticks\":\"\"}},\"marker\":{\"colorbar\":{\"outlinewidth\":0,\"ticks\":\"\"}},\"type\":\"scatter3d\"}],\"scattercarpet\":[{\"marker\":{\"colorbar\":{\"outlinewidth\":0,\"ticks\":\"\"}},\"type\":\"scattercarpet\"}],\"scattergeo\":[{\"marker\":{\"colorbar\":{\"outlinewidth\":0,\"ticks\":\"\"}},\"type\":\"scattergeo\"}],\"scattergl\":[{\"marker\":{\"colorbar\":{\"outlinewidth\":0,\"ticks\":\"\"}},\"type\":\"scattergl\"}],\"scattermapbox\":[{\"marker\":{\"colorbar\":{\"outlinewidth\":0,\"ticks\":\"\"}},\"type\":\"scattermapbox\"}],\"scatterpolar\":[{\"marker\":{\"colorbar\":{\"outlinewidth\":0,\"ticks\":\"\"}},\"type\":\"scatterpolar\"}],\"scatterpolargl\":[{\"marker\":{\"colorbar\":{\"outlinewidth\":0,\"ticks\":\"\"}},\"type\":\"scatterpolargl\"}],\"scatterternary\":[{\"marker\":{\"colorbar\":{\"outlinewidth\":0,\"ticks\":\"\"}},\"type\":\"scatterternary\"}],\"surface\":[{\"colorbar\":{\"outlinewidth\":0,\"ticks\":\"\"},\"colorscale\":[[0.0,\"#0d0887\"],[0.1111111111111111,\"#46039f\"],[0.2222222222222222,\"#7201a8\"],[0.3333333333333333,\"#9c179e\"],[0.4444444444444444,\"#bd3786\"],[0.5555555555555556,\"#d8576b\"],[0.6666666666666666,\"#ed7953\"],[0.7777777777777778,\"#fb9f3a\"],[0.8888888888888888,\"#fdca26\"],[1.0,\"#f0f921\"]],\"type\":\"surface\"}],\"table\":[{\"cells\":{\"fill\":{\"color\":\"#EBF0F8\"},\"line\":{\"color\":\"white\"}},\"header\":{\"fill\":{\"color\":\"#C8D4E3\"},\"line\":{\"color\":\"white\"}},\"type\":\"table\"}]},\"layout\":{\"annotationdefaults\":{\"arrowcolor\":\"#2a3f5f\",\"arrowhead\":0,\"arrowwidth\":1},\"autotypenumbers\":\"strict\",\"coloraxis\":{\"colorbar\":{\"outlinewidth\":0,\"ticks\":\"\"}},\"colorscale\":{\"diverging\":[[0,\"#8e0152\"],[0.1,\"#c51b7d\"],[0.2,\"#de77ae\"],[0.3,\"#f1b6da\"],[0.4,\"#fde0ef\"],[0.5,\"#f7f7f7\"],[0.6,\"#e6f5d0\"],[0.7,\"#b8e186\"],[0.8,\"#7fbc41\"],[0.9,\"#4d9221\"],[1,\"#276419\"]],\"sequential\":[[0.0,\"#0d0887\"],[0.1111111111111111,\"#46039f\"],[0.2222222222222222,\"#7201a8\"],[0.3333333333333333,\"#9c179e\"],[0.4444444444444444,\"#bd3786\"],[0.5555555555555556,\"#d8576b\"],[0.6666666666666666,\"#ed7953\"],[0.7777777777777778,\"#fb9f3a\"],[0.8888888888888888,\"#fdca26\"],[1.0,\"#f0f921\"]],\"sequentialminus\":[[0.0,\"#0d0887\"],[0.1111111111111111,\"#46039f\"],[0.2222222222222222,\"#7201a8\"],[0.3333333333333333,\"#9c179e\"],[0.4444444444444444,\"#bd3786\"],[0.5555555555555556,\"#d8576b\"],[0.6666666666666666,\"#ed7953\"],[0.7777777777777778,\"#fb9f3a\"],[0.8888888888888888,\"#fdca26\"],[1.0,\"#f0f921\"]]},\"colorway\":[\"#636efa\",\"#EF553B\",\"#00cc96\",\"#ab63fa\",\"#FFA15A\",\"#19d3f3\",\"#FF6692\",\"#B6E880\",\"#FF97FF\",\"#FECB52\"],\"font\":{\"color\":\"#2a3f5f\"},\"geo\":{\"bgcolor\":\"white\",\"lakecolor\":\"white\",\"landcolor\":\"#E5ECF6\",\"showlakes\":true,\"showland\":true,\"subunitcolor\":\"white\"},\"hoverlabel\":{\"align\":\"left\"},\"hovermode\":\"closest\",\"mapbox\":{\"style\":\"light\"},\"paper_bgcolor\":\"white\",\"plot_bgcolor\":\"#E5ECF6\",\"polar\":{\"angularaxis\":{\"gridcolor\":\"white\",\"linecolor\":\"white\",\"ticks\":\"\"},\"bgcolor\":\"#E5ECF6\",\"radialaxis\":{\"gridcolor\":\"white\",\"linecolor\":\"white\",\"ticks\":\"\"}},\"scene\":{\"xaxis\":{\"backgroundcolor\":\"#E5ECF6\",\"gridcolor\":\"white\",\"gridwidth\":2,\"linecolor\":\"white\",\"showbackground\":true,\"ticks\":\"\",\"zerolinecolor\":\"white\"},\"yaxis\":{\"backgroundcolor\":\"#E5ECF6\",\"gridcolor\":\"white\",\"gridwidth\":2,\"linecolor\":\"white\",\"showbackground\":true,\"ticks\":\"\",\"zerolinecolor\":\"white\"},\"zaxis\":{\"backgroundcolor\":\"#E5ECF6\",\"gridcolor\":\"white\",\"gridwidth\":2,\"linecolor\":\"white\",\"showbackground\":true,\"ticks\":\"\",\"zerolinecolor\":\"white\"}},\"shapedefaults\":{\"line\":{\"color\":\"#2a3f5f\"}},\"ternary\":{\"aaxis\":{\"gridcolor\":\"white\",\"linecolor\":\"white\",\"ticks\":\"\"},\"baxis\":{\"gridcolor\":\"white\",\"linecolor\":\"white\",\"ticks\":\"\"},\"bgcolor\":\"#E5ECF6\",\"caxis\":{\"gridcolor\":\"white\",\"linecolor\":\"white\",\"ticks\":\"\"}},\"title\":{\"x\":0.05},\"xaxis\":{\"automargin\":true,\"gridcolor\":\"white\",\"linecolor\":\"white\",\"ticks\":\"\",\"title\":{\"standoff\":15},\"zerolinecolor\":\"white\",\"zerolinewidth\":2},\"yaxis\":{\"automargin\":true,\"gridcolor\":\"white\",\"linecolor\":\"white\",\"ticks\":\"\",\"title\":{\"standoff\":15},\"zerolinecolor\":\"white\",\"zerolinewidth\":2}}},\"title\":{\"font\":{\"color\":\"#4D5663\"}},\"xaxis\":{\"gridcolor\":\"#E1E5ED\",\"showgrid\":true,\"tickfont\":{\"color\":\"#4D5663\"},\"title\":{\"font\":{\"color\":\"#4D5663\"},\"text\":\"\"},\"zerolinecolor\":\"#E1E5ED\"},\"yaxis\":{\"gridcolor\":\"#E1E5ED\",\"showgrid\":true,\"tickfont\":{\"color\":\"#4D5663\"},\"title\":{\"font\":{\"color\":\"#4D5663\"},\"text\":\"\"},\"zerolinecolor\":\"#E1E5ED\"}},                        {\"showLink\": true, \"linkText\": \"Export to plot.ly\", \"plotlyServerURL\": \"https://plot.ly\", \"responsive\": true}                    ).then(function(){\n",
       "                            \n",
       "var gd = document.getElementById('09379b53-05bb-4f19-bedb-77263843e15b');\n",
       "var x = new MutationObserver(function (mutations, observer) {{\n",
       "        var display = window.getComputedStyle(gd).display;\n",
       "        if (!display || display === 'none') {{\n",
       "            console.log([gd, 'removed!']);\n",
       "            Plotly.purge(gd);\n",
       "            observer.disconnect();\n",
       "        }}\n",
       "}});\n",
       "\n",
       "// Listen for the removal of the full notebook cells\n",
       "var notebookContainer = gd.closest('#notebook-container');\n",
       "if (notebookContainer) {{\n",
       "    x.observe(notebookContainer, {childList: true});\n",
       "}}\n",
       "\n",
       "// Listen for the clearing of the current output cell\n",
       "var outputEl = gd.closest('.output');\n",
       "if (outputEl) {{\n",
       "    x.observe(outputEl, {childList: true});\n",
       "}}\n",
       "\n",
       "                        })                };                });            </script>        </div>"
      ]
     },
     "metadata": {},
     "output_type": "display_data"
    }
   ],
   "source": [
    "df2.iplot(kind='bar',x='Category',y='Values')"
   ]
  },
  {
   "cell_type": "code",
   "execution_count": 12,
   "metadata": {},
   "outputs": [
    {
     "data": {
      "application/vnd.plotly.v1+json": {
       "config": {
        "linkText": "Export to plot.ly",
        "plotlyServerURL": "https://plot.ly",
        "showLink": true
       },
       "data": [
        {
         "marker": {
          "color": "rgba(255, 153, 51, 0.6)",
          "line": {
           "color": "rgba(255, 153, 51, 1.0)",
           "width": 1
          }
         },
         "name": "None",
         "orientation": "v",
         "text": "",
         "type": "bar",
         "x": [
          "A",
          "B",
          "C",
          "D"
         ],
         "y": [
          100,
          100,
          100,
          100
         ]
        }
       ],
       "layout": {
        "legend": {
         "bgcolor": "#F5F6F9",
         "font": {
          "color": "#4D5663"
         }
        },
        "paper_bgcolor": "#F5F6F9",
        "plot_bgcolor": "#F5F6F9",
        "template": {
         "data": {
          "bar": [
           {
            "error_x": {
             "color": "#2a3f5f"
            },
            "error_y": {
             "color": "#2a3f5f"
            },
            "marker": {
             "line": {
              "color": "#E5ECF6",
              "width": 0.5
             },
             "pattern": {
              "fillmode": "overlay",
              "size": 10,
              "solidity": 0.2
             }
            },
            "type": "bar"
           }
          ],
          "barpolar": [
           {
            "marker": {
             "line": {
              "color": "#E5ECF6",
              "width": 0.5
             },
             "pattern": {
              "fillmode": "overlay",
              "size": 10,
              "solidity": 0.2
             }
            },
            "type": "barpolar"
           }
          ],
          "carpet": [
           {
            "aaxis": {
             "endlinecolor": "#2a3f5f",
             "gridcolor": "white",
             "linecolor": "white",
             "minorgridcolor": "white",
             "startlinecolor": "#2a3f5f"
            },
            "baxis": {
             "endlinecolor": "#2a3f5f",
             "gridcolor": "white",
             "linecolor": "white",
             "minorgridcolor": "white",
             "startlinecolor": "#2a3f5f"
            },
            "type": "carpet"
           }
          ],
          "choropleth": [
           {
            "colorbar": {
             "outlinewidth": 0,
             "ticks": ""
            },
            "type": "choropleth"
           }
          ],
          "contour": [
           {
            "colorbar": {
             "outlinewidth": 0,
             "ticks": ""
            },
            "colorscale": [
             [
              0,
              "#0d0887"
             ],
             [
              0.1111111111111111,
              "#46039f"
             ],
             [
              0.2222222222222222,
              "#7201a8"
             ],
             [
              0.3333333333333333,
              "#9c179e"
             ],
             [
              0.4444444444444444,
              "#bd3786"
             ],
             [
              0.5555555555555556,
              "#d8576b"
             ],
             [
              0.6666666666666666,
              "#ed7953"
             ],
             [
              0.7777777777777778,
              "#fb9f3a"
             ],
             [
              0.8888888888888888,
              "#fdca26"
             ],
             [
              1,
              "#f0f921"
             ]
            ],
            "type": "contour"
           }
          ],
          "contourcarpet": [
           {
            "colorbar": {
             "outlinewidth": 0,
             "ticks": ""
            },
            "type": "contourcarpet"
           }
          ],
          "heatmap": [
           {
            "colorbar": {
             "outlinewidth": 0,
             "ticks": ""
            },
            "colorscale": [
             [
              0,
              "#0d0887"
             ],
             [
              0.1111111111111111,
              "#46039f"
             ],
             [
              0.2222222222222222,
              "#7201a8"
             ],
             [
              0.3333333333333333,
              "#9c179e"
             ],
             [
              0.4444444444444444,
              "#bd3786"
             ],
             [
              0.5555555555555556,
              "#d8576b"
             ],
             [
              0.6666666666666666,
              "#ed7953"
             ],
             [
              0.7777777777777778,
              "#fb9f3a"
             ],
             [
              0.8888888888888888,
              "#fdca26"
             ],
             [
              1,
              "#f0f921"
             ]
            ],
            "type": "heatmap"
           }
          ],
          "heatmapgl": [
           {
            "colorbar": {
             "outlinewidth": 0,
             "ticks": ""
            },
            "colorscale": [
             [
              0,
              "#0d0887"
             ],
             [
              0.1111111111111111,
              "#46039f"
             ],
             [
              0.2222222222222222,
              "#7201a8"
             ],
             [
              0.3333333333333333,
              "#9c179e"
             ],
             [
              0.4444444444444444,
              "#bd3786"
             ],
             [
              0.5555555555555556,
              "#d8576b"
             ],
             [
              0.6666666666666666,
              "#ed7953"
             ],
             [
              0.7777777777777778,
              "#fb9f3a"
             ],
             [
              0.8888888888888888,
              "#fdca26"
             ],
             [
              1,
              "#f0f921"
             ]
            ],
            "type": "heatmapgl"
           }
          ],
          "histogram": [
           {
            "marker": {
             "pattern": {
              "fillmode": "overlay",
              "size": 10,
              "solidity": 0.2
             }
            },
            "type": "histogram"
           }
          ],
          "histogram2d": [
           {
            "colorbar": {
             "outlinewidth": 0,
             "ticks": ""
            },
            "colorscale": [
             [
              0,
              "#0d0887"
             ],
             [
              0.1111111111111111,
              "#46039f"
             ],
             [
              0.2222222222222222,
              "#7201a8"
             ],
             [
              0.3333333333333333,
              "#9c179e"
             ],
             [
              0.4444444444444444,
              "#bd3786"
             ],
             [
              0.5555555555555556,
              "#d8576b"
             ],
             [
              0.6666666666666666,
              "#ed7953"
             ],
             [
              0.7777777777777778,
              "#fb9f3a"
             ],
             [
              0.8888888888888888,
              "#fdca26"
             ],
             [
              1,
              "#f0f921"
             ]
            ],
            "type": "histogram2d"
           }
          ],
          "histogram2dcontour": [
           {
            "colorbar": {
             "outlinewidth": 0,
             "ticks": ""
            },
            "colorscale": [
             [
              0,
              "#0d0887"
             ],
             [
              0.1111111111111111,
              "#46039f"
             ],
             [
              0.2222222222222222,
              "#7201a8"
             ],
             [
              0.3333333333333333,
              "#9c179e"
             ],
             [
              0.4444444444444444,
              "#bd3786"
             ],
             [
              0.5555555555555556,
              "#d8576b"
             ],
             [
              0.6666666666666666,
              "#ed7953"
             ],
             [
              0.7777777777777778,
              "#fb9f3a"
             ],
             [
              0.8888888888888888,
              "#fdca26"
             ],
             [
              1,
              "#f0f921"
             ]
            ],
            "type": "histogram2dcontour"
           }
          ],
          "mesh3d": [
           {
            "colorbar": {
             "outlinewidth": 0,
             "ticks": ""
            },
            "type": "mesh3d"
           }
          ],
          "parcoords": [
           {
            "line": {
             "colorbar": {
              "outlinewidth": 0,
              "ticks": ""
             }
            },
            "type": "parcoords"
           }
          ],
          "pie": [
           {
            "automargin": true,
            "type": "pie"
           }
          ],
          "scatter": [
           {
            "marker": {
             "colorbar": {
              "outlinewidth": 0,
              "ticks": ""
             }
            },
            "type": "scatter"
           }
          ],
          "scatter3d": [
           {
            "line": {
             "colorbar": {
              "outlinewidth": 0,
              "ticks": ""
             }
            },
            "marker": {
             "colorbar": {
              "outlinewidth": 0,
              "ticks": ""
             }
            },
            "type": "scatter3d"
           }
          ],
          "scattercarpet": [
           {
            "marker": {
             "colorbar": {
              "outlinewidth": 0,
              "ticks": ""
             }
            },
            "type": "scattercarpet"
           }
          ],
          "scattergeo": [
           {
            "marker": {
             "colorbar": {
              "outlinewidth": 0,
              "ticks": ""
             }
            },
            "type": "scattergeo"
           }
          ],
          "scattergl": [
           {
            "marker": {
             "colorbar": {
              "outlinewidth": 0,
              "ticks": ""
             }
            },
            "type": "scattergl"
           }
          ],
          "scattermapbox": [
           {
            "marker": {
             "colorbar": {
              "outlinewidth": 0,
              "ticks": ""
             }
            },
            "type": "scattermapbox"
           }
          ],
          "scatterpolar": [
           {
            "marker": {
             "colorbar": {
              "outlinewidth": 0,
              "ticks": ""
             }
            },
            "type": "scatterpolar"
           }
          ],
          "scatterpolargl": [
           {
            "marker": {
             "colorbar": {
              "outlinewidth": 0,
              "ticks": ""
             }
            },
            "type": "scatterpolargl"
           }
          ],
          "scatterternary": [
           {
            "marker": {
             "colorbar": {
              "outlinewidth": 0,
              "ticks": ""
             }
            },
            "type": "scatterternary"
           }
          ],
          "surface": [
           {
            "colorbar": {
             "outlinewidth": 0,
             "ticks": ""
            },
            "colorscale": [
             [
              0,
              "#0d0887"
             ],
             [
              0.1111111111111111,
              "#46039f"
             ],
             [
              0.2222222222222222,
              "#7201a8"
             ],
             [
              0.3333333333333333,
              "#9c179e"
             ],
             [
              0.4444444444444444,
              "#bd3786"
             ],
             [
              0.5555555555555556,
              "#d8576b"
             ],
             [
              0.6666666666666666,
              "#ed7953"
             ],
             [
              0.7777777777777778,
              "#fb9f3a"
             ],
             [
              0.8888888888888888,
              "#fdca26"
             ],
             [
              1,
              "#f0f921"
             ]
            ],
            "type": "surface"
           }
          ],
          "table": [
           {
            "cells": {
             "fill": {
              "color": "#EBF0F8"
             },
             "line": {
              "color": "white"
             }
            },
            "header": {
             "fill": {
              "color": "#C8D4E3"
             },
             "line": {
              "color": "white"
             }
            },
            "type": "table"
           }
          ]
         },
         "layout": {
          "annotationdefaults": {
           "arrowcolor": "#2a3f5f",
           "arrowhead": 0,
           "arrowwidth": 1
          },
          "autotypenumbers": "strict",
          "coloraxis": {
           "colorbar": {
            "outlinewidth": 0,
            "ticks": ""
           }
          },
          "colorscale": {
           "diverging": [
            [
             0,
             "#8e0152"
            ],
            [
             0.1,
             "#c51b7d"
            ],
            [
             0.2,
             "#de77ae"
            ],
            [
             0.3,
             "#f1b6da"
            ],
            [
             0.4,
             "#fde0ef"
            ],
            [
             0.5,
             "#f7f7f7"
            ],
            [
             0.6,
             "#e6f5d0"
            ],
            [
             0.7,
             "#b8e186"
            ],
            [
             0.8,
             "#7fbc41"
            ],
            [
             0.9,
             "#4d9221"
            ],
            [
             1,
             "#276419"
            ]
           ],
           "sequential": [
            [
             0,
             "#0d0887"
            ],
            [
             0.1111111111111111,
             "#46039f"
            ],
            [
             0.2222222222222222,
             "#7201a8"
            ],
            [
             0.3333333333333333,
             "#9c179e"
            ],
            [
             0.4444444444444444,
             "#bd3786"
            ],
            [
             0.5555555555555556,
             "#d8576b"
            ],
            [
             0.6666666666666666,
             "#ed7953"
            ],
            [
             0.7777777777777778,
             "#fb9f3a"
            ],
            [
             0.8888888888888888,
             "#fdca26"
            ],
            [
             1,
             "#f0f921"
            ]
           ],
           "sequentialminus": [
            [
             0,
             "#0d0887"
            ],
            [
             0.1111111111111111,
             "#46039f"
            ],
            [
             0.2222222222222222,
             "#7201a8"
            ],
            [
             0.3333333333333333,
             "#9c179e"
            ],
            [
             0.4444444444444444,
             "#bd3786"
            ],
            [
             0.5555555555555556,
             "#d8576b"
            ],
            [
             0.6666666666666666,
             "#ed7953"
            ],
            [
             0.7777777777777778,
             "#fb9f3a"
            ],
            [
             0.8888888888888888,
             "#fdca26"
            ],
            [
             1,
             "#f0f921"
            ]
           ]
          },
          "colorway": [
           "#636efa",
           "#EF553B",
           "#00cc96",
           "#ab63fa",
           "#FFA15A",
           "#19d3f3",
           "#FF6692",
           "#B6E880",
           "#FF97FF",
           "#FECB52"
          ],
          "font": {
           "color": "#2a3f5f"
          },
          "geo": {
           "bgcolor": "white",
           "lakecolor": "white",
           "landcolor": "#E5ECF6",
           "showlakes": true,
           "showland": true,
           "subunitcolor": "white"
          },
          "hoverlabel": {
           "align": "left"
          },
          "hovermode": "closest",
          "mapbox": {
           "style": "light"
          },
          "paper_bgcolor": "white",
          "plot_bgcolor": "#E5ECF6",
          "polar": {
           "angularaxis": {
            "gridcolor": "white",
            "linecolor": "white",
            "ticks": ""
           },
           "bgcolor": "#E5ECF6",
           "radialaxis": {
            "gridcolor": "white",
            "linecolor": "white",
            "ticks": ""
           }
          },
          "scene": {
           "xaxis": {
            "backgroundcolor": "#E5ECF6",
            "gridcolor": "white",
            "gridwidth": 2,
            "linecolor": "white",
            "showbackground": true,
            "ticks": "",
            "zerolinecolor": "white"
           },
           "yaxis": {
            "backgroundcolor": "#E5ECF6",
            "gridcolor": "white",
            "gridwidth": 2,
            "linecolor": "white",
            "showbackground": true,
            "ticks": "",
            "zerolinecolor": "white"
           },
           "zaxis": {
            "backgroundcolor": "#E5ECF6",
            "gridcolor": "white",
            "gridwidth": 2,
            "linecolor": "white",
            "showbackground": true,
            "ticks": "",
            "zerolinecolor": "white"
           }
          },
          "shapedefaults": {
           "line": {
            "color": "#2a3f5f"
           }
          },
          "ternary": {
           "aaxis": {
            "gridcolor": "white",
            "linecolor": "white",
            "ticks": ""
           },
           "baxis": {
            "gridcolor": "white",
            "linecolor": "white",
            "ticks": ""
           },
           "bgcolor": "#E5ECF6",
           "caxis": {
            "gridcolor": "white",
            "linecolor": "white",
            "ticks": ""
           }
          },
          "title": {
           "x": 0.05
          },
          "xaxis": {
           "automargin": true,
           "gridcolor": "white",
           "linecolor": "white",
           "ticks": "",
           "title": {
            "standoff": 15
           },
           "zerolinecolor": "white",
           "zerolinewidth": 2
          },
          "yaxis": {
           "automargin": true,
           "gridcolor": "white",
           "linecolor": "white",
           "ticks": "",
           "title": {
            "standoff": 15
           },
           "zerolinecolor": "white",
           "zerolinewidth": 2
          }
         }
        },
        "title": {
         "font": {
          "color": "#4D5663"
         }
        },
        "xaxis": {
         "gridcolor": "#E1E5ED",
         "showgrid": true,
         "tickfont": {
          "color": "#4D5663"
         },
         "title": {
          "font": {
           "color": "#4D5663"
          },
          "text": ""
         },
         "zerolinecolor": "#E1E5ED"
        },
        "yaxis": {
         "gridcolor": "#E1E5ED",
         "showgrid": true,
         "tickfont": {
          "color": "#4D5663"
         },
         "title": {
          "font": {
           "color": "#4D5663"
          },
          "text": ""
         },
         "zerolinecolor": "#E1E5ED"
        }
       }
      },
      "text/html": [
       "<div>                            <div id=\"a35bac9c-3b5c-4e72-8466-802013e883b6\" class=\"plotly-graph-div\" style=\"height:525px; width:100%;\"></div>            <script type=\"text/javascript\">                require([\"plotly\"], function(Plotly) {                    window.PLOTLYENV=window.PLOTLYENV || {};\n",
       "                    window.PLOTLYENV.BASE_URL='https://plot.ly';                                    if (document.getElementById(\"a35bac9c-3b5c-4e72-8466-802013e883b6\")) {                    Plotly.newPlot(                        \"a35bac9c-3b5c-4e72-8466-802013e883b6\",                        [{\"marker\":{\"color\":\"rgba(255, 153, 51, 0.6)\",\"line\":{\"color\":\"rgba(255, 153, 51, 1.0)\",\"width\":1}},\"name\":\"None\",\"orientation\":\"v\",\"text\":\"\",\"type\":\"bar\",\"x\":[\"A\",\"B\",\"C\",\"D\"],\"y\":[100,100,100,100]}],                        {\"legend\":{\"bgcolor\":\"#F5F6F9\",\"font\":{\"color\":\"#4D5663\"}},\"paper_bgcolor\":\"#F5F6F9\",\"plot_bgcolor\":\"#F5F6F9\",\"template\":{\"data\":{\"bar\":[{\"error_x\":{\"color\":\"#2a3f5f\"},\"error_y\":{\"color\":\"#2a3f5f\"},\"marker\":{\"line\":{\"color\":\"#E5ECF6\",\"width\":0.5},\"pattern\":{\"fillmode\":\"overlay\",\"size\":10,\"solidity\":0.2}},\"type\":\"bar\"}],\"barpolar\":[{\"marker\":{\"line\":{\"color\":\"#E5ECF6\",\"width\":0.5},\"pattern\":{\"fillmode\":\"overlay\",\"size\":10,\"solidity\":0.2}},\"type\":\"barpolar\"}],\"carpet\":[{\"aaxis\":{\"endlinecolor\":\"#2a3f5f\",\"gridcolor\":\"white\",\"linecolor\":\"white\",\"minorgridcolor\":\"white\",\"startlinecolor\":\"#2a3f5f\"},\"baxis\":{\"endlinecolor\":\"#2a3f5f\",\"gridcolor\":\"white\",\"linecolor\":\"white\",\"minorgridcolor\":\"white\",\"startlinecolor\":\"#2a3f5f\"},\"type\":\"carpet\"}],\"choropleth\":[{\"colorbar\":{\"outlinewidth\":0,\"ticks\":\"\"},\"type\":\"choropleth\"}],\"contour\":[{\"colorbar\":{\"outlinewidth\":0,\"ticks\":\"\"},\"colorscale\":[[0.0,\"#0d0887\"],[0.1111111111111111,\"#46039f\"],[0.2222222222222222,\"#7201a8\"],[0.3333333333333333,\"#9c179e\"],[0.4444444444444444,\"#bd3786\"],[0.5555555555555556,\"#d8576b\"],[0.6666666666666666,\"#ed7953\"],[0.7777777777777778,\"#fb9f3a\"],[0.8888888888888888,\"#fdca26\"],[1.0,\"#f0f921\"]],\"type\":\"contour\"}],\"contourcarpet\":[{\"colorbar\":{\"outlinewidth\":0,\"ticks\":\"\"},\"type\":\"contourcarpet\"}],\"heatmap\":[{\"colorbar\":{\"outlinewidth\":0,\"ticks\":\"\"},\"colorscale\":[[0.0,\"#0d0887\"],[0.1111111111111111,\"#46039f\"],[0.2222222222222222,\"#7201a8\"],[0.3333333333333333,\"#9c179e\"],[0.4444444444444444,\"#bd3786\"],[0.5555555555555556,\"#d8576b\"],[0.6666666666666666,\"#ed7953\"],[0.7777777777777778,\"#fb9f3a\"],[0.8888888888888888,\"#fdca26\"],[1.0,\"#f0f921\"]],\"type\":\"heatmap\"}],\"heatmapgl\":[{\"colorbar\":{\"outlinewidth\":0,\"ticks\":\"\"},\"colorscale\":[[0.0,\"#0d0887\"],[0.1111111111111111,\"#46039f\"],[0.2222222222222222,\"#7201a8\"],[0.3333333333333333,\"#9c179e\"],[0.4444444444444444,\"#bd3786\"],[0.5555555555555556,\"#d8576b\"],[0.6666666666666666,\"#ed7953\"],[0.7777777777777778,\"#fb9f3a\"],[0.8888888888888888,\"#fdca26\"],[1.0,\"#f0f921\"]],\"type\":\"heatmapgl\"}],\"histogram\":[{\"marker\":{\"pattern\":{\"fillmode\":\"overlay\",\"size\":10,\"solidity\":0.2}},\"type\":\"histogram\"}],\"histogram2d\":[{\"colorbar\":{\"outlinewidth\":0,\"ticks\":\"\"},\"colorscale\":[[0.0,\"#0d0887\"],[0.1111111111111111,\"#46039f\"],[0.2222222222222222,\"#7201a8\"],[0.3333333333333333,\"#9c179e\"],[0.4444444444444444,\"#bd3786\"],[0.5555555555555556,\"#d8576b\"],[0.6666666666666666,\"#ed7953\"],[0.7777777777777778,\"#fb9f3a\"],[0.8888888888888888,\"#fdca26\"],[1.0,\"#f0f921\"]],\"type\":\"histogram2d\"}],\"histogram2dcontour\":[{\"colorbar\":{\"outlinewidth\":0,\"ticks\":\"\"},\"colorscale\":[[0.0,\"#0d0887\"],[0.1111111111111111,\"#46039f\"],[0.2222222222222222,\"#7201a8\"],[0.3333333333333333,\"#9c179e\"],[0.4444444444444444,\"#bd3786\"],[0.5555555555555556,\"#d8576b\"],[0.6666666666666666,\"#ed7953\"],[0.7777777777777778,\"#fb9f3a\"],[0.8888888888888888,\"#fdca26\"],[1.0,\"#f0f921\"]],\"type\":\"histogram2dcontour\"}],\"mesh3d\":[{\"colorbar\":{\"outlinewidth\":0,\"ticks\":\"\"},\"type\":\"mesh3d\"}],\"parcoords\":[{\"line\":{\"colorbar\":{\"outlinewidth\":0,\"ticks\":\"\"}},\"type\":\"parcoords\"}],\"pie\":[{\"automargin\":true,\"type\":\"pie\"}],\"scatter\":[{\"marker\":{\"colorbar\":{\"outlinewidth\":0,\"ticks\":\"\"}},\"type\":\"scatter\"}],\"scatter3d\":[{\"line\":{\"colorbar\":{\"outlinewidth\":0,\"ticks\":\"\"}},\"marker\":{\"colorbar\":{\"outlinewidth\":0,\"ticks\":\"\"}},\"type\":\"scatter3d\"}],\"scattercarpet\":[{\"marker\":{\"colorbar\":{\"outlinewidth\":0,\"ticks\":\"\"}},\"type\":\"scattercarpet\"}],\"scattergeo\":[{\"marker\":{\"colorbar\":{\"outlinewidth\":0,\"ticks\":\"\"}},\"type\":\"scattergeo\"}],\"scattergl\":[{\"marker\":{\"colorbar\":{\"outlinewidth\":0,\"ticks\":\"\"}},\"type\":\"scattergl\"}],\"scattermapbox\":[{\"marker\":{\"colorbar\":{\"outlinewidth\":0,\"ticks\":\"\"}},\"type\":\"scattermapbox\"}],\"scatterpolar\":[{\"marker\":{\"colorbar\":{\"outlinewidth\":0,\"ticks\":\"\"}},\"type\":\"scatterpolar\"}],\"scatterpolargl\":[{\"marker\":{\"colorbar\":{\"outlinewidth\":0,\"ticks\":\"\"}},\"type\":\"scatterpolargl\"}],\"scatterternary\":[{\"marker\":{\"colorbar\":{\"outlinewidth\":0,\"ticks\":\"\"}},\"type\":\"scatterternary\"}],\"surface\":[{\"colorbar\":{\"outlinewidth\":0,\"ticks\":\"\"},\"colorscale\":[[0.0,\"#0d0887\"],[0.1111111111111111,\"#46039f\"],[0.2222222222222222,\"#7201a8\"],[0.3333333333333333,\"#9c179e\"],[0.4444444444444444,\"#bd3786\"],[0.5555555555555556,\"#d8576b\"],[0.6666666666666666,\"#ed7953\"],[0.7777777777777778,\"#fb9f3a\"],[0.8888888888888888,\"#fdca26\"],[1.0,\"#f0f921\"]],\"type\":\"surface\"}],\"table\":[{\"cells\":{\"fill\":{\"color\":\"#EBF0F8\"},\"line\":{\"color\":\"white\"}},\"header\":{\"fill\":{\"color\":\"#C8D4E3\"},\"line\":{\"color\":\"white\"}},\"type\":\"table\"}]},\"layout\":{\"annotationdefaults\":{\"arrowcolor\":\"#2a3f5f\",\"arrowhead\":0,\"arrowwidth\":1},\"autotypenumbers\":\"strict\",\"coloraxis\":{\"colorbar\":{\"outlinewidth\":0,\"ticks\":\"\"}},\"colorscale\":{\"diverging\":[[0,\"#8e0152\"],[0.1,\"#c51b7d\"],[0.2,\"#de77ae\"],[0.3,\"#f1b6da\"],[0.4,\"#fde0ef\"],[0.5,\"#f7f7f7\"],[0.6,\"#e6f5d0\"],[0.7,\"#b8e186\"],[0.8,\"#7fbc41\"],[0.9,\"#4d9221\"],[1,\"#276419\"]],\"sequential\":[[0.0,\"#0d0887\"],[0.1111111111111111,\"#46039f\"],[0.2222222222222222,\"#7201a8\"],[0.3333333333333333,\"#9c179e\"],[0.4444444444444444,\"#bd3786\"],[0.5555555555555556,\"#d8576b\"],[0.6666666666666666,\"#ed7953\"],[0.7777777777777778,\"#fb9f3a\"],[0.8888888888888888,\"#fdca26\"],[1.0,\"#f0f921\"]],\"sequentialminus\":[[0.0,\"#0d0887\"],[0.1111111111111111,\"#46039f\"],[0.2222222222222222,\"#7201a8\"],[0.3333333333333333,\"#9c179e\"],[0.4444444444444444,\"#bd3786\"],[0.5555555555555556,\"#d8576b\"],[0.6666666666666666,\"#ed7953\"],[0.7777777777777778,\"#fb9f3a\"],[0.8888888888888888,\"#fdca26\"],[1.0,\"#f0f921\"]]},\"colorway\":[\"#636efa\",\"#EF553B\",\"#00cc96\",\"#ab63fa\",\"#FFA15A\",\"#19d3f3\",\"#FF6692\",\"#B6E880\",\"#FF97FF\",\"#FECB52\"],\"font\":{\"color\":\"#2a3f5f\"},\"geo\":{\"bgcolor\":\"white\",\"lakecolor\":\"white\",\"landcolor\":\"#E5ECF6\",\"showlakes\":true,\"showland\":true,\"subunitcolor\":\"white\"},\"hoverlabel\":{\"align\":\"left\"},\"hovermode\":\"closest\",\"mapbox\":{\"style\":\"light\"},\"paper_bgcolor\":\"white\",\"plot_bgcolor\":\"#E5ECF6\",\"polar\":{\"angularaxis\":{\"gridcolor\":\"white\",\"linecolor\":\"white\",\"ticks\":\"\"},\"bgcolor\":\"#E5ECF6\",\"radialaxis\":{\"gridcolor\":\"white\",\"linecolor\":\"white\",\"ticks\":\"\"}},\"scene\":{\"xaxis\":{\"backgroundcolor\":\"#E5ECF6\",\"gridcolor\":\"white\",\"gridwidth\":2,\"linecolor\":\"white\",\"showbackground\":true,\"ticks\":\"\",\"zerolinecolor\":\"white\"},\"yaxis\":{\"backgroundcolor\":\"#E5ECF6\",\"gridcolor\":\"white\",\"gridwidth\":2,\"linecolor\":\"white\",\"showbackground\":true,\"ticks\":\"\",\"zerolinecolor\":\"white\"},\"zaxis\":{\"backgroundcolor\":\"#E5ECF6\",\"gridcolor\":\"white\",\"gridwidth\":2,\"linecolor\":\"white\",\"showbackground\":true,\"ticks\":\"\",\"zerolinecolor\":\"white\"}},\"shapedefaults\":{\"line\":{\"color\":\"#2a3f5f\"}},\"ternary\":{\"aaxis\":{\"gridcolor\":\"white\",\"linecolor\":\"white\",\"ticks\":\"\"},\"baxis\":{\"gridcolor\":\"white\",\"linecolor\":\"white\",\"ticks\":\"\"},\"bgcolor\":\"#E5ECF6\",\"caxis\":{\"gridcolor\":\"white\",\"linecolor\":\"white\",\"ticks\":\"\"}},\"title\":{\"x\":0.05},\"xaxis\":{\"automargin\":true,\"gridcolor\":\"white\",\"linecolor\":\"white\",\"ticks\":\"\",\"title\":{\"standoff\":15},\"zerolinecolor\":\"white\",\"zerolinewidth\":2},\"yaxis\":{\"automargin\":true,\"gridcolor\":\"white\",\"linecolor\":\"white\",\"ticks\":\"\",\"title\":{\"standoff\":15},\"zerolinecolor\":\"white\",\"zerolinewidth\":2}}},\"title\":{\"font\":{\"color\":\"#4D5663\"}},\"xaxis\":{\"gridcolor\":\"#E1E5ED\",\"showgrid\":true,\"tickfont\":{\"color\":\"#4D5663\"},\"title\":{\"font\":{\"color\":\"#4D5663\"},\"text\":\"\"},\"zerolinecolor\":\"#E1E5ED\"},\"yaxis\":{\"gridcolor\":\"#E1E5ED\",\"showgrid\":true,\"tickfont\":{\"color\":\"#4D5663\"},\"title\":{\"font\":{\"color\":\"#4D5663\"},\"text\":\"\"},\"zerolinecolor\":\"#E1E5ED\"}},                        {\"showLink\": true, \"linkText\": \"Export to plot.ly\", \"plotlyServerURL\": \"https://plot.ly\", \"responsive\": true}                    ).then(function(){\n",
       "                            \n",
       "var gd = document.getElementById('a35bac9c-3b5c-4e72-8466-802013e883b6');\n",
       "var x = new MutationObserver(function (mutations, observer) {{\n",
       "        var display = window.getComputedStyle(gd).display;\n",
       "        if (!display || display === 'none') {{\n",
       "            console.log([gd, 'removed!']);\n",
       "            Plotly.purge(gd);\n",
       "            observer.disconnect();\n",
       "        }}\n",
       "}});\n",
       "\n",
       "// Listen for the removal of the full notebook cells\n",
       "var notebookContainer = gd.closest('#notebook-container');\n",
       "if (notebookContainer) {{\n",
       "    x.observe(notebookContainer, {childList: true});\n",
       "}}\n",
       "\n",
       "// Listen for the clearing of the current output cell\n",
       "var outputEl = gd.closest('.output');\n",
       "if (outputEl) {{\n",
       "    x.observe(outputEl, {childList: true});\n",
       "}}\n",
       "\n",
       "                        })                };                });            </script>        </div>"
      ]
     },
     "metadata": {},
     "output_type": "display_data"
    }
   ],
   "source": [
    "df.count().iplot(kind='bar')"
   ]
  },
  {
   "cell_type": "markdown",
   "metadata": {},
   "source": [
    "## Boxplots"
   ]
  },
  {
   "cell_type": "code",
   "execution_count": 13,
   "metadata": {},
   "outputs": [
    {
     "data": {
      "application/vnd.plotly.v1+json": {
       "config": {
        "linkText": "Export to plot.ly",
        "plotlyServerURL": "https://plot.ly",
        "showLink": true
       },
       "data": [
        {
         "boxpoints": false,
         "line": {
          "width": 1.3
         },
         "marker": {
          "color": "rgba(255, 153, 51, 1.0)"
         },
         "name": "A",
         "orientation": "v",
         "type": "box",
         "y": [
          0.19570059565133208,
          -0.11638330238179669,
          -0.5263256747464582,
          0.8610945321778738,
          -0.3345094465099812,
          0.4408512168711264,
          2.0611077294617712,
          1.1374697047856683,
          -2.1227841875235915,
          1.0292971245745437,
          -0.8364203147960749,
          -0.6258215956665029,
          0.32260095981402637,
          -0.5338387260601835,
          0.6554935664092758,
          1.3736166940602932,
          -0.16495693119745544,
          0.24892874967136702,
          -0.29073261749369766,
          -0.4848063202571289,
          0.6565018657582203,
          -0.36886003694137837,
          0.9473286259130218,
          -0.15192208276392827,
          1.2988105359456485,
          0.22536144692944,
          -1.7445131583390414,
          -1.7640829188462417,
          -1.3763078782535882,
          0.44519599256836434,
          -0.8554265172487281,
          -1.3953353375893736,
          -0.17028847631552607,
          1.2440683236221601,
          1.4351880669067858,
          0.7728377529760181,
          -1.0037061329445511,
          -0.2701346533922767,
          0.263104393296739,
          -0.7310213812969807,
          1.2388398269721017,
          0.46366664662763946,
          -0.09545311315395906,
          -0.6499121108716162,
          -0.25047578428123174,
          -0.7127984780688053,
          0.7110061869252203,
          -0.24074269104144155,
          1.1725672162496483,
          -0.039110608379132855,
          -1.6171364298868847,
          0.8312532821658801,
          -0.032679420067335714,
          0.4859103679519266,
          -0.7535388109234928,
          -0.18912123287211038,
          -1.0403500296557093,
          -0.06219828252596251,
          -1.2761097495726967,
          -0.7380962783569485,
          0.046532238213436,
          -0.5253498256135178,
          -0.4033347119360634,
          -0.08742523631256073,
          -0.38926161053757746,
          0.052737864070574125,
          0.3344579681239486,
          -0.10835434406514376,
          0.054127556806846194,
          0.6032359649720735,
          -1.051406108831842,
          0.7540278979632805,
          0.23644120628538473,
          0.1207891181609108,
          0.18499947890991988,
          0.1304225960231744,
          -0.24489518923344927,
          -0.24068375165242298,
          -0.2763643515085313,
          1.2769322738387565,
          0.6250457444879429,
          -0.17985864709213464,
          0.6502686683025198,
          -0.9452275155825481,
          -1.3426584570541529,
          -1.207128794704555,
          -0.2982937118808505,
          0.11118077103631854,
          1.1977346185162063,
          1.068086693648832,
          1.5337007101930478,
          0.129364274914311,
          -0.5267070376888813,
          -0.1507647819590437,
          -0.253644450631918,
          1.304303981456091,
          -1.3622893199635842,
          -0.5479738141889986,
          1.7245967171812724,
          -0.6053625371178464
         ]
        },
        {
         "boxpoints": false,
         "line": {
          "width": 1.3
         },
         "marker": {
          "color": "rgba(55, 128, 191, 1.0)"
         },
         "name": "B",
         "orientation": "v",
         "type": "box",
         "y": [
          -1.9039051872194404,
          0.41567584575502137,
          -0.8500551105602945,
          -1.671415698067484,
          0.34902348200098277,
          0.5397321899986275,
          0.7822989116806651,
          -0.7181762676338362,
          -1.6048847969742268,
          -0.28390524053597044,
          -0.2544920313036875,
          0.6580987147545254,
          0.2905384073895607,
          -0.6479322773424703,
          1.4560026616500317,
          -0.4536461754780206,
          0.7004603745030877,
          -1.5464930754789366,
          -0.16322468517313587,
          -0.7548093771049874,
          0.6659135464236476,
          2.059981525156413,
          -0.884493064348931,
          -0.38156249622353255,
          0.19262367405809266,
          0.5473919628467429,
          1.547864817081784,
          0.7295495737738722,
          -1.0412645454837997,
          -1.4386762374682316,
          0.649166310831736,
          -2.3441776498198332,
          -0.2471046319944664,
          0.30042921252640914,
          -1.4319025000255197,
          -0.39701453731115993,
          2.369867746154535,
          -0.5926917296631201,
          -0.2987824930791812,
          -0.4728537299883391,
          2.1497965061361333,
          1.2177318058678004,
          -0.3136206903877042,
          1.6492744026324628,
          -0.9269217399175947,
          0.3175296680171701,
          2.4208137981136284,
          -0.4232717640908274,
          -0.032071324577330126,
          -1.6133508281147728,
          0.30110401618146465,
          -1.6943928569303872,
          0.02329836798108102,
          -0.6582175383544171,
          -0.9231732652496449,
          -0.3665566365075626,
          0.4846993344503613,
          1.104977891592252,
          -0.9035272204986705,
          -0.12985610274943768,
          -0.1821179267844909,
          -0.15059695921959254,
          0.28568805152605853,
          -1.1989949589496258,
          0.017817989819181007,
          -0.34868779585261733,
          -1.3128165938969547,
          2.7361308864903373,
          0.14705769934721588,
          1.7839586180818037,
          0.2792922855416744,
          -0.7230348685840761,
          -1.4779738212518898,
          -1.4618062917125283,
          1.9703481657211541,
          1.2676591244598243,
          0.22817150219098725,
          0.8577007057173187,
          -1.2560616239825597,
          -0.9302539650051844,
          1.1963756510029406,
          0.5267467063123779,
          -0.1348262964779555,
          -0.30604736190366066,
          0.022555198762383655,
          -0.16793166099803278,
          0.6500910390970416,
          -1.650632391323068,
          -1.9996797908113744,
          1.0858725584498004,
          0.005392031409097878,
          1.7117229874270576,
          0.4965048249908904,
          -0.6806504054977754,
          -0.41912197067726653,
          0.3686131823036771,
          -0.3102240940882463,
          -0.5326242897864948,
          0.13540925071550378,
          1.2241412510202085
         ]
        },
        {
         "boxpoints": false,
         "line": {
          "width": 1.3
         },
         "marker": {
          "color": "rgba(50, 171, 96, 1.0)"
         },
         "name": "C",
         "orientation": "v",
         "type": "box",
         "y": [
          -0.19742756926843105,
          0.48958431436992456,
          1.168655358246096,
          -1.3239674601960378,
          0.3153412681524564,
          -1.2867213298660525,
          0.13789323815829171,
          -1.3125707738687633,
          -0.9234834781507878,
          -0.9548407227047814,
          0.3281827098249989,
          -0.3277377584634297,
          -1.3389401832040264,
          -0.7965973626411075,
          -1.4073340890042276,
          0.8337423779644011,
          -0.15811866852240905,
          1.0849554248787707,
          2.0612040425799627,
          -2.318379508588448,
          -1.950184533721912,
          -0.011910728682155394,
          -1.366112972733267,
          1.0501167875491892,
          0.271741015803,
          -1.4163867458934332,
          0.7215180594005365,
          0.43675196186973586,
          -0.3507397519626802,
          -1.6443851500374882,
          -0.8490477414572171,
          -1.6127329815628186,
          -1.3087264158796403,
          0.0058488737954857034,
          -0.36321271690552726,
          0.08444388374930377,
          0.1181060177717198,
          -0.14842969336280984,
          -1.6963859240233354,
          -1.0863418413017474,
          0.10129253574241567,
          -0.5900410648265194,
          -0.5009043399907748,
          -1.2716423538388761,
          -0.4284674367119366,
          0.26540445885382735,
          0.4170753457414443,
          -0.36798568466917686,
          -0.8095269771913907,
          2.110941230287802,
          0.5663429864997228,
          0.08995655038933079,
          -0.84812317579309,
          0.25653928204649035,
          0.044956983413372655,
          0.4408878738134412,
          -0.7661276683521101,
          -1.6757250776250023,
          0.6240106192760755,
          0.6853774199406103,
          1.1571308663536402,
          -1.233540507022606,
          -0.5430963887359603,
          -1.053444352385449,
          0.07002453531421317,
          -0.9284087622114705,
          0.00940398366288766,
          -0.3240331489016471,
          -1.5350666449797785,
          -0.8021685333792421,
          0.054985419462508144,
          0.2873924541602581,
          -1.7653271429977395,
          0.2808187957487331,
          -0.2504873511898542,
          0.8176394956508974,
          0.18627545033457132,
          1.9915991067706624,
          0.44328160033777114,
          0.9044391218899049,
          2.26791900684423,
          -1.5256270985104692,
          -1.1416493459172348,
          -1.476047627561701,
          -0.5253658496613989,
          0.33415996539835696,
          0.4361804935570515,
          -0.7567641205192095,
          0.22262672530051753,
          -1.9071038631080481,
          -0.00396760837536343,
          1.7064732324082712,
          0.6034265071025826,
          -1.9273434592087144,
          0.9921617004887597,
          -0.5587647056959151,
          -0.05808663848653034,
          -1.2199300754263094,
          -1.15709736045127,
          -0.9743788159189748
         ]
        },
        {
         "boxpoints": false,
         "line": {
          "width": 1.3
         },
         "marker": {
          "color": "rgba(128, 0, 128, 1.0)"
         },
         "name": "D",
         "orientation": "v",
         "type": "box",
         "y": [
          0.738190830937213,
          0.05388632898957935,
          1.0881527464783645,
          -1.0077265322775444,
          -0.41881847699678193,
          -0.2915529980778208,
          -1.2590941502756594,
          -1.229551033330486,
          -0.18140644511752788,
          -0.2870228963830413,
          -2.2089798603151674,
          0.6843054039418736,
          0.6742624926357605,
          -0.5910863898055728,
          1.1462985693719674,
          0.4741505151953946,
          -1.22184361711703,
          0.3545396509616731,
          0.2437784655319529,
          0.8851937685556265,
          0.4632827238928113,
          1.0863756187270626,
          -0.1181561527572261,
          0.1369261680083311,
          2.0348524973218987,
          -1.8861768832689836,
          -0.016705368751881017,
          0.7290175886085175,
          1.318164717746607,
          -0.08419407473425462,
          0.5188272566189656,
          -0.11785375633774303,
          0.6816241022779139,
          1.1633798931878614,
          1.3009309850009134,
          1.1031064057176247,
          -1.7268011580280418,
          -0.1877113285912264,
          0.6433668159665754,
          0.5175660426550832,
          -0.4262770712301764,
          1.4345996252642592,
          -1.5851546875837106,
          1.7431000816154405,
          1.7045490658714484,
          0.18649227181534667,
          -0.46457495515943703,
          -0.6659601290687353,
          0.6471493021984399,
          -0.5650773246995385,
          0.23816150687538057,
          -0.7569262775599286,
          -0.9098285535133858,
          -1.4010829422108781,
          1.112587332750602,
          -1.1688615137051739,
          0.8938407717187248,
          0.8681635351258409,
          1.2854867980875944,
          1.5847484818220776,
          -0.7351580187684134,
          -0.20030886020076985,
          0.6193994652155762,
          0.8534211177717292,
          0.5637404340111039,
          0.2971366085488249,
          1.488990189483893,
          -1.1136939284905183,
          0.36931992078898696,
          0.6012505232665935,
          -1.228684022050812,
          0.4474824371666456,
          -0.8482997954231998,
          -0.85839217274234,
          0.5816657109309396,
          0.561463492438676,
          -0.17762971790881574,
          2.253819024780938,
          1.8383271645432007,
          -0.017723983247172517,
          -1.4086179887604693,
          -0.455262052154905,
          3.027749410400535,
          -0.7706272831937817,
          0.044998032882978274,
          0.5093813314163811,
          -0.8738320491940496,
          -0.3788672274267904,
          0.8985220013506069,
          0.11688284615129714,
          0.08085665790681583,
          1.2423065994338762,
          -0.0884143933777113,
          0.345420570043961,
          0.4132818552246082,
          -0.6301355000040854,
          0.822477330774026,
          0.10555307862137166,
          -2.1584819195642595,
          0.8402591907285277
         ]
        }
       ],
       "layout": {
        "legend": {
         "bgcolor": "#F5F6F9",
         "font": {
          "color": "#4D5663"
         }
        },
        "paper_bgcolor": "#F5F6F9",
        "plot_bgcolor": "#F5F6F9",
        "template": {
         "data": {
          "bar": [
           {
            "error_x": {
             "color": "#2a3f5f"
            },
            "error_y": {
             "color": "#2a3f5f"
            },
            "marker": {
             "line": {
              "color": "#E5ECF6",
              "width": 0.5
             },
             "pattern": {
              "fillmode": "overlay",
              "size": 10,
              "solidity": 0.2
             }
            },
            "type": "bar"
           }
          ],
          "barpolar": [
           {
            "marker": {
             "line": {
              "color": "#E5ECF6",
              "width": 0.5
             },
             "pattern": {
              "fillmode": "overlay",
              "size": 10,
              "solidity": 0.2
             }
            },
            "type": "barpolar"
           }
          ],
          "carpet": [
           {
            "aaxis": {
             "endlinecolor": "#2a3f5f",
             "gridcolor": "white",
             "linecolor": "white",
             "minorgridcolor": "white",
             "startlinecolor": "#2a3f5f"
            },
            "baxis": {
             "endlinecolor": "#2a3f5f",
             "gridcolor": "white",
             "linecolor": "white",
             "minorgridcolor": "white",
             "startlinecolor": "#2a3f5f"
            },
            "type": "carpet"
           }
          ],
          "choropleth": [
           {
            "colorbar": {
             "outlinewidth": 0,
             "ticks": ""
            },
            "type": "choropleth"
           }
          ],
          "contour": [
           {
            "colorbar": {
             "outlinewidth": 0,
             "ticks": ""
            },
            "colorscale": [
             [
              0,
              "#0d0887"
             ],
             [
              0.1111111111111111,
              "#46039f"
             ],
             [
              0.2222222222222222,
              "#7201a8"
             ],
             [
              0.3333333333333333,
              "#9c179e"
             ],
             [
              0.4444444444444444,
              "#bd3786"
             ],
             [
              0.5555555555555556,
              "#d8576b"
             ],
             [
              0.6666666666666666,
              "#ed7953"
             ],
             [
              0.7777777777777778,
              "#fb9f3a"
             ],
             [
              0.8888888888888888,
              "#fdca26"
             ],
             [
              1,
              "#f0f921"
             ]
            ],
            "type": "contour"
           }
          ],
          "contourcarpet": [
           {
            "colorbar": {
             "outlinewidth": 0,
             "ticks": ""
            },
            "type": "contourcarpet"
           }
          ],
          "heatmap": [
           {
            "colorbar": {
             "outlinewidth": 0,
             "ticks": ""
            },
            "colorscale": [
             [
              0,
              "#0d0887"
             ],
             [
              0.1111111111111111,
              "#46039f"
             ],
             [
              0.2222222222222222,
              "#7201a8"
             ],
             [
              0.3333333333333333,
              "#9c179e"
             ],
             [
              0.4444444444444444,
              "#bd3786"
             ],
             [
              0.5555555555555556,
              "#d8576b"
             ],
             [
              0.6666666666666666,
              "#ed7953"
             ],
             [
              0.7777777777777778,
              "#fb9f3a"
             ],
             [
              0.8888888888888888,
              "#fdca26"
             ],
             [
              1,
              "#f0f921"
             ]
            ],
            "type": "heatmap"
           }
          ],
          "heatmapgl": [
           {
            "colorbar": {
             "outlinewidth": 0,
             "ticks": ""
            },
            "colorscale": [
             [
              0,
              "#0d0887"
             ],
             [
              0.1111111111111111,
              "#46039f"
             ],
             [
              0.2222222222222222,
              "#7201a8"
             ],
             [
              0.3333333333333333,
              "#9c179e"
             ],
             [
              0.4444444444444444,
              "#bd3786"
             ],
             [
              0.5555555555555556,
              "#d8576b"
             ],
             [
              0.6666666666666666,
              "#ed7953"
             ],
             [
              0.7777777777777778,
              "#fb9f3a"
             ],
             [
              0.8888888888888888,
              "#fdca26"
             ],
             [
              1,
              "#f0f921"
             ]
            ],
            "type": "heatmapgl"
           }
          ],
          "histogram": [
           {
            "marker": {
             "pattern": {
              "fillmode": "overlay",
              "size": 10,
              "solidity": 0.2
             }
            },
            "type": "histogram"
           }
          ],
          "histogram2d": [
           {
            "colorbar": {
             "outlinewidth": 0,
             "ticks": ""
            },
            "colorscale": [
             [
              0,
              "#0d0887"
             ],
             [
              0.1111111111111111,
              "#46039f"
             ],
             [
              0.2222222222222222,
              "#7201a8"
             ],
             [
              0.3333333333333333,
              "#9c179e"
             ],
             [
              0.4444444444444444,
              "#bd3786"
             ],
             [
              0.5555555555555556,
              "#d8576b"
             ],
             [
              0.6666666666666666,
              "#ed7953"
             ],
             [
              0.7777777777777778,
              "#fb9f3a"
             ],
             [
              0.8888888888888888,
              "#fdca26"
             ],
             [
              1,
              "#f0f921"
             ]
            ],
            "type": "histogram2d"
           }
          ],
          "histogram2dcontour": [
           {
            "colorbar": {
             "outlinewidth": 0,
             "ticks": ""
            },
            "colorscale": [
             [
              0,
              "#0d0887"
             ],
             [
              0.1111111111111111,
              "#46039f"
             ],
             [
              0.2222222222222222,
              "#7201a8"
             ],
             [
              0.3333333333333333,
              "#9c179e"
             ],
             [
              0.4444444444444444,
              "#bd3786"
             ],
             [
              0.5555555555555556,
              "#d8576b"
             ],
             [
              0.6666666666666666,
              "#ed7953"
             ],
             [
              0.7777777777777778,
              "#fb9f3a"
             ],
             [
              0.8888888888888888,
              "#fdca26"
             ],
             [
              1,
              "#f0f921"
             ]
            ],
            "type": "histogram2dcontour"
           }
          ],
          "mesh3d": [
           {
            "colorbar": {
             "outlinewidth": 0,
             "ticks": ""
            },
            "type": "mesh3d"
           }
          ],
          "parcoords": [
           {
            "line": {
             "colorbar": {
              "outlinewidth": 0,
              "ticks": ""
             }
            },
            "type": "parcoords"
           }
          ],
          "pie": [
           {
            "automargin": true,
            "type": "pie"
           }
          ],
          "scatter": [
           {
            "marker": {
             "colorbar": {
              "outlinewidth": 0,
              "ticks": ""
             }
            },
            "type": "scatter"
           }
          ],
          "scatter3d": [
           {
            "line": {
             "colorbar": {
              "outlinewidth": 0,
              "ticks": ""
             }
            },
            "marker": {
             "colorbar": {
              "outlinewidth": 0,
              "ticks": ""
             }
            },
            "type": "scatter3d"
           }
          ],
          "scattercarpet": [
           {
            "marker": {
             "colorbar": {
              "outlinewidth": 0,
              "ticks": ""
             }
            },
            "type": "scattercarpet"
           }
          ],
          "scattergeo": [
           {
            "marker": {
             "colorbar": {
              "outlinewidth": 0,
              "ticks": ""
             }
            },
            "type": "scattergeo"
           }
          ],
          "scattergl": [
           {
            "marker": {
             "colorbar": {
              "outlinewidth": 0,
              "ticks": ""
             }
            },
            "type": "scattergl"
           }
          ],
          "scattermapbox": [
           {
            "marker": {
             "colorbar": {
              "outlinewidth": 0,
              "ticks": ""
             }
            },
            "type": "scattermapbox"
           }
          ],
          "scatterpolar": [
           {
            "marker": {
             "colorbar": {
              "outlinewidth": 0,
              "ticks": ""
             }
            },
            "type": "scatterpolar"
           }
          ],
          "scatterpolargl": [
           {
            "marker": {
             "colorbar": {
              "outlinewidth": 0,
              "ticks": ""
             }
            },
            "type": "scatterpolargl"
           }
          ],
          "scatterternary": [
           {
            "marker": {
             "colorbar": {
              "outlinewidth": 0,
              "ticks": ""
             }
            },
            "type": "scatterternary"
           }
          ],
          "surface": [
           {
            "colorbar": {
             "outlinewidth": 0,
             "ticks": ""
            },
            "colorscale": [
             [
              0,
              "#0d0887"
             ],
             [
              0.1111111111111111,
              "#46039f"
             ],
             [
              0.2222222222222222,
              "#7201a8"
             ],
             [
              0.3333333333333333,
              "#9c179e"
             ],
             [
              0.4444444444444444,
              "#bd3786"
             ],
             [
              0.5555555555555556,
              "#d8576b"
             ],
             [
              0.6666666666666666,
              "#ed7953"
             ],
             [
              0.7777777777777778,
              "#fb9f3a"
             ],
             [
              0.8888888888888888,
              "#fdca26"
             ],
             [
              1,
              "#f0f921"
             ]
            ],
            "type": "surface"
           }
          ],
          "table": [
           {
            "cells": {
             "fill": {
              "color": "#EBF0F8"
             },
             "line": {
              "color": "white"
             }
            },
            "header": {
             "fill": {
              "color": "#C8D4E3"
             },
             "line": {
              "color": "white"
             }
            },
            "type": "table"
           }
          ]
         },
         "layout": {
          "annotationdefaults": {
           "arrowcolor": "#2a3f5f",
           "arrowhead": 0,
           "arrowwidth": 1
          },
          "autotypenumbers": "strict",
          "coloraxis": {
           "colorbar": {
            "outlinewidth": 0,
            "ticks": ""
           }
          },
          "colorscale": {
           "diverging": [
            [
             0,
             "#8e0152"
            ],
            [
             0.1,
             "#c51b7d"
            ],
            [
             0.2,
             "#de77ae"
            ],
            [
             0.3,
             "#f1b6da"
            ],
            [
             0.4,
             "#fde0ef"
            ],
            [
             0.5,
             "#f7f7f7"
            ],
            [
             0.6,
             "#e6f5d0"
            ],
            [
             0.7,
             "#b8e186"
            ],
            [
             0.8,
             "#7fbc41"
            ],
            [
             0.9,
             "#4d9221"
            ],
            [
             1,
             "#276419"
            ]
           ],
           "sequential": [
            [
             0,
             "#0d0887"
            ],
            [
             0.1111111111111111,
             "#46039f"
            ],
            [
             0.2222222222222222,
             "#7201a8"
            ],
            [
             0.3333333333333333,
             "#9c179e"
            ],
            [
             0.4444444444444444,
             "#bd3786"
            ],
            [
             0.5555555555555556,
             "#d8576b"
            ],
            [
             0.6666666666666666,
             "#ed7953"
            ],
            [
             0.7777777777777778,
             "#fb9f3a"
            ],
            [
             0.8888888888888888,
             "#fdca26"
            ],
            [
             1,
             "#f0f921"
            ]
           ],
           "sequentialminus": [
            [
             0,
             "#0d0887"
            ],
            [
             0.1111111111111111,
             "#46039f"
            ],
            [
             0.2222222222222222,
             "#7201a8"
            ],
            [
             0.3333333333333333,
             "#9c179e"
            ],
            [
             0.4444444444444444,
             "#bd3786"
            ],
            [
             0.5555555555555556,
             "#d8576b"
            ],
            [
             0.6666666666666666,
             "#ed7953"
            ],
            [
             0.7777777777777778,
             "#fb9f3a"
            ],
            [
             0.8888888888888888,
             "#fdca26"
            ],
            [
             1,
             "#f0f921"
            ]
           ]
          },
          "colorway": [
           "#636efa",
           "#EF553B",
           "#00cc96",
           "#ab63fa",
           "#FFA15A",
           "#19d3f3",
           "#FF6692",
           "#B6E880",
           "#FF97FF",
           "#FECB52"
          ],
          "font": {
           "color": "#2a3f5f"
          },
          "geo": {
           "bgcolor": "white",
           "lakecolor": "white",
           "landcolor": "#E5ECF6",
           "showlakes": true,
           "showland": true,
           "subunitcolor": "white"
          },
          "hoverlabel": {
           "align": "left"
          },
          "hovermode": "closest",
          "mapbox": {
           "style": "light"
          },
          "paper_bgcolor": "white",
          "plot_bgcolor": "#E5ECF6",
          "polar": {
           "angularaxis": {
            "gridcolor": "white",
            "linecolor": "white",
            "ticks": ""
           },
           "bgcolor": "#E5ECF6",
           "radialaxis": {
            "gridcolor": "white",
            "linecolor": "white",
            "ticks": ""
           }
          },
          "scene": {
           "xaxis": {
            "backgroundcolor": "#E5ECF6",
            "gridcolor": "white",
            "gridwidth": 2,
            "linecolor": "white",
            "showbackground": true,
            "ticks": "",
            "zerolinecolor": "white"
           },
           "yaxis": {
            "backgroundcolor": "#E5ECF6",
            "gridcolor": "white",
            "gridwidth": 2,
            "linecolor": "white",
            "showbackground": true,
            "ticks": "",
            "zerolinecolor": "white"
           },
           "zaxis": {
            "backgroundcolor": "#E5ECF6",
            "gridcolor": "white",
            "gridwidth": 2,
            "linecolor": "white",
            "showbackground": true,
            "ticks": "",
            "zerolinecolor": "white"
           }
          },
          "shapedefaults": {
           "line": {
            "color": "#2a3f5f"
           }
          },
          "ternary": {
           "aaxis": {
            "gridcolor": "white",
            "linecolor": "white",
            "ticks": ""
           },
           "baxis": {
            "gridcolor": "white",
            "linecolor": "white",
            "ticks": ""
           },
           "bgcolor": "#E5ECF6",
           "caxis": {
            "gridcolor": "white",
            "linecolor": "white",
            "ticks": ""
           }
          },
          "title": {
           "x": 0.05
          },
          "xaxis": {
           "automargin": true,
           "gridcolor": "white",
           "linecolor": "white",
           "ticks": "",
           "title": {
            "standoff": 15
           },
           "zerolinecolor": "white",
           "zerolinewidth": 2
          },
          "yaxis": {
           "automargin": true,
           "gridcolor": "white",
           "linecolor": "white",
           "ticks": "",
           "title": {
            "standoff": 15
           },
           "zerolinecolor": "white",
           "zerolinewidth": 2
          }
         }
        },
        "title": {
         "font": {
          "color": "#4D5663"
         }
        },
        "xaxis": {
         "gridcolor": "#E1E5ED",
         "showgrid": true,
         "tickfont": {
          "color": "#4D5663"
         },
         "title": {
          "font": {
           "color": "#4D5663"
          },
          "text": ""
         },
         "zerolinecolor": "#E1E5ED"
        },
        "yaxis": {
         "gridcolor": "#E1E5ED",
         "showgrid": true,
         "tickfont": {
          "color": "#4D5663"
         },
         "title": {
          "font": {
           "color": "#4D5663"
          },
          "text": ""
         },
         "zerolinecolor": "#E1E5ED"
        }
       }
      },
      "text/html": [
       "<div>                            <div id=\"de7aba3c-73d5-4bdb-98e8-13b094bd1714\" class=\"plotly-graph-div\" style=\"height:525px; width:100%;\"></div>            <script type=\"text/javascript\">                require([\"plotly\"], function(Plotly) {                    window.PLOTLYENV=window.PLOTLYENV || {};\n",
       "                    window.PLOTLYENV.BASE_URL='https://plot.ly';                                    if (document.getElementById(\"de7aba3c-73d5-4bdb-98e8-13b094bd1714\")) {                    Plotly.newPlot(                        \"de7aba3c-73d5-4bdb-98e8-13b094bd1714\",                        [{\"boxpoints\":false,\"line\":{\"width\":1.3},\"marker\":{\"color\":\"rgba(255, 153, 51, 1.0)\"},\"name\":\"A\",\"orientation\":\"v\",\"type\":\"box\",\"y\":[0.19570059565133208,-0.11638330238179669,-0.5263256747464582,0.8610945321778738,-0.3345094465099812,0.4408512168711264,2.0611077294617712,1.1374697047856683,-2.1227841875235915,1.0292971245745437,-0.8364203147960749,-0.6258215956665029,0.32260095981402637,-0.5338387260601835,0.6554935664092758,1.3736166940602932,-0.16495693119745544,0.24892874967136702,-0.29073261749369766,-0.4848063202571289,0.6565018657582203,-0.36886003694137837,0.9473286259130218,-0.15192208276392827,1.2988105359456485,0.22536144692944,-1.7445131583390414,-1.7640829188462417,-1.3763078782535882,0.44519599256836434,-0.8554265172487281,-1.3953353375893736,-0.17028847631552607,1.2440683236221601,1.4351880669067858,0.7728377529760181,-1.0037061329445511,-0.2701346533922767,0.263104393296739,-0.7310213812969807,1.2388398269721017,0.46366664662763946,-0.09545311315395906,-0.6499121108716162,-0.25047578428123174,-0.7127984780688053,0.7110061869252203,-0.24074269104144155,1.1725672162496483,-0.039110608379132855,-1.6171364298868847,0.8312532821658801,-0.032679420067335714,0.4859103679519266,-0.7535388109234928,-0.18912123287211038,-1.0403500296557093,-0.06219828252596251,-1.2761097495726967,-0.7380962783569485,0.046532238213436,-0.5253498256135178,-0.4033347119360634,-0.08742523631256073,-0.38926161053757746,0.052737864070574125,0.3344579681239486,-0.10835434406514376,0.054127556806846194,0.6032359649720735,-1.051406108831842,0.7540278979632805,0.23644120628538473,0.1207891181609108,0.18499947890991988,0.1304225960231744,-0.24489518923344927,-0.24068375165242298,-0.2763643515085313,1.2769322738387565,0.6250457444879429,-0.17985864709213464,0.6502686683025198,-0.9452275155825481,-1.3426584570541529,-1.207128794704555,-0.2982937118808505,0.11118077103631854,1.1977346185162063,1.068086693648832,1.5337007101930478,0.129364274914311,-0.5267070376888813,-0.1507647819590437,-0.253644450631918,1.304303981456091,-1.3622893199635842,-0.5479738141889986,1.7245967171812724,-0.6053625371178464]},{\"boxpoints\":false,\"line\":{\"width\":1.3},\"marker\":{\"color\":\"rgba(55, 128, 191, 1.0)\"},\"name\":\"B\",\"orientation\":\"v\",\"type\":\"box\",\"y\":[-1.9039051872194404,0.41567584575502137,-0.8500551105602945,-1.671415698067484,0.34902348200098277,0.5397321899986275,0.7822989116806651,-0.7181762676338362,-1.6048847969742268,-0.28390524053597044,-0.2544920313036875,0.6580987147545254,0.2905384073895607,-0.6479322773424703,1.4560026616500317,-0.4536461754780206,0.7004603745030877,-1.5464930754789366,-0.16322468517313587,-0.7548093771049874,0.6659135464236476,2.059981525156413,-0.884493064348931,-0.38156249622353255,0.19262367405809266,0.5473919628467429,1.547864817081784,0.7295495737738722,-1.0412645454837997,-1.4386762374682316,0.649166310831736,-2.3441776498198332,-0.2471046319944664,0.30042921252640914,-1.4319025000255197,-0.39701453731115993,2.369867746154535,-0.5926917296631201,-0.2987824930791812,-0.4728537299883391,2.1497965061361333,1.2177318058678004,-0.3136206903877042,1.6492744026324628,-0.9269217399175947,0.3175296680171701,2.4208137981136284,-0.4232717640908274,-0.032071324577330126,-1.6133508281147728,0.30110401618146465,-1.6943928569303872,0.02329836798108102,-0.6582175383544171,-0.9231732652496449,-0.3665566365075626,0.4846993344503613,1.104977891592252,-0.9035272204986705,-0.12985610274943768,-0.1821179267844909,-0.15059695921959254,0.28568805152605853,-1.1989949589496258,0.017817989819181007,-0.34868779585261733,-1.3128165938969547,2.7361308864903373,0.14705769934721588,1.7839586180818037,0.2792922855416744,-0.7230348685840761,-1.4779738212518898,-1.4618062917125283,1.9703481657211541,1.2676591244598243,0.22817150219098725,0.8577007057173187,-1.2560616239825597,-0.9302539650051844,1.1963756510029406,0.5267467063123779,-0.1348262964779555,-0.30604736190366066,0.022555198762383655,-0.16793166099803278,0.6500910390970416,-1.650632391323068,-1.9996797908113744,1.0858725584498004,0.005392031409097878,1.7117229874270576,0.4965048249908904,-0.6806504054977754,-0.41912197067726653,0.3686131823036771,-0.3102240940882463,-0.5326242897864948,0.13540925071550378,1.2241412510202085]},{\"boxpoints\":false,\"line\":{\"width\":1.3},\"marker\":{\"color\":\"rgba(50, 171, 96, 1.0)\"},\"name\":\"C\",\"orientation\":\"v\",\"type\":\"box\",\"y\":[-0.19742756926843105,0.48958431436992456,1.168655358246096,-1.3239674601960378,0.3153412681524564,-1.2867213298660525,0.13789323815829171,-1.3125707738687633,-0.9234834781507878,-0.9548407227047814,0.3281827098249989,-0.3277377584634297,-1.3389401832040264,-0.7965973626411075,-1.4073340890042276,0.8337423779644011,-0.15811866852240905,1.0849554248787707,2.0612040425799627,-2.318379508588448,-1.950184533721912,-0.011910728682155394,-1.366112972733267,1.0501167875491892,0.271741015803,-1.4163867458934332,0.7215180594005365,0.43675196186973586,-0.3507397519626802,-1.6443851500374882,-0.8490477414572171,-1.6127329815628186,-1.3087264158796403,0.0058488737954857034,-0.36321271690552726,0.08444388374930377,0.1181060177717198,-0.14842969336280984,-1.6963859240233354,-1.0863418413017474,0.10129253574241567,-0.5900410648265194,-0.5009043399907748,-1.2716423538388761,-0.4284674367119366,0.26540445885382735,0.4170753457414443,-0.36798568466917686,-0.8095269771913907,2.110941230287802,0.5663429864997228,0.08995655038933079,-0.84812317579309,0.25653928204649035,0.044956983413372655,0.4408878738134412,-0.7661276683521101,-1.6757250776250023,0.6240106192760755,0.6853774199406103,1.1571308663536402,-1.233540507022606,-0.5430963887359603,-1.053444352385449,0.07002453531421317,-0.9284087622114705,0.00940398366288766,-0.3240331489016471,-1.5350666449797785,-0.8021685333792421,0.054985419462508144,0.2873924541602581,-1.7653271429977395,0.2808187957487331,-0.2504873511898542,0.8176394956508974,0.18627545033457132,1.9915991067706624,0.44328160033777114,0.9044391218899049,2.26791900684423,-1.5256270985104692,-1.1416493459172348,-1.476047627561701,-0.5253658496613989,0.33415996539835696,0.4361804935570515,-0.7567641205192095,0.22262672530051753,-1.9071038631080481,-0.00396760837536343,1.7064732324082712,0.6034265071025826,-1.9273434592087144,0.9921617004887597,-0.5587647056959151,-0.05808663848653034,-1.2199300754263094,-1.15709736045127,-0.9743788159189748]},{\"boxpoints\":false,\"line\":{\"width\":1.3},\"marker\":{\"color\":\"rgba(128, 0, 128, 1.0)\"},\"name\":\"D\",\"orientation\":\"v\",\"type\":\"box\",\"y\":[0.738190830937213,0.05388632898957935,1.0881527464783645,-1.0077265322775444,-0.41881847699678193,-0.2915529980778208,-1.2590941502756594,-1.229551033330486,-0.18140644511752788,-0.2870228963830413,-2.2089798603151674,0.6843054039418736,0.6742624926357605,-0.5910863898055728,1.1462985693719674,0.4741505151953946,-1.22184361711703,0.3545396509616731,0.2437784655319529,0.8851937685556265,0.4632827238928113,1.0863756187270626,-0.1181561527572261,0.1369261680083311,2.0348524973218987,-1.8861768832689836,-0.016705368751881017,0.7290175886085175,1.318164717746607,-0.08419407473425462,0.5188272566189656,-0.11785375633774303,0.6816241022779139,1.1633798931878614,1.3009309850009134,1.1031064057176247,-1.7268011580280418,-0.1877113285912264,0.6433668159665754,0.5175660426550832,-0.4262770712301764,1.4345996252642592,-1.5851546875837106,1.7431000816154405,1.7045490658714484,0.18649227181534667,-0.46457495515943703,-0.6659601290687353,0.6471493021984399,-0.5650773246995385,0.23816150687538057,-0.7569262775599286,-0.9098285535133858,-1.4010829422108781,1.112587332750602,-1.1688615137051739,0.8938407717187248,0.8681635351258409,1.2854867980875944,1.5847484818220776,-0.7351580187684134,-0.20030886020076985,0.6193994652155762,0.8534211177717292,0.5637404340111039,0.2971366085488249,1.488990189483893,-1.1136939284905183,0.36931992078898696,0.6012505232665935,-1.228684022050812,0.4474824371666456,-0.8482997954231998,-0.85839217274234,0.5816657109309396,0.561463492438676,-0.17762971790881574,2.253819024780938,1.8383271645432007,-0.017723983247172517,-1.4086179887604693,-0.455262052154905,3.027749410400535,-0.7706272831937817,0.044998032882978274,0.5093813314163811,-0.8738320491940496,-0.3788672274267904,0.8985220013506069,0.11688284615129714,0.08085665790681583,1.2423065994338762,-0.0884143933777113,0.345420570043961,0.4132818552246082,-0.6301355000040854,0.822477330774026,0.10555307862137166,-2.1584819195642595,0.8402591907285277]}],                        {\"legend\":{\"bgcolor\":\"#F5F6F9\",\"font\":{\"color\":\"#4D5663\"}},\"paper_bgcolor\":\"#F5F6F9\",\"plot_bgcolor\":\"#F5F6F9\",\"template\":{\"data\":{\"bar\":[{\"error_x\":{\"color\":\"#2a3f5f\"},\"error_y\":{\"color\":\"#2a3f5f\"},\"marker\":{\"line\":{\"color\":\"#E5ECF6\",\"width\":0.5},\"pattern\":{\"fillmode\":\"overlay\",\"size\":10,\"solidity\":0.2}},\"type\":\"bar\"}],\"barpolar\":[{\"marker\":{\"line\":{\"color\":\"#E5ECF6\",\"width\":0.5},\"pattern\":{\"fillmode\":\"overlay\",\"size\":10,\"solidity\":0.2}},\"type\":\"barpolar\"}],\"carpet\":[{\"aaxis\":{\"endlinecolor\":\"#2a3f5f\",\"gridcolor\":\"white\",\"linecolor\":\"white\",\"minorgridcolor\":\"white\",\"startlinecolor\":\"#2a3f5f\"},\"baxis\":{\"endlinecolor\":\"#2a3f5f\",\"gridcolor\":\"white\",\"linecolor\":\"white\",\"minorgridcolor\":\"white\",\"startlinecolor\":\"#2a3f5f\"},\"type\":\"carpet\"}],\"choropleth\":[{\"colorbar\":{\"outlinewidth\":0,\"ticks\":\"\"},\"type\":\"choropleth\"}],\"contour\":[{\"colorbar\":{\"outlinewidth\":0,\"ticks\":\"\"},\"colorscale\":[[0.0,\"#0d0887\"],[0.1111111111111111,\"#46039f\"],[0.2222222222222222,\"#7201a8\"],[0.3333333333333333,\"#9c179e\"],[0.4444444444444444,\"#bd3786\"],[0.5555555555555556,\"#d8576b\"],[0.6666666666666666,\"#ed7953\"],[0.7777777777777778,\"#fb9f3a\"],[0.8888888888888888,\"#fdca26\"],[1.0,\"#f0f921\"]],\"type\":\"contour\"}],\"contourcarpet\":[{\"colorbar\":{\"outlinewidth\":0,\"ticks\":\"\"},\"type\":\"contourcarpet\"}],\"heatmap\":[{\"colorbar\":{\"outlinewidth\":0,\"ticks\":\"\"},\"colorscale\":[[0.0,\"#0d0887\"],[0.1111111111111111,\"#46039f\"],[0.2222222222222222,\"#7201a8\"],[0.3333333333333333,\"#9c179e\"],[0.4444444444444444,\"#bd3786\"],[0.5555555555555556,\"#d8576b\"],[0.6666666666666666,\"#ed7953\"],[0.7777777777777778,\"#fb9f3a\"],[0.8888888888888888,\"#fdca26\"],[1.0,\"#f0f921\"]],\"type\":\"heatmap\"}],\"heatmapgl\":[{\"colorbar\":{\"outlinewidth\":0,\"ticks\":\"\"},\"colorscale\":[[0.0,\"#0d0887\"],[0.1111111111111111,\"#46039f\"],[0.2222222222222222,\"#7201a8\"],[0.3333333333333333,\"#9c179e\"],[0.4444444444444444,\"#bd3786\"],[0.5555555555555556,\"#d8576b\"],[0.6666666666666666,\"#ed7953\"],[0.7777777777777778,\"#fb9f3a\"],[0.8888888888888888,\"#fdca26\"],[1.0,\"#f0f921\"]],\"type\":\"heatmapgl\"}],\"histogram\":[{\"marker\":{\"pattern\":{\"fillmode\":\"overlay\",\"size\":10,\"solidity\":0.2}},\"type\":\"histogram\"}],\"histogram2d\":[{\"colorbar\":{\"outlinewidth\":0,\"ticks\":\"\"},\"colorscale\":[[0.0,\"#0d0887\"],[0.1111111111111111,\"#46039f\"],[0.2222222222222222,\"#7201a8\"],[0.3333333333333333,\"#9c179e\"],[0.4444444444444444,\"#bd3786\"],[0.5555555555555556,\"#d8576b\"],[0.6666666666666666,\"#ed7953\"],[0.7777777777777778,\"#fb9f3a\"],[0.8888888888888888,\"#fdca26\"],[1.0,\"#f0f921\"]],\"type\":\"histogram2d\"}],\"histogram2dcontour\":[{\"colorbar\":{\"outlinewidth\":0,\"ticks\":\"\"},\"colorscale\":[[0.0,\"#0d0887\"],[0.1111111111111111,\"#46039f\"],[0.2222222222222222,\"#7201a8\"],[0.3333333333333333,\"#9c179e\"],[0.4444444444444444,\"#bd3786\"],[0.5555555555555556,\"#d8576b\"],[0.6666666666666666,\"#ed7953\"],[0.7777777777777778,\"#fb9f3a\"],[0.8888888888888888,\"#fdca26\"],[1.0,\"#f0f921\"]],\"type\":\"histogram2dcontour\"}],\"mesh3d\":[{\"colorbar\":{\"outlinewidth\":0,\"ticks\":\"\"},\"type\":\"mesh3d\"}],\"parcoords\":[{\"line\":{\"colorbar\":{\"outlinewidth\":0,\"ticks\":\"\"}},\"type\":\"parcoords\"}],\"pie\":[{\"automargin\":true,\"type\":\"pie\"}],\"scatter\":[{\"marker\":{\"colorbar\":{\"outlinewidth\":0,\"ticks\":\"\"}},\"type\":\"scatter\"}],\"scatter3d\":[{\"line\":{\"colorbar\":{\"outlinewidth\":0,\"ticks\":\"\"}},\"marker\":{\"colorbar\":{\"outlinewidth\":0,\"ticks\":\"\"}},\"type\":\"scatter3d\"}],\"scattercarpet\":[{\"marker\":{\"colorbar\":{\"outlinewidth\":0,\"ticks\":\"\"}},\"type\":\"scattercarpet\"}],\"scattergeo\":[{\"marker\":{\"colorbar\":{\"outlinewidth\":0,\"ticks\":\"\"}},\"type\":\"scattergeo\"}],\"scattergl\":[{\"marker\":{\"colorbar\":{\"outlinewidth\":0,\"ticks\":\"\"}},\"type\":\"scattergl\"}],\"scattermapbox\":[{\"marker\":{\"colorbar\":{\"outlinewidth\":0,\"ticks\":\"\"}},\"type\":\"scattermapbox\"}],\"scatterpolar\":[{\"marker\":{\"colorbar\":{\"outlinewidth\":0,\"ticks\":\"\"}},\"type\":\"scatterpolar\"}],\"scatterpolargl\":[{\"marker\":{\"colorbar\":{\"outlinewidth\":0,\"ticks\":\"\"}},\"type\":\"scatterpolargl\"}],\"scatterternary\":[{\"marker\":{\"colorbar\":{\"outlinewidth\":0,\"ticks\":\"\"}},\"type\":\"scatterternary\"}],\"surface\":[{\"colorbar\":{\"outlinewidth\":0,\"ticks\":\"\"},\"colorscale\":[[0.0,\"#0d0887\"],[0.1111111111111111,\"#46039f\"],[0.2222222222222222,\"#7201a8\"],[0.3333333333333333,\"#9c179e\"],[0.4444444444444444,\"#bd3786\"],[0.5555555555555556,\"#d8576b\"],[0.6666666666666666,\"#ed7953\"],[0.7777777777777778,\"#fb9f3a\"],[0.8888888888888888,\"#fdca26\"],[1.0,\"#f0f921\"]],\"type\":\"surface\"}],\"table\":[{\"cells\":{\"fill\":{\"color\":\"#EBF0F8\"},\"line\":{\"color\":\"white\"}},\"header\":{\"fill\":{\"color\":\"#C8D4E3\"},\"line\":{\"color\":\"white\"}},\"type\":\"table\"}]},\"layout\":{\"annotationdefaults\":{\"arrowcolor\":\"#2a3f5f\",\"arrowhead\":0,\"arrowwidth\":1},\"autotypenumbers\":\"strict\",\"coloraxis\":{\"colorbar\":{\"outlinewidth\":0,\"ticks\":\"\"}},\"colorscale\":{\"diverging\":[[0,\"#8e0152\"],[0.1,\"#c51b7d\"],[0.2,\"#de77ae\"],[0.3,\"#f1b6da\"],[0.4,\"#fde0ef\"],[0.5,\"#f7f7f7\"],[0.6,\"#e6f5d0\"],[0.7,\"#b8e186\"],[0.8,\"#7fbc41\"],[0.9,\"#4d9221\"],[1,\"#276419\"]],\"sequential\":[[0.0,\"#0d0887\"],[0.1111111111111111,\"#46039f\"],[0.2222222222222222,\"#7201a8\"],[0.3333333333333333,\"#9c179e\"],[0.4444444444444444,\"#bd3786\"],[0.5555555555555556,\"#d8576b\"],[0.6666666666666666,\"#ed7953\"],[0.7777777777777778,\"#fb9f3a\"],[0.8888888888888888,\"#fdca26\"],[1.0,\"#f0f921\"]],\"sequentialminus\":[[0.0,\"#0d0887\"],[0.1111111111111111,\"#46039f\"],[0.2222222222222222,\"#7201a8\"],[0.3333333333333333,\"#9c179e\"],[0.4444444444444444,\"#bd3786\"],[0.5555555555555556,\"#d8576b\"],[0.6666666666666666,\"#ed7953\"],[0.7777777777777778,\"#fb9f3a\"],[0.8888888888888888,\"#fdca26\"],[1.0,\"#f0f921\"]]},\"colorway\":[\"#636efa\",\"#EF553B\",\"#00cc96\",\"#ab63fa\",\"#FFA15A\",\"#19d3f3\",\"#FF6692\",\"#B6E880\",\"#FF97FF\",\"#FECB52\"],\"font\":{\"color\":\"#2a3f5f\"},\"geo\":{\"bgcolor\":\"white\",\"lakecolor\":\"white\",\"landcolor\":\"#E5ECF6\",\"showlakes\":true,\"showland\":true,\"subunitcolor\":\"white\"},\"hoverlabel\":{\"align\":\"left\"},\"hovermode\":\"closest\",\"mapbox\":{\"style\":\"light\"},\"paper_bgcolor\":\"white\",\"plot_bgcolor\":\"#E5ECF6\",\"polar\":{\"angularaxis\":{\"gridcolor\":\"white\",\"linecolor\":\"white\",\"ticks\":\"\"},\"bgcolor\":\"#E5ECF6\",\"radialaxis\":{\"gridcolor\":\"white\",\"linecolor\":\"white\",\"ticks\":\"\"}},\"scene\":{\"xaxis\":{\"backgroundcolor\":\"#E5ECF6\",\"gridcolor\":\"white\",\"gridwidth\":2,\"linecolor\":\"white\",\"showbackground\":true,\"ticks\":\"\",\"zerolinecolor\":\"white\"},\"yaxis\":{\"backgroundcolor\":\"#E5ECF6\",\"gridcolor\":\"white\",\"gridwidth\":2,\"linecolor\":\"white\",\"showbackground\":true,\"ticks\":\"\",\"zerolinecolor\":\"white\"},\"zaxis\":{\"backgroundcolor\":\"#E5ECF6\",\"gridcolor\":\"white\",\"gridwidth\":2,\"linecolor\":\"white\",\"showbackground\":true,\"ticks\":\"\",\"zerolinecolor\":\"white\"}},\"shapedefaults\":{\"line\":{\"color\":\"#2a3f5f\"}},\"ternary\":{\"aaxis\":{\"gridcolor\":\"white\",\"linecolor\":\"white\",\"ticks\":\"\"},\"baxis\":{\"gridcolor\":\"white\",\"linecolor\":\"white\",\"ticks\":\"\"},\"bgcolor\":\"#E5ECF6\",\"caxis\":{\"gridcolor\":\"white\",\"linecolor\":\"white\",\"ticks\":\"\"}},\"title\":{\"x\":0.05},\"xaxis\":{\"automargin\":true,\"gridcolor\":\"white\",\"linecolor\":\"white\",\"ticks\":\"\",\"title\":{\"standoff\":15},\"zerolinecolor\":\"white\",\"zerolinewidth\":2},\"yaxis\":{\"automargin\":true,\"gridcolor\":\"white\",\"linecolor\":\"white\",\"ticks\":\"\",\"title\":{\"standoff\":15},\"zerolinecolor\":\"white\",\"zerolinewidth\":2}}},\"title\":{\"font\":{\"color\":\"#4D5663\"}},\"xaxis\":{\"gridcolor\":\"#E1E5ED\",\"showgrid\":true,\"tickfont\":{\"color\":\"#4D5663\"},\"title\":{\"font\":{\"color\":\"#4D5663\"},\"text\":\"\"},\"zerolinecolor\":\"#E1E5ED\"},\"yaxis\":{\"gridcolor\":\"#E1E5ED\",\"showgrid\":true,\"tickfont\":{\"color\":\"#4D5663\"},\"title\":{\"font\":{\"color\":\"#4D5663\"},\"text\":\"\"},\"zerolinecolor\":\"#E1E5ED\"}},                        {\"showLink\": true, \"linkText\": \"Export to plot.ly\", \"plotlyServerURL\": \"https://plot.ly\", \"responsive\": true}                    ).then(function(){\n",
       "                            \n",
       "var gd = document.getElementById('de7aba3c-73d5-4bdb-98e8-13b094bd1714');\n",
       "var x = new MutationObserver(function (mutations, observer) {{\n",
       "        var display = window.getComputedStyle(gd).display;\n",
       "        if (!display || display === 'none') {{\n",
       "            console.log([gd, 'removed!']);\n",
       "            Plotly.purge(gd);\n",
       "            observer.disconnect();\n",
       "        }}\n",
       "}});\n",
       "\n",
       "// Listen for the removal of the full notebook cells\n",
       "var notebookContainer = gd.closest('#notebook-container');\n",
       "if (notebookContainer) {{\n",
       "    x.observe(notebookContainer, {childList: true});\n",
       "}}\n",
       "\n",
       "// Listen for the clearing of the current output cell\n",
       "var outputEl = gd.closest('.output');\n",
       "if (outputEl) {{\n",
       "    x.observe(outputEl, {childList: true});\n",
       "}}\n",
       "\n",
       "                        })                };                });            </script>        </div>"
      ]
     },
     "metadata": {},
     "output_type": "display_data"
    }
   ],
   "source": [
    "df.iplot(kind='box')"
   ]
  },
  {
   "cell_type": "markdown",
   "metadata": {},
   "source": [
    "## 3d Surface"
   ]
  },
  {
   "cell_type": "code",
   "execution_count": 14,
   "metadata": {},
   "outputs": [
    {
     "data": {
      "application/vnd.plotly.v1+json": {
       "config": {
        "linkText": "Export to plot.ly",
        "plotlyServerURL": "https://plot.ly",
        "showLink": true
       },
       "data": [
        {
         "colorscale": [
          [
           0,
           "rgb(165,0,38)"
          ],
          [
           0.1,
           "rgb(215,48,39)"
          ],
          [
           0.2,
           "rgb(244,109,67)"
          ],
          [
           0.3,
           "rgb(253,174,97)"
          ],
          [
           0.4,
           "rgb(254,224,144)"
          ],
          [
           0.5,
           "rgb(255,255,191)"
          ],
          [
           0.6,
           "rgb(224,243,248)"
          ],
          [
           0.7,
           "rgb(171,217,233)"
          ],
          [
           0.8,
           "rgb(116,173,209)"
          ],
          [
           0.9,
           "rgb(69,117,180)"
          ],
          [
           1,
           "rgb(49,54,149)"
          ]
         ],
         "type": "surface",
         "x": [
          0,
          1,
          2,
          3,
          4
         ],
         "y": [
          "x",
          "y",
          "z"
         ],
         "z": [
          [
           1,
           2,
           3,
           4,
           5
          ],
          [
           10,
           20,
           30,
           20,
           10
          ],
          [
           5,
           4,
           3,
           2,
           1
          ]
         ]
        }
       ],
       "layout": {
        "legend": {
         "bgcolor": "#F5F6F9",
         "font": {
          "color": "#4D5663"
         }
        },
        "paper_bgcolor": "#F5F6F9",
        "plot_bgcolor": "#F5F6F9",
        "template": {
         "data": {
          "bar": [
           {
            "error_x": {
             "color": "#2a3f5f"
            },
            "error_y": {
             "color": "#2a3f5f"
            },
            "marker": {
             "line": {
              "color": "#E5ECF6",
              "width": 0.5
             },
             "pattern": {
              "fillmode": "overlay",
              "size": 10,
              "solidity": 0.2
             }
            },
            "type": "bar"
           }
          ],
          "barpolar": [
           {
            "marker": {
             "line": {
              "color": "#E5ECF6",
              "width": 0.5
             },
             "pattern": {
              "fillmode": "overlay",
              "size": 10,
              "solidity": 0.2
             }
            },
            "type": "barpolar"
           }
          ],
          "carpet": [
           {
            "aaxis": {
             "endlinecolor": "#2a3f5f",
             "gridcolor": "white",
             "linecolor": "white",
             "minorgridcolor": "white",
             "startlinecolor": "#2a3f5f"
            },
            "baxis": {
             "endlinecolor": "#2a3f5f",
             "gridcolor": "white",
             "linecolor": "white",
             "minorgridcolor": "white",
             "startlinecolor": "#2a3f5f"
            },
            "type": "carpet"
           }
          ],
          "choropleth": [
           {
            "colorbar": {
             "outlinewidth": 0,
             "ticks": ""
            },
            "type": "choropleth"
           }
          ],
          "contour": [
           {
            "colorbar": {
             "outlinewidth": 0,
             "ticks": ""
            },
            "colorscale": [
             [
              0,
              "#0d0887"
             ],
             [
              0.1111111111111111,
              "#46039f"
             ],
             [
              0.2222222222222222,
              "#7201a8"
             ],
             [
              0.3333333333333333,
              "#9c179e"
             ],
             [
              0.4444444444444444,
              "#bd3786"
             ],
             [
              0.5555555555555556,
              "#d8576b"
             ],
             [
              0.6666666666666666,
              "#ed7953"
             ],
             [
              0.7777777777777778,
              "#fb9f3a"
             ],
             [
              0.8888888888888888,
              "#fdca26"
             ],
             [
              1,
              "#f0f921"
             ]
            ],
            "type": "contour"
           }
          ],
          "contourcarpet": [
           {
            "colorbar": {
             "outlinewidth": 0,
             "ticks": ""
            },
            "type": "contourcarpet"
           }
          ],
          "heatmap": [
           {
            "colorbar": {
             "outlinewidth": 0,
             "ticks": ""
            },
            "colorscale": [
             [
              0,
              "#0d0887"
             ],
             [
              0.1111111111111111,
              "#46039f"
             ],
             [
              0.2222222222222222,
              "#7201a8"
             ],
             [
              0.3333333333333333,
              "#9c179e"
             ],
             [
              0.4444444444444444,
              "#bd3786"
             ],
             [
              0.5555555555555556,
              "#d8576b"
             ],
             [
              0.6666666666666666,
              "#ed7953"
             ],
             [
              0.7777777777777778,
              "#fb9f3a"
             ],
             [
              0.8888888888888888,
              "#fdca26"
             ],
             [
              1,
              "#f0f921"
             ]
            ],
            "type": "heatmap"
           }
          ],
          "heatmapgl": [
           {
            "colorbar": {
             "outlinewidth": 0,
             "ticks": ""
            },
            "colorscale": [
             [
              0,
              "#0d0887"
             ],
             [
              0.1111111111111111,
              "#46039f"
             ],
             [
              0.2222222222222222,
              "#7201a8"
             ],
             [
              0.3333333333333333,
              "#9c179e"
             ],
             [
              0.4444444444444444,
              "#bd3786"
             ],
             [
              0.5555555555555556,
              "#d8576b"
             ],
             [
              0.6666666666666666,
              "#ed7953"
             ],
             [
              0.7777777777777778,
              "#fb9f3a"
             ],
             [
              0.8888888888888888,
              "#fdca26"
             ],
             [
              1,
              "#f0f921"
             ]
            ],
            "type": "heatmapgl"
           }
          ],
          "histogram": [
           {
            "marker": {
             "pattern": {
              "fillmode": "overlay",
              "size": 10,
              "solidity": 0.2
             }
            },
            "type": "histogram"
           }
          ],
          "histogram2d": [
           {
            "colorbar": {
             "outlinewidth": 0,
             "ticks": ""
            },
            "colorscale": [
             [
              0,
              "#0d0887"
             ],
             [
              0.1111111111111111,
              "#46039f"
             ],
             [
              0.2222222222222222,
              "#7201a8"
             ],
             [
              0.3333333333333333,
              "#9c179e"
             ],
             [
              0.4444444444444444,
              "#bd3786"
             ],
             [
              0.5555555555555556,
              "#d8576b"
             ],
             [
              0.6666666666666666,
              "#ed7953"
             ],
             [
              0.7777777777777778,
              "#fb9f3a"
             ],
             [
              0.8888888888888888,
              "#fdca26"
             ],
             [
              1,
              "#f0f921"
             ]
            ],
            "type": "histogram2d"
           }
          ],
          "histogram2dcontour": [
           {
            "colorbar": {
             "outlinewidth": 0,
             "ticks": ""
            },
            "colorscale": [
             [
              0,
              "#0d0887"
             ],
             [
              0.1111111111111111,
              "#46039f"
             ],
             [
              0.2222222222222222,
              "#7201a8"
             ],
             [
              0.3333333333333333,
              "#9c179e"
             ],
             [
              0.4444444444444444,
              "#bd3786"
             ],
             [
              0.5555555555555556,
              "#d8576b"
             ],
             [
              0.6666666666666666,
              "#ed7953"
             ],
             [
              0.7777777777777778,
              "#fb9f3a"
             ],
             [
              0.8888888888888888,
              "#fdca26"
             ],
             [
              1,
              "#f0f921"
             ]
            ],
            "type": "histogram2dcontour"
           }
          ],
          "mesh3d": [
           {
            "colorbar": {
             "outlinewidth": 0,
             "ticks": ""
            },
            "type": "mesh3d"
           }
          ],
          "parcoords": [
           {
            "line": {
             "colorbar": {
              "outlinewidth": 0,
              "ticks": ""
             }
            },
            "type": "parcoords"
           }
          ],
          "pie": [
           {
            "automargin": true,
            "type": "pie"
           }
          ],
          "scatter": [
           {
            "marker": {
             "colorbar": {
              "outlinewidth": 0,
              "ticks": ""
             }
            },
            "type": "scatter"
           }
          ],
          "scatter3d": [
           {
            "line": {
             "colorbar": {
              "outlinewidth": 0,
              "ticks": ""
             }
            },
            "marker": {
             "colorbar": {
              "outlinewidth": 0,
              "ticks": ""
             }
            },
            "type": "scatter3d"
           }
          ],
          "scattercarpet": [
           {
            "marker": {
             "colorbar": {
              "outlinewidth": 0,
              "ticks": ""
             }
            },
            "type": "scattercarpet"
           }
          ],
          "scattergeo": [
           {
            "marker": {
             "colorbar": {
              "outlinewidth": 0,
              "ticks": ""
             }
            },
            "type": "scattergeo"
           }
          ],
          "scattergl": [
           {
            "marker": {
             "colorbar": {
              "outlinewidth": 0,
              "ticks": ""
             }
            },
            "type": "scattergl"
           }
          ],
          "scattermapbox": [
           {
            "marker": {
             "colorbar": {
              "outlinewidth": 0,
              "ticks": ""
             }
            },
            "type": "scattermapbox"
           }
          ],
          "scatterpolar": [
           {
            "marker": {
             "colorbar": {
              "outlinewidth": 0,
              "ticks": ""
             }
            },
            "type": "scatterpolar"
           }
          ],
          "scatterpolargl": [
           {
            "marker": {
             "colorbar": {
              "outlinewidth": 0,
              "ticks": ""
             }
            },
            "type": "scatterpolargl"
           }
          ],
          "scatterternary": [
           {
            "marker": {
             "colorbar": {
              "outlinewidth": 0,
              "ticks": ""
             }
            },
            "type": "scatterternary"
           }
          ],
          "surface": [
           {
            "colorbar": {
             "outlinewidth": 0,
             "ticks": ""
            },
            "colorscale": [
             [
              0,
              "#0d0887"
             ],
             [
              0.1111111111111111,
              "#46039f"
             ],
             [
              0.2222222222222222,
              "#7201a8"
             ],
             [
              0.3333333333333333,
              "#9c179e"
             ],
             [
              0.4444444444444444,
              "#bd3786"
             ],
             [
              0.5555555555555556,
              "#d8576b"
             ],
             [
              0.6666666666666666,
              "#ed7953"
             ],
             [
              0.7777777777777778,
              "#fb9f3a"
             ],
             [
              0.8888888888888888,
              "#fdca26"
             ],
             [
              1,
              "#f0f921"
             ]
            ],
            "type": "surface"
           }
          ],
          "table": [
           {
            "cells": {
             "fill": {
              "color": "#EBF0F8"
             },
             "line": {
              "color": "white"
             }
            },
            "header": {
             "fill": {
              "color": "#C8D4E3"
             },
             "line": {
              "color": "white"
             }
            },
            "type": "table"
           }
          ]
         },
         "layout": {
          "annotationdefaults": {
           "arrowcolor": "#2a3f5f",
           "arrowhead": 0,
           "arrowwidth": 1
          },
          "autotypenumbers": "strict",
          "coloraxis": {
           "colorbar": {
            "outlinewidth": 0,
            "ticks": ""
           }
          },
          "colorscale": {
           "diverging": [
            [
             0,
             "#8e0152"
            ],
            [
             0.1,
             "#c51b7d"
            ],
            [
             0.2,
             "#de77ae"
            ],
            [
             0.3,
             "#f1b6da"
            ],
            [
             0.4,
             "#fde0ef"
            ],
            [
             0.5,
             "#f7f7f7"
            ],
            [
             0.6,
             "#e6f5d0"
            ],
            [
             0.7,
             "#b8e186"
            ],
            [
             0.8,
             "#7fbc41"
            ],
            [
             0.9,
             "#4d9221"
            ],
            [
             1,
             "#276419"
            ]
           ],
           "sequential": [
            [
             0,
             "#0d0887"
            ],
            [
             0.1111111111111111,
             "#46039f"
            ],
            [
             0.2222222222222222,
             "#7201a8"
            ],
            [
             0.3333333333333333,
             "#9c179e"
            ],
            [
             0.4444444444444444,
             "#bd3786"
            ],
            [
             0.5555555555555556,
             "#d8576b"
            ],
            [
             0.6666666666666666,
             "#ed7953"
            ],
            [
             0.7777777777777778,
             "#fb9f3a"
            ],
            [
             0.8888888888888888,
             "#fdca26"
            ],
            [
             1,
             "#f0f921"
            ]
           ],
           "sequentialminus": [
            [
             0,
             "#0d0887"
            ],
            [
             0.1111111111111111,
             "#46039f"
            ],
            [
             0.2222222222222222,
             "#7201a8"
            ],
            [
             0.3333333333333333,
             "#9c179e"
            ],
            [
             0.4444444444444444,
             "#bd3786"
            ],
            [
             0.5555555555555556,
             "#d8576b"
            ],
            [
             0.6666666666666666,
             "#ed7953"
            ],
            [
             0.7777777777777778,
             "#fb9f3a"
            ],
            [
             0.8888888888888888,
             "#fdca26"
            ],
            [
             1,
             "#f0f921"
            ]
           ]
          },
          "colorway": [
           "#636efa",
           "#EF553B",
           "#00cc96",
           "#ab63fa",
           "#FFA15A",
           "#19d3f3",
           "#FF6692",
           "#B6E880",
           "#FF97FF",
           "#FECB52"
          ],
          "font": {
           "color": "#2a3f5f"
          },
          "geo": {
           "bgcolor": "white",
           "lakecolor": "white",
           "landcolor": "#E5ECF6",
           "showlakes": true,
           "showland": true,
           "subunitcolor": "white"
          },
          "hoverlabel": {
           "align": "left"
          },
          "hovermode": "closest",
          "mapbox": {
           "style": "light"
          },
          "paper_bgcolor": "white",
          "plot_bgcolor": "#E5ECF6",
          "polar": {
           "angularaxis": {
            "gridcolor": "white",
            "linecolor": "white",
            "ticks": ""
           },
           "bgcolor": "#E5ECF6",
           "radialaxis": {
            "gridcolor": "white",
            "linecolor": "white",
            "ticks": ""
           }
          },
          "scene": {
           "xaxis": {
            "backgroundcolor": "#E5ECF6",
            "gridcolor": "white",
            "gridwidth": 2,
            "linecolor": "white",
            "showbackground": true,
            "ticks": "",
            "zerolinecolor": "white"
           },
           "yaxis": {
            "backgroundcolor": "#E5ECF6",
            "gridcolor": "white",
            "gridwidth": 2,
            "linecolor": "white",
            "showbackground": true,
            "ticks": "",
            "zerolinecolor": "white"
           },
           "zaxis": {
            "backgroundcolor": "#E5ECF6",
            "gridcolor": "white",
            "gridwidth": 2,
            "linecolor": "white",
            "showbackground": true,
            "ticks": "",
            "zerolinecolor": "white"
           }
          },
          "shapedefaults": {
           "line": {
            "color": "#2a3f5f"
           }
          },
          "ternary": {
           "aaxis": {
            "gridcolor": "white",
            "linecolor": "white",
            "ticks": ""
           },
           "baxis": {
            "gridcolor": "white",
            "linecolor": "white",
            "ticks": ""
           },
           "bgcolor": "#E5ECF6",
           "caxis": {
            "gridcolor": "white",
            "linecolor": "white",
            "ticks": ""
           }
          },
          "title": {
           "x": 0.05
          },
          "xaxis": {
           "automargin": true,
           "gridcolor": "white",
           "linecolor": "white",
           "ticks": "",
           "title": {
            "standoff": 15
           },
           "zerolinecolor": "white",
           "zerolinewidth": 2
          },
          "yaxis": {
           "automargin": true,
           "gridcolor": "white",
           "linecolor": "white",
           "ticks": "",
           "title": {
            "standoff": 15
           },
           "zerolinecolor": "white",
           "zerolinewidth": 2
          }
         }
        },
        "title": {
         "font": {
          "color": "#4D5663"
         }
        },
        "xaxis": {
         "gridcolor": "#E1E5ED",
         "showgrid": true,
         "tickfont": {
          "color": "#4D5663"
         },
         "title": {
          "font": {
           "color": "#4D5663"
          },
          "text": ""
         },
         "zerolinecolor": "#E1E5ED"
        },
        "yaxis": {
         "gridcolor": "#E1E5ED",
         "showgrid": true,
         "tickfont": {
          "color": "#4D5663"
         },
         "title": {
          "font": {
           "color": "#4D5663"
          },
          "text": ""
         },
         "zerolinecolor": "#E1E5ED"
        }
       }
      },
      "text/html": [
       "<div>                            <div id=\"3675b9e0-d510-4c4d-8045-3d22260e2524\" class=\"plotly-graph-div\" style=\"height:525px; width:100%;\"></div>            <script type=\"text/javascript\">                require([\"plotly\"], function(Plotly) {                    window.PLOTLYENV=window.PLOTLYENV || {};\n",
       "                    window.PLOTLYENV.BASE_URL='https://plot.ly';                                    if (document.getElementById(\"3675b9e0-d510-4c4d-8045-3d22260e2524\")) {                    Plotly.newPlot(                        \"3675b9e0-d510-4c4d-8045-3d22260e2524\",                        [{\"colorscale\":[[0.0,\"rgb(165,0,38)\"],[0.1,\"rgb(215,48,39)\"],[0.2,\"rgb(244,109,67)\"],[0.3,\"rgb(253,174,97)\"],[0.4,\"rgb(254,224,144)\"],[0.5,\"rgb(255,255,191)\"],[0.6,\"rgb(224,243,248)\"],[0.7,\"rgb(171,217,233)\"],[0.8,\"rgb(116,173,209)\"],[0.9,\"rgb(69,117,180)\"],[1.0,\"rgb(49,54,149)\"]],\"type\":\"surface\",\"x\":[0,1,2,3,4],\"y\":[\"x\",\"y\",\"z\"],\"z\":[[1,2,3,4,5],[10,20,30,20,10],[5,4,3,2,1]]}],                        {\"legend\":{\"bgcolor\":\"#F5F6F9\",\"font\":{\"color\":\"#4D5663\"}},\"paper_bgcolor\":\"#F5F6F9\",\"plot_bgcolor\":\"#F5F6F9\",\"template\":{\"data\":{\"bar\":[{\"error_x\":{\"color\":\"#2a3f5f\"},\"error_y\":{\"color\":\"#2a3f5f\"},\"marker\":{\"line\":{\"color\":\"#E5ECF6\",\"width\":0.5},\"pattern\":{\"fillmode\":\"overlay\",\"size\":10,\"solidity\":0.2}},\"type\":\"bar\"}],\"barpolar\":[{\"marker\":{\"line\":{\"color\":\"#E5ECF6\",\"width\":0.5},\"pattern\":{\"fillmode\":\"overlay\",\"size\":10,\"solidity\":0.2}},\"type\":\"barpolar\"}],\"carpet\":[{\"aaxis\":{\"endlinecolor\":\"#2a3f5f\",\"gridcolor\":\"white\",\"linecolor\":\"white\",\"minorgridcolor\":\"white\",\"startlinecolor\":\"#2a3f5f\"},\"baxis\":{\"endlinecolor\":\"#2a3f5f\",\"gridcolor\":\"white\",\"linecolor\":\"white\",\"minorgridcolor\":\"white\",\"startlinecolor\":\"#2a3f5f\"},\"type\":\"carpet\"}],\"choropleth\":[{\"colorbar\":{\"outlinewidth\":0,\"ticks\":\"\"},\"type\":\"choropleth\"}],\"contour\":[{\"colorbar\":{\"outlinewidth\":0,\"ticks\":\"\"},\"colorscale\":[[0.0,\"#0d0887\"],[0.1111111111111111,\"#46039f\"],[0.2222222222222222,\"#7201a8\"],[0.3333333333333333,\"#9c179e\"],[0.4444444444444444,\"#bd3786\"],[0.5555555555555556,\"#d8576b\"],[0.6666666666666666,\"#ed7953\"],[0.7777777777777778,\"#fb9f3a\"],[0.8888888888888888,\"#fdca26\"],[1.0,\"#f0f921\"]],\"type\":\"contour\"}],\"contourcarpet\":[{\"colorbar\":{\"outlinewidth\":0,\"ticks\":\"\"},\"type\":\"contourcarpet\"}],\"heatmap\":[{\"colorbar\":{\"outlinewidth\":0,\"ticks\":\"\"},\"colorscale\":[[0.0,\"#0d0887\"],[0.1111111111111111,\"#46039f\"],[0.2222222222222222,\"#7201a8\"],[0.3333333333333333,\"#9c179e\"],[0.4444444444444444,\"#bd3786\"],[0.5555555555555556,\"#d8576b\"],[0.6666666666666666,\"#ed7953\"],[0.7777777777777778,\"#fb9f3a\"],[0.8888888888888888,\"#fdca26\"],[1.0,\"#f0f921\"]],\"type\":\"heatmap\"}],\"heatmapgl\":[{\"colorbar\":{\"outlinewidth\":0,\"ticks\":\"\"},\"colorscale\":[[0.0,\"#0d0887\"],[0.1111111111111111,\"#46039f\"],[0.2222222222222222,\"#7201a8\"],[0.3333333333333333,\"#9c179e\"],[0.4444444444444444,\"#bd3786\"],[0.5555555555555556,\"#d8576b\"],[0.6666666666666666,\"#ed7953\"],[0.7777777777777778,\"#fb9f3a\"],[0.8888888888888888,\"#fdca26\"],[1.0,\"#f0f921\"]],\"type\":\"heatmapgl\"}],\"histogram\":[{\"marker\":{\"pattern\":{\"fillmode\":\"overlay\",\"size\":10,\"solidity\":0.2}},\"type\":\"histogram\"}],\"histogram2d\":[{\"colorbar\":{\"outlinewidth\":0,\"ticks\":\"\"},\"colorscale\":[[0.0,\"#0d0887\"],[0.1111111111111111,\"#46039f\"],[0.2222222222222222,\"#7201a8\"],[0.3333333333333333,\"#9c179e\"],[0.4444444444444444,\"#bd3786\"],[0.5555555555555556,\"#d8576b\"],[0.6666666666666666,\"#ed7953\"],[0.7777777777777778,\"#fb9f3a\"],[0.8888888888888888,\"#fdca26\"],[1.0,\"#f0f921\"]],\"type\":\"histogram2d\"}],\"histogram2dcontour\":[{\"colorbar\":{\"outlinewidth\":0,\"ticks\":\"\"},\"colorscale\":[[0.0,\"#0d0887\"],[0.1111111111111111,\"#46039f\"],[0.2222222222222222,\"#7201a8\"],[0.3333333333333333,\"#9c179e\"],[0.4444444444444444,\"#bd3786\"],[0.5555555555555556,\"#d8576b\"],[0.6666666666666666,\"#ed7953\"],[0.7777777777777778,\"#fb9f3a\"],[0.8888888888888888,\"#fdca26\"],[1.0,\"#f0f921\"]],\"type\":\"histogram2dcontour\"}],\"mesh3d\":[{\"colorbar\":{\"outlinewidth\":0,\"ticks\":\"\"},\"type\":\"mesh3d\"}],\"parcoords\":[{\"line\":{\"colorbar\":{\"outlinewidth\":0,\"ticks\":\"\"}},\"type\":\"parcoords\"}],\"pie\":[{\"automargin\":true,\"type\":\"pie\"}],\"scatter\":[{\"marker\":{\"colorbar\":{\"outlinewidth\":0,\"ticks\":\"\"}},\"type\":\"scatter\"}],\"scatter3d\":[{\"line\":{\"colorbar\":{\"outlinewidth\":0,\"ticks\":\"\"}},\"marker\":{\"colorbar\":{\"outlinewidth\":0,\"ticks\":\"\"}},\"type\":\"scatter3d\"}],\"scattercarpet\":[{\"marker\":{\"colorbar\":{\"outlinewidth\":0,\"ticks\":\"\"}},\"type\":\"scattercarpet\"}],\"scattergeo\":[{\"marker\":{\"colorbar\":{\"outlinewidth\":0,\"ticks\":\"\"}},\"type\":\"scattergeo\"}],\"scattergl\":[{\"marker\":{\"colorbar\":{\"outlinewidth\":0,\"ticks\":\"\"}},\"type\":\"scattergl\"}],\"scattermapbox\":[{\"marker\":{\"colorbar\":{\"outlinewidth\":0,\"ticks\":\"\"}},\"type\":\"scattermapbox\"}],\"scatterpolar\":[{\"marker\":{\"colorbar\":{\"outlinewidth\":0,\"ticks\":\"\"}},\"type\":\"scatterpolar\"}],\"scatterpolargl\":[{\"marker\":{\"colorbar\":{\"outlinewidth\":0,\"ticks\":\"\"}},\"type\":\"scatterpolargl\"}],\"scatterternary\":[{\"marker\":{\"colorbar\":{\"outlinewidth\":0,\"ticks\":\"\"}},\"type\":\"scatterternary\"}],\"surface\":[{\"colorbar\":{\"outlinewidth\":0,\"ticks\":\"\"},\"colorscale\":[[0.0,\"#0d0887\"],[0.1111111111111111,\"#46039f\"],[0.2222222222222222,\"#7201a8\"],[0.3333333333333333,\"#9c179e\"],[0.4444444444444444,\"#bd3786\"],[0.5555555555555556,\"#d8576b\"],[0.6666666666666666,\"#ed7953\"],[0.7777777777777778,\"#fb9f3a\"],[0.8888888888888888,\"#fdca26\"],[1.0,\"#f0f921\"]],\"type\":\"surface\"}],\"table\":[{\"cells\":{\"fill\":{\"color\":\"#EBF0F8\"},\"line\":{\"color\":\"white\"}},\"header\":{\"fill\":{\"color\":\"#C8D4E3\"},\"line\":{\"color\":\"white\"}},\"type\":\"table\"}]},\"layout\":{\"annotationdefaults\":{\"arrowcolor\":\"#2a3f5f\",\"arrowhead\":0,\"arrowwidth\":1},\"autotypenumbers\":\"strict\",\"coloraxis\":{\"colorbar\":{\"outlinewidth\":0,\"ticks\":\"\"}},\"colorscale\":{\"diverging\":[[0,\"#8e0152\"],[0.1,\"#c51b7d\"],[0.2,\"#de77ae\"],[0.3,\"#f1b6da\"],[0.4,\"#fde0ef\"],[0.5,\"#f7f7f7\"],[0.6,\"#e6f5d0\"],[0.7,\"#b8e186\"],[0.8,\"#7fbc41\"],[0.9,\"#4d9221\"],[1,\"#276419\"]],\"sequential\":[[0.0,\"#0d0887\"],[0.1111111111111111,\"#46039f\"],[0.2222222222222222,\"#7201a8\"],[0.3333333333333333,\"#9c179e\"],[0.4444444444444444,\"#bd3786\"],[0.5555555555555556,\"#d8576b\"],[0.6666666666666666,\"#ed7953\"],[0.7777777777777778,\"#fb9f3a\"],[0.8888888888888888,\"#fdca26\"],[1.0,\"#f0f921\"]],\"sequentialminus\":[[0.0,\"#0d0887\"],[0.1111111111111111,\"#46039f\"],[0.2222222222222222,\"#7201a8\"],[0.3333333333333333,\"#9c179e\"],[0.4444444444444444,\"#bd3786\"],[0.5555555555555556,\"#d8576b\"],[0.6666666666666666,\"#ed7953\"],[0.7777777777777778,\"#fb9f3a\"],[0.8888888888888888,\"#fdca26\"],[1.0,\"#f0f921\"]]},\"colorway\":[\"#636efa\",\"#EF553B\",\"#00cc96\",\"#ab63fa\",\"#FFA15A\",\"#19d3f3\",\"#FF6692\",\"#B6E880\",\"#FF97FF\",\"#FECB52\"],\"font\":{\"color\":\"#2a3f5f\"},\"geo\":{\"bgcolor\":\"white\",\"lakecolor\":\"white\",\"landcolor\":\"#E5ECF6\",\"showlakes\":true,\"showland\":true,\"subunitcolor\":\"white\"},\"hoverlabel\":{\"align\":\"left\"},\"hovermode\":\"closest\",\"mapbox\":{\"style\":\"light\"},\"paper_bgcolor\":\"white\",\"plot_bgcolor\":\"#E5ECF6\",\"polar\":{\"angularaxis\":{\"gridcolor\":\"white\",\"linecolor\":\"white\",\"ticks\":\"\"},\"bgcolor\":\"#E5ECF6\",\"radialaxis\":{\"gridcolor\":\"white\",\"linecolor\":\"white\",\"ticks\":\"\"}},\"scene\":{\"xaxis\":{\"backgroundcolor\":\"#E5ECF6\",\"gridcolor\":\"white\",\"gridwidth\":2,\"linecolor\":\"white\",\"showbackground\":true,\"ticks\":\"\",\"zerolinecolor\":\"white\"},\"yaxis\":{\"backgroundcolor\":\"#E5ECF6\",\"gridcolor\":\"white\",\"gridwidth\":2,\"linecolor\":\"white\",\"showbackground\":true,\"ticks\":\"\",\"zerolinecolor\":\"white\"},\"zaxis\":{\"backgroundcolor\":\"#E5ECF6\",\"gridcolor\":\"white\",\"gridwidth\":2,\"linecolor\":\"white\",\"showbackground\":true,\"ticks\":\"\",\"zerolinecolor\":\"white\"}},\"shapedefaults\":{\"line\":{\"color\":\"#2a3f5f\"}},\"ternary\":{\"aaxis\":{\"gridcolor\":\"white\",\"linecolor\":\"white\",\"ticks\":\"\"},\"baxis\":{\"gridcolor\":\"white\",\"linecolor\":\"white\",\"ticks\":\"\"},\"bgcolor\":\"#E5ECF6\",\"caxis\":{\"gridcolor\":\"white\",\"linecolor\":\"white\",\"ticks\":\"\"}},\"title\":{\"x\":0.05},\"xaxis\":{\"automargin\":true,\"gridcolor\":\"white\",\"linecolor\":\"white\",\"ticks\":\"\",\"title\":{\"standoff\":15},\"zerolinecolor\":\"white\",\"zerolinewidth\":2},\"yaxis\":{\"automargin\":true,\"gridcolor\":\"white\",\"linecolor\":\"white\",\"ticks\":\"\",\"title\":{\"standoff\":15},\"zerolinecolor\":\"white\",\"zerolinewidth\":2}}},\"title\":{\"font\":{\"color\":\"#4D5663\"}},\"xaxis\":{\"gridcolor\":\"#E1E5ED\",\"showgrid\":true,\"tickfont\":{\"color\":\"#4D5663\"},\"title\":{\"font\":{\"color\":\"#4D5663\"},\"text\":\"\"},\"zerolinecolor\":\"#E1E5ED\"},\"yaxis\":{\"gridcolor\":\"#E1E5ED\",\"showgrid\":true,\"tickfont\":{\"color\":\"#4D5663\"},\"title\":{\"font\":{\"color\":\"#4D5663\"},\"text\":\"\"},\"zerolinecolor\":\"#E1E5ED\"}},                        {\"showLink\": true, \"linkText\": \"Export to plot.ly\", \"plotlyServerURL\": \"https://plot.ly\", \"responsive\": true}                    ).then(function(){\n",
       "                            \n",
       "var gd = document.getElementById('3675b9e0-d510-4c4d-8045-3d22260e2524');\n",
       "var x = new MutationObserver(function (mutations, observer) {{\n",
       "        var display = window.getComputedStyle(gd).display;\n",
       "        if (!display || display === 'none') {{\n",
       "            console.log([gd, 'removed!']);\n",
       "            Plotly.purge(gd);\n",
       "            observer.disconnect();\n",
       "        }}\n",
       "}});\n",
       "\n",
       "// Listen for the removal of the full notebook cells\n",
       "var notebookContainer = gd.closest('#notebook-container');\n",
       "if (notebookContainer) {{\n",
       "    x.observe(notebookContainer, {childList: true});\n",
       "}}\n",
       "\n",
       "// Listen for the clearing of the current output cell\n",
       "var outputEl = gd.closest('.output');\n",
       "if (outputEl) {{\n",
       "    x.observe(outputEl, {childList: true});\n",
       "}}\n",
       "\n",
       "                        })                };                });            </script>        </div>"
      ]
     },
     "metadata": {},
     "output_type": "display_data"
    }
   ],
   "source": [
    "df3 = pd.DataFrame({'x':[1,2,3,4,5],'y':[10,20,30,20,10],'z':[5,4,3,2,1]})\n",
    "df3.iplot(kind='surface',colorscale='rdylbu')"
   ]
  },
  {
   "cell_type": "markdown",
   "metadata": {},
   "source": [
    "## Spread"
   ]
  },
  {
   "cell_type": "code",
   "execution_count": 15,
   "metadata": {},
   "outputs": [
    {
     "name": "stderr",
     "output_type": "stream",
     "text": [
      "D:\\ProgramData\\Anaconda3\\lib\\site-packages\\cufflinks\\plotlytools.py:849: FutureWarning:\n",
      "\n",
      "The pandas.np module is deprecated and will be removed from pandas in a future version. Import numpy directly instead\n",
      "\n",
      "D:\\ProgramData\\Anaconda3\\lib\\site-packages\\cufflinks\\plotlytools.py:850: FutureWarning:\n",
      "\n",
      "The pandas.np module is deprecated and will be removed from pandas in a future version. Import numpy directly instead\n",
      "\n"
     ]
    },
    {
     "data": {
      "application/vnd.plotly.v1+json": {
       "config": {
        "linkText": "Export to plot.ly",
        "plotlyServerURL": "https://plot.ly",
        "showLink": true
       },
       "data": [
        {
         "line": {
          "color": "rgba(255, 153, 51, 1.0)",
          "dash": "solid",
          "shape": "linear",
          "width": 1.3
         },
         "mode": "lines",
         "name": "A",
         "text": "",
         "type": "scatter",
         "x": [
          0,
          1,
          2,
          3,
          4,
          5,
          6,
          7,
          8,
          9,
          10,
          11,
          12,
          13,
          14,
          15,
          16,
          17,
          18,
          19,
          20,
          21,
          22,
          23,
          24,
          25,
          26,
          27,
          28,
          29,
          30,
          31,
          32,
          33,
          34,
          35,
          36,
          37,
          38,
          39,
          40,
          41,
          42,
          43,
          44,
          45,
          46,
          47,
          48,
          49,
          50,
          51,
          52,
          53,
          54,
          55,
          56,
          57,
          58,
          59,
          60,
          61,
          62,
          63,
          64,
          65,
          66,
          67,
          68,
          69,
          70,
          71,
          72,
          73,
          74,
          75,
          76,
          77,
          78,
          79,
          80,
          81,
          82,
          83,
          84,
          85,
          86,
          87,
          88,
          89,
          90,
          91,
          92,
          93,
          94,
          95,
          96,
          97,
          98,
          99
         ],
         "y": [
          0.19570059565133208,
          -0.11638330238179669,
          -0.5263256747464582,
          0.8610945321778738,
          -0.3345094465099812,
          0.4408512168711264,
          2.0611077294617712,
          1.1374697047856683,
          -2.1227841875235915,
          1.0292971245745437,
          -0.8364203147960749,
          -0.6258215956665029,
          0.32260095981402637,
          -0.5338387260601835,
          0.6554935664092758,
          1.3736166940602932,
          -0.16495693119745544,
          0.24892874967136702,
          -0.29073261749369766,
          -0.4848063202571289,
          0.6565018657582203,
          -0.36886003694137837,
          0.9473286259130218,
          -0.15192208276392827,
          1.2988105359456485,
          0.22536144692944,
          -1.7445131583390414,
          -1.7640829188462417,
          -1.3763078782535882,
          0.44519599256836434,
          -0.8554265172487281,
          -1.3953353375893736,
          -0.17028847631552607,
          1.2440683236221601,
          1.4351880669067858,
          0.7728377529760181,
          -1.0037061329445511,
          -0.2701346533922767,
          0.263104393296739,
          -0.7310213812969807,
          1.2388398269721017,
          0.46366664662763946,
          -0.09545311315395906,
          -0.6499121108716162,
          -0.25047578428123174,
          -0.7127984780688053,
          0.7110061869252203,
          -0.24074269104144155,
          1.1725672162496483,
          -0.039110608379132855,
          -1.6171364298868847,
          0.8312532821658801,
          -0.032679420067335714,
          0.4859103679519266,
          -0.7535388109234928,
          -0.18912123287211038,
          -1.0403500296557093,
          -0.06219828252596251,
          -1.2761097495726967,
          -0.7380962783569485,
          0.046532238213436,
          -0.5253498256135178,
          -0.4033347119360634,
          -0.08742523631256073,
          -0.38926161053757746,
          0.052737864070574125,
          0.3344579681239486,
          -0.10835434406514376,
          0.054127556806846194,
          0.6032359649720735,
          -1.051406108831842,
          0.7540278979632805,
          0.23644120628538473,
          0.1207891181609108,
          0.18499947890991988,
          0.1304225960231744,
          -0.24489518923344927,
          -0.24068375165242298,
          -0.2763643515085313,
          1.2769322738387565,
          0.6250457444879429,
          -0.17985864709213464,
          0.6502686683025198,
          -0.9452275155825481,
          -1.3426584570541529,
          -1.207128794704555,
          -0.2982937118808505,
          0.11118077103631854,
          1.1977346185162063,
          1.068086693648832,
          1.5337007101930478,
          0.129364274914311,
          -0.5267070376888813,
          -0.1507647819590437,
          -0.253644450631918,
          1.304303981456091,
          -1.3622893199635842,
          -0.5479738141889986,
          1.7245967171812724,
          -0.6053625371178464
         ]
        },
        {
         "line": {
          "color": "rgba(55, 128, 191, 1.0)",
          "dash": "solid",
          "shape": "linear",
          "width": 1.3
         },
         "mode": "lines",
         "name": "B",
         "text": "",
         "type": "scatter",
         "x": [
          0,
          1,
          2,
          3,
          4,
          5,
          6,
          7,
          8,
          9,
          10,
          11,
          12,
          13,
          14,
          15,
          16,
          17,
          18,
          19,
          20,
          21,
          22,
          23,
          24,
          25,
          26,
          27,
          28,
          29,
          30,
          31,
          32,
          33,
          34,
          35,
          36,
          37,
          38,
          39,
          40,
          41,
          42,
          43,
          44,
          45,
          46,
          47,
          48,
          49,
          50,
          51,
          52,
          53,
          54,
          55,
          56,
          57,
          58,
          59,
          60,
          61,
          62,
          63,
          64,
          65,
          66,
          67,
          68,
          69,
          70,
          71,
          72,
          73,
          74,
          75,
          76,
          77,
          78,
          79,
          80,
          81,
          82,
          83,
          84,
          85,
          86,
          87,
          88,
          89,
          90,
          91,
          92,
          93,
          94,
          95,
          96,
          97,
          98,
          99
         ],
         "y": [
          -1.9039051872194404,
          0.41567584575502137,
          -0.8500551105602945,
          -1.671415698067484,
          0.34902348200098277,
          0.5397321899986275,
          0.7822989116806651,
          -0.7181762676338362,
          -1.6048847969742268,
          -0.28390524053597044,
          -0.2544920313036875,
          0.6580987147545254,
          0.2905384073895607,
          -0.6479322773424703,
          1.4560026616500317,
          -0.4536461754780206,
          0.7004603745030877,
          -1.5464930754789366,
          -0.16322468517313587,
          -0.7548093771049874,
          0.6659135464236476,
          2.059981525156413,
          -0.884493064348931,
          -0.38156249622353255,
          0.19262367405809266,
          0.5473919628467429,
          1.547864817081784,
          0.7295495737738722,
          -1.0412645454837997,
          -1.4386762374682316,
          0.649166310831736,
          -2.3441776498198332,
          -0.2471046319944664,
          0.30042921252640914,
          -1.4319025000255197,
          -0.39701453731115993,
          2.369867746154535,
          -0.5926917296631201,
          -0.2987824930791812,
          -0.4728537299883391,
          2.1497965061361333,
          1.2177318058678004,
          -0.3136206903877042,
          1.6492744026324628,
          -0.9269217399175947,
          0.3175296680171701,
          2.4208137981136284,
          -0.4232717640908274,
          -0.032071324577330126,
          -1.6133508281147728,
          0.30110401618146465,
          -1.6943928569303872,
          0.02329836798108102,
          -0.6582175383544171,
          -0.9231732652496449,
          -0.3665566365075626,
          0.4846993344503613,
          1.104977891592252,
          -0.9035272204986705,
          -0.12985610274943768,
          -0.1821179267844909,
          -0.15059695921959254,
          0.28568805152605853,
          -1.1989949589496258,
          0.017817989819181007,
          -0.34868779585261733,
          -1.3128165938969547,
          2.7361308864903373,
          0.14705769934721588,
          1.7839586180818037,
          0.2792922855416744,
          -0.7230348685840761,
          -1.4779738212518898,
          -1.4618062917125283,
          1.9703481657211541,
          1.2676591244598243,
          0.22817150219098725,
          0.8577007057173187,
          -1.2560616239825597,
          -0.9302539650051844,
          1.1963756510029406,
          0.5267467063123779,
          -0.1348262964779555,
          -0.30604736190366066,
          0.022555198762383655,
          -0.16793166099803278,
          0.6500910390970416,
          -1.650632391323068,
          -1.9996797908113744,
          1.0858725584498004,
          0.005392031409097878,
          1.7117229874270576,
          0.4965048249908904,
          -0.6806504054977754,
          -0.41912197067726653,
          0.3686131823036771,
          -0.3102240940882463,
          -0.5326242897864948,
          0.13540925071550378,
          1.2241412510202085
         ]
        },
        {
         "connectgaps": false,
         "fill": "tozeroy",
         "line": {
          "color": "green",
          "dash": "solid",
          "shape": "linear",
          "width": 0.5
         },
         "mode": "lines",
         "name": "Spread",
         "showlegend": false,
         "type": "scatter",
         "x": [
          0,
          1,
          2,
          3,
          4,
          5,
          6,
          7,
          8,
          9,
          10,
          11,
          12,
          13,
          14,
          15,
          16,
          17,
          18,
          19,
          20,
          21,
          22,
          23,
          24,
          25,
          26,
          27,
          28,
          29,
          30,
          31,
          32,
          33,
          34,
          35,
          36,
          37,
          38,
          39,
          40,
          41,
          42,
          43,
          44,
          45,
          46,
          47,
          48,
          49,
          50,
          51,
          52,
          53,
          54,
          55,
          56,
          57,
          58,
          59,
          60,
          61,
          62,
          63,
          64,
          65,
          66,
          67,
          68,
          69,
          70,
          71,
          72,
          73,
          74,
          75,
          76,
          77,
          78,
          79,
          80,
          81,
          82,
          83,
          84,
          85,
          86,
          87,
          88,
          89,
          90,
          91,
          92,
          93,
          94,
          95,
          96,
          97,
          98,
          99
         ],
         "xaxis": "x2",
         "y": [
          2.0996057828707726,
          "",
          0.3237294358138363,
          2.5325102302453577,
          "",
          "",
          1.278808817781106,
          1.8556459724195045,
          "",
          1.3132023651105142,
          "",
          "",
          0.03206255242446565,
          0.11409355128228682,
          "",
          1.8272628695383137,
          "",
          1.7954218251503036,
          "",
          0.2700030568478585,
          "",
          "",
          1.8318216902619529,
          0.2296404134596043,
          1.1061868618875559,
          "",
          "",
          "",
          "",
          1.883872230036596,
          "",
          0.9488423122304597,
          0.07681615567894032,
          0.9436391110957509,
          2.8670905669323057,
          1.169852290287178,
          "",
          0.3225570762708434,
          0.5618868863759202,
          "",
          "",
          "",
          0.21816757723374514,
          "",
          0.676445955636363,
          "",
          "",
          0.18252907304938584,
          1.2046385408269784,
          1.57424021973564,
          "",
          2.5256461390962675,
          "",
          1.1441279063063436,
          0.1696344543261521,
          0.1774354036354522,
          "",
          "",
          "",
          "",
          0.2286501649979269,
          "",
          "",
          1.111569722637065,
          "",
          0.40142565992319146,
          1.6472745620209033,
          "",
          "",
          "",
          "",
          1.4770627665473566,
          1.7144150275372745,
          1.5825954098734392,
          "",
          "",
          "",
          "",
          0.9796972724740285,
          2.207186238843941,
          "",
          "",
          0.7850949647804754,
          "",
          "",
          "",
          "",
          1.7618131623593867,
          3.197414409327581,
          "",
          1.52830867878395,
          "",
          "",
          0.5298856235387317,
          0.16547752004534855,
          0.9356907991524139,
          "",
          "",
          1.5891874664657686,
          ""
         ],
         "yaxis": "y2"
        },
        {
         "connectgaps": false,
         "fill": "tozeroy",
         "line": {
          "color": "red",
          "dash": "solid",
          "shape": "linear",
          "width": 0.5
         },
         "mode": "lines",
         "name": "Spread",
         "showlegend": false,
         "type": "scatter",
         "x": [
          0,
          1,
          2,
          3,
          4,
          5,
          6,
          7,
          8,
          9,
          10,
          11,
          12,
          13,
          14,
          15,
          16,
          17,
          18,
          19,
          20,
          21,
          22,
          23,
          24,
          25,
          26,
          27,
          28,
          29,
          30,
          31,
          32,
          33,
          34,
          35,
          36,
          37,
          38,
          39,
          40,
          41,
          42,
          43,
          44,
          45,
          46,
          47,
          48,
          49,
          50,
          51,
          52,
          53,
          54,
          55,
          56,
          57,
          58,
          59,
          60,
          61,
          62,
          63,
          64,
          65,
          66,
          67,
          68,
          69,
          70,
          71,
          72,
          73,
          74,
          75,
          76,
          77,
          78,
          79,
          80,
          81,
          82,
          83,
          84,
          85,
          86,
          87,
          88,
          89,
          90,
          91,
          92,
          93,
          94,
          95,
          96,
          97,
          98,
          99
         ],
         "xaxis": "x2",
         "y": [
          "",
          -0.5320591481368181,
          "",
          "",
          -0.6835329285109639,
          -0.0988809731275011,
          "",
          "",
          -0.5178993905493647,
          "",
          -0.5819282834923873,
          -1.2839203104210282,
          "",
          "",
          -0.8005090952407559,
          "",
          -0.8654173057005432,
          "",
          -0.1275079323205618,
          "",
          -0.009411680665427302,
          -2.4288415620977917,
          "",
          "",
          "",
          -0.32203051591730286,
          -3.292377975420825,
          -2.493632492620114,
          -0.3350433327697886,
          "",
          -1.5045928280804641,
          "",
          "",
          "",
          "",
          "",
          -3.3735738790990863,
          "",
          "",
          -0.2581676513086416,
          -0.9109566791640316,
          -0.7540651592401609,
          "",
          -2.299186513504079,
          "",
          -1.0303281460859752,
          -1.709807611188408,
          "",
          "",
          "",
          -1.9182404460683493,
          "",
          -0.05597778804841673,
          "",
          "",
          "",
          -1.5250493641060707,
          -1.1671761741182145,
          -0.3725825290740262,
          -0.6082401756075108,
          "",
          -0.3747528663939253,
          -0.689022763462122,
          "",
          -0.4070796003567585,
          "",
          "",
          -2.844485230555481,
          -0.09293014254036969,
          -1.1807226531097301,
          -1.3306983943735164,
          "",
          "",
          "",
          -1.7853486868112343,
          -1.13723652843665,
          -0.4730666914244365,
          -1.0983844573697417,
          "",
          "",
          -0.5713299065149977,
          -0.7066053534045125,
          "",
          -0.6391801536788875,
          -1.3652136558165364,
          -1.0391971337065222,
          -0.9483847509778921,
          "",
          "",
          -0.017785864800968332,
          "",
          -1.5823587125127467,
          -1.0232118626797717,
          "",
          "",
          "",
          -1.0520652258753378,
          -0.015349524402503811,
          "",
          -1.829503788138055
         ],
         "yaxis": "y2"
        }
       ],
       "layout": {
        "hovermode": "x",
        "legend": {
         "bgcolor": "#F5F6F9",
         "font": {
          "color": "#4D5663"
         }
        },
        "paper_bgcolor": "#F5F6F9",
        "plot_bgcolor": "#F5F6F9",
        "template": {
         "data": {
          "bar": [
           {
            "error_x": {
             "color": "#2a3f5f"
            },
            "error_y": {
             "color": "#2a3f5f"
            },
            "marker": {
             "line": {
              "color": "#E5ECF6",
              "width": 0.5
             },
             "pattern": {
              "fillmode": "overlay",
              "size": 10,
              "solidity": 0.2
             }
            },
            "type": "bar"
           }
          ],
          "barpolar": [
           {
            "marker": {
             "line": {
              "color": "#E5ECF6",
              "width": 0.5
             },
             "pattern": {
              "fillmode": "overlay",
              "size": 10,
              "solidity": 0.2
             }
            },
            "type": "barpolar"
           }
          ],
          "carpet": [
           {
            "aaxis": {
             "endlinecolor": "#2a3f5f",
             "gridcolor": "white",
             "linecolor": "white",
             "minorgridcolor": "white",
             "startlinecolor": "#2a3f5f"
            },
            "baxis": {
             "endlinecolor": "#2a3f5f",
             "gridcolor": "white",
             "linecolor": "white",
             "minorgridcolor": "white",
             "startlinecolor": "#2a3f5f"
            },
            "type": "carpet"
           }
          ],
          "choropleth": [
           {
            "colorbar": {
             "outlinewidth": 0,
             "ticks": ""
            },
            "type": "choropleth"
           }
          ],
          "contour": [
           {
            "colorbar": {
             "outlinewidth": 0,
             "ticks": ""
            },
            "colorscale": [
             [
              0,
              "#0d0887"
             ],
             [
              0.1111111111111111,
              "#46039f"
             ],
             [
              0.2222222222222222,
              "#7201a8"
             ],
             [
              0.3333333333333333,
              "#9c179e"
             ],
             [
              0.4444444444444444,
              "#bd3786"
             ],
             [
              0.5555555555555556,
              "#d8576b"
             ],
             [
              0.6666666666666666,
              "#ed7953"
             ],
             [
              0.7777777777777778,
              "#fb9f3a"
             ],
             [
              0.8888888888888888,
              "#fdca26"
             ],
             [
              1,
              "#f0f921"
             ]
            ],
            "type": "contour"
           }
          ],
          "contourcarpet": [
           {
            "colorbar": {
             "outlinewidth": 0,
             "ticks": ""
            },
            "type": "contourcarpet"
           }
          ],
          "heatmap": [
           {
            "colorbar": {
             "outlinewidth": 0,
             "ticks": ""
            },
            "colorscale": [
             [
              0,
              "#0d0887"
             ],
             [
              0.1111111111111111,
              "#46039f"
             ],
             [
              0.2222222222222222,
              "#7201a8"
             ],
             [
              0.3333333333333333,
              "#9c179e"
             ],
             [
              0.4444444444444444,
              "#bd3786"
             ],
             [
              0.5555555555555556,
              "#d8576b"
             ],
             [
              0.6666666666666666,
              "#ed7953"
             ],
             [
              0.7777777777777778,
              "#fb9f3a"
             ],
             [
              0.8888888888888888,
              "#fdca26"
             ],
             [
              1,
              "#f0f921"
             ]
            ],
            "type": "heatmap"
           }
          ],
          "heatmapgl": [
           {
            "colorbar": {
             "outlinewidth": 0,
             "ticks": ""
            },
            "colorscale": [
             [
              0,
              "#0d0887"
             ],
             [
              0.1111111111111111,
              "#46039f"
             ],
             [
              0.2222222222222222,
              "#7201a8"
             ],
             [
              0.3333333333333333,
              "#9c179e"
             ],
             [
              0.4444444444444444,
              "#bd3786"
             ],
             [
              0.5555555555555556,
              "#d8576b"
             ],
             [
              0.6666666666666666,
              "#ed7953"
             ],
             [
              0.7777777777777778,
              "#fb9f3a"
             ],
             [
              0.8888888888888888,
              "#fdca26"
             ],
             [
              1,
              "#f0f921"
             ]
            ],
            "type": "heatmapgl"
           }
          ],
          "histogram": [
           {
            "marker": {
             "pattern": {
              "fillmode": "overlay",
              "size": 10,
              "solidity": 0.2
             }
            },
            "type": "histogram"
           }
          ],
          "histogram2d": [
           {
            "colorbar": {
             "outlinewidth": 0,
             "ticks": ""
            },
            "colorscale": [
             [
              0,
              "#0d0887"
             ],
             [
              0.1111111111111111,
              "#46039f"
             ],
             [
              0.2222222222222222,
              "#7201a8"
             ],
             [
              0.3333333333333333,
              "#9c179e"
             ],
             [
              0.4444444444444444,
              "#bd3786"
             ],
             [
              0.5555555555555556,
              "#d8576b"
             ],
             [
              0.6666666666666666,
              "#ed7953"
             ],
             [
              0.7777777777777778,
              "#fb9f3a"
             ],
             [
              0.8888888888888888,
              "#fdca26"
             ],
             [
              1,
              "#f0f921"
             ]
            ],
            "type": "histogram2d"
           }
          ],
          "histogram2dcontour": [
           {
            "colorbar": {
             "outlinewidth": 0,
             "ticks": ""
            },
            "colorscale": [
             [
              0,
              "#0d0887"
             ],
             [
              0.1111111111111111,
              "#46039f"
             ],
             [
              0.2222222222222222,
              "#7201a8"
             ],
             [
              0.3333333333333333,
              "#9c179e"
             ],
             [
              0.4444444444444444,
              "#bd3786"
             ],
             [
              0.5555555555555556,
              "#d8576b"
             ],
             [
              0.6666666666666666,
              "#ed7953"
             ],
             [
              0.7777777777777778,
              "#fb9f3a"
             ],
             [
              0.8888888888888888,
              "#fdca26"
             ],
             [
              1,
              "#f0f921"
             ]
            ],
            "type": "histogram2dcontour"
           }
          ],
          "mesh3d": [
           {
            "colorbar": {
             "outlinewidth": 0,
             "ticks": ""
            },
            "type": "mesh3d"
           }
          ],
          "parcoords": [
           {
            "line": {
             "colorbar": {
              "outlinewidth": 0,
              "ticks": ""
             }
            },
            "type": "parcoords"
           }
          ],
          "pie": [
           {
            "automargin": true,
            "type": "pie"
           }
          ],
          "scatter": [
           {
            "marker": {
             "colorbar": {
              "outlinewidth": 0,
              "ticks": ""
             }
            },
            "type": "scatter"
           }
          ],
          "scatter3d": [
           {
            "line": {
             "colorbar": {
              "outlinewidth": 0,
              "ticks": ""
             }
            },
            "marker": {
             "colorbar": {
              "outlinewidth": 0,
              "ticks": ""
             }
            },
            "type": "scatter3d"
           }
          ],
          "scattercarpet": [
           {
            "marker": {
             "colorbar": {
              "outlinewidth": 0,
              "ticks": ""
             }
            },
            "type": "scattercarpet"
           }
          ],
          "scattergeo": [
           {
            "marker": {
             "colorbar": {
              "outlinewidth": 0,
              "ticks": ""
             }
            },
            "type": "scattergeo"
           }
          ],
          "scattergl": [
           {
            "marker": {
             "colorbar": {
              "outlinewidth": 0,
              "ticks": ""
             }
            },
            "type": "scattergl"
           }
          ],
          "scattermapbox": [
           {
            "marker": {
             "colorbar": {
              "outlinewidth": 0,
              "ticks": ""
             }
            },
            "type": "scattermapbox"
           }
          ],
          "scatterpolar": [
           {
            "marker": {
             "colorbar": {
              "outlinewidth": 0,
              "ticks": ""
             }
            },
            "type": "scatterpolar"
           }
          ],
          "scatterpolargl": [
           {
            "marker": {
             "colorbar": {
              "outlinewidth": 0,
              "ticks": ""
             }
            },
            "type": "scatterpolargl"
           }
          ],
          "scatterternary": [
           {
            "marker": {
             "colorbar": {
              "outlinewidth": 0,
              "ticks": ""
             }
            },
            "type": "scatterternary"
           }
          ],
          "surface": [
           {
            "colorbar": {
             "outlinewidth": 0,
             "ticks": ""
            },
            "colorscale": [
             [
              0,
              "#0d0887"
             ],
             [
              0.1111111111111111,
              "#46039f"
             ],
             [
              0.2222222222222222,
              "#7201a8"
             ],
             [
              0.3333333333333333,
              "#9c179e"
             ],
             [
              0.4444444444444444,
              "#bd3786"
             ],
             [
              0.5555555555555556,
              "#d8576b"
             ],
             [
              0.6666666666666666,
              "#ed7953"
             ],
             [
              0.7777777777777778,
              "#fb9f3a"
             ],
             [
              0.8888888888888888,
              "#fdca26"
             ],
             [
              1,
              "#f0f921"
             ]
            ],
            "type": "surface"
           }
          ],
          "table": [
           {
            "cells": {
             "fill": {
              "color": "#EBF0F8"
             },
             "line": {
              "color": "white"
             }
            },
            "header": {
             "fill": {
              "color": "#C8D4E3"
             },
             "line": {
              "color": "white"
             }
            },
            "type": "table"
           }
          ]
         },
         "layout": {
          "annotationdefaults": {
           "arrowcolor": "#2a3f5f",
           "arrowhead": 0,
           "arrowwidth": 1
          },
          "autotypenumbers": "strict",
          "coloraxis": {
           "colorbar": {
            "outlinewidth": 0,
            "ticks": ""
           }
          },
          "colorscale": {
           "diverging": [
            [
             0,
             "#8e0152"
            ],
            [
             0.1,
             "#c51b7d"
            ],
            [
             0.2,
             "#de77ae"
            ],
            [
             0.3,
             "#f1b6da"
            ],
            [
             0.4,
             "#fde0ef"
            ],
            [
             0.5,
             "#f7f7f7"
            ],
            [
             0.6,
             "#e6f5d0"
            ],
            [
             0.7,
             "#b8e186"
            ],
            [
             0.8,
             "#7fbc41"
            ],
            [
             0.9,
             "#4d9221"
            ],
            [
             1,
             "#276419"
            ]
           ],
           "sequential": [
            [
             0,
             "#0d0887"
            ],
            [
             0.1111111111111111,
             "#46039f"
            ],
            [
             0.2222222222222222,
             "#7201a8"
            ],
            [
             0.3333333333333333,
             "#9c179e"
            ],
            [
             0.4444444444444444,
             "#bd3786"
            ],
            [
             0.5555555555555556,
             "#d8576b"
            ],
            [
             0.6666666666666666,
             "#ed7953"
            ],
            [
             0.7777777777777778,
             "#fb9f3a"
            ],
            [
             0.8888888888888888,
             "#fdca26"
            ],
            [
             1,
             "#f0f921"
            ]
           ],
           "sequentialminus": [
            [
             0,
             "#0d0887"
            ],
            [
             0.1111111111111111,
             "#46039f"
            ],
            [
             0.2222222222222222,
             "#7201a8"
            ],
            [
             0.3333333333333333,
             "#9c179e"
            ],
            [
             0.4444444444444444,
             "#bd3786"
            ],
            [
             0.5555555555555556,
             "#d8576b"
            ],
            [
             0.6666666666666666,
             "#ed7953"
            ],
            [
             0.7777777777777778,
             "#fb9f3a"
            ],
            [
             0.8888888888888888,
             "#fdca26"
            ],
            [
             1,
             "#f0f921"
            ]
           ]
          },
          "colorway": [
           "#636efa",
           "#EF553B",
           "#00cc96",
           "#ab63fa",
           "#FFA15A",
           "#19d3f3",
           "#FF6692",
           "#B6E880",
           "#FF97FF",
           "#FECB52"
          ],
          "font": {
           "color": "#2a3f5f"
          },
          "geo": {
           "bgcolor": "white",
           "lakecolor": "white",
           "landcolor": "#E5ECF6",
           "showlakes": true,
           "showland": true,
           "subunitcolor": "white"
          },
          "hoverlabel": {
           "align": "left"
          },
          "hovermode": "closest",
          "mapbox": {
           "style": "light"
          },
          "paper_bgcolor": "white",
          "plot_bgcolor": "#E5ECF6",
          "polar": {
           "angularaxis": {
            "gridcolor": "white",
            "linecolor": "white",
            "ticks": ""
           },
           "bgcolor": "#E5ECF6",
           "radialaxis": {
            "gridcolor": "white",
            "linecolor": "white",
            "ticks": ""
           }
          },
          "scene": {
           "xaxis": {
            "backgroundcolor": "#E5ECF6",
            "gridcolor": "white",
            "gridwidth": 2,
            "linecolor": "white",
            "showbackground": true,
            "ticks": "",
            "zerolinecolor": "white"
           },
           "yaxis": {
            "backgroundcolor": "#E5ECF6",
            "gridcolor": "white",
            "gridwidth": 2,
            "linecolor": "white",
            "showbackground": true,
            "ticks": "",
            "zerolinecolor": "white"
           },
           "zaxis": {
            "backgroundcolor": "#E5ECF6",
            "gridcolor": "white",
            "gridwidth": 2,
            "linecolor": "white",
            "showbackground": true,
            "ticks": "",
            "zerolinecolor": "white"
           }
          },
          "shapedefaults": {
           "line": {
            "color": "#2a3f5f"
           }
          },
          "ternary": {
           "aaxis": {
            "gridcolor": "white",
            "linecolor": "white",
            "ticks": ""
           },
           "baxis": {
            "gridcolor": "white",
            "linecolor": "white",
            "ticks": ""
           },
           "bgcolor": "#E5ECF6",
           "caxis": {
            "gridcolor": "white",
            "linecolor": "white",
            "ticks": ""
           }
          },
          "title": {
           "x": 0.05
          },
          "xaxis": {
           "automargin": true,
           "gridcolor": "white",
           "linecolor": "white",
           "ticks": "",
           "title": {
            "standoff": 15
           },
           "zerolinecolor": "white",
           "zerolinewidth": 2
          },
          "yaxis": {
           "automargin": true,
           "gridcolor": "white",
           "linecolor": "white",
           "ticks": "",
           "title": {
            "standoff": 15
           },
           "zerolinecolor": "white",
           "zerolinewidth": 2
          }
         }
        },
        "title": {
         "font": {
          "color": "#4D5663"
         }
        },
        "xaxis": {
         "gridcolor": "#E1E5ED",
         "showgrid": true,
         "tickfont": {
          "color": "#4D5663"
         },
         "title": {
          "font": {
           "color": "#4D5663"
          },
          "text": ""
         },
         "zerolinecolor": "#E1E5ED"
        },
        "xaxis2": {
         "anchor": "y2",
         "gridcolor": "#E1E5ED",
         "showgrid": true,
         "showticklabels": false,
         "tickfont": {
          "color": "#4D5663"
         },
         "title": {
          "font": {
           "color": "#4D5663"
          },
          "text": ""
         },
         "zerolinecolor": "#E1E5ED"
        },
        "yaxis": {
         "domain": [
          0.3,
          1
         ],
         "gridcolor": "#E1E5ED",
         "showgrid": true,
         "tickfont": {
          "color": "#4D5663"
         },
         "title": {
          "font": {
           "color": "#4D5663"
          },
          "text": ""
         },
         "zerolinecolor": "#E1E5ED"
        },
        "yaxis2": {
         "domain": [
          0,
          0.25
         ],
         "gridcolor": "#E1E5ED",
         "showgrid": true,
         "tickfont": {
          "color": "#4D5663"
         },
         "title": {
          "font": {
           "color": "#4D5663"
          },
          "text": "Spread"
         },
         "zerolinecolor": "#E1E5ED"
        }
       }
      },
      "text/html": [
       "<div>                            <div id=\"4e579c69-80e7-42f3-b2f9-25ae56d3dbc5\" class=\"plotly-graph-div\" style=\"height:525px; width:100%;\"></div>            <script type=\"text/javascript\">                require([\"plotly\"], function(Plotly) {                    window.PLOTLYENV=window.PLOTLYENV || {};\n",
       "                    window.PLOTLYENV.BASE_URL='https://plot.ly';                                    if (document.getElementById(\"4e579c69-80e7-42f3-b2f9-25ae56d3dbc5\")) {                    Plotly.newPlot(                        \"4e579c69-80e7-42f3-b2f9-25ae56d3dbc5\",                        [{\"line\":{\"color\":\"rgba(255, 153, 51, 1.0)\",\"dash\":\"solid\",\"shape\":\"linear\",\"width\":1.3},\"mode\":\"lines\",\"name\":\"A\",\"text\":\"\",\"type\":\"scatter\",\"x\":[0,1,2,3,4,5,6,7,8,9,10,11,12,13,14,15,16,17,18,19,20,21,22,23,24,25,26,27,28,29,30,31,32,33,34,35,36,37,38,39,40,41,42,43,44,45,46,47,48,49,50,51,52,53,54,55,56,57,58,59,60,61,62,63,64,65,66,67,68,69,70,71,72,73,74,75,76,77,78,79,80,81,82,83,84,85,86,87,88,89,90,91,92,93,94,95,96,97,98,99],\"y\":[0.19570059565133208,-0.11638330238179669,-0.5263256747464582,0.8610945321778738,-0.3345094465099812,0.4408512168711264,2.0611077294617712,1.1374697047856683,-2.1227841875235915,1.0292971245745437,-0.8364203147960749,-0.6258215956665029,0.32260095981402637,-0.5338387260601835,0.6554935664092758,1.3736166940602932,-0.16495693119745544,0.24892874967136702,-0.29073261749369766,-0.4848063202571289,0.6565018657582203,-0.36886003694137837,0.9473286259130218,-0.15192208276392827,1.2988105359456485,0.22536144692944,-1.7445131583390414,-1.7640829188462417,-1.3763078782535882,0.44519599256836434,-0.8554265172487281,-1.3953353375893736,-0.17028847631552607,1.2440683236221601,1.4351880669067858,0.7728377529760181,-1.0037061329445511,-0.2701346533922767,0.263104393296739,-0.7310213812969807,1.2388398269721017,0.46366664662763946,-0.09545311315395906,-0.6499121108716162,-0.25047578428123174,-0.7127984780688053,0.7110061869252203,-0.24074269104144155,1.1725672162496483,-0.039110608379132855,-1.6171364298868847,0.8312532821658801,-0.032679420067335714,0.4859103679519266,-0.7535388109234928,-0.18912123287211038,-1.0403500296557093,-0.06219828252596251,-1.2761097495726967,-0.7380962783569485,0.046532238213436,-0.5253498256135178,-0.4033347119360634,-0.08742523631256073,-0.38926161053757746,0.052737864070574125,0.3344579681239486,-0.10835434406514376,0.054127556806846194,0.6032359649720735,-1.051406108831842,0.7540278979632805,0.23644120628538473,0.1207891181609108,0.18499947890991988,0.1304225960231744,-0.24489518923344927,-0.24068375165242298,-0.2763643515085313,1.2769322738387565,0.6250457444879429,-0.17985864709213464,0.6502686683025198,-0.9452275155825481,-1.3426584570541529,-1.207128794704555,-0.2982937118808505,0.11118077103631854,1.1977346185162063,1.068086693648832,1.5337007101930478,0.129364274914311,-0.5267070376888813,-0.1507647819590437,-0.253644450631918,1.304303981456091,-1.3622893199635842,-0.5479738141889986,1.7245967171812724,-0.6053625371178464]},{\"line\":{\"color\":\"rgba(55, 128, 191, 1.0)\",\"dash\":\"solid\",\"shape\":\"linear\",\"width\":1.3},\"mode\":\"lines\",\"name\":\"B\",\"text\":\"\",\"type\":\"scatter\",\"x\":[0,1,2,3,4,5,6,7,8,9,10,11,12,13,14,15,16,17,18,19,20,21,22,23,24,25,26,27,28,29,30,31,32,33,34,35,36,37,38,39,40,41,42,43,44,45,46,47,48,49,50,51,52,53,54,55,56,57,58,59,60,61,62,63,64,65,66,67,68,69,70,71,72,73,74,75,76,77,78,79,80,81,82,83,84,85,86,87,88,89,90,91,92,93,94,95,96,97,98,99],\"y\":[-1.9039051872194404,0.41567584575502137,-0.8500551105602945,-1.671415698067484,0.34902348200098277,0.5397321899986275,0.7822989116806651,-0.7181762676338362,-1.6048847969742268,-0.28390524053597044,-0.2544920313036875,0.6580987147545254,0.2905384073895607,-0.6479322773424703,1.4560026616500317,-0.4536461754780206,0.7004603745030877,-1.5464930754789366,-0.16322468517313587,-0.7548093771049874,0.6659135464236476,2.059981525156413,-0.884493064348931,-0.38156249622353255,0.19262367405809266,0.5473919628467429,1.547864817081784,0.7295495737738722,-1.0412645454837997,-1.4386762374682316,0.649166310831736,-2.3441776498198332,-0.2471046319944664,0.30042921252640914,-1.4319025000255197,-0.39701453731115993,2.369867746154535,-0.5926917296631201,-0.2987824930791812,-0.4728537299883391,2.1497965061361333,1.2177318058678004,-0.3136206903877042,1.6492744026324628,-0.9269217399175947,0.3175296680171701,2.4208137981136284,-0.4232717640908274,-0.032071324577330126,-1.6133508281147728,0.30110401618146465,-1.6943928569303872,0.02329836798108102,-0.6582175383544171,-0.9231732652496449,-0.3665566365075626,0.4846993344503613,1.104977891592252,-0.9035272204986705,-0.12985610274943768,-0.1821179267844909,-0.15059695921959254,0.28568805152605853,-1.1989949589496258,0.017817989819181007,-0.34868779585261733,-1.3128165938969547,2.7361308864903373,0.14705769934721588,1.7839586180818037,0.2792922855416744,-0.7230348685840761,-1.4779738212518898,-1.4618062917125283,1.9703481657211541,1.2676591244598243,0.22817150219098725,0.8577007057173187,-1.2560616239825597,-0.9302539650051844,1.1963756510029406,0.5267467063123779,-0.1348262964779555,-0.30604736190366066,0.022555198762383655,-0.16793166099803278,0.6500910390970416,-1.650632391323068,-1.9996797908113744,1.0858725584498004,0.005392031409097878,1.7117229874270576,0.4965048249908904,-0.6806504054977754,-0.41912197067726653,0.3686131823036771,-0.3102240940882463,-0.5326242897864948,0.13540925071550378,1.2241412510202085]},{\"connectgaps\":false,\"fill\":\"tozeroy\",\"line\":{\"color\":\"green\",\"dash\":\"solid\",\"shape\":\"linear\",\"width\":0.5},\"mode\":\"lines\",\"name\":\"Spread\",\"showlegend\":false,\"type\":\"scatter\",\"x\":[0,1,2,3,4,5,6,7,8,9,10,11,12,13,14,15,16,17,18,19,20,21,22,23,24,25,26,27,28,29,30,31,32,33,34,35,36,37,38,39,40,41,42,43,44,45,46,47,48,49,50,51,52,53,54,55,56,57,58,59,60,61,62,63,64,65,66,67,68,69,70,71,72,73,74,75,76,77,78,79,80,81,82,83,84,85,86,87,88,89,90,91,92,93,94,95,96,97,98,99],\"xaxis\":\"x2\",\"y\":[2.0996057828707726,\"\",0.3237294358138363,2.5325102302453577,\"\",\"\",1.278808817781106,1.8556459724195045,\"\",1.3132023651105142,\"\",\"\",0.03206255242446565,0.11409355128228682,\"\",1.8272628695383137,\"\",1.7954218251503036,\"\",0.2700030568478585,\"\",\"\",1.8318216902619529,0.2296404134596043,1.1061868618875559,\"\",\"\",\"\",\"\",1.883872230036596,\"\",0.9488423122304597,0.07681615567894032,0.9436391110957509,2.8670905669323057,1.169852290287178,\"\",0.3225570762708434,0.5618868863759202,\"\",\"\",\"\",0.21816757723374514,\"\",0.676445955636363,\"\",\"\",0.18252907304938584,1.2046385408269784,1.57424021973564,\"\",2.5256461390962675,\"\",1.1441279063063436,0.1696344543261521,0.1774354036354522,\"\",\"\",\"\",\"\",0.2286501649979269,\"\",\"\",1.111569722637065,\"\",0.40142565992319146,1.6472745620209033,\"\",\"\",\"\",\"\",1.4770627665473566,1.7144150275372745,1.5825954098734392,\"\",\"\",\"\",\"\",0.9796972724740285,2.207186238843941,\"\",\"\",0.7850949647804754,\"\",\"\",\"\",\"\",1.7618131623593867,3.197414409327581,\"\",1.52830867878395,\"\",\"\",0.5298856235387317,0.16547752004534855,0.9356907991524139,\"\",\"\",1.5891874664657686,\"\"],\"yaxis\":\"y2\"},{\"connectgaps\":false,\"fill\":\"tozeroy\",\"line\":{\"color\":\"red\",\"dash\":\"solid\",\"shape\":\"linear\",\"width\":0.5},\"mode\":\"lines\",\"name\":\"Spread\",\"showlegend\":false,\"type\":\"scatter\",\"x\":[0,1,2,3,4,5,6,7,8,9,10,11,12,13,14,15,16,17,18,19,20,21,22,23,24,25,26,27,28,29,30,31,32,33,34,35,36,37,38,39,40,41,42,43,44,45,46,47,48,49,50,51,52,53,54,55,56,57,58,59,60,61,62,63,64,65,66,67,68,69,70,71,72,73,74,75,76,77,78,79,80,81,82,83,84,85,86,87,88,89,90,91,92,93,94,95,96,97,98,99],\"xaxis\":\"x2\",\"y\":[\"\",-0.5320591481368181,\"\",\"\",-0.6835329285109639,-0.0988809731275011,\"\",\"\",-0.5178993905493647,\"\",-0.5819282834923873,-1.2839203104210282,\"\",\"\",-0.8005090952407559,\"\",-0.8654173057005432,\"\",-0.1275079323205618,\"\",-0.009411680665427302,-2.4288415620977917,\"\",\"\",\"\",-0.32203051591730286,-3.292377975420825,-2.493632492620114,-0.3350433327697886,\"\",-1.5045928280804641,\"\",\"\",\"\",\"\",\"\",-3.3735738790990863,\"\",\"\",-0.2581676513086416,-0.9109566791640316,-0.7540651592401609,\"\",-2.299186513504079,\"\",-1.0303281460859752,-1.709807611188408,\"\",\"\",\"\",-1.9182404460683493,\"\",-0.05597778804841673,\"\",\"\",\"\",-1.5250493641060707,-1.1671761741182145,-0.3725825290740262,-0.6082401756075108,\"\",-0.3747528663939253,-0.689022763462122,\"\",-0.4070796003567585,\"\",\"\",-2.844485230555481,-0.09293014254036969,-1.1807226531097301,-1.3306983943735164,\"\",\"\",\"\",-1.7853486868112343,-1.13723652843665,-0.4730666914244365,-1.0983844573697417,\"\",\"\",-0.5713299065149977,-0.7066053534045125,\"\",-0.6391801536788875,-1.3652136558165364,-1.0391971337065222,-0.9483847509778921,\"\",\"\",-0.017785864800968332,\"\",-1.5823587125127467,-1.0232118626797717,\"\",\"\",\"\",-1.0520652258753378,-0.015349524402503811,\"\",-1.829503788138055],\"yaxis\":\"y2\"}],                        {\"hovermode\":\"x\",\"legend\":{\"bgcolor\":\"#F5F6F9\",\"font\":{\"color\":\"#4D5663\"}},\"paper_bgcolor\":\"#F5F6F9\",\"plot_bgcolor\":\"#F5F6F9\",\"template\":{\"data\":{\"bar\":[{\"error_x\":{\"color\":\"#2a3f5f\"},\"error_y\":{\"color\":\"#2a3f5f\"},\"marker\":{\"line\":{\"color\":\"#E5ECF6\",\"width\":0.5},\"pattern\":{\"fillmode\":\"overlay\",\"size\":10,\"solidity\":0.2}},\"type\":\"bar\"}],\"barpolar\":[{\"marker\":{\"line\":{\"color\":\"#E5ECF6\",\"width\":0.5},\"pattern\":{\"fillmode\":\"overlay\",\"size\":10,\"solidity\":0.2}},\"type\":\"barpolar\"}],\"carpet\":[{\"aaxis\":{\"endlinecolor\":\"#2a3f5f\",\"gridcolor\":\"white\",\"linecolor\":\"white\",\"minorgridcolor\":\"white\",\"startlinecolor\":\"#2a3f5f\"},\"baxis\":{\"endlinecolor\":\"#2a3f5f\",\"gridcolor\":\"white\",\"linecolor\":\"white\",\"minorgridcolor\":\"white\",\"startlinecolor\":\"#2a3f5f\"},\"type\":\"carpet\"}],\"choropleth\":[{\"colorbar\":{\"outlinewidth\":0,\"ticks\":\"\"},\"type\":\"choropleth\"}],\"contour\":[{\"colorbar\":{\"outlinewidth\":0,\"ticks\":\"\"},\"colorscale\":[[0.0,\"#0d0887\"],[0.1111111111111111,\"#46039f\"],[0.2222222222222222,\"#7201a8\"],[0.3333333333333333,\"#9c179e\"],[0.4444444444444444,\"#bd3786\"],[0.5555555555555556,\"#d8576b\"],[0.6666666666666666,\"#ed7953\"],[0.7777777777777778,\"#fb9f3a\"],[0.8888888888888888,\"#fdca26\"],[1.0,\"#f0f921\"]],\"type\":\"contour\"}],\"contourcarpet\":[{\"colorbar\":{\"outlinewidth\":0,\"ticks\":\"\"},\"type\":\"contourcarpet\"}],\"heatmap\":[{\"colorbar\":{\"outlinewidth\":0,\"ticks\":\"\"},\"colorscale\":[[0.0,\"#0d0887\"],[0.1111111111111111,\"#46039f\"],[0.2222222222222222,\"#7201a8\"],[0.3333333333333333,\"#9c179e\"],[0.4444444444444444,\"#bd3786\"],[0.5555555555555556,\"#d8576b\"],[0.6666666666666666,\"#ed7953\"],[0.7777777777777778,\"#fb9f3a\"],[0.8888888888888888,\"#fdca26\"],[1.0,\"#f0f921\"]],\"type\":\"heatmap\"}],\"heatmapgl\":[{\"colorbar\":{\"outlinewidth\":0,\"ticks\":\"\"},\"colorscale\":[[0.0,\"#0d0887\"],[0.1111111111111111,\"#46039f\"],[0.2222222222222222,\"#7201a8\"],[0.3333333333333333,\"#9c179e\"],[0.4444444444444444,\"#bd3786\"],[0.5555555555555556,\"#d8576b\"],[0.6666666666666666,\"#ed7953\"],[0.7777777777777778,\"#fb9f3a\"],[0.8888888888888888,\"#fdca26\"],[1.0,\"#f0f921\"]],\"type\":\"heatmapgl\"}],\"histogram\":[{\"marker\":{\"pattern\":{\"fillmode\":\"overlay\",\"size\":10,\"solidity\":0.2}},\"type\":\"histogram\"}],\"histogram2d\":[{\"colorbar\":{\"outlinewidth\":0,\"ticks\":\"\"},\"colorscale\":[[0.0,\"#0d0887\"],[0.1111111111111111,\"#46039f\"],[0.2222222222222222,\"#7201a8\"],[0.3333333333333333,\"#9c179e\"],[0.4444444444444444,\"#bd3786\"],[0.5555555555555556,\"#d8576b\"],[0.6666666666666666,\"#ed7953\"],[0.7777777777777778,\"#fb9f3a\"],[0.8888888888888888,\"#fdca26\"],[1.0,\"#f0f921\"]],\"type\":\"histogram2d\"}],\"histogram2dcontour\":[{\"colorbar\":{\"outlinewidth\":0,\"ticks\":\"\"},\"colorscale\":[[0.0,\"#0d0887\"],[0.1111111111111111,\"#46039f\"],[0.2222222222222222,\"#7201a8\"],[0.3333333333333333,\"#9c179e\"],[0.4444444444444444,\"#bd3786\"],[0.5555555555555556,\"#d8576b\"],[0.6666666666666666,\"#ed7953\"],[0.7777777777777778,\"#fb9f3a\"],[0.8888888888888888,\"#fdca26\"],[1.0,\"#f0f921\"]],\"type\":\"histogram2dcontour\"}],\"mesh3d\":[{\"colorbar\":{\"outlinewidth\":0,\"ticks\":\"\"},\"type\":\"mesh3d\"}],\"parcoords\":[{\"line\":{\"colorbar\":{\"outlinewidth\":0,\"ticks\":\"\"}},\"type\":\"parcoords\"}],\"pie\":[{\"automargin\":true,\"type\":\"pie\"}],\"scatter\":[{\"marker\":{\"colorbar\":{\"outlinewidth\":0,\"ticks\":\"\"}},\"type\":\"scatter\"}],\"scatter3d\":[{\"line\":{\"colorbar\":{\"outlinewidth\":0,\"ticks\":\"\"}},\"marker\":{\"colorbar\":{\"outlinewidth\":0,\"ticks\":\"\"}},\"type\":\"scatter3d\"}],\"scattercarpet\":[{\"marker\":{\"colorbar\":{\"outlinewidth\":0,\"ticks\":\"\"}},\"type\":\"scattercarpet\"}],\"scattergeo\":[{\"marker\":{\"colorbar\":{\"outlinewidth\":0,\"ticks\":\"\"}},\"type\":\"scattergeo\"}],\"scattergl\":[{\"marker\":{\"colorbar\":{\"outlinewidth\":0,\"ticks\":\"\"}},\"type\":\"scattergl\"}],\"scattermapbox\":[{\"marker\":{\"colorbar\":{\"outlinewidth\":0,\"ticks\":\"\"}},\"type\":\"scattermapbox\"}],\"scatterpolar\":[{\"marker\":{\"colorbar\":{\"outlinewidth\":0,\"ticks\":\"\"}},\"type\":\"scatterpolar\"}],\"scatterpolargl\":[{\"marker\":{\"colorbar\":{\"outlinewidth\":0,\"ticks\":\"\"}},\"type\":\"scatterpolargl\"}],\"scatterternary\":[{\"marker\":{\"colorbar\":{\"outlinewidth\":0,\"ticks\":\"\"}},\"type\":\"scatterternary\"}],\"surface\":[{\"colorbar\":{\"outlinewidth\":0,\"ticks\":\"\"},\"colorscale\":[[0.0,\"#0d0887\"],[0.1111111111111111,\"#46039f\"],[0.2222222222222222,\"#7201a8\"],[0.3333333333333333,\"#9c179e\"],[0.4444444444444444,\"#bd3786\"],[0.5555555555555556,\"#d8576b\"],[0.6666666666666666,\"#ed7953\"],[0.7777777777777778,\"#fb9f3a\"],[0.8888888888888888,\"#fdca26\"],[1.0,\"#f0f921\"]],\"type\":\"surface\"}],\"table\":[{\"cells\":{\"fill\":{\"color\":\"#EBF0F8\"},\"line\":{\"color\":\"white\"}},\"header\":{\"fill\":{\"color\":\"#C8D4E3\"},\"line\":{\"color\":\"white\"}},\"type\":\"table\"}]},\"layout\":{\"annotationdefaults\":{\"arrowcolor\":\"#2a3f5f\",\"arrowhead\":0,\"arrowwidth\":1},\"autotypenumbers\":\"strict\",\"coloraxis\":{\"colorbar\":{\"outlinewidth\":0,\"ticks\":\"\"}},\"colorscale\":{\"diverging\":[[0,\"#8e0152\"],[0.1,\"#c51b7d\"],[0.2,\"#de77ae\"],[0.3,\"#f1b6da\"],[0.4,\"#fde0ef\"],[0.5,\"#f7f7f7\"],[0.6,\"#e6f5d0\"],[0.7,\"#b8e186\"],[0.8,\"#7fbc41\"],[0.9,\"#4d9221\"],[1,\"#276419\"]],\"sequential\":[[0.0,\"#0d0887\"],[0.1111111111111111,\"#46039f\"],[0.2222222222222222,\"#7201a8\"],[0.3333333333333333,\"#9c179e\"],[0.4444444444444444,\"#bd3786\"],[0.5555555555555556,\"#d8576b\"],[0.6666666666666666,\"#ed7953\"],[0.7777777777777778,\"#fb9f3a\"],[0.8888888888888888,\"#fdca26\"],[1.0,\"#f0f921\"]],\"sequentialminus\":[[0.0,\"#0d0887\"],[0.1111111111111111,\"#46039f\"],[0.2222222222222222,\"#7201a8\"],[0.3333333333333333,\"#9c179e\"],[0.4444444444444444,\"#bd3786\"],[0.5555555555555556,\"#d8576b\"],[0.6666666666666666,\"#ed7953\"],[0.7777777777777778,\"#fb9f3a\"],[0.8888888888888888,\"#fdca26\"],[1.0,\"#f0f921\"]]},\"colorway\":[\"#636efa\",\"#EF553B\",\"#00cc96\",\"#ab63fa\",\"#FFA15A\",\"#19d3f3\",\"#FF6692\",\"#B6E880\",\"#FF97FF\",\"#FECB52\"],\"font\":{\"color\":\"#2a3f5f\"},\"geo\":{\"bgcolor\":\"white\",\"lakecolor\":\"white\",\"landcolor\":\"#E5ECF6\",\"showlakes\":true,\"showland\":true,\"subunitcolor\":\"white\"},\"hoverlabel\":{\"align\":\"left\"},\"hovermode\":\"closest\",\"mapbox\":{\"style\":\"light\"},\"paper_bgcolor\":\"white\",\"plot_bgcolor\":\"#E5ECF6\",\"polar\":{\"angularaxis\":{\"gridcolor\":\"white\",\"linecolor\":\"white\",\"ticks\":\"\"},\"bgcolor\":\"#E5ECF6\",\"radialaxis\":{\"gridcolor\":\"white\",\"linecolor\":\"white\",\"ticks\":\"\"}},\"scene\":{\"xaxis\":{\"backgroundcolor\":\"#E5ECF6\",\"gridcolor\":\"white\",\"gridwidth\":2,\"linecolor\":\"white\",\"showbackground\":true,\"ticks\":\"\",\"zerolinecolor\":\"white\"},\"yaxis\":{\"backgroundcolor\":\"#E5ECF6\",\"gridcolor\":\"white\",\"gridwidth\":2,\"linecolor\":\"white\",\"showbackground\":true,\"ticks\":\"\",\"zerolinecolor\":\"white\"},\"zaxis\":{\"backgroundcolor\":\"#E5ECF6\",\"gridcolor\":\"white\",\"gridwidth\":2,\"linecolor\":\"white\",\"showbackground\":true,\"ticks\":\"\",\"zerolinecolor\":\"white\"}},\"shapedefaults\":{\"line\":{\"color\":\"#2a3f5f\"}},\"ternary\":{\"aaxis\":{\"gridcolor\":\"white\",\"linecolor\":\"white\",\"ticks\":\"\"},\"baxis\":{\"gridcolor\":\"white\",\"linecolor\":\"white\",\"ticks\":\"\"},\"bgcolor\":\"#E5ECF6\",\"caxis\":{\"gridcolor\":\"white\",\"linecolor\":\"white\",\"ticks\":\"\"}},\"title\":{\"x\":0.05},\"xaxis\":{\"automargin\":true,\"gridcolor\":\"white\",\"linecolor\":\"white\",\"ticks\":\"\",\"title\":{\"standoff\":15},\"zerolinecolor\":\"white\",\"zerolinewidth\":2},\"yaxis\":{\"automargin\":true,\"gridcolor\":\"white\",\"linecolor\":\"white\",\"ticks\":\"\",\"title\":{\"standoff\":15},\"zerolinecolor\":\"white\",\"zerolinewidth\":2}}},\"title\":{\"font\":{\"color\":\"#4D5663\"}},\"xaxis\":{\"gridcolor\":\"#E1E5ED\",\"showgrid\":true,\"tickfont\":{\"color\":\"#4D5663\"},\"title\":{\"font\":{\"color\":\"#4D5663\"},\"text\":\"\"},\"zerolinecolor\":\"#E1E5ED\"},\"xaxis2\":{\"anchor\":\"y2\",\"gridcolor\":\"#E1E5ED\",\"showgrid\":true,\"showticklabels\":false,\"tickfont\":{\"color\":\"#4D5663\"},\"title\":{\"font\":{\"color\":\"#4D5663\"},\"text\":\"\"},\"zerolinecolor\":\"#E1E5ED\"},\"yaxis\":{\"domain\":[0.3,1],\"gridcolor\":\"#E1E5ED\",\"showgrid\":true,\"tickfont\":{\"color\":\"#4D5663\"},\"title\":{\"font\":{\"color\":\"#4D5663\"},\"text\":\"\"},\"zerolinecolor\":\"#E1E5ED\"},\"yaxis2\":{\"domain\":[0,0.25],\"gridcolor\":\"#E1E5ED\",\"showgrid\":true,\"tickfont\":{\"color\":\"#4D5663\"},\"title\":{\"font\":{\"color\":\"#4D5663\"},\"text\":\"Spread\"},\"zerolinecolor\":\"#E1E5ED\"}},                        {\"showLink\": true, \"linkText\": \"Export to plot.ly\", \"plotlyServerURL\": \"https://plot.ly\", \"responsive\": true}                    ).then(function(){\n",
       "                            \n",
       "var gd = document.getElementById('4e579c69-80e7-42f3-b2f9-25ae56d3dbc5');\n",
       "var x = new MutationObserver(function (mutations, observer) {{\n",
       "        var display = window.getComputedStyle(gd).display;\n",
       "        if (!display || display === 'none') {{\n",
       "            console.log([gd, 'removed!']);\n",
       "            Plotly.purge(gd);\n",
       "            observer.disconnect();\n",
       "        }}\n",
       "}});\n",
       "\n",
       "// Listen for the removal of the full notebook cells\n",
       "var notebookContainer = gd.closest('#notebook-container');\n",
       "if (notebookContainer) {{\n",
       "    x.observe(notebookContainer, {childList: true});\n",
       "}}\n",
       "\n",
       "// Listen for the clearing of the current output cell\n",
       "var outputEl = gd.closest('.output');\n",
       "if (outputEl) {{\n",
       "    x.observe(outputEl, {childList: true});\n",
       "}}\n",
       "\n",
       "                        })                };                });            </script>        </div>"
      ]
     },
     "metadata": {},
     "output_type": "display_data"
    }
   ],
   "source": [
    "df[['A','B']].iplot(kind='spread')"
   ]
  },
  {
   "cell_type": "markdown",
   "metadata": {},
   "source": [
    "## histogram"
   ]
  },
  {
   "cell_type": "code",
   "execution_count": 16,
   "metadata": {},
   "outputs": [
    {
     "data": {
      "application/vnd.plotly.v1+json": {
       "config": {
        "linkText": "Export to plot.ly",
        "plotlyServerURL": "https://plot.ly",
        "showLink": true
       },
       "data": [
        {
         "histfunc": "count",
         "histnorm": "",
         "marker": {
          "color": "rgba(255, 153, 51, 1.0)",
          "line": {
           "color": "#4D5663",
           "width": 1.3
          }
         },
         "name": "A",
         "nbinsx": 25,
         "opacity": 0.8,
         "orientation": "v",
         "type": "histogram",
         "x": [
          0.19570059565133208,
          -0.11638330238179669,
          -0.5263256747464582,
          0.8610945321778738,
          -0.3345094465099812,
          0.4408512168711264,
          2.0611077294617712,
          1.1374697047856683,
          -2.1227841875235915,
          1.0292971245745437,
          -0.8364203147960749,
          -0.6258215956665029,
          0.32260095981402637,
          -0.5338387260601835,
          0.6554935664092758,
          1.3736166940602932,
          -0.16495693119745544,
          0.24892874967136702,
          -0.29073261749369766,
          -0.4848063202571289,
          0.6565018657582203,
          -0.36886003694137837,
          0.9473286259130218,
          -0.15192208276392827,
          1.2988105359456485,
          0.22536144692944,
          -1.7445131583390414,
          -1.7640829188462417,
          -1.3763078782535882,
          0.44519599256836434,
          -0.8554265172487281,
          -1.3953353375893736,
          -0.17028847631552607,
          1.2440683236221601,
          1.4351880669067858,
          0.7728377529760181,
          -1.0037061329445511,
          -0.2701346533922767,
          0.263104393296739,
          -0.7310213812969807,
          1.2388398269721017,
          0.46366664662763946,
          -0.09545311315395906,
          -0.6499121108716162,
          -0.25047578428123174,
          -0.7127984780688053,
          0.7110061869252203,
          -0.24074269104144155,
          1.1725672162496483,
          -0.039110608379132855,
          -1.6171364298868847,
          0.8312532821658801,
          -0.032679420067335714,
          0.4859103679519266,
          -0.7535388109234928,
          -0.18912123287211038,
          -1.0403500296557093,
          -0.06219828252596251,
          -1.2761097495726967,
          -0.7380962783569485,
          0.046532238213436,
          -0.5253498256135178,
          -0.4033347119360634,
          -0.08742523631256073,
          -0.38926161053757746,
          0.052737864070574125,
          0.3344579681239486,
          -0.10835434406514376,
          0.054127556806846194,
          0.6032359649720735,
          -1.051406108831842,
          0.7540278979632805,
          0.23644120628538473,
          0.1207891181609108,
          0.18499947890991988,
          0.1304225960231744,
          -0.24489518923344927,
          -0.24068375165242298,
          -0.2763643515085313,
          1.2769322738387565,
          0.6250457444879429,
          -0.17985864709213464,
          0.6502686683025198,
          -0.9452275155825481,
          -1.3426584570541529,
          -1.207128794704555,
          -0.2982937118808505,
          0.11118077103631854,
          1.1977346185162063,
          1.068086693648832,
          1.5337007101930478,
          0.129364274914311,
          -0.5267070376888813,
          -0.1507647819590437,
          -0.253644450631918,
          1.304303981456091,
          -1.3622893199635842,
          -0.5479738141889986,
          1.7245967171812724,
          -0.6053625371178464
         ]
        }
       ],
       "layout": {
        "barmode": "overlay",
        "legend": {
         "bgcolor": "#F5F6F9",
         "font": {
          "color": "#4D5663"
         }
        },
        "paper_bgcolor": "#F5F6F9",
        "plot_bgcolor": "#F5F6F9",
        "template": {
         "data": {
          "bar": [
           {
            "error_x": {
             "color": "#2a3f5f"
            },
            "error_y": {
             "color": "#2a3f5f"
            },
            "marker": {
             "line": {
              "color": "#E5ECF6",
              "width": 0.5
             },
             "pattern": {
              "fillmode": "overlay",
              "size": 10,
              "solidity": 0.2
             }
            },
            "type": "bar"
           }
          ],
          "barpolar": [
           {
            "marker": {
             "line": {
              "color": "#E5ECF6",
              "width": 0.5
             },
             "pattern": {
              "fillmode": "overlay",
              "size": 10,
              "solidity": 0.2
             }
            },
            "type": "barpolar"
           }
          ],
          "carpet": [
           {
            "aaxis": {
             "endlinecolor": "#2a3f5f",
             "gridcolor": "white",
             "linecolor": "white",
             "minorgridcolor": "white",
             "startlinecolor": "#2a3f5f"
            },
            "baxis": {
             "endlinecolor": "#2a3f5f",
             "gridcolor": "white",
             "linecolor": "white",
             "minorgridcolor": "white",
             "startlinecolor": "#2a3f5f"
            },
            "type": "carpet"
           }
          ],
          "choropleth": [
           {
            "colorbar": {
             "outlinewidth": 0,
             "ticks": ""
            },
            "type": "choropleth"
           }
          ],
          "contour": [
           {
            "colorbar": {
             "outlinewidth": 0,
             "ticks": ""
            },
            "colorscale": [
             [
              0,
              "#0d0887"
             ],
             [
              0.1111111111111111,
              "#46039f"
             ],
             [
              0.2222222222222222,
              "#7201a8"
             ],
             [
              0.3333333333333333,
              "#9c179e"
             ],
             [
              0.4444444444444444,
              "#bd3786"
             ],
             [
              0.5555555555555556,
              "#d8576b"
             ],
             [
              0.6666666666666666,
              "#ed7953"
             ],
             [
              0.7777777777777778,
              "#fb9f3a"
             ],
             [
              0.8888888888888888,
              "#fdca26"
             ],
             [
              1,
              "#f0f921"
             ]
            ],
            "type": "contour"
           }
          ],
          "contourcarpet": [
           {
            "colorbar": {
             "outlinewidth": 0,
             "ticks": ""
            },
            "type": "contourcarpet"
           }
          ],
          "heatmap": [
           {
            "colorbar": {
             "outlinewidth": 0,
             "ticks": ""
            },
            "colorscale": [
             [
              0,
              "#0d0887"
             ],
             [
              0.1111111111111111,
              "#46039f"
             ],
             [
              0.2222222222222222,
              "#7201a8"
             ],
             [
              0.3333333333333333,
              "#9c179e"
             ],
             [
              0.4444444444444444,
              "#bd3786"
             ],
             [
              0.5555555555555556,
              "#d8576b"
             ],
             [
              0.6666666666666666,
              "#ed7953"
             ],
             [
              0.7777777777777778,
              "#fb9f3a"
             ],
             [
              0.8888888888888888,
              "#fdca26"
             ],
             [
              1,
              "#f0f921"
             ]
            ],
            "type": "heatmap"
           }
          ],
          "heatmapgl": [
           {
            "colorbar": {
             "outlinewidth": 0,
             "ticks": ""
            },
            "colorscale": [
             [
              0,
              "#0d0887"
             ],
             [
              0.1111111111111111,
              "#46039f"
             ],
             [
              0.2222222222222222,
              "#7201a8"
             ],
             [
              0.3333333333333333,
              "#9c179e"
             ],
             [
              0.4444444444444444,
              "#bd3786"
             ],
             [
              0.5555555555555556,
              "#d8576b"
             ],
             [
              0.6666666666666666,
              "#ed7953"
             ],
             [
              0.7777777777777778,
              "#fb9f3a"
             ],
             [
              0.8888888888888888,
              "#fdca26"
             ],
             [
              1,
              "#f0f921"
             ]
            ],
            "type": "heatmapgl"
           }
          ],
          "histogram": [
           {
            "marker": {
             "pattern": {
              "fillmode": "overlay",
              "size": 10,
              "solidity": 0.2
             }
            },
            "type": "histogram"
           }
          ],
          "histogram2d": [
           {
            "colorbar": {
             "outlinewidth": 0,
             "ticks": ""
            },
            "colorscale": [
             [
              0,
              "#0d0887"
             ],
             [
              0.1111111111111111,
              "#46039f"
             ],
             [
              0.2222222222222222,
              "#7201a8"
             ],
             [
              0.3333333333333333,
              "#9c179e"
             ],
             [
              0.4444444444444444,
              "#bd3786"
             ],
             [
              0.5555555555555556,
              "#d8576b"
             ],
             [
              0.6666666666666666,
              "#ed7953"
             ],
             [
              0.7777777777777778,
              "#fb9f3a"
             ],
             [
              0.8888888888888888,
              "#fdca26"
             ],
             [
              1,
              "#f0f921"
             ]
            ],
            "type": "histogram2d"
           }
          ],
          "histogram2dcontour": [
           {
            "colorbar": {
             "outlinewidth": 0,
             "ticks": ""
            },
            "colorscale": [
             [
              0,
              "#0d0887"
             ],
             [
              0.1111111111111111,
              "#46039f"
             ],
             [
              0.2222222222222222,
              "#7201a8"
             ],
             [
              0.3333333333333333,
              "#9c179e"
             ],
             [
              0.4444444444444444,
              "#bd3786"
             ],
             [
              0.5555555555555556,
              "#d8576b"
             ],
             [
              0.6666666666666666,
              "#ed7953"
             ],
             [
              0.7777777777777778,
              "#fb9f3a"
             ],
             [
              0.8888888888888888,
              "#fdca26"
             ],
             [
              1,
              "#f0f921"
             ]
            ],
            "type": "histogram2dcontour"
           }
          ],
          "mesh3d": [
           {
            "colorbar": {
             "outlinewidth": 0,
             "ticks": ""
            },
            "type": "mesh3d"
           }
          ],
          "parcoords": [
           {
            "line": {
             "colorbar": {
              "outlinewidth": 0,
              "ticks": ""
             }
            },
            "type": "parcoords"
           }
          ],
          "pie": [
           {
            "automargin": true,
            "type": "pie"
           }
          ],
          "scatter": [
           {
            "marker": {
             "colorbar": {
              "outlinewidth": 0,
              "ticks": ""
             }
            },
            "type": "scatter"
           }
          ],
          "scatter3d": [
           {
            "line": {
             "colorbar": {
              "outlinewidth": 0,
              "ticks": ""
             }
            },
            "marker": {
             "colorbar": {
              "outlinewidth": 0,
              "ticks": ""
             }
            },
            "type": "scatter3d"
           }
          ],
          "scattercarpet": [
           {
            "marker": {
             "colorbar": {
              "outlinewidth": 0,
              "ticks": ""
             }
            },
            "type": "scattercarpet"
           }
          ],
          "scattergeo": [
           {
            "marker": {
             "colorbar": {
              "outlinewidth": 0,
              "ticks": ""
             }
            },
            "type": "scattergeo"
           }
          ],
          "scattergl": [
           {
            "marker": {
             "colorbar": {
              "outlinewidth": 0,
              "ticks": ""
             }
            },
            "type": "scattergl"
           }
          ],
          "scattermapbox": [
           {
            "marker": {
             "colorbar": {
              "outlinewidth": 0,
              "ticks": ""
             }
            },
            "type": "scattermapbox"
           }
          ],
          "scatterpolar": [
           {
            "marker": {
             "colorbar": {
              "outlinewidth": 0,
              "ticks": ""
             }
            },
            "type": "scatterpolar"
           }
          ],
          "scatterpolargl": [
           {
            "marker": {
             "colorbar": {
              "outlinewidth": 0,
              "ticks": ""
             }
            },
            "type": "scatterpolargl"
           }
          ],
          "scatterternary": [
           {
            "marker": {
             "colorbar": {
              "outlinewidth": 0,
              "ticks": ""
             }
            },
            "type": "scatterternary"
           }
          ],
          "surface": [
           {
            "colorbar": {
             "outlinewidth": 0,
             "ticks": ""
            },
            "colorscale": [
             [
              0,
              "#0d0887"
             ],
             [
              0.1111111111111111,
              "#46039f"
             ],
             [
              0.2222222222222222,
              "#7201a8"
             ],
             [
              0.3333333333333333,
              "#9c179e"
             ],
             [
              0.4444444444444444,
              "#bd3786"
             ],
             [
              0.5555555555555556,
              "#d8576b"
             ],
             [
              0.6666666666666666,
              "#ed7953"
             ],
             [
              0.7777777777777778,
              "#fb9f3a"
             ],
             [
              0.8888888888888888,
              "#fdca26"
             ],
             [
              1,
              "#f0f921"
             ]
            ],
            "type": "surface"
           }
          ],
          "table": [
           {
            "cells": {
             "fill": {
              "color": "#EBF0F8"
             },
             "line": {
              "color": "white"
             }
            },
            "header": {
             "fill": {
              "color": "#C8D4E3"
             },
             "line": {
              "color": "white"
             }
            },
            "type": "table"
           }
          ]
         },
         "layout": {
          "annotationdefaults": {
           "arrowcolor": "#2a3f5f",
           "arrowhead": 0,
           "arrowwidth": 1
          },
          "autotypenumbers": "strict",
          "coloraxis": {
           "colorbar": {
            "outlinewidth": 0,
            "ticks": ""
           }
          },
          "colorscale": {
           "diverging": [
            [
             0,
             "#8e0152"
            ],
            [
             0.1,
             "#c51b7d"
            ],
            [
             0.2,
             "#de77ae"
            ],
            [
             0.3,
             "#f1b6da"
            ],
            [
             0.4,
             "#fde0ef"
            ],
            [
             0.5,
             "#f7f7f7"
            ],
            [
             0.6,
             "#e6f5d0"
            ],
            [
             0.7,
             "#b8e186"
            ],
            [
             0.8,
             "#7fbc41"
            ],
            [
             0.9,
             "#4d9221"
            ],
            [
             1,
             "#276419"
            ]
           ],
           "sequential": [
            [
             0,
             "#0d0887"
            ],
            [
             0.1111111111111111,
             "#46039f"
            ],
            [
             0.2222222222222222,
             "#7201a8"
            ],
            [
             0.3333333333333333,
             "#9c179e"
            ],
            [
             0.4444444444444444,
             "#bd3786"
            ],
            [
             0.5555555555555556,
             "#d8576b"
            ],
            [
             0.6666666666666666,
             "#ed7953"
            ],
            [
             0.7777777777777778,
             "#fb9f3a"
            ],
            [
             0.8888888888888888,
             "#fdca26"
            ],
            [
             1,
             "#f0f921"
            ]
           ],
           "sequentialminus": [
            [
             0,
             "#0d0887"
            ],
            [
             0.1111111111111111,
             "#46039f"
            ],
            [
             0.2222222222222222,
             "#7201a8"
            ],
            [
             0.3333333333333333,
             "#9c179e"
            ],
            [
             0.4444444444444444,
             "#bd3786"
            ],
            [
             0.5555555555555556,
             "#d8576b"
            ],
            [
             0.6666666666666666,
             "#ed7953"
            ],
            [
             0.7777777777777778,
             "#fb9f3a"
            ],
            [
             0.8888888888888888,
             "#fdca26"
            ],
            [
             1,
             "#f0f921"
            ]
           ]
          },
          "colorway": [
           "#636efa",
           "#EF553B",
           "#00cc96",
           "#ab63fa",
           "#FFA15A",
           "#19d3f3",
           "#FF6692",
           "#B6E880",
           "#FF97FF",
           "#FECB52"
          ],
          "font": {
           "color": "#2a3f5f"
          },
          "geo": {
           "bgcolor": "white",
           "lakecolor": "white",
           "landcolor": "#E5ECF6",
           "showlakes": true,
           "showland": true,
           "subunitcolor": "white"
          },
          "hoverlabel": {
           "align": "left"
          },
          "hovermode": "closest",
          "mapbox": {
           "style": "light"
          },
          "paper_bgcolor": "white",
          "plot_bgcolor": "#E5ECF6",
          "polar": {
           "angularaxis": {
            "gridcolor": "white",
            "linecolor": "white",
            "ticks": ""
           },
           "bgcolor": "#E5ECF6",
           "radialaxis": {
            "gridcolor": "white",
            "linecolor": "white",
            "ticks": ""
           }
          },
          "scene": {
           "xaxis": {
            "backgroundcolor": "#E5ECF6",
            "gridcolor": "white",
            "gridwidth": 2,
            "linecolor": "white",
            "showbackground": true,
            "ticks": "",
            "zerolinecolor": "white"
           },
           "yaxis": {
            "backgroundcolor": "#E5ECF6",
            "gridcolor": "white",
            "gridwidth": 2,
            "linecolor": "white",
            "showbackground": true,
            "ticks": "",
            "zerolinecolor": "white"
           },
           "zaxis": {
            "backgroundcolor": "#E5ECF6",
            "gridcolor": "white",
            "gridwidth": 2,
            "linecolor": "white",
            "showbackground": true,
            "ticks": "",
            "zerolinecolor": "white"
           }
          },
          "shapedefaults": {
           "line": {
            "color": "#2a3f5f"
           }
          },
          "ternary": {
           "aaxis": {
            "gridcolor": "white",
            "linecolor": "white",
            "ticks": ""
           },
           "baxis": {
            "gridcolor": "white",
            "linecolor": "white",
            "ticks": ""
           },
           "bgcolor": "#E5ECF6",
           "caxis": {
            "gridcolor": "white",
            "linecolor": "white",
            "ticks": ""
           }
          },
          "title": {
           "x": 0.05
          },
          "xaxis": {
           "automargin": true,
           "gridcolor": "white",
           "linecolor": "white",
           "ticks": "",
           "title": {
            "standoff": 15
           },
           "zerolinecolor": "white",
           "zerolinewidth": 2
          },
          "yaxis": {
           "automargin": true,
           "gridcolor": "white",
           "linecolor": "white",
           "ticks": "",
           "title": {
            "standoff": 15
           },
           "zerolinecolor": "white",
           "zerolinewidth": 2
          }
         }
        },
        "title": {
         "font": {
          "color": "#4D5663"
         }
        },
        "xaxis": {
         "gridcolor": "#E1E5ED",
         "showgrid": true,
         "tickfont": {
          "color": "#4D5663"
         },
         "title": {
          "font": {
           "color": "#4D5663"
          },
          "text": ""
         },
         "zerolinecolor": "#E1E5ED"
        },
        "yaxis": {
         "gridcolor": "#E1E5ED",
         "showgrid": true,
         "tickfont": {
          "color": "#4D5663"
         },
         "title": {
          "font": {
           "color": "#4D5663"
          },
          "text": ""
         },
         "zerolinecolor": "#E1E5ED"
        }
       }
      },
      "text/html": [
       "<div>                            <div id=\"0c605aa8-e612-4761-9aea-956dce21387f\" class=\"plotly-graph-div\" style=\"height:525px; width:100%;\"></div>            <script type=\"text/javascript\">                require([\"plotly\"], function(Plotly) {                    window.PLOTLYENV=window.PLOTLYENV || {};\n",
       "                    window.PLOTLYENV.BASE_URL='https://plot.ly';                                    if (document.getElementById(\"0c605aa8-e612-4761-9aea-956dce21387f\")) {                    Plotly.newPlot(                        \"0c605aa8-e612-4761-9aea-956dce21387f\",                        [{\"histfunc\":\"count\",\"histnorm\":\"\",\"marker\":{\"color\":\"rgba(255, 153, 51, 1.0)\",\"line\":{\"color\":\"#4D5663\",\"width\":1.3}},\"name\":\"A\",\"nbinsx\":25,\"opacity\":0.8,\"orientation\":\"v\",\"type\":\"histogram\",\"x\":[0.19570059565133208,-0.11638330238179669,-0.5263256747464582,0.8610945321778738,-0.3345094465099812,0.4408512168711264,2.0611077294617712,1.1374697047856683,-2.1227841875235915,1.0292971245745437,-0.8364203147960749,-0.6258215956665029,0.32260095981402637,-0.5338387260601835,0.6554935664092758,1.3736166940602932,-0.16495693119745544,0.24892874967136702,-0.29073261749369766,-0.4848063202571289,0.6565018657582203,-0.36886003694137837,0.9473286259130218,-0.15192208276392827,1.2988105359456485,0.22536144692944,-1.7445131583390414,-1.7640829188462417,-1.3763078782535882,0.44519599256836434,-0.8554265172487281,-1.3953353375893736,-0.17028847631552607,1.2440683236221601,1.4351880669067858,0.7728377529760181,-1.0037061329445511,-0.2701346533922767,0.263104393296739,-0.7310213812969807,1.2388398269721017,0.46366664662763946,-0.09545311315395906,-0.6499121108716162,-0.25047578428123174,-0.7127984780688053,0.7110061869252203,-0.24074269104144155,1.1725672162496483,-0.039110608379132855,-1.6171364298868847,0.8312532821658801,-0.032679420067335714,0.4859103679519266,-0.7535388109234928,-0.18912123287211038,-1.0403500296557093,-0.06219828252596251,-1.2761097495726967,-0.7380962783569485,0.046532238213436,-0.5253498256135178,-0.4033347119360634,-0.08742523631256073,-0.38926161053757746,0.052737864070574125,0.3344579681239486,-0.10835434406514376,0.054127556806846194,0.6032359649720735,-1.051406108831842,0.7540278979632805,0.23644120628538473,0.1207891181609108,0.18499947890991988,0.1304225960231744,-0.24489518923344927,-0.24068375165242298,-0.2763643515085313,1.2769322738387565,0.6250457444879429,-0.17985864709213464,0.6502686683025198,-0.9452275155825481,-1.3426584570541529,-1.207128794704555,-0.2982937118808505,0.11118077103631854,1.1977346185162063,1.068086693648832,1.5337007101930478,0.129364274914311,-0.5267070376888813,-0.1507647819590437,-0.253644450631918,1.304303981456091,-1.3622893199635842,-0.5479738141889986,1.7245967171812724,-0.6053625371178464]}],                        {\"barmode\":\"overlay\",\"legend\":{\"bgcolor\":\"#F5F6F9\",\"font\":{\"color\":\"#4D5663\"}},\"paper_bgcolor\":\"#F5F6F9\",\"plot_bgcolor\":\"#F5F6F9\",\"template\":{\"data\":{\"bar\":[{\"error_x\":{\"color\":\"#2a3f5f\"},\"error_y\":{\"color\":\"#2a3f5f\"},\"marker\":{\"line\":{\"color\":\"#E5ECF6\",\"width\":0.5},\"pattern\":{\"fillmode\":\"overlay\",\"size\":10,\"solidity\":0.2}},\"type\":\"bar\"}],\"barpolar\":[{\"marker\":{\"line\":{\"color\":\"#E5ECF6\",\"width\":0.5},\"pattern\":{\"fillmode\":\"overlay\",\"size\":10,\"solidity\":0.2}},\"type\":\"barpolar\"}],\"carpet\":[{\"aaxis\":{\"endlinecolor\":\"#2a3f5f\",\"gridcolor\":\"white\",\"linecolor\":\"white\",\"minorgridcolor\":\"white\",\"startlinecolor\":\"#2a3f5f\"},\"baxis\":{\"endlinecolor\":\"#2a3f5f\",\"gridcolor\":\"white\",\"linecolor\":\"white\",\"minorgridcolor\":\"white\",\"startlinecolor\":\"#2a3f5f\"},\"type\":\"carpet\"}],\"choropleth\":[{\"colorbar\":{\"outlinewidth\":0,\"ticks\":\"\"},\"type\":\"choropleth\"}],\"contour\":[{\"colorbar\":{\"outlinewidth\":0,\"ticks\":\"\"},\"colorscale\":[[0.0,\"#0d0887\"],[0.1111111111111111,\"#46039f\"],[0.2222222222222222,\"#7201a8\"],[0.3333333333333333,\"#9c179e\"],[0.4444444444444444,\"#bd3786\"],[0.5555555555555556,\"#d8576b\"],[0.6666666666666666,\"#ed7953\"],[0.7777777777777778,\"#fb9f3a\"],[0.8888888888888888,\"#fdca26\"],[1.0,\"#f0f921\"]],\"type\":\"contour\"}],\"contourcarpet\":[{\"colorbar\":{\"outlinewidth\":0,\"ticks\":\"\"},\"type\":\"contourcarpet\"}],\"heatmap\":[{\"colorbar\":{\"outlinewidth\":0,\"ticks\":\"\"},\"colorscale\":[[0.0,\"#0d0887\"],[0.1111111111111111,\"#46039f\"],[0.2222222222222222,\"#7201a8\"],[0.3333333333333333,\"#9c179e\"],[0.4444444444444444,\"#bd3786\"],[0.5555555555555556,\"#d8576b\"],[0.6666666666666666,\"#ed7953\"],[0.7777777777777778,\"#fb9f3a\"],[0.8888888888888888,\"#fdca26\"],[1.0,\"#f0f921\"]],\"type\":\"heatmap\"}],\"heatmapgl\":[{\"colorbar\":{\"outlinewidth\":0,\"ticks\":\"\"},\"colorscale\":[[0.0,\"#0d0887\"],[0.1111111111111111,\"#46039f\"],[0.2222222222222222,\"#7201a8\"],[0.3333333333333333,\"#9c179e\"],[0.4444444444444444,\"#bd3786\"],[0.5555555555555556,\"#d8576b\"],[0.6666666666666666,\"#ed7953\"],[0.7777777777777778,\"#fb9f3a\"],[0.8888888888888888,\"#fdca26\"],[1.0,\"#f0f921\"]],\"type\":\"heatmapgl\"}],\"histogram\":[{\"marker\":{\"pattern\":{\"fillmode\":\"overlay\",\"size\":10,\"solidity\":0.2}},\"type\":\"histogram\"}],\"histogram2d\":[{\"colorbar\":{\"outlinewidth\":0,\"ticks\":\"\"},\"colorscale\":[[0.0,\"#0d0887\"],[0.1111111111111111,\"#46039f\"],[0.2222222222222222,\"#7201a8\"],[0.3333333333333333,\"#9c179e\"],[0.4444444444444444,\"#bd3786\"],[0.5555555555555556,\"#d8576b\"],[0.6666666666666666,\"#ed7953\"],[0.7777777777777778,\"#fb9f3a\"],[0.8888888888888888,\"#fdca26\"],[1.0,\"#f0f921\"]],\"type\":\"histogram2d\"}],\"histogram2dcontour\":[{\"colorbar\":{\"outlinewidth\":0,\"ticks\":\"\"},\"colorscale\":[[0.0,\"#0d0887\"],[0.1111111111111111,\"#46039f\"],[0.2222222222222222,\"#7201a8\"],[0.3333333333333333,\"#9c179e\"],[0.4444444444444444,\"#bd3786\"],[0.5555555555555556,\"#d8576b\"],[0.6666666666666666,\"#ed7953\"],[0.7777777777777778,\"#fb9f3a\"],[0.8888888888888888,\"#fdca26\"],[1.0,\"#f0f921\"]],\"type\":\"histogram2dcontour\"}],\"mesh3d\":[{\"colorbar\":{\"outlinewidth\":0,\"ticks\":\"\"},\"type\":\"mesh3d\"}],\"parcoords\":[{\"line\":{\"colorbar\":{\"outlinewidth\":0,\"ticks\":\"\"}},\"type\":\"parcoords\"}],\"pie\":[{\"automargin\":true,\"type\":\"pie\"}],\"scatter\":[{\"marker\":{\"colorbar\":{\"outlinewidth\":0,\"ticks\":\"\"}},\"type\":\"scatter\"}],\"scatter3d\":[{\"line\":{\"colorbar\":{\"outlinewidth\":0,\"ticks\":\"\"}},\"marker\":{\"colorbar\":{\"outlinewidth\":0,\"ticks\":\"\"}},\"type\":\"scatter3d\"}],\"scattercarpet\":[{\"marker\":{\"colorbar\":{\"outlinewidth\":0,\"ticks\":\"\"}},\"type\":\"scattercarpet\"}],\"scattergeo\":[{\"marker\":{\"colorbar\":{\"outlinewidth\":0,\"ticks\":\"\"}},\"type\":\"scattergeo\"}],\"scattergl\":[{\"marker\":{\"colorbar\":{\"outlinewidth\":0,\"ticks\":\"\"}},\"type\":\"scattergl\"}],\"scattermapbox\":[{\"marker\":{\"colorbar\":{\"outlinewidth\":0,\"ticks\":\"\"}},\"type\":\"scattermapbox\"}],\"scatterpolar\":[{\"marker\":{\"colorbar\":{\"outlinewidth\":0,\"ticks\":\"\"}},\"type\":\"scatterpolar\"}],\"scatterpolargl\":[{\"marker\":{\"colorbar\":{\"outlinewidth\":0,\"ticks\":\"\"}},\"type\":\"scatterpolargl\"}],\"scatterternary\":[{\"marker\":{\"colorbar\":{\"outlinewidth\":0,\"ticks\":\"\"}},\"type\":\"scatterternary\"}],\"surface\":[{\"colorbar\":{\"outlinewidth\":0,\"ticks\":\"\"},\"colorscale\":[[0.0,\"#0d0887\"],[0.1111111111111111,\"#46039f\"],[0.2222222222222222,\"#7201a8\"],[0.3333333333333333,\"#9c179e\"],[0.4444444444444444,\"#bd3786\"],[0.5555555555555556,\"#d8576b\"],[0.6666666666666666,\"#ed7953\"],[0.7777777777777778,\"#fb9f3a\"],[0.8888888888888888,\"#fdca26\"],[1.0,\"#f0f921\"]],\"type\":\"surface\"}],\"table\":[{\"cells\":{\"fill\":{\"color\":\"#EBF0F8\"},\"line\":{\"color\":\"white\"}},\"header\":{\"fill\":{\"color\":\"#C8D4E3\"},\"line\":{\"color\":\"white\"}},\"type\":\"table\"}]},\"layout\":{\"annotationdefaults\":{\"arrowcolor\":\"#2a3f5f\",\"arrowhead\":0,\"arrowwidth\":1},\"autotypenumbers\":\"strict\",\"coloraxis\":{\"colorbar\":{\"outlinewidth\":0,\"ticks\":\"\"}},\"colorscale\":{\"diverging\":[[0,\"#8e0152\"],[0.1,\"#c51b7d\"],[0.2,\"#de77ae\"],[0.3,\"#f1b6da\"],[0.4,\"#fde0ef\"],[0.5,\"#f7f7f7\"],[0.6,\"#e6f5d0\"],[0.7,\"#b8e186\"],[0.8,\"#7fbc41\"],[0.9,\"#4d9221\"],[1,\"#276419\"]],\"sequential\":[[0.0,\"#0d0887\"],[0.1111111111111111,\"#46039f\"],[0.2222222222222222,\"#7201a8\"],[0.3333333333333333,\"#9c179e\"],[0.4444444444444444,\"#bd3786\"],[0.5555555555555556,\"#d8576b\"],[0.6666666666666666,\"#ed7953\"],[0.7777777777777778,\"#fb9f3a\"],[0.8888888888888888,\"#fdca26\"],[1.0,\"#f0f921\"]],\"sequentialminus\":[[0.0,\"#0d0887\"],[0.1111111111111111,\"#46039f\"],[0.2222222222222222,\"#7201a8\"],[0.3333333333333333,\"#9c179e\"],[0.4444444444444444,\"#bd3786\"],[0.5555555555555556,\"#d8576b\"],[0.6666666666666666,\"#ed7953\"],[0.7777777777777778,\"#fb9f3a\"],[0.8888888888888888,\"#fdca26\"],[1.0,\"#f0f921\"]]},\"colorway\":[\"#636efa\",\"#EF553B\",\"#00cc96\",\"#ab63fa\",\"#FFA15A\",\"#19d3f3\",\"#FF6692\",\"#B6E880\",\"#FF97FF\",\"#FECB52\"],\"font\":{\"color\":\"#2a3f5f\"},\"geo\":{\"bgcolor\":\"white\",\"lakecolor\":\"white\",\"landcolor\":\"#E5ECF6\",\"showlakes\":true,\"showland\":true,\"subunitcolor\":\"white\"},\"hoverlabel\":{\"align\":\"left\"},\"hovermode\":\"closest\",\"mapbox\":{\"style\":\"light\"},\"paper_bgcolor\":\"white\",\"plot_bgcolor\":\"#E5ECF6\",\"polar\":{\"angularaxis\":{\"gridcolor\":\"white\",\"linecolor\":\"white\",\"ticks\":\"\"},\"bgcolor\":\"#E5ECF6\",\"radialaxis\":{\"gridcolor\":\"white\",\"linecolor\":\"white\",\"ticks\":\"\"}},\"scene\":{\"xaxis\":{\"backgroundcolor\":\"#E5ECF6\",\"gridcolor\":\"white\",\"gridwidth\":2,\"linecolor\":\"white\",\"showbackground\":true,\"ticks\":\"\",\"zerolinecolor\":\"white\"},\"yaxis\":{\"backgroundcolor\":\"#E5ECF6\",\"gridcolor\":\"white\",\"gridwidth\":2,\"linecolor\":\"white\",\"showbackground\":true,\"ticks\":\"\",\"zerolinecolor\":\"white\"},\"zaxis\":{\"backgroundcolor\":\"#E5ECF6\",\"gridcolor\":\"white\",\"gridwidth\":2,\"linecolor\":\"white\",\"showbackground\":true,\"ticks\":\"\",\"zerolinecolor\":\"white\"}},\"shapedefaults\":{\"line\":{\"color\":\"#2a3f5f\"}},\"ternary\":{\"aaxis\":{\"gridcolor\":\"white\",\"linecolor\":\"white\",\"ticks\":\"\"},\"baxis\":{\"gridcolor\":\"white\",\"linecolor\":\"white\",\"ticks\":\"\"},\"bgcolor\":\"#E5ECF6\",\"caxis\":{\"gridcolor\":\"white\",\"linecolor\":\"white\",\"ticks\":\"\"}},\"title\":{\"x\":0.05},\"xaxis\":{\"automargin\":true,\"gridcolor\":\"white\",\"linecolor\":\"white\",\"ticks\":\"\",\"title\":{\"standoff\":15},\"zerolinecolor\":\"white\",\"zerolinewidth\":2},\"yaxis\":{\"automargin\":true,\"gridcolor\":\"white\",\"linecolor\":\"white\",\"ticks\":\"\",\"title\":{\"standoff\":15},\"zerolinecolor\":\"white\",\"zerolinewidth\":2}}},\"title\":{\"font\":{\"color\":\"#4D5663\"}},\"xaxis\":{\"gridcolor\":\"#E1E5ED\",\"showgrid\":true,\"tickfont\":{\"color\":\"#4D5663\"},\"title\":{\"font\":{\"color\":\"#4D5663\"},\"text\":\"\"},\"zerolinecolor\":\"#E1E5ED\"},\"yaxis\":{\"gridcolor\":\"#E1E5ED\",\"showgrid\":true,\"tickfont\":{\"color\":\"#4D5663\"},\"title\":{\"font\":{\"color\":\"#4D5663\"},\"text\":\"\"},\"zerolinecolor\":\"#E1E5ED\"}},                        {\"showLink\": true, \"linkText\": \"Export to plot.ly\", \"plotlyServerURL\": \"https://plot.ly\", \"responsive\": true}                    ).then(function(){\n",
       "                            \n",
       "var gd = document.getElementById('0c605aa8-e612-4761-9aea-956dce21387f');\n",
       "var x = new MutationObserver(function (mutations, observer) {{\n",
       "        var display = window.getComputedStyle(gd).display;\n",
       "        if (!display || display === 'none') {{\n",
       "            console.log([gd, 'removed!']);\n",
       "            Plotly.purge(gd);\n",
       "            observer.disconnect();\n",
       "        }}\n",
       "}});\n",
       "\n",
       "// Listen for the removal of the full notebook cells\n",
       "var notebookContainer = gd.closest('#notebook-container');\n",
       "if (notebookContainer) {{\n",
       "    x.observe(notebookContainer, {childList: true});\n",
       "}}\n",
       "\n",
       "// Listen for the clearing of the current output cell\n",
       "var outputEl = gd.closest('.output');\n",
       "if (outputEl) {{\n",
       "    x.observe(outputEl, {childList: true});\n",
       "}}\n",
       "\n",
       "                        })                };                });            </script>        </div>"
      ]
     },
     "metadata": {},
     "output_type": "display_data"
    }
   ],
   "source": [
    "df['A'].iplot(kind='hist',bins=25)"
   ]
  },
  {
   "cell_type": "code",
   "execution_count": 17,
   "metadata": {},
   "outputs": [
    {
     "data": {
      "application/vnd.plotly.v1+json": {
       "config": {
        "linkText": "Export to plot.ly",
        "plotlyServerURL": "https://plot.ly",
        "showLink": true
       },
       "data": [
        {
         "marker": {
          "color": [
           "rgb(255, 153, 51)",
           "rgb(55, 128, 191)",
           "rgb(50, 171, 96)",
           "rgb(128, 0, 128)",
           "rgb(219, 64, 82)",
           "rgb(0, 128, 128)",
           "rgb(255, 255, 51)",
           "rgb(128, 128, 0)",
           "rgb(251, 128, 114)",
           "rgb(128, 177, 211)"
          ],
          "line": {
           "width": 1.3
          },
          "size": [
           58,
           73,
           88,
           33,
           69,
           34,
           65,
           33,
           42,
           41,
           69,
           55,
           33,
           45,
           31,
           80,
           59,
           86,
           107,
           12,
           20,
           62,
           32,
           85,
           68,
           31,
           78,
           72,
           54,
           26,
           44,
           27,
           34,
           62,
           54,
           64,
           65,
           59,
           25,
           38,
           64,
           49,
           51,
           34,
           53,
           68,
           71,
           54,
           44,
           108,
           74,
           64,
           44,
           68,
           63,
           72,
           45,
           26,
           76,
           77,
           87,
           35,
           50,
           39,
           64,
           42,
           62,
           55,
           29,
           45,
           63,
           68,
           24,
           68,
           57,
           80,
           66,
           105,
           72,
           82,
           112,
           29,
           37,
           30,
           51,
           69,
           72,
           46,
           67,
           20,
           62,
           99,
           75,
           20,
           84,
           50,
           61,
           35,
           37,
           41
          ],
          "symbol": "circle"
         },
         "mode": "markers",
         "text": "",
         "type": "scatter",
         "x": [
          0.19570059565133208,
          -0.11638330238179669,
          -0.5263256747464582,
          0.8610945321778738,
          -0.3345094465099812,
          0.4408512168711264,
          2.0611077294617712,
          1.1374697047856683,
          -2.1227841875235915,
          1.0292971245745437,
          -0.8364203147960749,
          -0.6258215956665029,
          0.32260095981402637,
          -0.5338387260601835,
          0.6554935664092758,
          1.3736166940602932,
          -0.16495693119745544,
          0.24892874967136702,
          -0.29073261749369766,
          -0.4848063202571289,
          0.6565018657582203,
          -0.36886003694137837,
          0.9473286259130218,
          -0.15192208276392827,
          1.2988105359456485,
          0.22536144692944,
          -1.7445131583390414,
          -1.7640829188462417,
          -1.3763078782535882,
          0.44519599256836434,
          -0.8554265172487281,
          -1.3953353375893736,
          -0.17028847631552607,
          1.2440683236221601,
          1.4351880669067858,
          0.7728377529760181,
          -1.0037061329445511,
          -0.2701346533922767,
          0.263104393296739,
          -0.7310213812969807,
          1.2388398269721017,
          0.46366664662763946,
          -0.09545311315395906,
          -0.6499121108716162,
          -0.25047578428123174,
          -0.7127984780688053,
          0.7110061869252203,
          -0.24074269104144155,
          1.1725672162496483,
          -0.039110608379132855,
          -1.6171364298868847,
          0.8312532821658801,
          -0.032679420067335714,
          0.4859103679519266,
          -0.7535388109234928,
          -0.18912123287211038,
          -1.0403500296557093,
          -0.06219828252596251,
          -1.2761097495726967,
          -0.7380962783569485,
          0.046532238213436,
          -0.5253498256135178,
          -0.4033347119360634,
          -0.08742523631256073,
          -0.38926161053757746,
          0.052737864070574125,
          0.3344579681239486,
          -0.10835434406514376,
          0.054127556806846194,
          0.6032359649720735,
          -1.051406108831842,
          0.7540278979632805,
          0.23644120628538473,
          0.1207891181609108,
          0.18499947890991988,
          0.1304225960231744,
          -0.24489518923344927,
          -0.24068375165242298,
          -0.2763643515085313,
          1.2769322738387565,
          0.6250457444879429,
          -0.17985864709213464,
          0.6502686683025198,
          -0.9452275155825481,
          -1.3426584570541529,
          -1.207128794704555,
          -0.2982937118808505,
          0.11118077103631854,
          1.1977346185162063,
          1.068086693648832,
          1.5337007101930478,
          0.129364274914311,
          -0.5267070376888813,
          -0.1507647819590437,
          -0.253644450631918,
          1.304303981456091,
          -1.3622893199635842,
          -0.5479738141889986,
          1.7245967171812724,
          -0.6053625371178464
         ],
         "y": [
          -1.9039051872194404,
          0.41567584575502137,
          -0.8500551105602945,
          -1.671415698067484,
          0.34902348200098277,
          0.5397321899986275,
          0.7822989116806651,
          -0.7181762676338362,
          -1.6048847969742268,
          -0.28390524053597044,
          -0.2544920313036875,
          0.6580987147545254,
          0.2905384073895607,
          -0.6479322773424703,
          1.4560026616500317,
          -0.4536461754780206,
          0.7004603745030877,
          -1.5464930754789366,
          -0.16322468517313587,
          -0.7548093771049874,
          0.6659135464236476,
          2.059981525156413,
          -0.884493064348931,
          -0.38156249622353255,
          0.19262367405809266,
          0.5473919628467429,
          1.547864817081784,
          0.7295495737738722,
          -1.0412645454837997,
          -1.4386762374682316,
          0.649166310831736,
          -2.3441776498198332,
          -0.2471046319944664,
          0.30042921252640914,
          -1.4319025000255197,
          -0.39701453731115993,
          2.369867746154535,
          -0.5926917296631201,
          -0.2987824930791812,
          -0.4728537299883391,
          2.1497965061361333,
          1.2177318058678004,
          -0.3136206903877042,
          1.6492744026324628,
          -0.9269217399175947,
          0.3175296680171701,
          2.4208137981136284,
          -0.4232717640908274,
          -0.032071324577330126,
          -1.6133508281147728,
          0.30110401618146465,
          -1.6943928569303872,
          0.02329836798108102,
          -0.6582175383544171,
          -0.9231732652496449,
          -0.3665566365075626,
          0.4846993344503613,
          1.104977891592252,
          -0.9035272204986705,
          -0.12985610274943768,
          -0.1821179267844909,
          -0.15059695921959254,
          0.28568805152605853,
          -1.1989949589496258,
          0.017817989819181007,
          -0.34868779585261733,
          -1.3128165938969547,
          2.7361308864903373,
          0.14705769934721588,
          1.7839586180818037,
          0.2792922855416744,
          -0.7230348685840761,
          -1.4779738212518898,
          -1.4618062917125283,
          1.9703481657211541,
          1.2676591244598243,
          0.22817150219098725,
          0.8577007057173187,
          -1.2560616239825597,
          -0.9302539650051844,
          1.1963756510029406,
          0.5267467063123779,
          -0.1348262964779555,
          -0.30604736190366066,
          0.022555198762383655,
          -0.16793166099803278,
          0.6500910390970416,
          -1.650632391323068,
          -1.9996797908113744,
          1.0858725584498004,
          0.005392031409097878,
          1.7117229874270576,
          0.4965048249908904,
          -0.6806504054977754,
          -0.41912197067726653,
          0.3686131823036771,
          -0.3102240940882463,
          -0.5326242897864948,
          0.13540925071550378,
          1.2241412510202085
         ]
        }
       ],
       "layout": {
        "legend": {
         "bgcolor": "#F5F6F9",
         "font": {
          "color": "#4D5663"
         }
        },
        "paper_bgcolor": "#F5F6F9",
        "plot_bgcolor": "#F5F6F9",
        "template": {
         "data": {
          "bar": [
           {
            "error_x": {
             "color": "#2a3f5f"
            },
            "error_y": {
             "color": "#2a3f5f"
            },
            "marker": {
             "line": {
              "color": "#E5ECF6",
              "width": 0.5
             },
             "pattern": {
              "fillmode": "overlay",
              "size": 10,
              "solidity": 0.2
             }
            },
            "type": "bar"
           }
          ],
          "barpolar": [
           {
            "marker": {
             "line": {
              "color": "#E5ECF6",
              "width": 0.5
             },
             "pattern": {
              "fillmode": "overlay",
              "size": 10,
              "solidity": 0.2
             }
            },
            "type": "barpolar"
           }
          ],
          "carpet": [
           {
            "aaxis": {
             "endlinecolor": "#2a3f5f",
             "gridcolor": "white",
             "linecolor": "white",
             "minorgridcolor": "white",
             "startlinecolor": "#2a3f5f"
            },
            "baxis": {
             "endlinecolor": "#2a3f5f",
             "gridcolor": "white",
             "linecolor": "white",
             "minorgridcolor": "white",
             "startlinecolor": "#2a3f5f"
            },
            "type": "carpet"
           }
          ],
          "choropleth": [
           {
            "colorbar": {
             "outlinewidth": 0,
             "ticks": ""
            },
            "type": "choropleth"
           }
          ],
          "contour": [
           {
            "colorbar": {
             "outlinewidth": 0,
             "ticks": ""
            },
            "colorscale": [
             [
              0,
              "#0d0887"
             ],
             [
              0.1111111111111111,
              "#46039f"
             ],
             [
              0.2222222222222222,
              "#7201a8"
             ],
             [
              0.3333333333333333,
              "#9c179e"
             ],
             [
              0.4444444444444444,
              "#bd3786"
             ],
             [
              0.5555555555555556,
              "#d8576b"
             ],
             [
              0.6666666666666666,
              "#ed7953"
             ],
             [
              0.7777777777777778,
              "#fb9f3a"
             ],
             [
              0.8888888888888888,
              "#fdca26"
             ],
             [
              1,
              "#f0f921"
             ]
            ],
            "type": "contour"
           }
          ],
          "contourcarpet": [
           {
            "colorbar": {
             "outlinewidth": 0,
             "ticks": ""
            },
            "type": "contourcarpet"
           }
          ],
          "heatmap": [
           {
            "colorbar": {
             "outlinewidth": 0,
             "ticks": ""
            },
            "colorscale": [
             [
              0,
              "#0d0887"
             ],
             [
              0.1111111111111111,
              "#46039f"
             ],
             [
              0.2222222222222222,
              "#7201a8"
             ],
             [
              0.3333333333333333,
              "#9c179e"
             ],
             [
              0.4444444444444444,
              "#bd3786"
             ],
             [
              0.5555555555555556,
              "#d8576b"
             ],
             [
              0.6666666666666666,
              "#ed7953"
             ],
             [
              0.7777777777777778,
              "#fb9f3a"
             ],
             [
              0.8888888888888888,
              "#fdca26"
             ],
             [
              1,
              "#f0f921"
             ]
            ],
            "type": "heatmap"
           }
          ],
          "heatmapgl": [
           {
            "colorbar": {
             "outlinewidth": 0,
             "ticks": ""
            },
            "colorscale": [
             [
              0,
              "#0d0887"
             ],
             [
              0.1111111111111111,
              "#46039f"
             ],
             [
              0.2222222222222222,
              "#7201a8"
             ],
             [
              0.3333333333333333,
              "#9c179e"
             ],
             [
              0.4444444444444444,
              "#bd3786"
             ],
             [
              0.5555555555555556,
              "#d8576b"
             ],
             [
              0.6666666666666666,
              "#ed7953"
             ],
             [
              0.7777777777777778,
              "#fb9f3a"
             ],
             [
              0.8888888888888888,
              "#fdca26"
             ],
             [
              1,
              "#f0f921"
             ]
            ],
            "type": "heatmapgl"
           }
          ],
          "histogram": [
           {
            "marker": {
             "pattern": {
              "fillmode": "overlay",
              "size": 10,
              "solidity": 0.2
             }
            },
            "type": "histogram"
           }
          ],
          "histogram2d": [
           {
            "colorbar": {
             "outlinewidth": 0,
             "ticks": ""
            },
            "colorscale": [
             [
              0,
              "#0d0887"
             ],
             [
              0.1111111111111111,
              "#46039f"
             ],
             [
              0.2222222222222222,
              "#7201a8"
             ],
             [
              0.3333333333333333,
              "#9c179e"
             ],
             [
              0.4444444444444444,
              "#bd3786"
             ],
             [
              0.5555555555555556,
              "#d8576b"
             ],
             [
              0.6666666666666666,
              "#ed7953"
             ],
             [
              0.7777777777777778,
              "#fb9f3a"
             ],
             [
              0.8888888888888888,
              "#fdca26"
             ],
             [
              1,
              "#f0f921"
             ]
            ],
            "type": "histogram2d"
           }
          ],
          "histogram2dcontour": [
           {
            "colorbar": {
             "outlinewidth": 0,
             "ticks": ""
            },
            "colorscale": [
             [
              0,
              "#0d0887"
             ],
             [
              0.1111111111111111,
              "#46039f"
             ],
             [
              0.2222222222222222,
              "#7201a8"
             ],
             [
              0.3333333333333333,
              "#9c179e"
             ],
             [
              0.4444444444444444,
              "#bd3786"
             ],
             [
              0.5555555555555556,
              "#d8576b"
             ],
             [
              0.6666666666666666,
              "#ed7953"
             ],
             [
              0.7777777777777778,
              "#fb9f3a"
             ],
             [
              0.8888888888888888,
              "#fdca26"
             ],
             [
              1,
              "#f0f921"
             ]
            ],
            "type": "histogram2dcontour"
           }
          ],
          "mesh3d": [
           {
            "colorbar": {
             "outlinewidth": 0,
             "ticks": ""
            },
            "type": "mesh3d"
           }
          ],
          "parcoords": [
           {
            "line": {
             "colorbar": {
              "outlinewidth": 0,
              "ticks": ""
             }
            },
            "type": "parcoords"
           }
          ],
          "pie": [
           {
            "automargin": true,
            "type": "pie"
           }
          ],
          "scatter": [
           {
            "marker": {
             "colorbar": {
              "outlinewidth": 0,
              "ticks": ""
             }
            },
            "type": "scatter"
           }
          ],
          "scatter3d": [
           {
            "line": {
             "colorbar": {
              "outlinewidth": 0,
              "ticks": ""
             }
            },
            "marker": {
             "colorbar": {
              "outlinewidth": 0,
              "ticks": ""
             }
            },
            "type": "scatter3d"
           }
          ],
          "scattercarpet": [
           {
            "marker": {
             "colorbar": {
              "outlinewidth": 0,
              "ticks": ""
             }
            },
            "type": "scattercarpet"
           }
          ],
          "scattergeo": [
           {
            "marker": {
             "colorbar": {
              "outlinewidth": 0,
              "ticks": ""
             }
            },
            "type": "scattergeo"
           }
          ],
          "scattergl": [
           {
            "marker": {
             "colorbar": {
              "outlinewidth": 0,
              "ticks": ""
             }
            },
            "type": "scattergl"
           }
          ],
          "scattermapbox": [
           {
            "marker": {
             "colorbar": {
              "outlinewidth": 0,
              "ticks": ""
             }
            },
            "type": "scattermapbox"
           }
          ],
          "scatterpolar": [
           {
            "marker": {
             "colorbar": {
              "outlinewidth": 0,
              "ticks": ""
             }
            },
            "type": "scatterpolar"
           }
          ],
          "scatterpolargl": [
           {
            "marker": {
             "colorbar": {
              "outlinewidth": 0,
              "ticks": ""
             }
            },
            "type": "scatterpolargl"
           }
          ],
          "scatterternary": [
           {
            "marker": {
             "colorbar": {
              "outlinewidth": 0,
              "ticks": ""
             }
            },
            "type": "scatterternary"
           }
          ],
          "surface": [
           {
            "colorbar": {
             "outlinewidth": 0,
             "ticks": ""
            },
            "colorscale": [
             [
              0,
              "#0d0887"
             ],
             [
              0.1111111111111111,
              "#46039f"
             ],
             [
              0.2222222222222222,
              "#7201a8"
             ],
             [
              0.3333333333333333,
              "#9c179e"
             ],
             [
              0.4444444444444444,
              "#bd3786"
             ],
             [
              0.5555555555555556,
              "#d8576b"
             ],
             [
              0.6666666666666666,
              "#ed7953"
             ],
             [
              0.7777777777777778,
              "#fb9f3a"
             ],
             [
              0.8888888888888888,
              "#fdca26"
             ],
             [
              1,
              "#f0f921"
             ]
            ],
            "type": "surface"
           }
          ],
          "table": [
           {
            "cells": {
             "fill": {
              "color": "#EBF0F8"
             },
             "line": {
              "color": "white"
             }
            },
            "header": {
             "fill": {
              "color": "#C8D4E3"
             },
             "line": {
              "color": "white"
             }
            },
            "type": "table"
           }
          ]
         },
         "layout": {
          "annotationdefaults": {
           "arrowcolor": "#2a3f5f",
           "arrowhead": 0,
           "arrowwidth": 1
          },
          "autotypenumbers": "strict",
          "coloraxis": {
           "colorbar": {
            "outlinewidth": 0,
            "ticks": ""
           }
          },
          "colorscale": {
           "diverging": [
            [
             0,
             "#8e0152"
            ],
            [
             0.1,
             "#c51b7d"
            ],
            [
             0.2,
             "#de77ae"
            ],
            [
             0.3,
             "#f1b6da"
            ],
            [
             0.4,
             "#fde0ef"
            ],
            [
             0.5,
             "#f7f7f7"
            ],
            [
             0.6,
             "#e6f5d0"
            ],
            [
             0.7,
             "#b8e186"
            ],
            [
             0.8,
             "#7fbc41"
            ],
            [
             0.9,
             "#4d9221"
            ],
            [
             1,
             "#276419"
            ]
           ],
           "sequential": [
            [
             0,
             "#0d0887"
            ],
            [
             0.1111111111111111,
             "#46039f"
            ],
            [
             0.2222222222222222,
             "#7201a8"
            ],
            [
             0.3333333333333333,
             "#9c179e"
            ],
            [
             0.4444444444444444,
             "#bd3786"
            ],
            [
             0.5555555555555556,
             "#d8576b"
            ],
            [
             0.6666666666666666,
             "#ed7953"
            ],
            [
             0.7777777777777778,
             "#fb9f3a"
            ],
            [
             0.8888888888888888,
             "#fdca26"
            ],
            [
             1,
             "#f0f921"
            ]
           ],
           "sequentialminus": [
            [
             0,
             "#0d0887"
            ],
            [
             0.1111111111111111,
             "#46039f"
            ],
            [
             0.2222222222222222,
             "#7201a8"
            ],
            [
             0.3333333333333333,
             "#9c179e"
            ],
            [
             0.4444444444444444,
             "#bd3786"
            ],
            [
             0.5555555555555556,
             "#d8576b"
            ],
            [
             0.6666666666666666,
             "#ed7953"
            ],
            [
             0.7777777777777778,
             "#fb9f3a"
            ],
            [
             0.8888888888888888,
             "#fdca26"
            ],
            [
             1,
             "#f0f921"
            ]
           ]
          },
          "colorway": [
           "#636efa",
           "#EF553B",
           "#00cc96",
           "#ab63fa",
           "#FFA15A",
           "#19d3f3",
           "#FF6692",
           "#B6E880",
           "#FF97FF",
           "#FECB52"
          ],
          "font": {
           "color": "#2a3f5f"
          },
          "geo": {
           "bgcolor": "white",
           "lakecolor": "white",
           "landcolor": "#E5ECF6",
           "showlakes": true,
           "showland": true,
           "subunitcolor": "white"
          },
          "hoverlabel": {
           "align": "left"
          },
          "hovermode": "closest",
          "mapbox": {
           "style": "light"
          },
          "paper_bgcolor": "white",
          "plot_bgcolor": "#E5ECF6",
          "polar": {
           "angularaxis": {
            "gridcolor": "white",
            "linecolor": "white",
            "ticks": ""
           },
           "bgcolor": "#E5ECF6",
           "radialaxis": {
            "gridcolor": "white",
            "linecolor": "white",
            "ticks": ""
           }
          },
          "scene": {
           "xaxis": {
            "backgroundcolor": "#E5ECF6",
            "gridcolor": "white",
            "gridwidth": 2,
            "linecolor": "white",
            "showbackground": true,
            "ticks": "",
            "zerolinecolor": "white"
           },
           "yaxis": {
            "backgroundcolor": "#E5ECF6",
            "gridcolor": "white",
            "gridwidth": 2,
            "linecolor": "white",
            "showbackground": true,
            "ticks": "",
            "zerolinecolor": "white"
           },
           "zaxis": {
            "backgroundcolor": "#E5ECF6",
            "gridcolor": "white",
            "gridwidth": 2,
            "linecolor": "white",
            "showbackground": true,
            "ticks": "",
            "zerolinecolor": "white"
           }
          },
          "shapedefaults": {
           "line": {
            "color": "#2a3f5f"
           }
          },
          "ternary": {
           "aaxis": {
            "gridcolor": "white",
            "linecolor": "white",
            "ticks": ""
           },
           "baxis": {
            "gridcolor": "white",
            "linecolor": "white",
            "ticks": ""
           },
           "bgcolor": "#E5ECF6",
           "caxis": {
            "gridcolor": "white",
            "linecolor": "white",
            "ticks": ""
           }
          },
          "title": {
           "x": 0.05
          },
          "xaxis": {
           "automargin": true,
           "gridcolor": "white",
           "linecolor": "white",
           "ticks": "",
           "title": {
            "standoff": 15
           },
           "zerolinecolor": "white",
           "zerolinewidth": 2
          },
          "yaxis": {
           "automargin": true,
           "gridcolor": "white",
           "linecolor": "white",
           "ticks": "",
           "title": {
            "standoff": 15
           },
           "zerolinecolor": "white",
           "zerolinewidth": 2
          }
         }
        },
        "title": {
         "font": {
          "color": "#4D5663"
         }
        },
        "xaxis": {
         "gridcolor": "#E1E5ED",
         "showgrid": true,
         "tickfont": {
          "color": "#4D5663"
         },
         "title": {
          "font": {
           "color": "#4D5663"
          },
          "text": ""
         },
         "zerolinecolor": "#E1E5ED"
        },
        "yaxis": {
         "gridcolor": "#E1E5ED",
         "showgrid": true,
         "tickfont": {
          "color": "#4D5663"
         },
         "title": {
          "font": {
           "color": "#4D5663"
          },
          "text": ""
         },
         "zerolinecolor": "#E1E5ED"
        }
       }
      },
      "text/html": [
       "<div>                            <div id=\"6d48333b-7a24-453b-8fbc-fe60dd9d3705\" class=\"plotly-graph-div\" style=\"height:525px; width:100%;\"></div>            <script type=\"text/javascript\">                require([\"plotly\"], function(Plotly) {                    window.PLOTLYENV=window.PLOTLYENV || {};\n",
       "                    window.PLOTLYENV.BASE_URL='https://plot.ly';                                    if (document.getElementById(\"6d48333b-7a24-453b-8fbc-fe60dd9d3705\")) {                    Plotly.newPlot(                        \"6d48333b-7a24-453b-8fbc-fe60dd9d3705\",                        [{\"marker\":{\"color\":[\"rgb(255, 153, 51)\",\"rgb(55, 128, 191)\",\"rgb(50, 171, 96)\",\"rgb(128, 0, 128)\",\"rgb(219, 64, 82)\",\"rgb(0, 128, 128)\",\"rgb(255, 255, 51)\",\"rgb(128, 128, 0)\",\"rgb(251, 128, 114)\",\"rgb(128, 177, 211)\"],\"line\":{\"width\":1.3},\"size\":[58,73,88,33,69,34,65,33,42,41,69,55,33,45,31,80,59,86,107,12,20,62,32,85,68,31,78,72,54,26,44,27,34,62,54,64,65,59,25,38,64,49,51,34,53,68,71,54,44,108,74,64,44,68,63,72,45,26,76,77,87,35,50,39,64,42,62,55,29,45,63,68,24,68,57,80,66,105,72,82,112,29,37,30,51,69,72,46,67,20,62,99,75,20,84,50,61,35,37,41],\"symbol\":\"circle\"},\"mode\":\"markers\",\"text\":\"\",\"type\":\"scatter\",\"x\":[0.19570059565133208,-0.11638330238179669,-0.5263256747464582,0.8610945321778738,-0.3345094465099812,0.4408512168711264,2.0611077294617712,1.1374697047856683,-2.1227841875235915,1.0292971245745437,-0.8364203147960749,-0.6258215956665029,0.32260095981402637,-0.5338387260601835,0.6554935664092758,1.3736166940602932,-0.16495693119745544,0.24892874967136702,-0.29073261749369766,-0.4848063202571289,0.6565018657582203,-0.36886003694137837,0.9473286259130218,-0.15192208276392827,1.2988105359456485,0.22536144692944,-1.7445131583390414,-1.7640829188462417,-1.3763078782535882,0.44519599256836434,-0.8554265172487281,-1.3953353375893736,-0.17028847631552607,1.2440683236221601,1.4351880669067858,0.7728377529760181,-1.0037061329445511,-0.2701346533922767,0.263104393296739,-0.7310213812969807,1.2388398269721017,0.46366664662763946,-0.09545311315395906,-0.6499121108716162,-0.25047578428123174,-0.7127984780688053,0.7110061869252203,-0.24074269104144155,1.1725672162496483,-0.039110608379132855,-1.6171364298868847,0.8312532821658801,-0.032679420067335714,0.4859103679519266,-0.7535388109234928,-0.18912123287211038,-1.0403500296557093,-0.06219828252596251,-1.2761097495726967,-0.7380962783569485,0.046532238213436,-0.5253498256135178,-0.4033347119360634,-0.08742523631256073,-0.38926161053757746,0.052737864070574125,0.3344579681239486,-0.10835434406514376,0.054127556806846194,0.6032359649720735,-1.051406108831842,0.7540278979632805,0.23644120628538473,0.1207891181609108,0.18499947890991988,0.1304225960231744,-0.24489518923344927,-0.24068375165242298,-0.2763643515085313,1.2769322738387565,0.6250457444879429,-0.17985864709213464,0.6502686683025198,-0.9452275155825481,-1.3426584570541529,-1.207128794704555,-0.2982937118808505,0.11118077103631854,1.1977346185162063,1.068086693648832,1.5337007101930478,0.129364274914311,-0.5267070376888813,-0.1507647819590437,-0.253644450631918,1.304303981456091,-1.3622893199635842,-0.5479738141889986,1.7245967171812724,-0.6053625371178464],\"y\":[-1.9039051872194404,0.41567584575502137,-0.8500551105602945,-1.671415698067484,0.34902348200098277,0.5397321899986275,0.7822989116806651,-0.7181762676338362,-1.6048847969742268,-0.28390524053597044,-0.2544920313036875,0.6580987147545254,0.2905384073895607,-0.6479322773424703,1.4560026616500317,-0.4536461754780206,0.7004603745030877,-1.5464930754789366,-0.16322468517313587,-0.7548093771049874,0.6659135464236476,2.059981525156413,-0.884493064348931,-0.38156249622353255,0.19262367405809266,0.5473919628467429,1.547864817081784,0.7295495737738722,-1.0412645454837997,-1.4386762374682316,0.649166310831736,-2.3441776498198332,-0.2471046319944664,0.30042921252640914,-1.4319025000255197,-0.39701453731115993,2.369867746154535,-0.5926917296631201,-0.2987824930791812,-0.4728537299883391,2.1497965061361333,1.2177318058678004,-0.3136206903877042,1.6492744026324628,-0.9269217399175947,0.3175296680171701,2.4208137981136284,-0.4232717640908274,-0.032071324577330126,-1.6133508281147728,0.30110401618146465,-1.6943928569303872,0.02329836798108102,-0.6582175383544171,-0.9231732652496449,-0.3665566365075626,0.4846993344503613,1.104977891592252,-0.9035272204986705,-0.12985610274943768,-0.1821179267844909,-0.15059695921959254,0.28568805152605853,-1.1989949589496258,0.017817989819181007,-0.34868779585261733,-1.3128165938969547,2.7361308864903373,0.14705769934721588,1.7839586180818037,0.2792922855416744,-0.7230348685840761,-1.4779738212518898,-1.4618062917125283,1.9703481657211541,1.2676591244598243,0.22817150219098725,0.8577007057173187,-1.2560616239825597,-0.9302539650051844,1.1963756510029406,0.5267467063123779,-0.1348262964779555,-0.30604736190366066,0.022555198762383655,-0.16793166099803278,0.6500910390970416,-1.650632391323068,-1.9996797908113744,1.0858725584498004,0.005392031409097878,1.7117229874270576,0.4965048249908904,-0.6806504054977754,-0.41912197067726653,0.3686131823036771,-0.3102240940882463,-0.5326242897864948,0.13540925071550378,1.2241412510202085]}],                        {\"legend\":{\"bgcolor\":\"#F5F6F9\",\"font\":{\"color\":\"#4D5663\"}},\"paper_bgcolor\":\"#F5F6F9\",\"plot_bgcolor\":\"#F5F6F9\",\"template\":{\"data\":{\"bar\":[{\"error_x\":{\"color\":\"#2a3f5f\"},\"error_y\":{\"color\":\"#2a3f5f\"},\"marker\":{\"line\":{\"color\":\"#E5ECF6\",\"width\":0.5},\"pattern\":{\"fillmode\":\"overlay\",\"size\":10,\"solidity\":0.2}},\"type\":\"bar\"}],\"barpolar\":[{\"marker\":{\"line\":{\"color\":\"#E5ECF6\",\"width\":0.5},\"pattern\":{\"fillmode\":\"overlay\",\"size\":10,\"solidity\":0.2}},\"type\":\"barpolar\"}],\"carpet\":[{\"aaxis\":{\"endlinecolor\":\"#2a3f5f\",\"gridcolor\":\"white\",\"linecolor\":\"white\",\"minorgridcolor\":\"white\",\"startlinecolor\":\"#2a3f5f\"},\"baxis\":{\"endlinecolor\":\"#2a3f5f\",\"gridcolor\":\"white\",\"linecolor\":\"white\",\"minorgridcolor\":\"white\",\"startlinecolor\":\"#2a3f5f\"},\"type\":\"carpet\"}],\"choropleth\":[{\"colorbar\":{\"outlinewidth\":0,\"ticks\":\"\"},\"type\":\"choropleth\"}],\"contour\":[{\"colorbar\":{\"outlinewidth\":0,\"ticks\":\"\"},\"colorscale\":[[0.0,\"#0d0887\"],[0.1111111111111111,\"#46039f\"],[0.2222222222222222,\"#7201a8\"],[0.3333333333333333,\"#9c179e\"],[0.4444444444444444,\"#bd3786\"],[0.5555555555555556,\"#d8576b\"],[0.6666666666666666,\"#ed7953\"],[0.7777777777777778,\"#fb9f3a\"],[0.8888888888888888,\"#fdca26\"],[1.0,\"#f0f921\"]],\"type\":\"contour\"}],\"contourcarpet\":[{\"colorbar\":{\"outlinewidth\":0,\"ticks\":\"\"},\"type\":\"contourcarpet\"}],\"heatmap\":[{\"colorbar\":{\"outlinewidth\":0,\"ticks\":\"\"},\"colorscale\":[[0.0,\"#0d0887\"],[0.1111111111111111,\"#46039f\"],[0.2222222222222222,\"#7201a8\"],[0.3333333333333333,\"#9c179e\"],[0.4444444444444444,\"#bd3786\"],[0.5555555555555556,\"#d8576b\"],[0.6666666666666666,\"#ed7953\"],[0.7777777777777778,\"#fb9f3a\"],[0.8888888888888888,\"#fdca26\"],[1.0,\"#f0f921\"]],\"type\":\"heatmap\"}],\"heatmapgl\":[{\"colorbar\":{\"outlinewidth\":0,\"ticks\":\"\"},\"colorscale\":[[0.0,\"#0d0887\"],[0.1111111111111111,\"#46039f\"],[0.2222222222222222,\"#7201a8\"],[0.3333333333333333,\"#9c179e\"],[0.4444444444444444,\"#bd3786\"],[0.5555555555555556,\"#d8576b\"],[0.6666666666666666,\"#ed7953\"],[0.7777777777777778,\"#fb9f3a\"],[0.8888888888888888,\"#fdca26\"],[1.0,\"#f0f921\"]],\"type\":\"heatmapgl\"}],\"histogram\":[{\"marker\":{\"pattern\":{\"fillmode\":\"overlay\",\"size\":10,\"solidity\":0.2}},\"type\":\"histogram\"}],\"histogram2d\":[{\"colorbar\":{\"outlinewidth\":0,\"ticks\":\"\"},\"colorscale\":[[0.0,\"#0d0887\"],[0.1111111111111111,\"#46039f\"],[0.2222222222222222,\"#7201a8\"],[0.3333333333333333,\"#9c179e\"],[0.4444444444444444,\"#bd3786\"],[0.5555555555555556,\"#d8576b\"],[0.6666666666666666,\"#ed7953\"],[0.7777777777777778,\"#fb9f3a\"],[0.8888888888888888,\"#fdca26\"],[1.0,\"#f0f921\"]],\"type\":\"histogram2d\"}],\"histogram2dcontour\":[{\"colorbar\":{\"outlinewidth\":0,\"ticks\":\"\"},\"colorscale\":[[0.0,\"#0d0887\"],[0.1111111111111111,\"#46039f\"],[0.2222222222222222,\"#7201a8\"],[0.3333333333333333,\"#9c179e\"],[0.4444444444444444,\"#bd3786\"],[0.5555555555555556,\"#d8576b\"],[0.6666666666666666,\"#ed7953\"],[0.7777777777777778,\"#fb9f3a\"],[0.8888888888888888,\"#fdca26\"],[1.0,\"#f0f921\"]],\"type\":\"histogram2dcontour\"}],\"mesh3d\":[{\"colorbar\":{\"outlinewidth\":0,\"ticks\":\"\"},\"type\":\"mesh3d\"}],\"parcoords\":[{\"line\":{\"colorbar\":{\"outlinewidth\":0,\"ticks\":\"\"}},\"type\":\"parcoords\"}],\"pie\":[{\"automargin\":true,\"type\":\"pie\"}],\"scatter\":[{\"marker\":{\"colorbar\":{\"outlinewidth\":0,\"ticks\":\"\"}},\"type\":\"scatter\"}],\"scatter3d\":[{\"line\":{\"colorbar\":{\"outlinewidth\":0,\"ticks\":\"\"}},\"marker\":{\"colorbar\":{\"outlinewidth\":0,\"ticks\":\"\"}},\"type\":\"scatter3d\"}],\"scattercarpet\":[{\"marker\":{\"colorbar\":{\"outlinewidth\":0,\"ticks\":\"\"}},\"type\":\"scattercarpet\"}],\"scattergeo\":[{\"marker\":{\"colorbar\":{\"outlinewidth\":0,\"ticks\":\"\"}},\"type\":\"scattergeo\"}],\"scattergl\":[{\"marker\":{\"colorbar\":{\"outlinewidth\":0,\"ticks\":\"\"}},\"type\":\"scattergl\"}],\"scattermapbox\":[{\"marker\":{\"colorbar\":{\"outlinewidth\":0,\"ticks\":\"\"}},\"type\":\"scattermapbox\"}],\"scatterpolar\":[{\"marker\":{\"colorbar\":{\"outlinewidth\":0,\"ticks\":\"\"}},\"type\":\"scatterpolar\"}],\"scatterpolargl\":[{\"marker\":{\"colorbar\":{\"outlinewidth\":0,\"ticks\":\"\"}},\"type\":\"scatterpolargl\"}],\"scatterternary\":[{\"marker\":{\"colorbar\":{\"outlinewidth\":0,\"ticks\":\"\"}},\"type\":\"scatterternary\"}],\"surface\":[{\"colorbar\":{\"outlinewidth\":0,\"ticks\":\"\"},\"colorscale\":[[0.0,\"#0d0887\"],[0.1111111111111111,\"#46039f\"],[0.2222222222222222,\"#7201a8\"],[0.3333333333333333,\"#9c179e\"],[0.4444444444444444,\"#bd3786\"],[0.5555555555555556,\"#d8576b\"],[0.6666666666666666,\"#ed7953\"],[0.7777777777777778,\"#fb9f3a\"],[0.8888888888888888,\"#fdca26\"],[1.0,\"#f0f921\"]],\"type\":\"surface\"}],\"table\":[{\"cells\":{\"fill\":{\"color\":\"#EBF0F8\"},\"line\":{\"color\":\"white\"}},\"header\":{\"fill\":{\"color\":\"#C8D4E3\"},\"line\":{\"color\":\"white\"}},\"type\":\"table\"}]},\"layout\":{\"annotationdefaults\":{\"arrowcolor\":\"#2a3f5f\",\"arrowhead\":0,\"arrowwidth\":1},\"autotypenumbers\":\"strict\",\"coloraxis\":{\"colorbar\":{\"outlinewidth\":0,\"ticks\":\"\"}},\"colorscale\":{\"diverging\":[[0,\"#8e0152\"],[0.1,\"#c51b7d\"],[0.2,\"#de77ae\"],[0.3,\"#f1b6da\"],[0.4,\"#fde0ef\"],[0.5,\"#f7f7f7\"],[0.6,\"#e6f5d0\"],[0.7,\"#b8e186\"],[0.8,\"#7fbc41\"],[0.9,\"#4d9221\"],[1,\"#276419\"]],\"sequential\":[[0.0,\"#0d0887\"],[0.1111111111111111,\"#46039f\"],[0.2222222222222222,\"#7201a8\"],[0.3333333333333333,\"#9c179e\"],[0.4444444444444444,\"#bd3786\"],[0.5555555555555556,\"#d8576b\"],[0.6666666666666666,\"#ed7953\"],[0.7777777777777778,\"#fb9f3a\"],[0.8888888888888888,\"#fdca26\"],[1.0,\"#f0f921\"]],\"sequentialminus\":[[0.0,\"#0d0887\"],[0.1111111111111111,\"#46039f\"],[0.2222222222222222,\"#7201a8\"],[0.3333333333333333,\"#9c179e\"],[0.4444444444444444,\"#bd3786\"],[0.5555555555555556,\"#d8576b\"],[0.6666666666666666,\"#ed7953\"],[0.7777777777777778,\"#fb9f3a\"],[0.8888888888888888,\"#fdca26\"],[1.0,\"#f0f921\"]]},\"colorway\":[\"#636efa\",\"#EF553B\",\"#00cc96\",\"#ab63fa\",\"#FFA15A\",\"#19d3f3\",\"#FF6692\",\"#B6E880\",\"#FF97FF\",\"#FECB52\"],\"font\":{\"color\":\"#2a3f5f\"},\"geo\":{\"bgcolor\":\"white\",\"lakecolor\":\"white\",\"landcolor\":\"#E5ECF6\",\"showlakes\":true,\"showland\":true,\"subunitcolor\":\"white\"},\"hoverlabel\":{\"align\":\"left\"},\"hovermode\":\"closest\",\"mapbox\":{\"style\":\"light\"},\"paper_bgcolor\":\"white\",\"plot_bgcolor\":\"#E5ECF6\",\"polar\":{\"angularaxis\":{\"gridcolor\":\"white\",\"linecolor\":\"white\",\"ticks\":\"\"},\"bgcolor\":\"#E5ECF6\",\"radialaxis\":{\"gridcolor\":\"white\",\"linecolor\":\"white\",\"ticks\":\"\"}},\"scene\":{\"xaxis\":{\"backgroundcolor\":\"#E5ECF6\",\"gridcolor\":\"white\",\"gridwidth\":2,\"linecolor\":\"white\",\"showbackground\":true,\"ticks\":\"\",\"zerolinecolor\":\"white\"},\"yaxis\":{\"backgroundcolor\":\"#E5ECF6\",\"gridcolor\":\"white\",\"gridwidth\":2,\"linecolor\":\"white\",\"showbackground\":true,\"ticks\":\"\",\"zerolinecolor\":\"white\"},\"zaxis\":{\"backgroundcolor\":\"#E5ECF6\",\"gridcolor\":\"white\",\"gridwidth\":2,\"linecolor\":\"white\",\"showbackground\":true,\"ticks\":\"\",\"zerolinecolor\":\"white\"}},\"shapedefaults\":{\"line\":{\"color\":\"#2a3f5f\"}},\"ternary\":{\"aaxis\":{\"gridcolor\":\"white\",\"linecolor\":\"white\",\"ticks\":\"\"},\"baxis\":{\"gridcolor\":\"white\",\"linecolor\":\"white\",\"ticks\":\"\"},\"bgcolor\":\"#E5ECF6\",\"caxis\":{\"gridcolor\":\"white\",\"linecolor\":\"white\",\"ticks\":\"\"}},\"title\":{\"x\":0.05},\"xaxis\":{\"automargin\":true,\"gridcolor\":\"white\",\"linecolor\":\"white\",\"ticks\":\"\",\"title\":{\"standoff\":15},\"zerolinecolor\":\"white\",\"zerolinewidth\":2},\"yaxis\":{\"automargin\":true,\"gridcolor\":\"white\",\"linecolor\":\"white\",\"ticks\":\"\",\"title\":{\"standoff\":15},\"zerolinecolor\":\"white\",\"zerolinewidth\":2}}},\"title\":{\"font\":{\"color\":\"#4D5663\"}},\"xaxis\":{\"gridcolor\":\"#E1E5ED\",\"showgrid\":true,\"tickfont\":{\"color\":\"#4D5663\"},\"title\":{\"font\":{\"color\":\"#4D5663\"},\"text\":\"\"},\"zerolinecolor\":\"#E1E5ED\"},\"yaxis\":{\"gridcolor\":\"#E1E5ED\",\"showgrid\":true,\"tickfont\":{\"color\":\"#4D5663\"},\"title\":{\"font\":{\"color\":\"#4D5663\"},\"text\":\"\"},\"zerolinecolor\":\"#E1E5ED\"}},                        {\"showLink\": true, \"linkText\": \"Export to plot.ly\", \"plotlyServerURL\": \"https://plot.ly\", \"responsive\": true}                    ).then(function(){\n",
       "                            \n",
       "var gd = document.getElementById('6d48333b-7a24-453b-8fbc-fe60dd9d3705');\n",
       "var x = new MutationObserver(function (mutations, observer) {{\n",
       "        var display = window.getComputedStyle(gd).display;\n",
       "        if (!display || display === 'none') {{\n",
       "            console.log([gd, 'removed!']);\n",
       "            Plotly.purge(gd);\n",
       "            observer.disconnect();\n",
       "        }}\n",
       "}});\n",
       "\n",
       "// Listen for the removal of the full notebook cells\n",
       "var notebookContainer = gd.closest('#notebook-container');\n",
       "if (notebookContainer) {{\n",
       "    x.observe(notebookContainer, {childList: true});\n",
       "}}\n",
       "\n",
       "// Listen for the clearing of the current output cell\n",
       "var outputEl = gd.closest('.output');\n",
       "if (outputEl) {{\n",
       "    x.observe(outputEl, {childList: true});\n",
       "}}\n",
       "\n",
       "                        })                };                });            </script>        </div>"
      ]
     },
     "metadata": {},
     "output_type": "display_data"
    }
   ],
   "source": [
    "df.iplot(kind='bubble',x='A',y='B',size='C')"
   ]
  },
  {
   "cell_type": "markdown",
   "metadata": {},
   "source": [
    "## scatter_matrix()\n",
    "\n",
    "Similar to sns.pairplot()"
   ]
  },
  {
   "cell_type": "code",
   "execution_count": 18,
   "metadata": {},
   "outputs": [
    {
     "data": {
      "application/vnd.plotly.v1+json": {
       "config": {
        "linkText": "Export to plot.ly",
        "plotlyServerURL": "https://plot.ly",
        "showLink": true
       },
       "data": [
        {
         "histfunc": "count",
         "histnorm": "",
         "marker": {
          "color": "rgba(255, 153, 51, 1.0)",
          "line": {
           "color": "#4D5663",
           "width": 1.3
          }
         },
         "name": "A",
         "nbinsx": 10,
         "opacity": 0.8,
         "orientation": "v",
         "type": "histogram",
         "x": [
          0.19570059565133208,
          -0.11638330238179669,
          -0.5263256747464582,
          0.8610945321778738,
          -0.3345094465099812,
          0.4408512168711264,
          2.0611077294617712,
          1.1374697047856683,
          -2.1227841875235915,
          1.0292971245745437,
          -0.8364203147960749,
          -0.6258215956665029,
          0.32260095981402637,
          -0.5338387260601835,
          0.6554935664092758,
          1.3736166940602932,
          -0.16495693119745544,
          0.24892874967136702,
          -0.29073261749369766,
          -0.4848063202571289,
          0.6565018657582203,
          -0.36886003694137837,
          0.9473286259130218,
          -0.15192208276392827,
          1.2988105359456485,
          0.22536144692944,
          -1.7445131583390414,
          -1.7640829188462417,
          -1.3763078782535882,
          0.44519599256836434,
          -0.8554265172487281,
          -1.3953353375893736,
          -0.17028847631552607,
          1.2440683236221601,
          1.4351880669067858,
          0.7728377529760181,
          -1.0037061329445511,
          -0.2701346533922767,
          0.263104393296739,
          -0.7310213812969807,
          1.2388398269721017,
          0.46366664662763946,
          -0.09545311315395906,
          -0.6499121108716162,
          -0.25047578428123174,
          -0.7127984780688053,
          0.7110061869252203,
          -0.24074269104144155,
          1.1725672162496483,
          -0.039110608379132855,
          -1.6171364298868847,
          0.8312532821658801,
          -0.032679420067335714,
          0.4859103679519266,
          -0.7535388109234928,
          -0.18912123287211038,
          -1.0403500296557093,
          -0.06219828252596251,
          -1.2761097495726967,
          -0.7380962783569485,
          0.046532238213436,
          -0.5253498256135178,
          -0.4033347119360634,
          -0.08742523631256073,
          -0.38926161053757746,
          0.052737864070574125,
          0.3344579681239486,
          -0.10835434406514376,
          0.054127556806846194,
          0.6032359649720735,
          -1.051406108831842,
          0.7540278979632805,
          0.23644120628538473,
          0.1207891181609108,
          0.18499947890991988,
          0.1304225960231744,
          -0.24489518923344927,
          -0.24068375165242298,
          -0.2763643515085313,
          1.2769322738387565,
          0.6250457444879429,
          -0.17985864709213464,
          0.6502686683025198,
          -0.9452275155825481,
          -1.3426584570541529,
          -1.207128794704555,
          -0.2982937118808505,
          0.11118077103631854,
          1.1977346185162063,
          1.068086693648832,
          1.5337007101930478,
          0.129364274914311,
          -0.5267070376888813,
          -0.1507647819590437,
          -0.253644450631918,
          1.304303981456091,
          -1.3622893199635842,
          -0.5479738141889986,
          1.7245967171812724,
          -0.6053625371178464
         ],
         "xaxis": "x",
         "yaxis": "y"
        },
        {
         "line": {
          "color": "rgba(128, 128, 128, 1.0)",
          "dash": "solid",
          "shape": "linear",
          "width": 1.3
         },
         "marker": {
          "size": 2,
          "symbol": "circle"
         },
         "mode": "markers",
         "name": "A",
         "text": "",
         "type": "scatter",
         "x": [
          -1.9039051872194404,
          0.41567584575502137,
          -0.8500551105602945,
          -1.671415698067484,
          0.34902348200098277,
          0.5397321899986275,
          0.7822989116806651,
          -0.7181762676338362,
          -1.6048847969742268,
          -0.28390524053597044,
          -0.2544920313036875,
          0.6580987147545254,
          0.2905384073895607,
          -0.6479322773424703,
          1.4560026616500317,
          -0.4536461754780206,
          0.7004603745030877,
          -1.5464930754789366,
          -0.16322468517313587,
          -0.7548093771049874,
          0.6659135464236476,
          2.059981525156413,
          -0.884493064348931,
          -0.38156249622353255,
          0.19262367405809266,
          0.5473919628467429,
          1.547864817081784,
          0.7295495737738722,
          -1.0412645454837997,
          -1.4386762374682316,
          0.649166310831736,
          -2.3441776498198332,
          -0.2471046319944664,
          0.30042921252640914,
          -1.4319025000255197,
          -0.39701453731115993,
          2.369867746154535,
          -0.5926917296631201,
          -0.2987824930791812,
          -0.4728537299883391,
          2.1497965061361333,
          1.2177318058678004,
          -0.3136206903877042,
          1.6492744026324628,
          -0.9269217399175947,
          0.3175296680171701,
          2.4208137981136284,
          -0.4232717640908274,
          -0.032071324577330126,
          -1.6133508281147728,
          0.30110401618146465,
          -1.6943928569303872,
          0.02329836798108102,
          -0.6582175383544171,
          -0.9231732652496449,
          -0.3665566365075626,
          0.4846993344503613,
          1.104977891592252,
          -0.9035272204986705,
          -0.12985610274943768,
          -0.1821179267844909,
          -0.15059695921959254,
          0.28568805152605853,
          -1.1989949589496258,
          0.017817989819181007,
          -0.34868779585261733,
          -1.3128165938969547,
          2.7361308864903373,
          0.14705769934721588,
          1.7839586180818037,
          0.2792922855416744,
          -0.7230348685840761,
          -1.4779738212518898,
          -1.4618062917125283,
          1.9703481657211541,
          1.2676591244598243,
          0.22817150219098725,
          0.8577007057173187,
          -1.2560616239825597,
          -0.9302539650051844,
          1.1963756510029406,
          0.5267467063123779,
          -0.1348262964779555,
          -0.30604736190366066,
          0.022555198762383655,
          -0.16793166099803278,
          0.6500910390970416,
          -1.650632391323068,
          -1.9996797908113744,
          1.0858725584498004,
          0.005392031409097878,
          1.7117229874270576,
          0.4965048249908904,
          -0.6806504054977754,
          -0.41912197067726653,
          0.3686131823036771,
          -0.3102240940882463,
          -0.5326242897864948,
          0.13540925071550378,
          1.2241412510202085
         ],
         "xaxis": "x2",
         "y": [
          0.19570059565133208,
          -0.11638330238179669,
          -0.5263256747464582,
          0.8610945321778738,
          -0.3345094465099812,
          0.4408512168711264,
          2.0611077294617712,
          1.1374697047856683,
          -2.1227841875235915,
          1.0292971245745437,
          -0.8364203147960749,
          -0.6258215956665029,
          0.32260095981402637,
          -0.5338387260601835,
          0.6554935664092758,
          1.3736166940602932,
          -0.16495693119745544,
          0.24892874967136702,
          -0.29073261749369766,
          -0.4848063202571289,
          0.6565018657582203,
          -0.36886003694137837,
          0.9473286259130218,
          -0.15192208276392827,
          1.2988105359456485,
          0.22536144692944,
          -1.7445131583390414,
          -1.7640829188462417,
          -1.3763078782535882,
          0.44519599256836434,
          -0.8554265172487281,
          -1.3953353375893736,
          -0.17028847631552607,
          1.2440683236221601,
          1.4351880669067858,
          0.7728377529760181,
          -1.0037061329445511,
          -0.2701346533922767,
          0.263104393296739,
          -0.7310213812969807,
          1.2388398269721017,
          0.46366664662763946,
          -0.09545311315395906,
          -0.6499121108716162,
          -0.25047578428123174,
          -0.7127984780688053,
          0.7110061869252203,
          -0.24074269104144155,
          1.1725672162496483,
          -0.039110608379132855,
          -1.6171364298868847,
          0.8312532821658801,
          -0.032679420067335714,
          0.4859103679519266,
          -0.7535388109234928,
          -0.18912123287211038,
          -1.0403500296557093,
          -0.06219828252596251,
          -1.2761097495726967,
          -0.7380962783569485,
          0.046532238213436,
          -0.5253498256135178,
          -0.4033347119360634,
          -0.08742523631256073,
          -0.38926161053757746,
          0.052737864070574125,
          0.3344579681239486,
          -0.10835434406514376,
          0.054127556806846194,
          0.6032359649720735,
          -1.051406108831842,
          0.7540278979632805,
          0.23644120628538473,
          0.1207891181609108,
          0.18499947890991988,
          0.1304225960231744,
          -0.24489518923344927,
          -0.24068375165242298,
          -0.2763643515085313,
          1.2769322738387565,
          0.6250457444879429,
          -0.17985864709213464,
          0.6502686683025198,
          -0.9452275155825481,
          -1.3426584570541529,
          -1.207128794704555,
          -0.2982937118808505,
          0.11118077103631854,
          1.1977346185162063,
          1.068086693648832,
          1.5337007101930478,
          0.129364274914311,
          -0.5267070376888813,
          -0.1507647819590437,
          -0.253644450631918,
          1.304303981456091,
          -1.3622893199635842,
          -0.5479738141889986,
          1.7245967171812724,
          -0.6053625371178464
         ],
         "yaxis": "y2"
        },
        {
         "line": {
          "color": "rgba(128, 128, 128, 1.0)",
          "dash": "solid",
          "shape": "linear",
          "width": 1.3
         },
         "marker": {
          "size": 2,
          "symbol": "circle"
         },
         "mode": "markers",
         "name": "A",
         "text": "",
         "type": "scatter",
         "x": [
          -0.19742756926843105,
          0.48958431436992456,
          1.168655358246096,
          -1.3239674601960378,
          0.3153412681524564,
          -1.2867213298660525,
          0.13789323815829171,
          -1.3125707738687633,
          -0.9234834781507878,
          -0.9548407227047814,
          0.3281827098249989,
          -0.3277377584634297,
          -1.3389401832040264,
          -0.7965973626411075,
          -1.4073340890042276,
          0.8337423779644011,
          -0.15811866852240905,
          1.0849554248787707,
          2.0612040425799627,
          -2.318379508588448,
          -1.950184533721912,
          -0.011910728682155394,
          -1.366112972733267,
          1.0501167875491892,
          0.271741015803,
          -1.4163867458934332,
          0.7215180594005365,
          0.43675196186973586,
          -0.3507397519626802,
          -1.6443851500374882,
          -0.8490477414572171,
          -1.6127329815628186,
          -1.3087264158796403,
          0.0058488737954857034,
          -0.36321271690552726,
          0.08444388374930377,
          0.1181060177717198,
          -0.14842969336280984,
          -1.6963859240233354,
          -1.0863418413017474,
          0.10129253574241567,
          -0.5900410648265194,
          -0.5009043399907748,
          -1.2716423538388761,
          -0.4284674367119366,
          0.26540445885382735,
          0.4170753457414443,
          -0.36798568466917686,
          -0.8095269771913907,
          2.110941230287802,
          0.5663429864997228,
          0.08995655038933079,
          -0.84812317579309,
          0.25653928204649035,
          0.044956983413372655,
          0.4408878738134412,
          -0.7661276683521101,
          -1.6757250776250023,
          0.6240106192760755,
          0.6853774199406103,
          1.1571308663536402,
          -1.233540507022606,
          -0.5430963887359603,
          -1.053444352385449,
          0.07002453531421317,
          -0.9284087622114705,
          0.00940398366288766,
          -0.3240331489016471,
          -1.5350666449797785,
          -0.8021685333792421,
          0.054985419462508144,
          0.2873924541602581,
          -1.7653271429977395,
          0.2808187957487331,
          -0.2504873511898542,
          0.8176394956508974,
          0.18627545033457132,
          1.9915991067706624,
          0.44328160033777114,
          0.9044391218899049,
          2.26791900684423,
          -1.5256270985104692,
          -1.1416493459172348,
          -1.476047627561701,
          -0.5253658496613989,
          0.33415996539835696,
          0.4361804935570515,
          -0.7567641205192095,
          0.22262672530051753,
          -1.9071038631080481,
          -0.00396760837536343,
          1.7064732324082712,
          0.6034265071025826,
          -1.9273434592087144,
          0.9921617004887597,
          -0.5587647056959151,
          -0.05808663848653034,
          -1.2199300754263094,
          -1.15709736045127,
          -0.9743788159189748
         ],
         "xaxis": "x3",
         "y": [
          0.19570059565133208,
          -0.11638330238179669,
          -0.5263256747464582,
          0.8610945321778738,
          -0.3345094465099812,
          0.4408512168711264,
          2.0611077294617712,
          1.1374697047856683,
          -2.1227841875235915,
          1.0292971245745437,
          -0.8364203147960749,
          -0.6258215956665029,
          0.32260095981402637,
          -0.5338387260601835,
          0.6554935664092758,
          1.3736166940602932,
          -0.16495693119745544,
          0.24892874967136702,
          -0.29073261749369766,
          -0.4848063202571289,
          0.6565018657582203,
          -0.36886003694137837,
          0.9473286259130218,
          -0.15192208276392827,
          1.2988105359456485,
          0.22536144692944,
          -1.7445131583390414,
          -1.7640829188462417,
          -1.3763078782535882,
          0.44519599256836434,
          -0.8554265172487281,
          -1.3953353375893736,
          -0.17028847631552607,
          1.2440683236221601,
          1.4351880669067858,
          0.7728377529760181,
          -1.0037061329445511,
          -0.2701346533922767,
          0.263104393296739,
          -0.7310213812969807,
          1.2388398269721017,
          0.46366664662763946,
          -0.09545311315395906,
          -0.6499121108716162,
          -0.25047578428123174,
          -0.7127984780688053,
          0.7110061869252203,
          -0.24074269104144155,
          1.1725672162496483,
          -0.039110608379132855,
          -1.6171364298868847,
          0.8312532821658801,
          -0.032679420067335714,
          0.4859103679519266,
          -0.7535388109234928,
          -0.18912123287211038,
          -1.0403500296557093,
          -0.06219828252596251,
          -1.2761097495726967,
          -0.7380962783569485,
          0.046532238213436,
          -0.5253498256135178,
          -0.4033347119360634,
          -0.08742523631256073,
          -0.38926161053757746,
          0.052737864070574125,
          0.3344579681239486,
          -0.10835434406514376,
          0.054127556806846194,
          0.6032359649720735,
          -1.051406108831842,
          0.7540278979632805,
          0.23644120628538473,
          0.1207891181609108,
          0.18499947890991988,
          0.1304225960231744,
          -0.24489518923344927,
          -0.24068375165242298,
          -0.2763643515085313,
          1.2769322738387565,
          0.6250457444879429,
          -0.17985864709213464,
          0.6502686683025198,
          -0.9452275155825481,
          -1.3426584570541529,
          -1.207128794704555,
          -0.2982937118808505,
          0.11118077103631854,
          1.1977346185162063,
          1.068086693648832,
          1.5337007101930478,
          0.129364274914311,
          -0.5267070376888813,
          -0.1507647819590437,
          -0.253644450631918,
          1.304303981456091,
          -1.3622893199635842,
          -0.5479738141889986,
          1.7245967171812724,
          -0.6053625371178464
         ],
         "yaxis": "y3"
        },
        {
         "line": {
          "color": "rgba(128, 128, 128, 1.0)",
          "dash": "solid",
          "shape": "linear",
          "width": 1.3
         },
         "marker": {
          "size": 2,
          "symbol": "circle"
         },
         "mode": "markers",
         "name": "A",
         "text": "",
         "type": "scatter",
         "x": [
          0.738190830937213,
          0.05388632898957935,
          1.0881527464783645,
          -1.0077265322775444,
          -0.41881847699678193,
          -0.2915529980778208,
          -1.2590941502756594,
          -1.229551033330486,
          -0.18140644511752788,
          -0.2870228963830413,
          -2.2089798603151674,
          0.6843054039418736,
          0.6742624926357605,
          -0.5910863898055728,
          1.1462985693719674,
          0.4741505151953946,
          -1.22184361711703,
          0.3545396509616731,
          0.2437784655319529,
          0.8851937685556265,
          0.4632827238928113,
          1.0863756187270626,
          -0.1181561527572261,
          0.1369261680083311,
          2.0348524973218987,
          -1.8861768832689836,
          -0.016705368751881017,
          0.7290175886085175,
          1.318164717746607,
          -0.08419407473425462,
          0.5188272566189656,
          -0.11785375633774303,
          0.6816241022779139,
          1.1633798931878614,
          1.3009309850009134,
          1.1031064057176247,
          -1.7268011580280418,
          -0.1877113285912264,
          0.6433668159665754,
          0.5175660426550832,
          -0.4262770712301764,
          1.4345996252642592,
          -1.5851546875837106,
          1.7431000816154405,
          1.7045490658714484,
          0.18649227181534667,
          -0.46457495515943703,
          -0.6659601290687353,
          0.6471493021984399,
          -0.5650773246995385,
          0.23816150687538057,
          -0.7569262775599286,
          -0.9098285535133858,
          -1.4010829422108781,
          1.112587332750602,
          -1.1688615137051739,
          0.8938407717187248,
          0.8681635351258409,
          1.2854867980875944,
          1.5847484818220776,
          -0.7351580187684134,
          -0.20030886020076985,
          0.6193994652155762,
          0.8534211177717292,
          0.5637404340111039,
          0.2971366085488249,
          1.488990189483893,
          -1.1136939284905183,
          0.36931992078898696,
          0.6012505232665935,
          -1.228684022050812,
          0.4474824371666456,
          -0.8482997954231998,
          -0.85839217274234,
          0.5816657109309396,
          0.561463492438676,
          -0.17762971790881574,
          2.253819024780938,
          1.8383271645432007,
          -0.017723983247172517,
          -1.4086179887604693,
          -0.455262052154905,
          3.027749410400535,
          -0.7706272831937817,
          0.044998032882978274,
          0.5093813314163811,
          -0.8738320491940496,
          -0.3788672274267904,
          0.8985220013506069,
          0.11688284615129714,
          0.08085665790681583,
          1.2423065994338762,
          -0.0884143933777113,
          0.345420570043961,
          0.4132818552246082,
          -0.6301355000040854,
          0.822477330774026,
          0.10555307862137166,
          -2.1584819195642595,
          0.8402591907285277
         ],
         "xaxis": "x4",
         "y": [
          0.19570059565133208,
          -0.11638330238179669,
          -0.5263256747464582,
          0.8610945321778738,
          -0.3345094465099812,
          0.4408512168711264,
          2.0611077294617712,
          1.1374697047856683,
          -2.1227841875235915,
          1.0292971245745437,
          -0.8364203147960749,
          -0.6258215956665029,
          0.32260095981402637,
          -0.5338387260601835,
          0.6554935664092758,
          1.3736166940602932,
          -0.16495693119745544,
          0.24892874967136702,
          -0.29073261749369766,
          -0.4848063202571289,
          0.6565018657582203,
          -0.36886003694137837,
          0.9473286259130218,
          -0.15192208276392827,
          1.2988105359456485,
          0.22536144692944,
          -1.7445131583390414,
          -1.7640829188462417,
          -1.3763078782535882,
          0.44519599256836434,
          -0.8554265172487281,
          -1.3953353375893736,
          -0.17028847631552607,
          1.2440683236221601,
          1.4351880669067858,
          0.7728377529760181,
          -1.0037061329445511,
          -0.2701346533922767,
          0.263104393296739,
          -0.7310213812969807,
          1.2388398269721017,
          0.46366664662763946,
          -0.09545311315395906,
          -0.6499121108716162,
          -0.25047578428123174,
          -0.7127984780688053,
          0.7110061869252203,
          -0.24074269104144155,
          1.1725672162496483,
          -0.039110608379132855,
          -1.6171364298868847,
          0.8312532821658801,
          -0.032679420067335714,
          0.4859103679519266,
          -0.7535388109234928,
          -0.18912123287211038,
          -1.0403500296557093,
          -0.06219828252596251,
          -1.2761097495726967,
          -0.7380962783569485,
          0.046532238213436,
          -0.5253498256135178,
          -0.4033347119360634,
          -0.08742523631256073,
          -0.38926161053757746,
          0.052737864070574125,
          0.3344579681239486,
          -0.10835434406514376,
          0.054127556806846194,
          0.6032359649720735,
          -1.051406108831842,
          0.7540278979632805,
          0.23644120628538473,
          0.1207891181609108,
          0.18499947890991988,
          0.1304225960231744,
          -0.24489518923344927,
          -0.24068375165242298,
          -0.2763643515085313,
          1.2769322738387565,
          0.6250457444879429,
          -0.17985864709213464,
          0.6502686683025198,
          -0.9452275155825481,
          -1.3426584570541529,
          -1.207128794704555,
          -0.2982937118808505,
          0.11118077103631854,
          1.1977346185162063,
          1.068086693648832,
          1.5337007101930478,
          0.129364274914311,
          -0.5267070376888813,
          -0.1507647819590437,
          -0.253644450631918,
          1.304303981456091,
          -1.3622893199635842,
          -0.5479738141889986,
          1.7245967171812724,
          -0.6053625371178464
         ],
         "yaxis": "y4"
        },
        {
         "line": {
          "color": "rgba(128, 128, 128, 1.0)",
          "dash": "solid",
          "shape": "linear",
          "width": 1.3
         },
         "marker": {
          "size": 2,
          "symbol": "circle"
         },
         "mode": "markers",
         "name": "B",
         "text": "",
         "type": "scatter",
         "x": [
          0.19570059565133208,
          -0.11638330238179669,
          -0.5263256747464582,
          0.8610945321778738,
          -0.3345094465099812,
          0.4408512168711264,
          2.0611077294617712,
          1.1374697047856683,
          -2.1227841875235915,
          1.0292971245745437,
          -0.8364203147960749,
          -0.6258215956665029,
          0.32260095981402637,
          -0.5338387260601835,
          0.6554935664092758,
          1.3736166940602932,
          -0.16495693119745544,
          0.24892874967136702,
          -0.29073261749369766,
          -0.4848063202571289,
          0.6565018657582203,
          -0.36886003694137837,
          0.9473286259130218,
          -0.15192208276392827,
          1.2988105359456485,
          0.22536144692944,
          -1.7445131583390414,
          -1.7640829188462417,
          -1.3763078782535882,
          0.44519599256836434,
          -0.8554265172487281,
          -1.3953353375893736,
          -0.17028847631552607,
          1.2440683236221601,
          1.4351880669067858,
          0.7728377529760181,
          -1.0037061329445511,
          -0.2701346533922767,
          0.263104393296739,
          -0.7310213812969807,
          1.2388398269721017,
          0.46366664662763946,
          -0.09545311315395906,
          -0.6499121108716162,
          -0.25047578428123174,
          -0.7127984780688053,
          0.7110061869252203,
          -0.24074269104144155,
          1.1725672162496483,
          -0.039110608379132855,
          -1.6171364298868847,
          0.8312532821658801,
          -0.032679420067335714,
          0.4859103679519266,
          -0.7535388109234928,
          -0.18912123287211038,
          -1.0403500296557093,
          -0.06219828252596251,
          -1.2761097495726967,
          -0.7380962783569485,
          0.046532238213436,
          -0.5253498256135178,
          -0.4033347119360634,
          -0.08742523631256073,
          -0.38926161053757746,
          0.052737864070574125,
          0.3344579681239486,
          -0.10835434406514376,
          0.054127556806846194,
          0.6032359649720735,
          -1.051406108831842,
          0.7540278979632805,
          0.23644120628538473,
          0.1207891181609108,
          0.18499947890991988,
          0.1304225960231744,
          -0.24489518923344927,
          -0.24068375165242298,
          -0.2763643515085313,
          1.2769322738387565,
          0.6250457444879429,
          -0.17985864709213464,
          0.6502686683025198,
          -0.9452275155825481,
          -1.3426584570541529,
          -1.207128794704555,
          -0.2982937118808505,
          0.11118077103631854,
          1.1977346185162063,
          1.068086693648832,
          1.5337007101930478,
          0.129364274914311,
          -0.5267070376888813,
          -0.1507647819590437,
          -0.253644450631918,
          1.304303981456091,
          -1.3622893199635842,
          -0.5479738141889986,
          1.7245967171812724,
          -0.6053625371178464
         ],
         "xaxis": "x5",
         "y": [
          -1.9039051872194404,
          0.41567584575502137,
          -0.8500551105602945,
          -1.671415698067484,
          0.34902348200098277,
          0.5397321899986275,
          0.7822989116806651,
          -0.7181762676338362,
          -1.6048847969742268,
          -0.28390524053597044,
          -0.2544920313036875,
          0.6580987147545254,
          0.2905384073895607,
          -0.6479322773424703,
          1.4560026616500317,
          -0.4536461754780206,
          0.7004603745030877,
          -1.5464930754789366,
          -0.16322468517313587,
          -0.7548093771049874,
          0.6659135464236476,
          2.059981525156413,
          -0.884493064348931,
          -0.38156249622353255,
          0.19262367405809266,
          0.5473919628467429,
          1.547864817081784,
          0.7295495737738722,
          -1.0412645454837997,
          -1.4386762374682316,
          0.649166310831736,
          -2.3441776498198332,
          -0.2471046319944664,
          0.30042921252640914,
          -1.4319025000255197,
          -0.39701453731115993,
          2.369867746154535,
          -0.5926917296631201,
          -0.2987824930791812,
          -0.4728537299883391,
          2.1497965061361333,
          1.2177318058678004,
          -0.3136206903877042,
          1.6492744026324628,
          -0.9269217399175947,
          0.3175296680171701,
          2.4208137981136284,
          -0.4232717640908274,
          -0.032071324577330126,
          -1.6133508281147728,
          0.30110401618146465,
          -1.6943928569303872,
          0.02329836798108102,
          -0.6582175383544171,
          -0.9231732652496449,
          -0.3665566365075626,
          0.4846993344503613,
          1.104977891592252,
          -0.9035272204986705,
          -0.12985610274943768,
          -0.1821179267844909,
          -0.15059695921959254,
          0.28568805152605853,
          -1.1989949589496258,
          0.017817989819181007,
          -0.34868779585261733,
          -1.3128165938969547,
          2.7361308864903373,
          0.14705769934721588,
          1.7839586180818037,
          0.2792922855416744,
          -0.7230348685840761,
          -1.4779738212518898,
          -1.4618062917125283,
          1.9703481657211541,
          1.2676591244598243,
          0.22817150219098725,
          0.8577007057173187,
          -1.2560616239825597,
          -0.9302539650051844,
          1.1963756510029406,
          0.5267467063123779,
          -0.1348262964779555,
          -0.30604736190366066,
          0.022555198762383655,
          -0.16793166099803278,
          0.6500910390970416,
          -1.650632391323068,
          -1.9996797908113744,
          1.0858725584498004,
          0.005392031409097878,
          1.7117229874270576,
          0.4965048249908904,
          -0.6806504054977754,
          -0.41912197067726653,
          0.3686131823036771,
          -0.3102240940882463,
          -0.5326242897864948,
          0.13540925071550378,
          1.2241412510202085
         ],
         "yaxis": "y5"
        },
        {
         "histfunc": "count",
         "histnorm": "",
         "marker": {
          "color": "rgba(55, 128, 191, 1.0)",
          "line": {
           "color": "#4D5663",
           "width": 1.3
          }
         },
         "name": "B",
         "nbinsx": 10,
         "opacity": 0.8,
         "orientation": "v",
         "type": "histogram",
         "x": [
          -1.9039051872194404,
          0.41567584575502137,
          -0.8500551105602945,
          -1.671415698067484,
          0.34902348200098277,
          0.5397321899986275,
          0.7822989116806651,
          -0.7181762676338362,
          -1.6048847969742268,
          -0.28390524053597044,
          -0.2544920313036875,
          0.6580987147545254,
          0.2905384073895607,
          -0.6479322773424703,
          1.4560026616500317,
          -0.4536461754780206,
          0.7004603745030877,
          -1.5464930754789366,
          -0.16322468517313587,
          -0.7548093771049874,
          0.6659135464236476,
          2.059981525156413,
          -0.884493064348931,
          -0.38156249622353255,
          0.19262367405809266,
          0.5473919628467429,
          1.547864817081784,
          0.7295495737738722,
          -1.0412645454837997,
          -1.4386762374682316,
          0.649166310831736,
          -2.3441776498198332,
          -0.2471046319944664,
          0.30042921252640914,
          -1.4319025000255197,
          -0.39701453731115993,
          2.369867746154535,
          -0.5926917296631201,
          -0.2987824930791812,
          -0.4728537299883391,
          2.1497965061361333,
          1.2177318058678004,
          -0.3136206903877042,
          1.6492744026324628,
          -0.9269217399175947,
          0.3175296680171701,
          2.4208137981136284,
          -0.4232717640908274,
          -0.032071324577330126,
          -1.6133508281147728,
          0.30110401618146465,
          -1.6943928569303872,
          0.02329836798108102,
          -0.6582175383544171,
          -0.9231732652496449,
          -0.3665566365075626,
          0.4846993344503613,
          1.104977891592252,
          -0.9035272204986705,
          -0.12985610274943768,
          -0.1821179267844909,
          -0.15059695921959254,
          0.28568805152605853,
          -1.1989949589496258,
          0.017817989819181007,
          -0.34868779585261733,
          -1.3128165938969547,
          2.7361308864903373,
          0.14705769934721588,
          1.7839586180818037,
          0.2792922855416744,
          -0.7230348685840761,
          -1.4779738212518898,
          -1.4618062917125283,
          1.9703481657211541,
          1.2676591244598243,
          0.22817150219098725,
          0.8577007057173187,
          -1.2560616239825597,
          -0.9302539650051844,
          1.1963756510029406,
          0.5267467063123779,
          -0.1348262964779555,
          -0.30604736190366066,
          0.022555198762383655,
          -0.16793166099803278,
          0.6500910390970416,
          -1.650632391323068,
          -1.9996797908113744,
          1.0858725584498004,
          0.005392031409097878,
          1.7117229874270576,
          0.4965048249908904,
          -0.6806504054977754,
          -0.41912197067726653,
          0.3686131823036771,
          -0.3102240940882463,
          -0.5326242897864948,
          0.13540925071550378,
          1.2241412510202085
         ],
         "xaxis": "x6",
         "yaxis": "y6"
        },
        {
         "line": {
          "color": "rgba(128, 128, 128, 1.0)",
          "dash": "solid",
          "shape": "linear",
          "width": 1.3
         },
         "marker": {
          "size": 2,
          "symbol": "circle"
         },
         "mode": "markers",
         "name": "B",
         "text": "",
         "type": "scatter",
         "x": [
          -0.19742756926843105,
          0.48958431436992456,
          1.168655358246096,
          -1.3239674601960378,
          0.3153412681524564,
          -1.2867213298660525,
          0.13789323815829171,
          -1.3125707738687633,
          -0.9234834781507878,
          -0.9548407227047814,
          0.3281827098249989,
          -0.3277377584634297,
          -1.3389401832040264,
          -0.7965973626411075,
          -1.4073340890042276,
          0.8337423779644011,
          -0.15811866852240905,
          1.0849554248787707,
          2.0612040425799627,
          -2.318379508588448,
          -1.950184533721912,
          -0.011910728682155394,
          -1.366112972733267,
          1.0501167875491892,
          0.271741015803,
          -1.4163867458934332,
          0.7215180594005365,
          0.43675196186973586,
          -0.3507397519626802,
          -1.6443851500374882,
          -0.8490477414572171,
          -1.6127329815628186,
          -1.3087264158796403,
          0.0058488737954857034,
          -0.36321271690552726,
          0.08444388374930377,
          0.1181060177717198,
          -0.14842969336280984,
          -1.6963859240233354,
          -1.0863418413017474,
          0.10129253574241567,
          -0.5900410648265194,
          -0.5009043399907748,
          -1.2716423538388761,
          -0.4284674367119366,
          0.26540445885382735,
          0.4170753457414443,
          -0.36798568466917686,
          -0.8095269771913907,
          2.110941230287802,
          0.5663429864997228,
          0.08995655038933079,
          -0.84812317579309,
          0.25653928204649035,
          0.044956983413372655,
          0.4408878738134412,
          -0.7661276683521101,
          -1.6757250776250023,
          0.6240106192760755,
          0.6853774199406103,
          1.1571308663536402,
          -1.233540507022606,
          -0.5430963887359603,
          -1.053444352385449,
          0.07002453531421317,
          -0.9284087622114705,
          0.00940398366288766,
          -0.3240331489016471,
          -1.5350666449797785,
          -0.8021685333792421,
          0.054985419462508144,
          0.2873924541602581,
          -1.7653271429977395,
          0.2808187957487331,
          -0.2504873511898542,
          0.8176394956508974,
          0.18627545033457132,
          1.9915991067706624,
          0.44328160033777114,
          0.9044391218899049,
          2.26791900684423,
          -1.5256270985104692,
          -1.1416493459172348,
          -1.476047627561701,
          -0.5253658496613989,
          0.33415996539835696,
          0.4361804935570515,
          -0.7567641205192095,
          0.22262672530051753,
          -1.9071038631080481,
          -0.00396760837536343,
          1.7064732324082712,
          0.6034265071025826,
          -1.9273434592087144,
          0.9921617004887597,
          -0.5587647056959151,
          -0.05808663848653034,
          -1.2199300754263094,
          -1.15709736045127,
          -0.9743788159189748
         ],
         "xaxis": "x7",
         "y": [
          -1.9039051872194404,
          0.41567584575502137,
          -0.8500551105602945,
          -1.671415698067484,
          0.34902348200098277,
          0.5397321899986275,
          0.7822989116806651,
          -0.7181762676338362,
          -1.6048847969742268,
          -0.28390524053597044,
          -0.2544920313036875,
          0.6580987147545254,
          0.2905384073895607,
          -0.6479322773424703,
          1.4560026616500317,
          -0.4536461754780206,
          0.7004603745030877,
          -1.5464930754789366,
          -0.16322468517313587,
          -0.7548093771049874,
          0.6659135464236476,
          2.059981525156413,
          -0.884493064348931,
          -0.38156249622353255,
          0.19262367405809266,
          0.5473919628467429,
          1.547864817081784,
          0.7295495737738722,
          -1.0412645454837997,
          -1.4386762374682316,
          0.649166310831736,
          -2.3441776498198332,
          -0.2471046319944664,
          0.30042921252640914,
          -1.4319025000255197,
          -0.39701453731115993,
          2.369867746154535,
          -0.5926917296631201,
          -0.2987824930791812,
          -0.4728537299883391,
          2.1497965061361333,
          1.2177318058678004,
          -0.3136206903877042,
          1.6492744026324628,
          -0.9269217399175947,
          0.3175296680171701,
          2.4208137981136284,
          -0.4232717640908274,
          -0.032071324577330126,
          -1.6133508281147728,
          0.30110401618146465,
          -1.6943928569303872,
          0.02329836798108102,
          -0.6582175383544171,
          -0.9231732652496449,
          -0.3665566365075626,
          0.4846993344503613,
          1.104977891592252,
          -0.9035272204986705,
          -0.12985610274943768,
          -0.1821179267844909,
          -0.15059695921959254,
          0.28568805152605853,
          -1.1989949589496258,
          0.017817989819181007,
          -0.34868779585261733,
          -1.3128165938969547,
          2.7361308864903373,
          0.14705769934721588,
          1.7839586180818037,
          0.2792922855416744,
          -0.7230348685840761,
          -1.4779738212518898,
          -1.4618062917125283,
          1.9703481657211541,
          1.2676591244598243,
          0.22817150219098725,
          0.8577007057173187,
          -1.2560616239825597,
          -0.9302539650051844,
          1.1963756510029406,
          0.5267467063123779,
          -0.1348262964779555,
          -0.30604736190366066,
          0.022555198762383655,
          -0.16793166099803278,
          0.6500910390970416,
          -1.650632391323068,
          -1.9996797908113744,
          1.0858725584498004,
          0.005392031409097878,
          1.7117229874270576,
          0.4965048249908904,
          -0.6806504054977754,
          -0.41912197067726653,
          0.3686131823036771,
          -0.3102240940882463,
          -0.5326242897864948,
          0.13540925071550378,
          1.2241412510202085
         ],
         "yaxis": "y7"
        },
        {
         "line": {
          "color": "rgba(128, 128, 128, 1.0)",
          "dash": "solid",
          "shape": "linear",
          "width": 1.3
         },
         "marker": {
          "size": 2,
          "symbol": "circle"
         },
         "mode": "markers",
         "name": "B",
         "text": "",
         "type": "scatter",
         "x": [
          0.738190830937213,
          0.05388632898957935,
          1.0881527464783645,
          -1.0077265322775444,
          -0.41881847699678193,
          -0.2915529980778208,
          -1.2590941502756594,
          -1.229551033330486,
          -0.18140644511752788,
          -0.2870228963830413,
          -2.2089798603151674,
          0.6843054039418736,
          0.6742624926357605,
          -0.5910863898055728,
          1.1462985693719674,
          0.4741505151953946,
          -1.22184361711703,
          0.3545396509616731,
          0.2437784655319529,
          0.8851937685556265,
          0.4632827238928113,
          1.0863756187270626,
          -0.1181561527572261,
          0.1369261680083311,
          2.0348524973218987,
          -1.8861768832689836,
          -0.016705368751881017,
          0.7290175886085175,
          1.318164717746607,
          -0.08419407473425462,
          0.5188272566189656,
          -0.11785375633774303,
          0.6816241022779139,
          1.1633798931878614,
          1.3009309850009134,
          1.1031064057176247,
          -1.7268011580280418,
          -0.1877113285912264,
          0.6433668159665754,
          0.5175660426550832,
          -0.4262770712301764,
          1.4345996252642592,
          -1.5851546875837106,
          1.7431000816154405,
          1.7045490658714484,
          0.18649227181534667,
          -0.46457495515943703,
          -0.6659601290687353,
          0.6471493021984399,
          -0.5650773246995385,
          0.23816150687538057,
          -0.7569262775599286,
          -0.9098285535133858,
          -1.4010829422108781,
          1.112587332750602,
          -1.1688615137051739,
          0.8938407717187248,
          0.8681635351258409,
          1.2854867980875944,
          1.5847484818220776,
          -0.7351580187684134,
          -0.20030886020076985,
          0.6193994652155762,
          0.8534211177717292,
          0.5637404340111039,
          0.2971366085488249,
          1.488990189483893,
          -1.1136939284905183,
          0.36931992078898696,
          0.6012505232665935,
          -1.228684022050812,
          0.4474824371666456,
          -0.8482997954231998,
          -0.85839217274234,
          0.5816657109309396,
          0.561463492438676,
          -0.17762971790881574,
          2.253819024780938,
          1.8383271645432007,
          -0.017723983247172517,
          -1.4086179887604693,
          -0.455262052154905,
          3.027749410400535,
          -0.7706272831937817,
          0.044998032882978274,
          0.5093813314163811,
          -0.8738320491940496,
          -0.3788672274267904,
          0.8985220013506069,
          0.11688284615129714,
          0.08085665790681583,
          1.2423065994338762,
          -0.0884143933777113,
          0.345420570043961,
          0.4132818552246082,
          -0.6301355000040854,
          0.822477330774026,
          0.10555307862137166,
          -2.1584819195642595,
          0.8402591907285277
         ],
         "xaxis": "x8",
         "y": [
          -1.9039051872194404,
          0.41567584575502137,
          -0.8500551105602945,
          -1.671415698067484,
          0.34902348200098277,
          0.5397321899986275,
          0.7822989116806651,
          -0.7181762676338362,
          -1.6048847969742268,
          -0.28390524053597044,
          -0.2544920313036875,
          0.6580987147545254,
          0.2905384073895607,
          -0.6479322773424703,
          1.4560026616500317,
          -0.4536461754780206,
          0.7004603745030877,
          -1.5464930754789366,
          -0.16322468517313587,
          -0.7548093771049874,
          0.6659135464236476,
          2.059981525156413,
          -0.884493064348931,
          -0.38156249622353255,
          0.19262367405809266,
          0.5473919628467429,
          1.547864817081784,
          0.7295495737738722,
          -1.0412645454837997,
          -1.4386762374682316,
          0.649166310831736,
          -2.3441776498198332,
          -0.2471046319944664,
          0.30042921252640914,
          -1.4319025000255197,
          -0.39701453731115993,
          2.369867746154535,
          -0.5926917296631201,
          -0.2987824930791812,
          -0.4728537299883391,
          2.1497965061361333,
          1.2177318058678004,
          -0.3136206903877042,
          1.6492744026324628,
          -0.9269217399175947,
          0.3175296680171701,
          2.4208137981136284,
          -0.4232717640908274,
          -0.032071324577330126,
          -1.6133508281147728,
          0.30110401618146465,
          -1.6943928569303872,
          0.02329836798108102,
          -0.6582175383544171,
          -0.9231732652496449,
          -0.3665566365075626,
          0.4846993344503613,
          1.104977891592252,
          -0.9035272204986705,
          -0.12985610274943768,
          -0.1821179267844909,
          -0.15059695921959254,
          0.28568805152605853,
          -1.1989949589496258,
          0.017817989819181007,
          -0.34868779585261733,
          -1.3128165938969547,
          2.7361308864903373,
          0.14705769934721588,
          1.7839586180818037,
          0.2792922855416744,
          -0.7230348685840761,
          -1.4779738212518898,
          -1.4618062917125283,
          1.9703481657211541,
          1.2676591244598243,
          0.22817150219098725,
          0.8577007057173187,
          -1.2560616239825597,
          -0.9302539650051844,
          1.1963756510029406,
          0.5267467063123779,
          -0.1348262964779555,
          -0.30604736190366066,
          0.022555198762383655,
          -0.16793166099803278,
          0.6500910390970416,
          -1.650632391323068,
          -1.9996797908113744,
          1.0858725584498004,
          0.005392031409097878,
          1.7117229874270576,
          0.4965048249908904,
          -0.6806504054977754,
          -0.41912197067726653,
          0.3686131823036771,
          -0.3102240940882463,
          -0.5326242897864948,
          0.13540925071550378,
          1.2241412510202085
         ],
         "yaxis": "y8"
        },
        {
         "line": {
          "color": "rgba(128, 128, 128, 1.0)",
          "dash": "solid",
          "shape": "linear",
          "width": 1.3
         },
         "marker": {
          "size": 2,
          "symbol": "circle"
         },
         "mode": "markers",
         "name": "C",
         "text": "",
         "type": "scatter",
         "x": [
          0.19570059565133208,
          -0.11638330238179669,
          -0.5263256747464582,
          0.8610945321778738,
          -0.3345094465099812,
          0.4408512168711264,
          2.0611077294617712,
          1.1374697047856683,
          -2.1227841875235915,
          1.0292971245745437,
          -0.8364203147960749,
          -0.6258215956665029,
          0.32260095981402637,
          -0.5338387260601835,
          0.6554935664092758,
          1.3736166940602932,
          -0.16495693119745544,
          0.24892874967136702,
          -0.29073261749369766,
          -0.4848063202571289,
          0.6565018657582203,
          -0.36886003694137837,
          0.9473286259130218,
          -0.15192208276392827,
          1.2988105359456485,
          0.22536144692944,
          -1.7445131583390414,
          -1.7640829188462417,
          -1.3763078782535882,
          0.44519599256836434,
          -0.8554265172487281,
          -1.3953353375893736,
          -0.17028847631552607,
          1.2440683236221601,
          1.4351880669067858,
          0.7728377529760181,
          -1.0037061329445511,
          -0.2701346533922767,
          0.263104393296739,
          -0.7310213812969807,
          1.2388398269721017,
          0.46366664662763946,
          -0.09545311315395906,
          -0.6499121108716162,
          -0.25047578428123174,
          -0.7127984780688053,
          0.7110061869252203,
          -0.24074269104144155,
          1.1725672162496483,
          -0.039110608379132855,
          -1.6171364298868847,
          0.8312532821658801,
          -0.032679420067335714,
          0.4859103679519266,
          -0.7535388109234928,
          -0.18912123287211038,
          -1.0403500296557093,
          -0.06219828252596251,
          -1.2761097495726967,
          -0.7380962783569485,
          0.046532238213436,
          -0.5253498256135178,
          -0.4033347119360634,
          -0.08742523631256073,
          -0.38926161053757746,
          0.052737864070574125,
          0.3344579681239486,
          -0.10835434406514376,
          0.054127556806846194,
          0.6032359649720735,
          -1.051406108831842,
          0.7540278979632805,
          0.23644120628538473,
          0.1207891181609108,
          0.18499947890991988,
          0.1304225960231744,
          -0.24489518923344927,
          -0.24068375165242298,
          -0.2763643515085313,
          1.2769322738387565,
          0.6250457444879429,
          -0.17985864709213464,
          0.6502686683025198,
          -0.9452275155825481,
          -1.3426584570541529,
          -1.207128794704555,
          -0.2982937118808505,
          0.11118077103631854,
          1.1977346185162063,
          1.068086693648832,
          1.5337007101930478,
          0.129364274914311,
          -0.5267070376888813,
          -0.1507647819590437,
          -0.253644450631918,
          1.304303981456091,
          -1.3622893199635842,
          -0.5479738141889986,
          1.7245967171812724,
          -0.6053625371178464
         ],
         "xaxis": "x9",
         "y": [
          -0.19742756926843105,
          0.48958431436992456,
          1.168655358246096,
          -1.3239674601960378,
          0.3153412681524564,
          -1.2867213298660525,
          0.13789323815829171,
          -1.3125707738687633,
          -0.9234834781507878,
          -0.9548407227047814,
          0.3281827098249989,
          -0.3277377584634297,
          -1.3389401832040264,
          -0.7965973626411075,
          -1.4073340890042276,
          0.8337423779644011,
          -0.15811866852240905,
          1.0849554248787707,
          2.0612040425799627,
          -2.318379508588448,
          -1.950184533721912,
          -0.011910728682155394,
          -1.366112972733267,
          1.0501167875491892,
          0.271741015803,
          -1.4163867458934332,
          0.7215180594005365,
          0.43675196186973586,
          -0.3507397519626802,
          -1.6443851500374882,
          -0.8490477414572171,
          -1.6127329815628186,
          -1.3087264158796403,
          0.0058488737954857034,
          -0.36321271690552726,
          0.08444388374930377,
          0.1181060177717198,
          -0.14842969336280984,
          -1.6963859240233354,
          -1.0863418413017474,
          0.10129253574241567,
          -0.5900410648265194,
          -0.5009043399907748,
          -1.2716423538388761,
          -0.4284674367119366,
          0.26540445885382735,
          0.4170753457414443,
          -0.36798568466917686,
          -0.8095269771913907,
          2.110941230287802,
          0.5663429864997228,
          0.08995655038933079,
          -0.84812317579309,
          0.25653928204649035,
          0.044956983413372655,
          0.4408878738134412,
          -0.7661276683521101,
          -1.6757250776250023,
          0.6240106192760755,
          0.6853774199406103,
          1.1571308663536402,
          -1.233540507022606,
          -0.5430963887359603,
          -1.053444352385449,
          0.07002453531421317,
          -0.9284087622114705,
          0.00940398366288766,
          -0.3240331489016471,
          -1.5350666449797785,
          -0.8021685333792421,
          0.054985419462508144,
          0.2873924541602581,
          -1.7653271429977395,
          0.2808187957487331,
          -0.2504873511898542,
          0.8176394956508974,
          0.18627545033457132,
          1.9915991067706624,
          0.44328160033777114,
          0.9044391218899049,
          2.26791900684423,
          -1.5256270985104692,
          -1.1416493459172348,
          -1.476047627561701,
          -0.5253658496613989,
          0.33415996539835696,
          0.4361804935570515,
          -0.7567641205192095,
          0.22262672530051753,
          -1.9071038631080481,
          -0.00396760837536343,
          1.7064732324082712,
          0.6034265071025826,
          -1.9273434592087144,
          0.9921617004887597,
          -0.5587647056959151,
          -0.05808663848653034,
          -1.2199300754263094,
          -1.15709736045127,
          -0.9743788159189748
         ],
         "yaxis": "y9"
        },
        {
         "line": {
          "color": "rgba(128, 128, 128, 1.0)",
          "dash": "solid",
          "shape": "linear",
          "width": 1.3
         },
         "marker": {
          "size": 2,
          "symbol": "circle"
         },
         "mode": "markers",
         "name": "C",
         "text": "",
         "type": "scatter",
         "x": [
          -1.9039051872194404,
          0.41567584575502137,
          -0.8500551105602945,
          -1.671415698067484,
          0.34902348200098277,
          0.5397321899986275,
          0.7822989116806651,
          -0.7181762676338362,
          -1.6048847969742268,
          -0.28390524053597044,
          -0.2544920313036875,
          0.6580987147545254,
          0.2905384073895607,
          -0.6479322773424703,
          1.4560026616500317,
          -0.4536461754780206,
          0.7004603745030877,
          -1.5464930754789366,
          -0.16322468517313587,
          -0.7548093771049874,
          0.6659135464236476,
          2.059981525156413,
          -0.884493064348931,
          -0.38156249622353255,
          0.19262367405809266,
          0.5473919628467429,
          1.547864817081784,
          0.7295495737738722,
          -1.0412645454837997,
          -1.4386762374682316,
          0.649166310831736,
          -2.3441776498198332,
          -0.2471046319944664,
          0.30042921252640914,
          -1.4319025000255197,
          -0.39701453731115993,
          2.369867746154535,
          -0.5926917296631201,
          -0.2987824930791812,
          -0.4728537299883391,
          2.1497965061361333,
          1.2177318058678004,
          -0.3136206903877042,
          1.6492744026324628,
          -0.9269217399175947,
          0.3175296680171701,
          2.4208137981136284,
          -0.4232717640908274,
          -0.032071324577330126,
          -1.6133508281147728,
          0.30110401618146465,
          -1.6943928569303872,
          0.02329836798108102,
          -0.6582175383544171,
          -0.9231732652496449,
          -0.3665566365075626,
          0.4846993344503613,
          1.104977891592252,
          -0.9035272204986705,
          -0.12985610274943768,
          -0.1821179267844909,
          -0.15059695921959254,
          0.28568805152605853,
          -1.1989949589496258,
          0.017817989819181007,
          -0.34868779585261733,
          -1.3128165938969547,
          2.7361308864903373,
          0.14705769934721588,
          1.7839586180818037,
          0.2792922855416744,
          -0.7230348685840761,
          -1.4779738212518898,
          -1.4618062917125283,
          1.9703481657211541,
          1.2676591244598243,
          0.22817150219098725,
          0.8577007057173187,
          -1.2560616239825597,
          -0.9302539650051844,
          1.1963756510029406,
          0.5267467063123779,
          -0.1348262964779555,
          -0.30604736190366066,
          0.022555198762383655,
          -0.16793166099803278,
          0.6500910390970416,
          -1.650632391323068,
          -1.9996797908113744,
          1.0858725584498004,
          0.005392031409097878,
          1.7117229874270576,
          0.4965048249908904,
          -0.6806504054977754,
          -0.41912197067726653,
          0.3686131823036771,
          -0.3102240940882463,
          -0.5326242897864948,
          0.13540925071550378,
          1.2241412510202085
         ],
         "xaxis": "x10",
         "y": [
          -0.19742756926843105,
          0.48958431436992456,
          1.168655358246096,
          -1.3239674601960378,
          0.3153412681524564,
          -1.2867213298660525,
          0.13789323815829171,
          -1.3125707738687633,
          -0.9234834781507878,
          -0.9548407227047814,
          0.3281827098249989,
          -0.3277377584634297,
          -1.3389401832040264,
          -0.7965973626411075,
          -1.4073340890042276,
          0.8337423779644011,
          -0.15811866852240905,
          1.0849554248787707,
          2.0612040425799627,
          -2.318379508588448,
          -1.950184533721912,
          -0.011910728682155394,
          -1.366112972733267,
          1.0501167875491892,
          0.271741015803,
          -1.4163867458934332,
          0.7215180594005365,
          0.43675196186973586,
          -0.3507397519626802,
          -1.6443851500374882,
          -0.8490477414572171,
          -1.6127329815628186,
          -1.3087264158796403,
          0.0058488737954857034,
          -0.36321271690552726,
          0.08444388374930377,
          0.1181060177717198,
          -0.14842969336280984,
          -1.6963859240233354,
          -1.0863418413017474,
          0.10129253574241567,
          -0.5900410648265194,
          -0.5009043399907748,
          -1.2716423538388761,
          -0.4284674367119366,
          0.26540445885382735,
          0.4170753457414443,
          -0.36798568466917686,
          -0.8095269771913907,
          2.110941230287802,
          0.5663429864997228,
          0.08995655038933079,
          -0.84812317579309,
          0.25653928204649035,
          0.044956983413372655,
          0.4408878738134412,
          -0.7661276683521101,
          -1.6757250776250023,
          0.6240106192760755,
          0.6853774199406103,
          1.1571308663536402,
          -1.233540507022606,
          -0.5430963887359603,
          -1.053444352385449,
          0.07002453531421317,
          -0.9284087622114705,
          0.00940398366288766,
          -0.3240331489016471,
          -1.5350666449797785,
          -0.8021685333792421,
          0.054985419462508144,
          0.2873924541602581,
          -1.7653271429977395,
          0.2808187957487331,
          -0.2504873511898542,
          0.8176394956508974,
          0.18627545033457132,
          1.9915991067706624,
          0.44328160033777114,
          0.9044391218899049,
          2.26791900684423,
          -1.5256270985104692,
          -1.1416493459172348,
          -1.476047627561701,
          -0.5253658496613989,
          0.33415996539835696,
          0.4361804935570515,
          -0.7567641205192095,
          0.22262672530051753,
          -1.9071038631080481,
          -0.00396760837536343,
          1.7064732324082712,
          0.6034265071025826,
          -1.9273434592087144,
          0.9921617004887597,
          -0.5587647056959151,
          -0.05808663848653034,
          -1.2199300754263094,
          -1.15709736045127,
          -0.9743788159189748
         ],
         "yaxis": "y10"
        },
        {
         "histfunc": "count",
         "histnorm": "",
         "marker": {
          "color": "rgba(50, 171, 96, 1.0)",
          "line": {
           "color": "#4D5663",
           "width": 1.3
          }
         },
         "name": "C",
         "nbinsx": 10,
         "opacity": 0.8,
         "orientation": "v",
         "type": "histogram",
         "x": [
          -0.19742756926843105,
          0.48958431436992456,
          1.168655358246096,
          -1.3239674601960378,
          0.3153412681524564,
          -1.2867213298660525,
          0.13789323815829171,
          -1.3125707738687633,
          -0.9234834781507878,
          -0.9548407227047814,
          0.3281827098249989,
          -0.3277377584634297,
          -1.3389401832040264,
          -0.7965973626411075,
          -1.4073340890042276,
          0.8337423779644011,
          -0.15811866852240905,
          1.0849554248787707,
          2.0612040425799627,
          -2.318379508588448,
          -1.950184533721912,
          -0.011910728682155394,
          -1.366112972733267,
          1.0501167875491892,
          0.271741015803,
          -1.4163867458934332,
          0.7215180594005365,
          0.43675196186973586,
          -0.3507397519626802,
          -1.6443851500374882,
          -0.8490477414572171,
          -1.6127329815628186,
          -1.3087264158796403,
          0.0058488737954857034,
          -0.36321271690552726,
          0.08444388374930377,
          0.1181060177717198,
          -0.14842969336280984,
          -1.6963859240233354,
          -1.0863418413017474,
          0.10129253574241567,
          -0.5900410648265194,
          -0.5009043399907748,
          -1.2716423538388761,
          -0.4284674367119366,
          0.26540445885382735,
          0.4170753457414443,
          -0.36798568466917686,
          -0.8095269771913907,
          2.110941230287802,
          0.5663429864997228,
          0.08995655038933079,
          -0.84812317579309,
          0.25653928204649035,
          0.044956983413372655,
          0.4408878738134412,
          -0.7661276683521101,
          -1.6757250776250023,
          0.6240106192760755,
          0.6853774199406103,
          1.1571308663536402,
          -1.233540507022606,
          -0.5430963887359603,
          -1.053444352385449,
          0.07002453531421317,
          -0.9284087622114705,
          0.00940398366288766,
          -0.3240331489016471,
          -1.5350666449797785,
          -0.8021685333792421,
          0.054985419462508144,
          0.2873924541602581,
          -1.7653271429977395,
          0.2808187957487331,
          -0.2504873511898542,
          0.8176394956508974,
          0.18627545033457132,
          1.9915991067706624,
          0.44328160033777114,
          0.9044391218899049,
          2.26791900684423,
          -1.5256270985104692,
          -1.1416493459172348,
          -1.476047627561701,
          -0.5253658496613989,
          0.33415996539835696,
          0.4361804935570515,
          -0.7567641205192095,
          0.22262672530051753,
          -1.9071038631080481,
          -0.00396760837536343,
          1.7064732324082712,
          0.6034265071025826,
          -1.9273434592087144,
          0.9921617004887597,
          -0.5587647056959151,
          -0.05808663848653034,
          -1.2199300754263094,
          -1.15709736045127,
          -0.9743788159189748
         ],
         "xaxis": "x11",
         "yaxis": "y11"
        },
        {
         "line": {
          "color": "rgba(128, 128, 128, 1.0)",
          "dash": "solid",
          "shape": "linear",
          "width": 1.3
         },
         "marker": {
          "size": 2,
          "symbol": "circle"
         },
         "mode": "markers",
         "name": "C",
         "text": "",
         "type": "scatter",
         "x": [
          0.738190830937213,
          0.05388632898957935,
          1.0881527464783645,
          -1.0077265322775444,
          -0.41881847699678193,
          -0.2915529980778208,
          -1.2590941502756594,
          -1.229551033330486,
          -0.18140644511752788,
          -0.2870228963830413,
          -2.2089798603151674,
          0.6843054039418736,
          0.6742624926357605,
          -0.5910863898055728,
          1.1462985693719674,
          0.4741505151953946,
          -1.22184361711703,
          0.3545396509616731,
          0.2437784655319529,
          0.8851937685556265,
          0.4632827238928113,
          1.0863756187270626,
          -0.1181561527572261,
          0.1369261680083311,
          2.0348524973218987,
          -1.8861768832689836,
          -0.016705368751881017,
          0.7290175886085175,
          1.318164717746607,
          -0.08419407473425462,
          0.5188272566189656,
          -0.11785375633774303,
          0.6816241022779139,
          1.1633798931878614,
          1.3009309850009134,
          1.1031064057176247,
          -1.7268011580280418,
          -0.1877113285912264,
          0.6433668159665754,
          0.5175660426550832,
          -0.4262770712301764,
          1.4345996252642592,
          -1.5851546875837106,
          1.7431000816154405,
          1.7045490658714484,
          0.18649227181534667,
          -0.46457495515943703,
          -0.6659601290687353,
          0.6471493021984399,
          -0.5650773246995385,
          0.23816150687538057,
          -0.7569262775599286,
          -0.9098285535133858,
          -1.4010829422108781,
          1.112587332750602,
          -1.1688615137051739,
          0.8938407717187248,
          0.8681635351258409,
          1.2854867980875944,
          1.5847484818220776,
          -0.7351580187684134,
          -0.20030886020076985,
          0.6193994652155762,
          0.8534211177717292,
          0.5637404340111039,
          0.2971366085488249,
          1.488990189483893,
          -1.1136939284905183,
          0.36931992078898696,
          0.6012505232665935,
          -1.228684022050812,
          0.4474824371666456,
          -0.8482997954231998,
          -0.85839217274234,
          0.5816657109309396,
          0.561463492438676,
          -0.17762971790881574,
          2.253819024780938,
          1.8383271645432007,
          -0.017723983247172517,
          -1.4086179887604693,
          -0.455262052154905,
          3.027749410400535,
          -0.7706272831937817,
          0.044998032882978274,
          0.5093813314163811,
          -0.8738320491940496,
          -0.3788672274267904,
          0.8985220013506069,
          0.11688284615129714,
          0.08085665790681583,
          1.2423065994338762,
          -0.0884143933777113,
          0.345420570043961,
          0.4132818552246082,
          -0.6301355000040854,
          0.822477330774026,
          0.10555307862137166,
          -2.1584819195642595,
          0.8402591907285277
         ],
         "xaxis": "x12",
         "y": [
          -0.19742756926843105,
          0.48958431436992456,
          1.168655358246096,
          -1.3239674601960378,
          0.3153412681524564,
          -1.2867213298660525,
          0.13789323815829171,
          -1.3125707738687633,
          -0.9234834781507878,
          -0.9548407227047814,
          0.3281827098249989,
          -0.3277377584634297,
          -1.3389401832040264,
          -0.7965973626411075,
          -1.4073340890042276,
          0.8337423779644011,
          -0.15811866852240905,
          1.0849554248787707,
          2.0612040425799627,
          -2.318379508588448,
          -1.950184533721912,
          -0.011910728682155394,
          -1.366112972733267,
          1.0501167875491892,
          0.271741015803,
          -1.4163867458934332,
          0.7215180594005365,
          0.43675196186973586,
          -0.3507397519626802,
          -1.6443851500374882,
          -0.8490477414572171,
          -1.6127329815628186,
          -1.3087264158796403,
          0.0058488737954857034,
          -0.36321271690552726,
          0.08444388374930377,
          0.1181060177717198,
          -0.14842969336280984,
          -1.6963859240233354,
          -1.0863418413017474,
          0.10129253574241567,
          -0.5900410648265194,
          -0.5009043399907748,
          -1.2716423538388761,
          -0.4284674367119366,
          0.26540445885382735,
          0.4170753457414443,
          -0.36798568466917686,
          -0.8095269771913907,
          2.110941230287802,
          0.5663429864997228,
          0.08995655038933079,
          -0.84812317579309,
          0.25653928204649035,
          0.044956983413372655,
          0.4408878738134412,
          -0.7661276683521101,
          -1.6757250776250023,
          0.6240106192760755,
          0.6853774199406103,
          1.1571308663536402,
          -1.233540507022606,
          -0.5430963887359603,
          -1.053444352385449,
          0.07002453531421317,
          -0.9284087622114705,
          0.00940398366288766,
          -0.3240331489016471,
          -1.5350666449797785,
          -0.8021685333792421,
          0.054985419462508144,
          0.2873924541602581,
          -1.7653271429977395,
          0.2808187957487331,
          -0.2504873511898542,
          0.8176394956508974,
          0.18627545033457132,
          1.9915991067706624,
          0.44328160033777114,
          0.9044391218899049,
          2.26791900684423,
          -1.5256270985104692,
          -1.1416493459172348,
          -1.476047627561701,
          -0.5253658496613989,
          0.33415996539835696,
          0.4361804935570515,
          -0.7567641205192095,
          0.22262672530051753,
          -1.9071038631080481,
          -0.00396760837536343,
          1.7064732324082712,
          0.6034265071025826,
          -1.9273434592087144,
          0.9921617004887597,
          -0.5587647056959151,
          -0.05808663848653034,
          -1.2199300754263094,
          -1.15709736045127,
          -0.9743788159189748
         ],
         "yaxis": "y12"
        },
        {
         "line": {
          "color": "rgba(128, 128, 128, 1.0)",
          "dash": "solid",
          "shape": "linear",
          "width": 1.3
         },
         "marker": {
          "size": 2,
          "symbol": "circle"
         },
         "mode": "markers",
         "name": "D",
         "text": "",
         "type": "scatter",
         "x": [
          0.19570059565133208,
          -0.11638330238179669,
          -0.5263256747464582,
          0.8610945321778738,
          -0.3345094465099812,
          0.4408512168711264,
          2.0611077294617712,
          1.1374697047856683,
          -2.1227841875235915,
          1.0292971245745437,
          -0.8364203147960749,
          -0.6258215956665029,
          0.32260095981402637,
          -0.5338387260601835,
          0.6554935664092758,
          1.3736166940602932,
          -0.16495693119745544,
          0.24892874967136702,
          -0.29073261749369766,
          -0.4848063202571289,
          0.6565018657582203,
          -0.36886003694137837,
          0.9473286259130218,
          -0.15192208276392827,
          1.2988105359456485,
          0.22536144692944,
          -1.7445131583390414,
          -1.7640829188462417,
          -1.3763078782535882,
          0.44519599256836434,
          -0.8554265172487281,
          -1.3953353375893736,
          -0.17028847631552607,
          1.2440683236221601,
          1.4351880669067858,
          0.7728377529760181,
          -1.0037061329445511,
          -0.2701346533922767,
          0.263104393296739,
          -0.7310213812969807,
          1.2388398269721017,
          0.46366664662763946,
          -0.09545311315395906,
          -0.6499121108716162,
          -0.25047578428123174,
          -0.7127984780688053,
          0.7110061869252203,
          -0.24074269104144155,
          1.1725672162496483,
          -0.039110608379132855,
          -1.6171364298868847,
          0.8312532821658801,
          -0.032679420067335714,
          0.4859103679519266,
          -0.7535388109234928,
          -0.18912123287211038,
          -1.0403500296557093,
          -0.06219828252596251,
          -1.2761097495726967,
          -0.7380962783569485,
          0.046532238213436,
          -0.5253498256135178,
          -0.4033347119360634,
          -0.08742523631256073,
          -0.38926161053757746,
          0.052737864070574125,
          0.3344579681239486,
          -0.10835434406514376,
          0.054127556806846194,
          0.6032359649720735,
          -1.051406108831842,
          0.7540278979632805,
          0.23644120628538473,
          0.1207891181609108,
          0.18499947890991988,
          0.1304225960231744,
          -0.24489518923344927,
          -0.24068375165242298,
          -0.2763643515085313,
          1.2769322738387565,
          0.6250457444879429,
          -0.17985864709213464,
          0.6502686683025198,
          -0.9452275155825481,
          -1.3426584570541529,
          -1.207128794704555,
          -0.2982937118808505,
          0.11118077103631854,
          1.1977346185162063,
          1.068086693648832,
          1.5337007101930478,
          0.129364274914311,
          -0.5267070376888813,
          -0.1507647819590437,
          -0.253644450631918,
          1.304303981456091,
          -1.3622893199635842,
          -0.5479738141889986,
          1.7245967171812724,
          -0.6053625371178464
         ],
         "xaxis": "x13",
         "y": [
          0.738190830937213,
          0.05388632898957935,
          1.0881527464783645,
          -1.0077265322775444,
          -0.41881847699678193,
          -0.2915529980778208,
          -1.2590941502756594,
          -1.229551033330486,
          -0.18140644511752788,
          -0.2870228963830413,
          -2.2089798603151674,
          0.6843054039418736,
          0.6742624926357605,
          -0.5910863898055728,
          1.1462985693719674,
          0.4741505151953946,
          -1.22184361711703,
          0.3545396509616731,
          0.2437784655319529,
          0.8851937685556265,
          0.4632827238928113,
          1.0863756187270626,
          -0.1181561527572261,
          0.1369261680083311,
          2.0348524973218987,
          -1.8861768832689836,
          -0.016705368751881017,
          0.7290175886085175,
          1.318164717746607,
          -0.08419407473425462,
          0.5188272566189656,
          -0.11785375633774303,
          0.6816241022779139,
          1.1633798931878614,
          1.3009309850009134,
          1.1031064057176247,
          -1.7268011580280418,
          -0.1877113285912264,
          0.6433668159665754,
          0.5175660426550832,
          -0.4262770712301764,
          1.4345996252642592,
          -1.5851546875837106,
          1.7431000816154405,
          1.7045490658714484,
          0.18649227181534667,
          -0.46457495515943703,
          -0.6659601290687353,
          0.6471493021984399,
          -0.5650773246995385,
          0.23816150687538057,
          -0.7569262775599286,
          -0.9098285535133858,
          -1.4010829422108781,
          1.112587332750602,
          -1.1688615137051739,
          0.8938407717187248,
          0.8681635351258409,
          1.2854867980875944,
          1.5847484818220776,
          -0.7351580187684134,
          -0.20030886020076985,
          0.6193994652155762,
          0.8534211177717292,
          0.5637404340111039,
          0.2971366085488249,
          1.488990189483893,
          -1.1136939284905183,
          0.36931992078898696,
          0.6012505232665935,
          -1.228684022050812,
          0.4474824371666456,
          -0.8482997954231998,
          -0.85839217274234,
          0.5816657109309396,
          0.561463492438676,
          -0.17762971790881574,
          2.253819024780938,
          1.8383271645432007,
          -0.017723983247172517,
          -1.4086179887604693,
          -0.455262052154905,
          3.027749410400535,
          -0.7706272831937817,
          0.044998032882978274,
          0.5093813314163811,
          -0.8738320491940496,
          -0.3788672274267904,
          0.8985220013506069,
          0.11688284615129714,
          0.08085665790681583,
          1.2423065994338762,
          -0.0884143933777113,
          0.345420570043961,
          0.4132818552246082,
          -0.6301355000040854,
          0.822477330774026,
          0.10555307862137166,
          -2.1584819195642595,
          0.8402591907285277
         ],
         "yaxis": "y13"
        },
        {
         "line": {
          "color": "rgba(128, 128, 128, 1.0)",
          "dash": "solid",
          "shape": "linear",
          "width": 1.3
         },
         "marker": {
          "size": 2,
          "symbol": "circle"
         },
         "mode": "markers",
         "name": "D",
         "text": "",
         "type": "scatter",
         "x": [
          -1.9039051872194404,
          0.41567584575502137,
          -0.8500551105602945,
          -1.671415698067484,
          0.34902348200098277,
          0.5397321899986275,
          0.7822989116806651,
          -0.7181762676338362,
          -1.6048847969742268,
          -0.28390524053597044,
          -0.2544920313036875,
          0.6580987147545254,
          0.2905384073895607,
          -0.6479322773424703,
          1.4560026616500317,
          -0.4536461754780206,
          0.7004603745030877,
          -1.5464930754789366,
          -0.16322468517313587,
          -0.7548093771049874,
          0.6659135464236476,
          2.059981525156413,
          -0.884493064348931,
          -0.38156249622353255,
          0.19262367405809266,
          0.5473919628467429,
          1.547864817081784,
          0.7295495737738722,
          -1.0412645454837997,
          -1.4386762374682316,
          0.649166310831736,
          -2.3441776498198332,
          -0.2471046319944664,
          0.30042921252640914,
          -1.4319025000255197,
          -0.39701453731115993,
          2.369867746154535,
          -0.5926917296631201,
          -0.2987824930791812,
          -0.4728537299883391,
          2.1497965061361333,
          1.2177318058678004,
          -0.3136206903877042,
          1.6492744026324628,
          -0.9269217399175947,
          0.3175296680171701,
          2.4208137981136284,
          -0.4232717640908274,
          -0.032071324577330126,
          -1.6133508281147728,
          0.30110401618146465,
          -1.6943928569303872,
          0.02329836798108102,
          -0.6582175383544171,
          -0.9231732652496449,
          -0.3665566365075626,
          0.4846993344503613,
          1.104977891592252,
          -0.9035272204986705,
          -0.12985610274943768,
          -0.1821179267844909,
          -0.15059695921959254,
          0.28568805152605853,
          -1.1989949589496258,
          0.017817989819181007,
          -0.34868779585261733,
          -1.3128165938969547,
          2.7361308864903373,
          0.14705769934721588,
          1.7839586180818037,
          0.2792922855416744,
          -0.7230348685840761,
          -1.4779738212518898,
          -1.4618062917125283,
          1.9703481657211541,
          1.2676591244598243,
          0.22817150219098725,
          0.8577007057173187,
          -1.2560616239825597,
          -0.9302539650051844,
          1.1963756510029406,
          0.5267467063123779,
          -0.1348262964779555,
          -0.30604736190366066,
          0.022555198762383655,
          -0.16793166099803278,
          0.6500910390970416,
          -1.650632391323068,
          -1.9996797908113744,
          1.0858725584498004,
          0.005392031409097878,
          1.7117229874270576,
          0.4965048249908904,
          -0.6806504054977754,
          -0.41912197067726653,
          0.3686131823036771,
          -0.3102240940882463,
          -0.5326242897864948,
          0.13540925071550378,
          1.2241412510202085
         ],
         "xaxis": "x14",
         "y": [
          0.738190830937213,
          0.05388632898957935,
          1.0881527464783645,
          -1.0077265322775444,
          -0.41881847699678193,
          -0.2915529980778208,
          -1.2590941502756594,
          -1.229551033330486,
          -0.18140644511752788,
          -0.2870228963830413,
          -2.2089798603151674,
          0.6843054039418736,
          0.6742624926357605,
          -0.5910863898055728,
          1.1462985693719674,
          0.4741505151953946,
          -1.22184361711703,
          0.3545396509616731,
          0.2437784655319529,
          0.8851937685556265,
          0.4632827238928113,
          1.0863756187270626,
          -0.1181561527572261,
          0.1369261680083311,
          2.0348524973218987,
          -1.8861768832689836,
          -0.016705368751881017,
          0.7290175886085175,
          1.318164717746607,
          -0.08419407473425462,
          0.5188272566189656,
          -0.11785375633774303,
          0.6816241022779139,
          1.1633798931878614,
          1.3009309850009134,
          1.1031064057176247,
          -1.7268011580280418,
          -0.1877113285912264,
          0.6433668159665754,
          0.5175660426550832,
          -0.4262770712301764,
          1.4345996252642592,
          -1.5851546875837106,
          1.7431000816154405,
          1.7045490658714484,
          0.18649227181534667,
          -0.46457495515943703,
          -0.6659601290687353,
          0.6471493021984399,
          -0.5650773246995385,
          0.23816150687538057,
          -0.7569262775599286,
          -0.9098285535133858,
          -1.4010829422108781,
          1.112587332750602,
          -1.1688615137051739,
          0.8938407717187248,
          0.8681635351258409,
          1.2854867980875944,
          1.5847484818220776,
          -0.7351580187684134,
          -0.20030886020076985,
          0.6193994652155762,
          0.8534211177717292,
          0.5637404340111039,
          0.2971366085488249,
          1.488990189483893,
          -1.1136939284905183,
          0.36931992078898696,
          0.6012505232665935,
          -1.228684022050812,
          0.4474824371666456,
          -0.8482997954231998,
          -0.85839217274234,
          0.5816657109309396,
          0.561463492438676,
          -0.17762971790881574,
          2.253819024780938,
          1.8383271645432007,
          -0.017723983247172517,
          -1.4086179887604693,
          -0.455262052154905,
          3.027749410400535,
          -0.7706272831937817,
          0.044998032882978274,
          0.5093813314163811,
          -0.8738320491940496,
          -0.3788672274267904,
          0.8985220013506069,
          0.11688284615129714,
          0.08085665790681583,
          1.2423065994338762,
          -0.0884143933777113,
          0.345420570043961,
          0.4132818552246082,
          -0.6301355000040854,
          0.822477330774026,
          0.10555307862137166,
          -2.1584819195642595,
          0.8402591907285277
         ],
         "yaxis": "y14"
        },
        {
         "line": {
          "color": "rgba(128, 128, 128, 1.0)",
          "dash": "solid",
          "shape": "linear",
          "width": 1.3
         },
         "marker": {
          "size": 2,
          "symbol": "circle"
         },
         "mode": "markers",
         "name": "D",
         "text": "",
         "type": "scatter",
         "x": [
          -0.19742756926843105,
          0.48958431436992456,
          1.168655358246096,
          -1.3239674601960378,
          0.3153412681524564,
          -1.2867213298660525,
          0.13789323815829171,
          -1.3125707738687633,
          -0.9234834781507878,
          -0.9548407227047814,
          0.3281827098249989,
          -0.3277377584634297,
          -1.3389401832040264,
          -0.7965973626411075,
          -1.4073340890042276,
          0.8337423779644011,
          -0.15811866852240905,
          1.0849554248787707,
          2.0612040425799627,
          -2.318379508588448,
          -1.950184533721912,
          -0.011910728682155394,
          -1.366112972733267,
          1.0501167875491892,
          0.271741015803,
          -1.4163867458934332,
          0.7215180594005365,
          0.43675196186973586,
          -0.3507397519626802,
          -1.6443851500374882,
          -0.8490477414572171,
          -1.6127329815628186,
          -1.3087264158796403,
          0.0058488737954857034,
          -0.36321271690552726,
          0.08444388374930377,
          0.1181060177717198,
          -0.14842969336280984,
          -1.6963859240233354,
          -1.0863418413017474,
          0.10129253574241567,
          -0.5900410648265194,
          -0.5009043399907748,
          -1.2716423538388761,
          -0.4284674367119366,
          0.26540445885382735,
          0.4170753457414443,
          -0.36798568466917686,
          -0.8095269771913907,
          2.110941230287802,
          0.5663429864997228,
          0.08995655038933079,
          -0.84812317579309,
          0.25653928204649035,
          0.044956983413372655,
          0.4408878738134412,
          -0.7661276683521101,
          -1.6757250776250023,
          0.6240106192760755,
          0.6853774199406103,
          1.1571308663536402,
          -1.233540507022606,
          -0.5430963887359603,
          -1.053444352385449,
          0.07002453531421317,
          -0.9284087622114705,
          0.00940398366288766,
          -0.3240331489016471,
          -1.5350666449797785,
          -0.8021685333792421,
          0.054985419462508144,
          0.2873924541602581,
          -1.7653271429977395,
          0.2808187957487331,
          -0.2504873511898542,
          0.8176394956508974,
          0.18627545033457132,
          1.9915991067706624,
          0.44328160033777114,
          0.9044391218899049,
          2.26791900684423,
          -1.5256270985104692,
          -1.1416493459172348,
          -1.476047627561701,
          -0.5253658496613989,
          0.33415996539835696,
          0.4361804935570515,
          -0.7567641205192095,
          0.22262672530051753,
          -1.9071038631080481,
          -0.00396760837536343,
          1.7064732324082712,
          0.6034265071025826,
          -1.9273434592087144,
          0.9921617004887597,
          -0.5587647056959151,
          -0.05808663848653034,
          -1.2199300754263094,
          -1.15709736045127,
          -0.9743788159189748
         ],
         "xaxis": "x15",
         "y": [
          0.738190830937213,
          0.05388632898957935,
          1.0881527464783645,
          -1.0077265322775444,
          -0.41881847699678193,
          -0.2915529980778208,
          -1.2590941502756594,
          -1.229551033330486,
          -0.18140644511752788,
          -0.2870228963830413,
          -2.2089798603151674,
          0.6843054039418736,
          0.6742624926357605,
          -0.5910863898055728,
          1.1462985693719674,
          0.4741505151953946,
          -1.22184361711703,
          0.3545396509616731,
          0.2437784655319529,
          0.8851937685556265,
          0.4632827238928113,
          1.0863756187270626,
          -0.1181561527572261,
          0.1369261680083311,
          2.0348524973218987,
          -1.8861768832689836,
          -0.016705368751881017,
          0.7290175886085175,
          1.318164717746607,
          -0.08419407473425462,
          0.5188272566189656,
          -0.11785375633774303,
          0.6816241022779139,
          1.1633798931878614,
          1.3009309850009134,
          1.1031064057176247,
          -1.7268011580280418,
          -0.1877113285912264,
          0.6433668159665754,
          0.5175660426550832,
          -0.4262770712301764,
          1.4345996252642592,
          -1.5851546875837106,
          1.7431000816154405,
          1.7045490658714484,
          0.18649227181534667,
          -0.46457495515943703,
          -0.6659601290687353,
          0.6471493021984399,
          -0.5650773246995385,
          0.23816150687538057,
          -0.7569262775599286,
          -0.9098285535133858,
          -1.4010829422108781,
          1.112587332750602,
          -1.1688615137051739,
          0.8938407717187248,
          0.8681635351258409,
          1.2854867980875944,
          1.5847484818220776,
          -0.7351580187684134,
          -0.20030886020076985,
          0.6193994652155762,
          0.8534211177717292,
          0.5637404340111039,
          0.2971366085488249,
          1.488990189483893,
          -1.1136939284905183,
          0.36931992078898696,
          0.6012505232665935,
          -1.228684022050812,
          0.4474824371666456,
          -0.8482997954231998,
          -0.85839217274234,
          0.5816657109309396,
          0.561463492438676,
          -0.17762971790881574,
          2.253819024780938,
          1.8383271645432007,
          -0.017723983247172517,
          -1.4086179887604693,
          -0.455262052154905,
          3.027749410400535,
          -0.7706272831937817,
          0.044998032882978274,
          0.5093813314163811,
          -0.8738320491940496,
          -0.3788672274267904,
          0.8985220013506069,
          0.11688284615129714,
          0.08085665790681583,
          1.2423065994338762,
          -0.0884143933777113,
          0.345420570043961,
          0.4132818552246082,
          -0.6301355000040854,
          0.822477330774026,
          0.10555307862137166,
          -2.1584819195642595,
          0.8402591907285277
         ],
         "yaxis": "y15"
        },
        {
         "histfunc": "count",
         "histnorm": "",
         "marker": {
          "color": "rgba(128, 0, 128, 1.0)",
          "line": {
           "color": "#4D5663",
           "width": 1.3
          }
         },
         "name": "D",
         "nbinsx": 10,
         "opacity": 0.8,
         "orientation": "v",
         "type": "histogram",
         "x": [
          0.738190830937213,
          0.05388632898957935,
          1.0881527464783645,
          -1.0077265322775444,
          -0.41881847699678193,
          -0.2915529980778208,
          -1.2590941502756594,
          -1.229551033330486,
          -0.18140644511752788,
          -0.2870228963830413,
          -2.2089798603151674,
          0.6843054039418736,
          0.6742624926357605,
          -0.5910863898055728,
          1.1462985693719674,
          0.4741505151953946,
          -1.22184361711703,
          0.3545396509616731,
          0.2437784655319529,
          0.8851937685556265,
          0.4632827238928113,
          1.0863756187270626,
          -0.1181561527572261,
          0.1369261680083311,
          2.0348524973218987,
          -1.8861768832689836,
          -0.016705368751881017,
          0.7290175886085175,
          1.318164717746607,
          -0.08419407473425462,
          0.5188272566189656,
          -0.11785375633774303,
          0.6816241022779139,
          1.1633798931878614,
          1.3009309850009134,
          1.1031064057176247,
          -1.7268011580280418,
          -0.1877113285912264,
          0.6433668159665754,
          0.5175660426550832,
          -0.4262770712301764,
          1.4345996252642592,
          -1.5851546875837106,
          1.7431000816154405,
          1.7045490658714484,
          0.18649227181534667,
          -0.46457495515943703,
          -0.6659601290687353,
          0.6471493021984399,
          -0.5650773246995385,
          0.23816150687538057,
          -0.7569262775599286,
          -0.9098285535133858,
          -1.4010829422108781,
          1.112587332750602,
          -1.1688615137051739,
          0.8938407717187248,
          0.8681635351258409,
          1.2854867980875944,
          1.5847484818220776,
          -0.7351580187684134,
          -0.20030886020076985,
          0.6193994652155762,
          0.8534211177717292,
          0.5637404340111039,
          0.2971366085488249,
          1.488990189483893,
          -1.1136939284905183,
          0.36931992078898696,
          0.6012505232665935,
          -1.228684022050812,
          0.4474824371666456,
          -0.8482997954231998,
          -0.85839217274234,
          0.5816657109309396,
          0.561463492438676,
          -0.17762971790881574,
          2.253819024780938,
          1.8383271645432007,
          -0.017723983247172517,
          -1.4086179887604693,
          -0.455262052154905,
          3.027749410400535,
          -0.7706272831937817,
          0.044998032882978274,
          0.5093813314163811,
          -0.8738320491940496,
          -0.3788672274267904,
          0.8985220013506069,
          0.11688284615129714,
          0.08085665790681583,
          1.2423065994338762,
          -0.0884143933777113,
          0.345420570043961,
          0.4132818552246082,
          -0.6301355000040854,
          0.822477330774026,
          0.10555307862137166,
          -2.1584819195642595,
          0.8402591907285277
         ],
         "xaxis": "x16",
         "yaxis": "y16"
        }
       ],
       "layout": {
        "bargap": 0.02,
        "legend": {
         "bgcolor": "#F5F6F9",
         "font": {
          "color": "#4D5663"
         }
        },
        "paper_bgcolor": "#F5F6F9",
        "plot_bgcolor": "#F5F6F9",
        "showlegend": false,
        "template": {
         "data": {
          "bar": [
           {
            "error_x": {
             "color": "#2a3f5f"
            },
            "error_y": {
             "color": "#2a3f5f"
            },
            "marker": {
             "line": {
              "color": "#E5ECF6",
              "width": 0.5
             },
             "pattern": {
              "fillmode": "overlay",
              "size": 10,
              "solidity": 0.2
             }
            },
            "type": "bar"
           }
          ],
          "barpolar": [
           {
            "marker": {
             "line": {
              "color": "#E5ECF6",
              "width": 0.5
             },
             "pattern": {
              "fillmode": "overlay",
              "size": 10,
              "solidity": 0.2
             }
            },
            "type": "barpolar"
           }
          ],
          "carpet": [
           {
            "aaxis": {
             "endlinecolor": "#2a3f5f",
             "gridcolor": "white",
             "linecolor": "white",
             "minorgridcolor": "white",
             "startlinecolor": "#2a3f5f"
            },
            "baxis": {
             "endlinecolor": "#2a3f5f",
             "gridcolor": "white",
             "linecolor": "white",
             "minorgridcolor": "white",
             "startlinecolor": "#2a3f5f"
            },
            "type": "carpet"
           }
          ],
          "choropleth": [
           {
            "colorbar": {
             "outlinewidth": 0,
             "ticks": ""
            },
            "type": "choropleth"
           }
          ],
          "contour": [
           {
            "colorbar": {
             "outlinewidth": 0,
             "ticks": ""
            },
            "colorscale": [
             [
              0,
              "#0d0887"
             ],
             [
              0.1111111111111111,
              "#46039f"
             ],
             [
              0.2222222222222222,
              "#7201a8"
             ],
             [
              0.3333333333333333,
              "#9c179e"
             ],
             [
              0.4444444444444444,
              "#bd3786"
             ],
             [
              0.5555555555555556,
              "#d8576b"
             ],
             [
              0.6666666666666666,
              "#ed7953"
             ],
             [
              0.7777777777777778,
              "#fb9f3a"
             ],
             [
              0.8888888888888888,
              "#fdca26"
             ],
             [
              1,
              "#f0f921"
             ]
            ],
            "type": "contour"
           }
          ],
          "contourcarpet": [
           {
            "colorbar": {
             "outlinewidth": 0,
             "ticks": ""
            },
            "type": "contourcarpet"
           }
          ],
          "heatmap": [
           {
            "colorbar": {
             "outlinewidth": 0,
             "ticks": ""
            },
            "colorscale": [
             [
              0,
              "#0d0887"
             ],
             [
              0.1111111111111111,
              "#46039f"
             ],
             [
              0.2222222222222222,
              "#7201a8"
             ],
             [
              0.3333333333333333,
              "#9c179e"
             ],
             [
              0.4444444444444444,
              "#bd3786"
             ],
             [
              0.5555555555555556,
              "#d8576b"
             ],
             [
              0.6666666666666666,
              "#ed7953"
             ],
             [
              0.7777777777777778,
              "#fb9f3a"
             ],
             [
              0.8888888888888888,
              "#fdca26"
             ],
             [
              1,
              "#f0f921"
             ]
            ],
            "type": "heatmap"
           }
          ],
          "heatmapgl": [
           {
            "colorbar": {
             "outlinewidth": 0,
             "ticks": ""
            },
            "colorscale": [
             [
              0,
              "#0d0887"
             ],
             [
              0.1111111111111111,
              "#46039f"
             ],
             [
              0.2222222222222222,
              "#7201a8"
             ],
             [
              0.3333333333333333,
              "#9c179e"
             ],
             [
              0.4444444444444444,
              "#bd3786"
             ],
             [
              0.5555555555555556,
              "#d8576b"
             ],
             [
              0.6666666666666666,
              "#ed7953"
             ],
             [
              0.7777777777777778,
              "#fb9f3a"
             ],
             [
              0.8888888888888888,
              "#fdca26"
             ],
             [
              1,
              "#f0f921"
             ]
            ],
            "type": "heatmapgl"
           }
          ],
          "histogram": [
           {
            "marker": {
             "pattern": {
              "fillmode": "overlay",
              "size": 10,
              "solidity": 0.2
             }
            },
            "type": "histogram"
           }
          ],
          "histogram2d": [
           {
            "colorbar": {
             "outlinewidth": 0,
             "ticks": ""
            },
            "colorscale": [
             [
              0,
              "#0d0887"
             ],
             [
              0.1111111111111111,
              "#46039f"
             ],
             [
              0.2222222222222222,
              "#7201a8"
             ],
             [
              0.3333333333333333,
              "#9c179e"
             ],
             [
              0.4444444444444444,
              "#bd3786"
             ],
             [
              0.5555555555555556,
              "#d8576b"
             ],
             [
              0.6666666666666666,
              "#ed7953"
             ],
             [
              0.7777777777777778,
              "#fb9f3a"
             ],
             [
              0.8888888888888888,
              "#fdca26"
             ],
             [
              1,
              "#f0f921"
             ]
            ],
            "type": "histogram2d"
           }
          ],
          "histogram2dcontour": [
           {
            "colorbar": {
             "outlinewidth": 0,
             "ticks": ""
            },
            "colorscale": [
             [
              0,
              "#0d0887"
             ],
             [
              0.1111111111111111,
              "#46039f"
             ],
             [
              0.2222222222222222,
              "#7201a8"
             ],
             [
              0.3333333333333333,
              "#9c179e"
             ],
             [
              0.4444444444444444,
              "#bd3786"
             ],
             [
              0.5555555555555556,
              "#d8576b"
             ],
             [
              0.6666666666666666,
              "#ed7953"
             ],
             [
              0.7777777777777778,
              "#fb9f3a"
             ],
             [
              0.8888888888888888,
              "#fdca26"
             ],
             [
              1,
              "#f0f921"
             ]
            ],
            "type": "histogram2dcontour"
           }
          ],
          "mesh3d": [
           {
            "colorbar": {
             "outlinewidth": 0,
             "ticks": ""
            },
            "type": "mesh3d"
           }
          ],
          "parcoords": [
           {
            "line": {
             "colorbar": {
              "outlinewidth": 0,
              "ticks": ""
             }
            },
            "type": "parcoords"
           }
          ],
          "pie": [
           {
            "automargin": true,
            "type": "pie"
           }
          ],
          "scatter": [
           {
            "marker": {
             "colorbar": {
              "outlinewidth": 0,
              "ticks": ""
             }
            },
            "type": "scatter"
           }
          ],
          "scatter3d": [
           {
            "line": {
             "colorbar": {
              "outlinewidth": 0,
              "ticks": ""
             }
            },
            "marker": {
             "colorbar": {
              "outlinewidth": 0,
              "ticks": ""
             }
            },
            "type": "scatter3d"
           }
          ],
          "scattercarpet": [
           {
            "marker": {
             "colorbar": {
              "outlinewidth": 0,
              "ticks": ""
             }
            },
            "type": "scattercarpet"
           }
          ],
          "scattergeo": [
           {
            "marker": {
             "colorbar": {
              "outlinewidth": 0,
              "ticks": ""
             }
            },
            "type": "scattergeo"
           }
          ],
          "scattergl": [
           {
            "marker": {
             "colorbar": {
              "outlinewidth": 0,
              "ticks": ""
             }
            },
            "type": "scattergl"
           }
          ],
          "scattermapbox": [
           {
            "marker": {
             "colorbar": {
              "outlinewidth": 0,
              "ticks": ""
             }
            },
            "type": "scattermapbox"
           }
          ],
          "scatterpolar": [
           {
            "marker": {
             "colorbar": {
              "outlinewidth": 0,
              "ticks": ""
             }
            },
            "type": "scatterpolar"
           }
          ],
          "scatterpolargl": [
           {
            "marker": {
             "colorbar": {
              "outlinewidth": 0,
              "ticks": ""
             }
            },
            "type": "scatterpolargl"
           }
          ],
          "scatterternary": [
           {
            "marker": {
             "colorbar": {
              "outlinewidth": 0,
              "ticks": ""
             }
            },
            "type": "scatterternary"
           }
          ],
          "surface": [
           {
            "colorbar": {
             "outlinewidth": 0,
             "ticks": ""
            },
            "colorscale": [
             [
              0,
              "#0d0887"
             ],
             [
              0.1111111111111111,
              "#46039f"
             ],
             [
              0.2222222222222222,
              "#7201a8"
             ],
             [
              0.3333333333333333,
              "#9c179e"
             ],
             [
              0.4444444444444444,
              "#bd3786"
             ],
             [
              0.5555555555555556,
              "#d8576b"
             ],
             [
              0.6666666666666666,
              "#ed7953"
             ],
             [
              0.7777777777777778,
              "#fb9f3a"
             ],
             [
              0.8888888888888888,
              "#fdca26"
             ],
             [
              1,
              "#f0f921"
             ]
            ],
            "type": "surface"
           }
          ],
          "table": [
           {
            "cells": {
             "fill": {
              "color": "#EBF0F8"
             },
             "line": {
              "color": "white"
             }
            },
            "header": {
             "fill": {
              "color": "#C8D4E3"
             },
             "line": {
              "color": "white"
             }
            },
            "type": "table"
           }
          ]
         },
         "layout": {
          "annotationdefaults": {
           "arrowcolor": "#2a3f5f",
           "arrowhead": 0,
           "arrowwidth": 1
          },
          "autotypenumbers": "strict",
          "coloraxis": {
           "colorbar": {
            "outlinewidth": 0,
            "ticks": ""
           }
          },
          "colorscale": {
           "diverging": [
            [
             0,
             "#8e0152"
            ],
            [
             0.1,
             "#c51b7d"
            ],
            [
             0.2,
             "#de77ae"
            ],
            [
             0.3,
             "#f1b6da"
            ],
            [
             0.4,
             "#fde0ef"
            ],
            [
             0.5,
             "#f7f7f7"
            ],
            [
             0.6,
             "#e6f5d0"
            ],
            [
             0.7,
             "#b8e186"
            ],
            [
             0.8,
             "#7fbc41"
            ],
            [
             0.9,
             "#4d9221"
            ],
            [
             1,
             "#276419"
            ]
           ],
           "sequential": [
            [
             0,
             "#0d0887"
            ],
            [
             0.1111111111111111,
             "#46039f"
            ],
            [
             0.2222222222222222,
             "#7201a8"
            ],
            [
             0.3333333333333333,
             "#9c179e"
            ],
            [
             0.4444444444444444,
             "#bd3786"
            ],
            [
             0.5555555555555556,
             "#d8576b"
            ],
            [
             0.6666666666666666,
             "#ed7953"
            ],
            [
             0.7777777777777778,
             "#fb9f3a"
            ],
            [
             0.8888888888888888,
             "#fdca26"
            ],
            [
             1,
             "#f0f921"
            ]
           ],
           "sequentialminus": [
            [
             0,
             "#0d0887"
            ],
            [
             0.1111111111111111,
             "#46039f"
            ],
            [
             0.2222222222222222,
             "#7201a8"
            ],
            [
             0.3333333333333333,
             "#9c179e"
            ],
            [
             0.4444444444444444,
             "#bd3786"
            ],
            [
             0.5555555555555556,
             "#d8576b"
            ],
            [
             0.6666666666666666,
             "#ed7953"
            ],
            [
             0.7777777777777778,
             "#fb9f3a"
            ],
            [
             0.8888888888888888,
             "#fdca26"
            ],
            [
             1,
             "#f0f921"
            ]
           ]
          },
          "colorway": [
           "#636efa",
           "#EF553B",
           "#00cc96",
           "#ab63fa",
           "#FFA15A",
           "#19d3f3",
           "#FF6692",
           "#B6E880",
           "#FF97FF",
           "#FECB52"
          ],
          "font": {
           "color": "#2a3f5f"
          },
          "geo": {
           "bgcolor": "white",
           "lakecolor": "white",
           "landcolor": "#E5ECF6",
           "showlakes": true,
           "showland": true,
           "subunitcolor": "white"
          },
          "hoverlabel": {
           "align": "left"
          },
          "hovermode": "closest",
          "mapbox": {
           "style": "light"
          },
          "paper_bgcolor": "white",
          "plot_bgcolor": "#E5ECF6",
          "polar": {
           "angularaxis": {
            "gridcolor": "white",
            "linecolor": "white",
            "ticks": ""
           },
           "bgcolor": "#E5ECF6",
           "radialaxis": {
            "gridcolor": "white",
            "linecolor": "white",
            "ticks": ""
           }
          },
          "scene": {
           "xaxis": {
            "backgroundcolor": "#E5ECF6",
            "gridcolor": "white",
            "gridwidth": 2,
            "linecolor": "white",
            "showbackground": true,
            "ticks": "",
            "zerolinecolor": "white"
           },
           "yaxis": {
            "backgroundcolor": "#E5ECF6",
            "gridcolor": "white",
            "gridwidth": 2,
            "linecolor": "white",
            "showbackground": true,
            "ticks": "",
            "zerolinecolor": "white"
           },
           "zaxis": {
            "backgroundcolor": "#E5ECF6",
            "gridcolor": "white",
            "gridwidth": 2,
            "linecolor": "white",
            "showbackground": true,
            "ticks": "",
            "zerolinecolor": "white"
           }
          },
          "shapedefaults": {
           "line": {
            "color": "#2a3f5f"
           }
          },
          "ternary": {
           "aaxis": {
            "gridcolor": "white",
            "linecolor": "white",
            "ticks": ""
           },
           "baxis": {
            "gridcolor": "white",
            "linecolor": "white",
            "ticks": ""
           },
           "bgcolor": "#E5ECF6",
           "caxis": {
            "gridcolor": "white",
            "linecolor": "white",
            "ticks": ""
           }
          },
          "title": {
           "x": 0.05
          },
          "xaxis": {
           "automargin": true,
           "gridcolor": "white",
           "linecolor": "white",
           "ticks": "",
           "title": {
            "standoff": 15
           },
           "zerolinecolor": "white",
           "zerolinewidth": 2
          },
          "yaxis": {
           "automargin": true,
           "gridcolor": "white",
           "linecolor": "white",
           "ticks": "",
           "title": {
            "standoff": 15
           },
           "zerolinecolor": "white",
           "zerolinewidth": 2
          }
         }
        },
        "title": {
         "font": {
          "color": "#4D5663"
         }
        },
        "xaxis": {
         "anchor": "y",
         "domain": [
          0,
          0.2125
         ],
         "gridcolor": "#E1E5ED",
         "showgrid": false,
         "tickfont": {
          "color": "#4D5663"
         },
         "title": {
          "font": {
           "color": "#4D5663"
          },
          "text": ""
         },
         "zerolinecolor": "#E1E5ED"
        },
        "xaxis10": {
         "anchor": "y10",
         "domain": [
          0.2625,
          0.475
         ],
         "gridcolor": "#E1E5ED",
         "showgrid": false,
         "tickfont": {
          "color": "#4D5663"
         },
         "title": {
          "font": {
           "color": "#4D5663"
          },
          "text": ""
         },
         "zerolinecolor": "#E1E5ED"
        },
        "xaxis11": {
         "anchor": "y11",
         "domain": [
          0.525,
          0.7375
         ],
         "gridcolor": "#E1E5ED",
         "showgrid": false,
         "tickfont": {
          "color": "#4D5663"
         },
         "title": {
          "font": {
           "color": "#4D5663"
          },
          "text": ""
         },
         "zerolinecolor": "#E1E5ED"
        },
        "xaxis12": {
         "anchor": "y12",
         "domain": [
          0.7875,
          1
         ],
         "gridcolor": "#E1E5ED",
         "showgrid": false,
         "tickfont": {
          "color": "#4D5663"
         },
         "title": {
          "font": {
           "color": "#4D5663"
          },
          "text": ""
         },
         "zerolinecolor": "#E1E5ED"
        },
        "xaxis13": {
         "anchor": "y13",
         "domain": [
          0,
          0.2125
         ],
         "gridcolor": "#E1E5ED",
         "showgrid": false,
         "tickfont": {
          "color": "#4D5663"
         },
         "title": {
          "font": {
           "color": "#4D5663"
          },
          "text": ""
         },
         "zerolinecolor": "#E1E5ED"
        },
        "xaxis14": {
         "anchor": "y14",
         "domain": [
          0.2625,
          0.475
         ],
         "gridcolor": "#E1E5ED",
         "showgrid": false,
         "tickfont": {
          "color": "#4D5663"
         },
         "title": {
          "font": {
           "color": "#4D5663"
          },
          "text": ""
         },
         "zerolinecolor": "#E1E5ED"
        },
        "xaxis15": {
         "anchor": "y15",
         "domain": [
          0.525,
          0.7375
         ],
         "gridcolor": "#E1E5ED",
         "showgrid": false,
         "tickfont": {
          "color": "#4D5663"
         },
         "title": {
          "font": {
           "color": "#4D5663"
          },
          "text": ""
         },
         "zerolinecolor": "#E1E5ED"
        },
        "xaxis16": {
         "anchor": "y16",
         "domain": [
          0.7875,
          1
         ],
         "gridcolor": "#E1E5ED",
         "showgrid": false,
         "tickfont": {
          "color": "#4D5663"
         },
         "title": {
          "font": {
           "color": "#4D5663"
          },
          "text": ""
         },
         "zerolinecolor": "#E1E5ED"
        },
        "xaxis2": {
         "anchor": "y2",
         "domain": [
          0.2625,
          0.475
         ],
         "gridcolor": "#E1E5ED",
         "showgrid": false,
         "tickfont": {
          "color": "#4D5663"
         },
         "title": {
          "font": {
           "color": "#4D5663"
          },
          "text": ""
         },
         "zerolinecolor": "#E1E5ED"
        },
        "xaxis3": {
         "anchor": "y3",
         "domain": [
          0.525,
          0.7375
         ],
         "gridcolor": "#E1E5ED",
         "showgrid": false,
         "tickfont": {
          "color": "#4D5663"
         },
         "title": {
          "font": {
           "color": "#4D5663"
          },
          "text": ""
         },
         "zerolinecolor": "#E1E5ED"
        },
        "xaxis4": {
         "anchor": "y4",
         "domain": [
          0.7875,
          1
         ],
         "gridcolor": "#E1E5ED",
         "showgrid": false,
         "tickfont": {
          "color": "#4D5663"
         },
         "title": {
          "font": {
           "color": "#4D5663"
          },
          "text": ""
         },
         "zerolinecolor": "#E1E5ED"
        },
        "xaxis5": {
         "anchor": "y5",
         "domain": [
          0,
          0.2125
         ],
         "gridcolor": "#E1E5ED",
         "showgrid": false,
         "tickfont": {
          "color": "#4D5663"
         },
         "title": {
          "font": {
           "color": "#4D5663"
          },
          "text": ""
         },
         "zerolinecolor": "#E1E5ED"
        },
        "xaxis6": {
         "anchor": "y6",
         "domain": [
          0.2625,
          0.475
         ],
         "gridcolor": "#E1E5ED",
         "showgrid": false,
         "tickfont": {
          "color": "#4D5663"
         },
         "title": {
          "font": {
           "color": "#4D5663"
          },
          "text": ""
         },
         "zerolinecolor": "#E1E5ED"
        },
        "xaxis7": {
         "anchor": "y7",
         "domain": [
          0.525,
          0.7375
         ],
         "gridcolor": "#E1E5ED",
         "showgrid": false,
         "tickfont": {
          "color": "#4D5663"
         },
         "title": {
          "font": {
           "color": "#4D5663"
          },
          "text": ""
         },
         "zerolinecolor": "#E1E5ED"
        },
        "xaxis8": {
         "anchor": "y8",
         "domain": [
          0.7875,
          1
         ],
         "gridcolor": "#E1E5ED",
         "showgrid": false,
         "tickfont": {
          "color": "#4D5663"
         },
         "title": {
          "font": {
           "color": "#4D5663"
          },
          "text": ""
         },
         "zerolinecolor": "#E1E5ED"
        },
        "xaxis9": {
         "anchor": "y9",
         "domain": [
          0,
          0.2125
         ],
         "gridcolor": "#E1E5ED",
         "showgrid": false,
         "tickfont": {
          "color": "#4D5663"
         },
         "title": {
          "font": {
           "color": "#4D5663"
          },
          "text": ""
         },
         "zerolinecolor": "#E1E5ED"
        },
        "yaxis": {
         "anchor": "x",
         "domain": [
          0.8025,
          1
         ],
         "gridcolor": "#E1E5ED",
         "showgrid": false,
         "tickfont": {
          "color": "#4D5663"
         },
         "title": {
          "font": {
           "color": "#4D5663"
          },
          "text": ""
         },
         "zerolinecolor": "#E1E5ED"
        },
        "yaxis10": {
         "anchor": "x10",
         "domain": [
          0.2675,
          0.465
         ],
         "gridcolor": "#E1E5ED",
         "showgrid": false,
         "tickfont": {
          "color": "#4D5663"
         },
         "title": {
          "font": {
           "color": "#4D5663"
          },
          "text": ""
         },
         "zerolinecolor": "#E1E5ED"
        },
        "yaxis11": {
         "anchor": "x11",
         "domain": [
          0.2675,
          0.465
         ],
         "gridcolor": "#E1E5ED",
         "showgrid": false,
         "tickfont": {
          "color": "#4D5663"
         },
         "title": {
          "font": {
           "color": "#4D5663"
          },
          "text": ""
         },
         "zerolinecolor": "#E1E5ED"
        },
        "yaxis12": {
         "anchor": "x12",
         "domain": [
          0.2675,
          0.465
         ],
         "gridcolor": "#E1E5ED",
         "showgrid": false,
         "tickfont": {
          "color": "#4D5663"
         },
         "title": {
          "font": {
           "color": "#4D5663"
          },
          "text": ""
         },
         "zerolinecolor": "#E1E5ED"
        },
        "yaxis13": {
         "anchor": "x13",
         "domain": [
          0,
          0.1975
         ],
         "gridcolor": "#E1E5ED",
         "showgrid": false,
         "tickfont": {
          "color": "#4D5663"
         },
         "title": {
          "font": {
           "color": "#4D5663"
          },
          "text": ""
         },
         "zerolinecolor": "#E1E5ED"
        },
        "yaxis14": {
         "anchor": "x14",
         "domain": [
          0,
          0.1975
         ],
         "gridcolor": "#E1E5ED",
         "showgrid": false,
         "tickfont": {
          "color": "#4D5663"
         },
         "title": {
          "font": {
           "color": "#4D5663"
          },
          "text": ""
         },
         "zerolinecolor": "#E1E5ED"
        },
        "yaxis15": {
         "anchor": "x15",
         "domain": [
          0,
          0.1975
         ],
         "gridcolor": "#E1E5ED",
         "showgrid": false,
         "tickfont": {
          "color": "#4D5663"
         },
         "title": {
          "font": {
           "color": "#4D5663"
          },
          "text": ""
         },
         "zerolinecolor": "#E1E5ED"
        },
        "yaxis16": {
         "anchor": "x16",
         "domain": [
          0,
          0.1975
         ],
         "gridcolor": "#E1E5ED",
         "showgrid": false,
         "tickfont": {
          "color": "#4D5663"
         },
         "title": {
          "font": {
           "color": "#4D5663"
          },
          "text": ""
         },
         "zerolinecolor": "#E1E5ED"
        },
        "yaxis2": {
         "anchor": "x2",
         "domain": [
          0.8025,
          1
         ],
         "gridcolor": "#E1E5ED",
         "showgrid": false,
         "tickfont": {
          "color": "#4D5663"
         },
         "title": {
          "font": {
           "color": "#4D5663"
          },
          "text": ""
         },
         "zerolinecolor": "#E1E5ED"
        },
        "yaxis3": {
         "anchor": "x3",
         "domain": [
          0.8025,
          1
         ],
         "gridcolor": "#E1E5ED",
         "showgrid": false,
         "tickfont": {
          "color": "#4D5663"
         },
         "title": {
          "font": {
           "color": "#4D5663"
          },
          "text": ""
         },
         "zerolinecolor": "#E1E5ED"
        },
        "yaxis4": {
         "anchor": "x4",
         "domain": [
          0.8025,
          1
         ],
         "gridcolor": "#E1E5ED",
         "showgrid": false,
         "tickfont": {
          "color": "#4D5663"
         },
         "title": {
          "font": {
           "color": "#4D5663"
          },
          "text": ""
         },
         "zerolinecolor": "#E1E5ED"
        },
        "yaxis5": {
         "anchor": "x5",
         "domain": [
          0.535,
          0.7325
         ],
         "gridcolor": "#E1E5ED",
         "showgrid": false,
         "tickfont": {
          "color": "#4D5663"
         },
         "title": {
          "font": {
           "color": "#4D5663"
          },
          "text": ""
         },
         "zerolinecolor": "#E1E5ED"
        },
        "yaxis6": {
         "anchor": "x6",
         "domain": [
          0.535,
          0.7325
         ],
         "gridcolor": "#E1E5ED",
         "showgrid": false,
         "tickfont": {
          "color": "#4D5663"
         },
         "title": {
          "font": {
           "color": "#4D5663"
          },
          "text": ""
         },
         "zerolinecolor": "#E1E5ED"
        },
        "yaxis7": {
         "anchor": "x7",
         "domain": [
          0.535,
          0.7325
         ],
         "gridcolor": "#E1E5ED",
         "showgrid": false,
         "tickfont": {
          "color": "#4D5663"
         },
         "title": {
          "font": {
           "color": "#4D5663"
          },
          "text": ""
         },
         "zerolinecolor": "#E1E5ED"
        },
        "yaxis8": {
         "anchor": "x8",
         "domain": [
          0.535,
          0.7325
         ],
         "gridcolor": "#E1E5ED",
         "showgrid": false,
         "tickfont": {
          "color": "#4D5663"
         },
         "title": {
          "font": {
           "color": "#4D5663"
          },
          "text": ""
         },
         "zerolinecolor": "#E1E5ED"
        },
        "yaxis9": {
         "anchor": "x9",
         "domain": [
          0.2675,
          0.465
         ],
         "gridcolor": "#E1E5ED",
         "showgrid": false,
         "tickfont": {
          "color": "#4D5663"
         },
         "title": {
          "font": {
           "color": "#4D5663"
          },
          "text": ""
         },
         "zerolinecolor": "#E1E5ED"
        }
       }
      },
      "text/html": [
       "<div>                            <div id=\"5bede6d9-8904-4243-8e4a-36d775df6e3b\" class=\"plotly-graph-div\" style=\"height:525px; width:100%;\"></div>            <script type=\"text/javascript\">                require([\"plotly\"], function(Plotly) {                    window.PLOTLYENV=window.PLOTLYENV || {};\n",
       "                    window.PLOTLYENV.BASE_URL='https://plot.ly';                                    if (document.getElementById(\"5bede6d9-8904-4243-8e4a-36d775df6e3b\")) {                    Plotly.newPlot(                        \"5bede6d9-8904-4243-8e4a-36d775df6e3b\",                        [{\"histfunc\":\"count\",\"histnorm\":\"\",\"marker\":{\"color\":\"rgba(255, 153, 51, 1.0)\",\"line\":{\"color\":\"#4D5663\",\"width\":1.3}},\"name\":\"A\",\"nbinsx\":10,\"opacity\":0.8,\"orientation\":\"v\",\"type\":\"histogram\",\"x\":[0.19570059565133208,-0.11638330238179669,-0.5263256747464582,0.8610945321778738,-0.3345094465099812,0.4408512168711264,2.0611077294617712,1.1374697047856683,-2.1227841875235915,1.0292971245745437,-0.8364203147960749,-0.6258215956665029,0.32260095981402637,-0.5338387260601835,0.6554935664092758,1.3736166940602932,-0.16495693119745544,0.24892874967136702,-0.29073261749369766,-0.4848063202571289,0.6565018657582203,-0.36886003694137837,0.9473286259130218,-0.15192208276392827,1.2988105359456485,0.22536144692944,-1.7445131583390414,-1.7640829188462417,-1.3763078782535882,0.44519599256836434,-0.8554265172487281,-1.3953353375893736,-0.17028847631552607,1.2440683236221601,1.4351880669067858,0.7728377529760181,-1.0037061329445511,-0.2701346533922767,0.263104393296739,-0.7310213812969807,1.2388398269721017,0.46366664662763946,-0.09545311315395906,-0.6499121108716162,-0.25047578428123174,-0.7127984780688053,0.7110061869252203,-0.24074269104144155,1.1725672162496483,-0.039110608379132855,-1.6171364298868847,0.8312532821658801,-0.032679420067335714,0.4859103679519266,-0.7535388109234928,-0.18912123287211038,-1.0403500296557093,-0.06219828252596251,-1.2761097495726967,-0.7380962783569485,0.046532238213436,-0.5253498256135178,-0.4033347119360634,-0.08742523631256073,-0.38926161053757746,0.052737864070574125,0.3344579681239486,-0.10835434406514376,0.054127556806846194,0.6032359649720735,-1.051406108831842,0.7540278979632805,0.23644120628538473,0.1207891181609108,0.18499947890991988,0.1304225960231744,-0.24489518923344927,-0.24068375165242298,-0.2763643515085313,1.2769322738387565,0.6250457444879429,-0.17985864709213464,0.6502686683025198,-0.9452275155825481,-1.3426584570541529,-1.207128794704555,-0.2982937118808505,0.11118077103631854,1.1977346185162063,1.068086693648832,1.5337007101930478,0.129364274914311,-0.5267070376888813,-0.1507647819590437,-0.253644450631918,1.304303981456091,-1.3622893199635842,-0.5479738141889986,1.7245967171812724,-0.6053625371178464],\"xaxis\":\"x\",\"yaxis\":\"y\"},{\"line\":{\"color\":\"rgba(128, 128, 128, 1.0)\",\"dash\":\"solid\",\"shape\":\"linear\",\"width\":1.3},\"marker\":{\"size\":2,\"symbol\":\"circle\"},\"mode\":\"markers\",\"name\":\"A\",\"text\":\"\",\"type\":\"scatter\",\"x\":[-1.9039051872194404,0.41567584575502137,-0.8500551105602945,-1.671415698067484,0.34902348200098277,0.5397321899986275,0.7822989116806651,-0.7181762676338362,-1.6048847969742268,-0.28390524053597044,-0.2544920313036875,0.6580987147545254,0.2905384073895607,-0.6479322773424703,1.4560026616500317,-0.4536461754780206,0.7004603745030877,-1.5464930754789366,-0.16322468517313587,-0.7548093771049874,0.6659135464236476,2.059981525156413,-0.884493064348931,-0.38156249622353255,0.19262367405809266,0.5473919628467429,1.547864817081784,0.7295495737738722,-1.0412645454837997,-1.4386762374682316,0.649166310831736,-2.3441776498198332,-0.2471046319944664,0.30042921252640914,-1.4319025000255197,-0.39701453731115993,2.369867746154535,-0.5926917296631201,-0.2987824930791812,-0.4728537299883391,2.1497965061361333,1.2177318058678004,-0.3136206903877042,1.6492744026324628,-0.9269217399175947,0.3175296680171701,2.4208137981136284,-0.4232717640908274,-0.032071324577330126,-1.6133508281147728,0.30110401618146465,-1.6943928569303872,0.02329836798108102,-0.6582175383544171,-0.9231732652496449,-0.3665566365075626,0.4846993344503613,1.104977891592252,-0.9035272204986705,-0.12985610274943768,-0.1821179267844909,-0.15059695921959254,0.28568805152605853,-1.1989949589496258,0.017817989819181007,-0.34868779585261733,-1.3128165938969547,2.7361308864903373,0.14705769934721588,1.7839586180818037,0.2792922855416744,-0.7230348685840761,-1.4779738212518898,-1.4618062917125283,1.9703481657211541,1.2676591244598243,0.22817150219098725,0.8577007057173187,-1.2560616239825597,-0.9302539650051844,1.1963756510029406,0.5267467063123779,-0.1348262964779555,-0.30604736190366066,0.022555198762383655,-0.16793166099803278,0.6500910390970416,-1.650632391323068,-1.9996797908113744,1.0858725584498004,0.005392031409097878,1.7117229874270576,0.4965048249908904,-0.6806504054977754,-0.41912197067726653,0.3686131823036771,-0.3102240940882463,-0.5326242897864948,0.13540925071550378,1.2241412510202085],\"xaxis\":\"x2\",\"y\":[0.19570059565133208,-0.11638330238179669,-0.5263256747464582,0.8610945321778738,-0.3345094465099812,0.4408512168711264,2.0611077294617712,1.1374697047856683,-2.1227841875235915,1.0292971245745437,-0.8364203147960749,-0.6258215956665029,0.32260095981402637,-0.5338387260601835,0.6554935664092758,1.3736166940602932,-0.16495693119745544,0.24892874967136702,-0.29073261749369766,-0.4848063202571289,0.6565018657582203,-0.36886003694137837,0.9473286259130218,-0.15192208276392827,1.2988105359456485,0.22536144692944,-1.7445131583390414,-1.7640829188462417,-1.3763078782535882,0.44519599256836434,-0.8554265172487281,-1.3953353375893736,-0.17028847631552607,1.2440683236221601,1.4351880669067858,0.7728377529760181,-1.0037061329445511,-0.2701346533922767,0.263104393296739,-0.7310213812969807,1.2388398269721017,0.46366664662763946,-0.09545311315395906,-0.6499121108716162,-0.25047578428123174,-0.7127984780688053,0.7110061869252203,-0.24074269104144155,1.1725672162496483,-0.039110608379132855,-1.6171364298868847,0.8312532821658801,-0.032679420067335714,0.4859103679519266,-0.7535388109234928,-0.18912123287211038,-1.0403500296557093,-0.06219828252596251,-1.2761097495726967,-0.7380962783569485,0.046532238213436,-0.5253498256135178,-0.4033347119360634,-0.08742523631256073,-0.38926161053757746,0.052737864070574125,0.3344579681239486,-0.10835434406514376,0.054127556806846194,0.6032359649720735,-1.051406108831842,0.7540278979632805,0.23644120628538473,0.1207891181609108,0.18499947890991988,0.1304225960231744,-0.24489518923344927,-0.24068375165242298,-0.2763643515085313,1.2769322738387565,0.6250457444879429,-0.17985864709213464,0.6502686683025198,-0.9452275155825481,-1.3426584570541529,-1.207128794704555,-0.2982937118808505,0.11118077103631854,1.1977346185162063,1.068086693648832,1.5337007101930478,0.129364274914311,-0.5267070376888813,-0.1507647819590437,-0.253644450631918,1.304303981456091,-1.3622893199635842,-0.5479738141889986,1.7245967171812724,-0.6053625371178464],\"yaxis\":\"y2\"},{\"line\":{\"color\":\"rgba(128, 128, 128, 1.0)\",\"dash\":\"solid\",\"shape\":\"linear\",\"width\":1.3},\"marker\":{\"size\":2,\"symbol\":\"circle\"},\"mode\":\"markers\",\"name\":\"A\",\"text\":\"\",\"type\":\"scatter\",\"x\":[-0.19742756926843105,0.48958431436992456,1.168655358246096,-1.3239674601960378,0.3153412681524564,-1.2867213298660525,0.13789323815829171,-1.3125707738687633,-0.9234834781507878,-0.9548407227047814,0.3281827098249989,-0.3277377584634297,-1.3389401832040264,-0.7965973626411075,-1.4073340890042276,0.8337423779644011,-0.15811866852240905,1.0849554248787707,2.0612040425799627,-2.318379508588448,-1.950184533721912,-0.011910728682155394,-1.366112972733267,1.0501167875491892,0.271741015803,-1.4163867458934332,0.7215180594005365,0.43675196186973586,-0.3507397519626802,-1.6443851500374882,-0.8490477414572171,-1.6127329815628186,-1.3087264158796403,0.0058488737954857034,-0.36321271690552726,0.08444388374930377,0.1181060177717198,-0.14842969336280984,-1.6963859240233354,-1.0863418413017474,0.10129253574241567,-0.5900410648265194,-0.5009043399907748,-1.2716423538388761,-0.4284674367119366,0.26540445885382735,0.4170753457414443,-0.36798568466917686,-0.8095269771913907,2.110941230287802,0.5663429864997228,0.08995655038933079,-0.84812317579309,0.25653928204649035,0.044956983413372655,0.4408878738134412,-0.7661276683521101,-1.6757250776250023,0.6240106192760755,0.6853774199406103,1.1571308663536402,-1.233540507022606,-0.5430963887359603,-1.053444352385449,0.07002453531421317,-0.9284087622114705,0.00940398366288766,-0.3240331489016471,-1.5350666449797785,-0.8021685333792421,0.054985419462508144,0.2873924541602581,-1.7653271429977395,0.2808187957487331,-0.2504873511898542,0.8176394956508974,0.18627545033457132,1.9915991067706624,0.44328160033777114,0.9044391218899049,2.26791900684423,-1.5256270985104692,-1.1416493459172348,-1.476047627561701,-0.5253658496613989,0.33415996539835696,0.4361804935570515,-0.7567641205192095,0.22262672530051753,-1.9071038631080481,-0.00396760837536343,1.7064732324082712,0.6034265071025826,-1.9273434592087144,0.9921617004887597,-0.5587647056959151,-0.05808663848653034,-1.2199300754263094,-1.15709736045127,-0.9743788159189748],\"xaxis\":\"x3\",\"y\":[0.19570059565133208,-0.11638330238179669,-0.5263256747464582,0.8610945321778738,-0.3345094465099812,0.4408512168711264,2.0611077294617712,1.1374697047856683,-2.1227841875235915,1.0292971245745437,-0.8364203147960749,-0.6258215956665029,0.32260095981402637,-0.5338387260601835,0.6554935664092758,1.3736166940602932,-0.16495693119745544,0.24892874967136702,-0.29073261749369766,-0.4848063202571289,0.6565018657582203,-0.36886003694137837,0.9473286259130218,-0.15192208276392827,1.2988105359456485,0.22536144692944,-1.7445131583390414,-1.7640829188462417,-1.3763078782535882,0.44519599256836434,-0.8554265172487281,-1.3953353375893736,-0.17028847631552607,1.2440683236221601,1.4351880669067858,0.7728377529760181,-1.0037061329445511,-0.2701346533922767,0.263104393296739,-0.7310213812969807,1.2388398269721017,0.46366664662763946,-0.09545311315395906,-0.6499121108716162,-0.25047578428123174,-0.7127984780688053,0.7110061869252203,-0.24074269104144155,1.1725672162496483,-0.039110608379132855,-1.6171364298868847,0.8312532821658801,-0.032679420067335714,0.4859103679519266,-0.7535388109234928,-0.18912123287211038,-1.0403500296557093,-0.06219828252596251,-1.2761097495726967,-0.7380962783569485,0.046532238213436,-0.5253498256135178,-0.4033347119360634,-0.08742523631256073,-0.38926161053757746,0.052737864070574125,0.3344579681239486,-0.10835434406514376,0.054127556806846194,0.6032359649720735,-1.051406108831842,0.7540278979632805,0.23644120628538473,0.1207891181609108,0.18499947890991988,0.1304225960231744,-0.24489518923344927,-0.24068375165242298,-0.2763643515085313,1.2769322738387565,0.6250457444879429,-0.17985864709213464,0.6502686683025198,-0.9452275155825481,-1.3426584570541529,-1.207128794704555,-0.2982937118808505,0.11118077103631854,1.1977346185162063,1.068086693648832,1.5337007101930478,0.129364274914311,-0.5267070376888813,-0.1507647819590437,-0.253644450631918,1.304303981456091,-1.3622893199635842,-0.5479738141889986,1.7245967171812724,-0.6053625371178464],\"yaxis\":\"y3\"},{\"line\":{\"color\":\"rgba(128, 128, 128, 1.0)\",\"dash\":\"solid\",\"shape\":\"linear\",\"width\":1.3},\"marker\":{\"size\":2,\"symbol\":\"circle\"},\"mode\":\"markers\",\"name\":\"A\",\"text\":\"\",\"type\":\"scatter\",\"x\":[0.738190830937213,0.05388632898957935,1.0881527464783645,-1.0077265322775444,-0.41881847699678193,-0.2915529980778208,-1.2590941502756594,-1.229551033330486,-0.18140644511752788,-0.2870228963830413,-2.2089798603151674,0.6843054039418736,0.6742624926357605,-0.5910863898055728,1.1462985693719674,0.4741505151953946,-1.22184361711703,0.3545396509616731,0.2437784655319529,0.8851937685556265,0.4632827238928113,1.0863756187270626,-0.1181561527572261,0.1369261680083311,2.0348524973218987,-1.8861768832689836,-0.016705368751881017,0.7290175886085175,1.318164717746607,-0.08419407473425462,0.5188272566189656,-0.11785375633774303,0.6816241022779139,1.1633798931878614,1.3009309850009134,1.1031064057176247,-1.7268011580280418,-0.1877113285912264,0.6433668159665754,0.5175660426550832,-0.4262770712301764,1.4345996252642592,-1.5851546875837106,1.7431000816154405,1.7045490658714484,0.18649227181534667,-0.46457495515943703,-0.6659601290687353,0.6471493021984399,-0.5650773246995385,0.23816150687538057,-0.7569262775599286,-0.9098285535133858,-1.4010829422108781,1.112587332750602,-1.1688615137051739,0.8938407717187248,0.8681635351258409,1.2854867980875944,1.5847484818220776,-0.7351580187684134,-0.20030886020076985,0.6193994652155762,0.8534211177717292,0.5637404340111039,0.2971366085488249,1.488990189483893,-1.1136939284905183,0.36931992078898696,0.6012505232665935,-1.228684022050812,0.4474824371666456,-0.8482997954231998,-0.85839217274234,0.5816657109309396,0.561463492438676,-0.17762971790881574,2.253819024780938,1.8383271645432007,-0.017723983247172517,-1.4086179887604693,-0.455262052154905,3.027749410400535,-0.7706272831937817,0.044998032882978274,0.5093813314163811,-0.8738320491940496,-0.3788672274267904,0.8985220013506069,0.11688284615129714,0.08085665790681583,1.2423065994338762,-0.0884143933777113,0.345420570043961,0.4132818552246082,-0.6301355000040854,0.822477330774026,0.10555307862137166,-2.1584819195642595,0.8402591907285277],\"xaxis\":\"x4\",\"y\":[0.19570059565133208,-0.11638330238179669,-0.5263256747464582,0.8610945321778738,-0.3345094465099812,0.4408512168711264,2.0611077294617712,1.1374697047856683,-2.1227841875235915,1.0292971245745437,-0.8364203147960749,-0.6258215956665029,0.32260095981402637,-0.5338387260601835,0.6554935664092758,1.3736166940602932,-0.16495693119745544,0.24892874967136702,-0.29073261749369766,-0.4848063202571289,0.6565018657582203,-0.36886003694137837,0.9473286259130218,-0.15192208276392827,1.2988105359456485,0.22536144692944,-1.7445131583390414,-1.7640829188462417,-1.3763078782535882,0.44519599256836434,-0.8554265172487281,-1.3953353375893736,-0.17028847631552607,1.2440683236221601,1.4351880669067858,0.7728377529760181,-1.0037061329445511,-0.2701346533922767,0.263104393296739,-0.7310213812969807,1.2388398269721017,0.46366664662763946,-0.09545311315395906,-0.6499121108716162,-0.25047578428123174,-0.7127984780688053,0.7110061869252203,-0.24074269104144155,1.1725672162496483,-0.039110608379132855,-1.6171364298868847,0.8312532821658801,-0.032679420067335714,0.4859103679519266,-0.7535388109234928,-0.18912123287211038,-1.0403500296557093,-0.06219828252596251,-1.2761097495726967,-0.7380962783569485,0.046532238213436,-0.5253498256135178,-0.4033347119360634,-0.08742523631256073,-0.38926161053757746,0.052737864070574125,0.3344579681239486,-0.10835434406514376,0.054127556806846194,0.6032359649720735,-1.051406108831842,0.7540278979632805,0.23644120628538473,0.1207891181609108,0.18499947890991988,0.1304225960231744,-0.24489518923344927,-0.24068375165242298,-0.2763643515085313,1.2769322738387565,0.6250457444879429,-0.17985864709213464,0.6502686683025198,-0.9452275155825481,-1.3426584570541529,-1.207128794704555,-0.2982937118808505,0.11118077103631854,1.1977346185162063,1.068086693648832,1.5337007101930478,0.129364274914311,-0.5267070376888813,-0.1507647819590437,-0.253644450631918,1.304303981456091,-1.3622893199635842,-0.5479738141889986,1.7245967171812724,-0.6053625371178464],\"yaxis\":\"y4\"},{\"line\":{\"color\":\"rgba(128, 128, 128, 1.0)\",\"dash\":\"solid\",\"shape\":\"linear\",\"width\":1.3},\"marker\":{\"size\":2,\"symbol\":\"circle\"},\"mode\":\"markers\",\"name\":\"B\",\"text\":\"\",\"type\":\"scatter\",\"x\":[0.19570059565133208,-0.11638330238179669,-0.5263256747464582,0.8610945321778738,-0.3345094465099812,0.4408512168711264,2.0611077294617712,1.1374697047856683,-2.1227841875235915,1.0292971245745437,-0.8364203147960749,-0.6258215956665029,0.32260095981402637,-0.5338387260601835,0.6554935664092758,1.3736166940602932,-0.16495693119745544,0.24892874967136702,-0.29073261749369766,-0.4848063202571289,0.6565018657582203,-0.36886003694137837,0.9473286259130218,-0.15192208276392827,1.2988105359456485,0.22536144692944,-1.7445131583390414,-1.7640829188462417,-1.3763078782535882,0.44519599256836434,-0.8554265172487281,-1.3953353375893736,-0.17028847631552607,1.2440683236221601,1.4351880669067858,0.7728377529760181,-1.0037061329445511,-0.2701346533922767,0.263104393296739,-0.7310213812969807,1.2388398269721017,0.46366664662763946,-0.09545311315395906,-0.6499121108716162,-0.25047578428123174,-0.7127984780688053,0.7110061869252203,-0.24074269104144155,1.1725672162496483,-0.039110608379132855,-1.6171364298868847,0.8312532821658801,-0.032679420067335714,0.4859103679519266,-0.7535388109234928,-0.18912123287211038,-1.0403500296557093,-0.06219828252596251,-1.2761097495726967,-0.7380962783569485,0.046532238213436,-0.5253498256135178,-0.4033347119360634,-0.08742523631256073,-0.38926161053757746,0.052737864070574125,0.3344579681239486,-0.10835434406514376,0.054127556806846194,0.6032359649720735,-1.051406108831842,0.7540278979632805,0.23644120628538473,0.1207891181609108,0.18499947890991988,0.1304225960231744,-0.24489518923344927,-0.24068375165242298,-0.2763643515085313,1.2769322738387565,0.6250457444879429,-0.17985864709213464,0.6502686683025198,-0.9452275155825481,-1.3426584570541529,-1.207128794704555,-0.2982937118808505,0.11118077103631854,1.1977346185162063,1.068086693648832,1.5337007101930478,0.129364274914311,-0.5267070376888813,-0.1507647819590437,-0.253644450631918,1.304303981456091,-1.3622893199635842,-0.5479738141889986,1.7245967171812724,-0.6053625371178464],\"xaxis\":\"x5\",\"y\":[-1.9039051872194404,0.41567584575502137,-0.8500551105602945,-1.671415698067484,0.34902348200098277,0.5397321899986275,0.7822989116806651,-0.7181762676338362,-1.6048847969742268,-0.28390524053597044,-0.2544920313036875,0.6580987147545254,0.2905384073895607,-0.6479322773424703,1.4560026616500317,-0.4536461754780206,0.7004603745030877,-1.5464930754789366,-0.16322468517313587,-0.7548093771049874,0.6659135464236476,2.059981525156413,-0.884493064348931,-0.38156249622353255,0.19262367405809266,0.5473919628467429,1.547864817081784,0.7295495737738722,-1.0412645454837997,-1.4386762374682316,0.649166310831736,-2.3441776498198332,-0.2471046319944664,0.30042921252640914,-1.4319025000255197,-0.39701453731115993,2.369867746154535,-0.5926917296631201,-0.2987824930791812,-0.4728537299883391,2.1497965061361333,1.2177318058678004,-0.3136206903877042,1.6492744026324628,-0.9269217399175947,0.3175296680171701,2.4208137981136284,-0.4232717640908274,-0.032071324577330126,-1.6133508281147728,0.30110401618146465,-1.6943928569303872,0.02329836798108102,-0.6582175383544171,-0.9231732652496449,-0.3665566365075626,0.4846993344503613,1.104977891592252,-0.9035272204986705,-0.12985610274943768,-0.1821179267844909,-0.15059695921959254,0.28568805152605853,-1.1989949589496258,0.017817989819181007,-0.34868779585261733,-1.3128165938969547,2.7361308864903373,0.14705769934721588,1.7839586180818037,0.2792922855416744,-0.7230348685840761,-1.4779738212518898,-1.4618062917125283,1.9703481657211541,1.2676591244598243,0.22817150219098725,0.8577007057173187,-1.2560616239825597,-0.9302539650051844,1.1963756510029406,0.5267467063123779,-0.1348262964779555,-0.30604736190366066,0.022555198762383655,-0.16793166099803278,0.6500910390970416,-1.650632391323068,-1.9996797908113744,1.0858725584498004,0.005392031409097878,1.7117229874270576,0.4965048249908904,-0.6806504054977754,-0.41912197067726653,0.3686131823036771,-0.3102240940882463,-0.5326242897864948,0.13540925071550378,1.2241412510202085],\"yaxis\":\"y5\"},{\"histfunc\":\"count\",\"histnorm\":\"\",\"marker\":{\"color\":\"rgba(55, 128, 191, 1.0)\",\"line\":{\"color\":\"#4D5663\",\"width\":1.3}},\"name\":\"B\",\"nbinsx\":10,\"opacity\":0.8,\"orientation\":\"v\",\"type\":\"histogram\",\"x\":[-1.9039051872194404,0.41567584575502137,-0.8500551105602945,-1.671415698067484,0.34902348200098277,0.5397321899986275,0.7822989116806651,-0.7181762676338362,-1.6048847969742268,-0.28390524053597044,-0.2544920313036875,0.6580987147545254,0.2905384073895607,-0.6479322773424703,1.4560026616500317,-0.4536461754780206,0.7004603745030877,-1.5464930754789366,-0.16322468517313587,-0.7548093771049874,0.6659135464236476,2.059981525156413,-0.884493064348931,-0.38156249622353255,0.19262367405809266,0.5473919628467429,1.547864817081784,0.7295495737738722,-1.0412645454837997,-1.4386762374682316,0.649166310831736,-2.3441776498198332,-0.2471046319944664,0.30042921252640914,-1.4319025000255197,-0.39701453731115993,2.369867746154535,-0.5926917296631201,-0.2987824930791812,-0.4728537299883391,2.1497965061361333,1.2177318058678004,-0.3136206903877042,1.6492744026324628,-0.9269217399175947,0.3175296680171701,2.4208137981136284,-0.4232717640908274,-0.032071324577330126,-1.6133508281147728,0.30110401618146465,-1.6943928569303872,0.02329836798108102,-0.6582175383544171,-0.9231732652496449,-0.3665566365075626,0.4846993344503613,1.104977891592252,-0.9035272204986705,-0.12985610274943768,-0.1821179267844909,-0.15059695921959254,0.28568805152605853,-1.1989949589496258,0.017817989819181007,-0.34868779585261733,-1.3128165938969547,2.7361308864903373,0.14705769934721588,1.7839586180818037,0.2792922855416744,-0.7230348685840761,-1.4779738212518898,-1.4618062917125283,1.9703481657211541,1.2676591244598243,0.22817150219098725,0.8577007057173187,-1.2560616239825597,-0.9302539650051844,1.1963756510029406,0.5267467063123779,-0.1348262964779555,-0.30604736190366066,0.022555198762383655,-0.16793166099803278,0.6500910390970416,-1.650632391323068,-1.9996797908113744,1.0858725584498004,0.005392031409097878,1.7117229874270576,0.4965048249908904,-0.6806504054977754,-0.41912197067726653,0.3686131823036771,-0.3102240940882463,-0.5326242897864948,0.13540925071550378,1.2241412510202085],\"xaxis\":\"x6\",\"yaxis\":\"y6\"},{\"line\":{\"color\":\"rgba(128, 128, 128, 1.0)\",\"dash\":\"solid\",\"shape\":\"linear\",\"width\":1.3},\"marker\":{\"size\":2,\"symbol\":\"circle\"},\"mode\":\"markers\",\"name\":\"B\",\"text\":\"\",\"type\":\"scatter\",\"x\":[-0.19742756926843105,0.48958431436992456,1.168655358246096,-1.3239674601960378,0.3153412681524564,-1.2867213298660525,0.13789323815829171,-1.3125707738687633,-0.9234834781507878,-0.9548407227047814,0.3281827098249989,-0.3277377584634297,-1.3389401832040264,-0.7965973626411075,-1.4073340890042276,0.8337423779644011,-0.15811866852240905,1.0849554248787707,2.0612040425799627,-2.318379508588448,-1.950184533721912,-0.011910728682155394,-1.366112972733267,1.0501167875491892,0.271741015803,-1.4163867458934332,0.7215180594005365,0.43675196186973586,-0.3507397519626802,-1.6443851500374882,-0.8490477414572171,-1.6127329815628186,-1.3087264158796403,0.0058488737954857034,-0.36321271690552726,0.08444388374930377,0.1181060177717198,-0.14842969336280984,-1.6963859240233354,-1.0863418413017474,0.10129253574241567,-0.5900410648265194,-0.5009043399907748,-1.2716423538388761,-0.4284674367119366,0.26540445885382735,0.4170753457414443,-0.36798568466917686,-0.8095269771913907,2.110941230287802,0.5663429864997228,0.08995655038933079,-0.84812317579309,0.25653928204649035,0.044956983413372655,0.4408878738134412,-0.7661276683521101,-1.6757250776250023,0.6240106192760755,0.6853774199406103,1.1571308663536402,-1.233540507022606,-0.5430963887359603,-1.053444352385449,0.07002453531421317,-0.9284087622114705,0.00940398366288766,-0.3240331489016471,-1.5350666449797785,-0.8021685333792421,0.054985419462508144,0.2873924541602581,-1.7653271429977395,0.2808187957487331,-0.2504873511898542,0.8176394956508974,0.18627545033457132,1.9915991067706624,0.44328160033777114,0.9044391218899049,2.26791900684423,-1.5256270985104692,-1.1416493459172348,-1.476047627561701,-0.5253658496613989,0.33415996539835696,0.4361804935570515,-0.7567641205192095,0.22262672530051753,-1.9071038631080481,-0.00396760837536343,1.7064732324082712,0.6034265071025826,-1.9273434592087144,0.9921617004887597,-0.5587647056959151,-0.05808663848653034,-1.2199300754263094,-1.15709736045127,-0.9743788159189748],\"xaxis\":\"x7\",\"y\":[-1.9039051872194404,0.41567584575502137,-0.8500551105602945,-1.671415698067484,0.34902348200098277,0.5397321899986275,0.7822989116806651,-0.7181762676338362,-1.6048847969742268,-0.28390524053597044,-0.2544920313036875,0.6580987147545254,0.2905384073895607,-0.6479322773424703,1.4560026616500317,-0.4536461754780206,0.7004603745030877,-1.5464930754789366,-0.16322468517313587,-0.7548093771049874,0.6659135464236476,2.059981525156413,-0.884493064348931,-0.38156249622353255,0.19262367405809266,0.5473919628467429,1.547864817081784,0.7295495737738722,-1.0412645454837997,-1.4386762374682316,0.649166310831736,-2.3441776498198332,-0.2471046319944664,0.30042921252640914,-1.4319025000255197,-0.39701453731115993,2.369867746154535,-0.5926917296631201,-0.2987824930791812,-0.4728537299883391,2.1497965061361333,1.2177318058678004,-0.3136206903877042,1.6492744026324628,-0.9269217399175947,0.3175296680171701,2.4208137981136284,-0.4232717640908274,-0.032071324577330126,-1.6133508281147728,0.30110401618146465,-1.6943928569303872,0.02329836798108102,-0.6582175383544171,-0.9231732652496449,-0.3665566365075626,0.4846993344503613,1.104977891592252,-0.9035272204986705,-0.12985610274943768,-0.1821179267844909,-0.15059695921959254,0.28568805152605853,-1.1989949589496258,0.017817989819181007,-0.34868779585261733,-1.3128165938969547,2.7361308864903373,0.14705769934721588,1.7839586180818037,0.2792922855416744,-0.7230348685840761,-1.4779738212518898,-1.4618062917125283,1.9703481657211541,1.2676591244598243,0.22817150219098725,0.8577007057173187,-1.2560616239825597,-0.9302539650051844,1.1963756510029406,0.5267467063123779,-0.1348262964779555,-0.30604736190366066,0.022555198762383655,-0.16793166099803278,0.6500910390970416,-1.650632391323068,-1.9996797908113744,1.0858725584498004,0.005392031409097878,1.7117229874270576,0.4965048249908904,-0.6806504054977754,-0.41912197067726653,0.3686131823036771,-0.3102240940882463,-0.5326242897864948,0.13540925071550378,1.2241412510202085],\"yaxis\":\"y7\"},{\"line\":{\"color\":\"rgba(128, 128, 128, 1.0)\",\"dash\":\"solid\",\"shape\":\"linear\",\"width\":1.3},\"marker\":{\"size\":2,\"symbol\":\"circle\"},\"mode\":\"markers\",\"name\":\"B\",\"text\":\"\",\"type\":\"scatter\",\"x\":[0.738190830937213,0.05388632898957935,1.0881527464783645,-1.0077265322775444,-0.41881847699678193,-0.2915529980778208,-1.2590941502756594,-1.229551033330486,-0.18140644511752788,-0.2870228963830413,-2.2089798603151674,0.6843054039418736,0.6742624926357605,-0.5910863898055728,1.1462985693719674,0.4741505151953946,-1.22184361711703,0.3545396509616731,0.2437784655319529,0.8851937685556265,0.4632827238928113,1.0863756187270626,-0.1181561527572261,0.1369261680083311,2.0348524973218987,-1.8861768832689836,-0.016705368751881017,0.7290175886085175,1.318164717746607,-0.08419407473425462,0.5188272566189656,-0.11785375633774303,0.6816241022779139,1.1633798931878614,1.3009309850009134,1.1031064057176247,-1.7268011580280418,-0.1877113285912264,0.6433668159665754,0.5175660426550832,-0.4262770712301764,1.4345996252642592,-1.5851546875837106,1.7431000816154405,1.7045490658714484,0.18649227181534667,-0.46457495515943703,-0.6659601290687353,0.6471493021984399,-0.5650773246995385,0.23816150687538057,-0.7569262775599286,-0.9098285535133858,-1.4010829422108781,1.112587332750602,-1.1688615137051739,0.8938407717187248,0.8681635351258409,1.2854867980875944,1.5847484818220776,-0.7351580187684134,-0.20030886020076985,0.6193994652155762,0.8534211177717292,0.5637404340111039,0.2971366085488249,1.488990189483893,-1.1136939284905183,0.36931992078898696,0.6012505232665935,-1.228684022050812,0.4474824371666456,-0.8482997954231998,-0.85839217274234,0.5816657109309396,0.561463492438676,-0.17762971790881574,2.253819024780938,1.8383271645432007,-0.017723983247172517,-1.4086179887604693,-0.455262052154905,3.027749410400535,-0.7706272831937817,0.044998032882978274,0.5093813314163811,-0.8738320491940496,-0.3788672274267904,0.8985220013506069,0.11688284615129714,0.08085665790681583,1.2423065994338762,-0.0884143933777113,0.345420570043961,0.4132818552246082,-0.6301355000040854,0.822477330774026,0.10555307862137166,-2.1584819195642595,0.8402591907285277],\"xaxis\":\"x8\",\"y\":[-1.9039051872194404,0.41567584575502137,-0.8500551105602945,-1.671415698067484,0.34902348200098277,0.5397321899986275,0.7822989116806651,-0.7181762676338362,-1.6048847969742268,-0.28390524053597044,-0.2544920313036875,0.6580987147545254,0.2905384073895607,-0.6479322773424703,1.4560026616500317,-0.4536461754780206,0.7004603745030877,-1.5464930754789366,-0.16322468517313587,-0.7548093771049874,0.6659135464236476,2.059981525156413,-0.884493064348931,-0.38156249622353255,0.19262367405809266,0.5473919628467429,1.547864817081784,0.7295495737738722,-1.0412645454837997,-1.4386762374682316,0.649166310831736,-2.3441776498198332,-0.2471046319944664,0.30042921252640914,-1.4319025000255197,-0.39701453731115993,2.369867746154535,-0.5926917296631201,-0.2987824930791812,-0.4728537299883391,2.1497965061361333,1.2177318058678004,-0.3136206903877042,1.6492744026324628,-0.9269217399175947,0.3175296680171701,2.4208137981136284,-0.4232717640908274,-0.032071324577330126,-1.6133508281147728,0.30110401618146465,-1.6943928569303872,0.02329836798108102,-0.6582175383544171,-0.9231732652496449,-0.3665566365075626,0.4846993344503613,1.104977891592252,-0.9035272204986705,-0.12985610274943768,-0.1821179267844909,-0.15059695921959254,0.28568805152605853,-1.1989949589496258,0.017817989819181007,-0.34868779585261733,-1.3128165938969547,2.7361308864903373,0.14705769934721588,1.7839586180818037,0.2792922855416744,-0.7230348685840761,-1.4779738212518898,-1.4618062917125283,1.9703481657211541,1.2676591244598243,0.22817150219098725,0.8577007057173187,-1.2560616239825597,-0.9302539650051844,1.1963756510029406,0.5267467063123779,-0.1348262964779555,-0.30604736190366066,0.022555198762383655,-0.16793166099803278,0.6500910390970416,-1.650632391323068,-1.9996797908113744,1.0858725584498004,0.005392031409097878,1.7117229874270576,0.4965048249908904,-0.6806504054977754,-0.41912197067726653,0.3686131823036771,-0.3102240940882463,-0.5326242897864948,0.13540925071550378,1.2241412510202085],\"yaxis\":\"y8\"},{\"line\":{\"color\":\"rgba(128, 128, 128, 1.0)\",\"dash\":\"solid\",\"shape\":\"linear\",\"width\":1.3},\"marker\":{\"size\":2,\"symbol\":\"circle\"},\"mode\":\"markers\",\"name\":\"C\",\"text\":\"\",\"type\":\"scatter\",\"x\":[0.19570059565133208,-0.11638330238179669,-0.5263256747464582,0.8610945321778738,-0.3345094465099812,0.4408512168711264,2.0611077294617712,1.1374697047856683,-2.1227841875235915,1.0292971245745437,-0.8364203147960749,-0.6258215956665029,0.32260095981402637,-0.5338387260601835,0.6554935664092758,1.3736166940602932,-0.16495693119745544,0.24892874967136702,-0.29073261749369766,-0.4848063202571289,0.6565018657582203,-0.36886003694137837,0.9473286259130218,-0.15192208276392827,1.2988105359456485,0.22536144692944,-1.7445131583390414,-1.7640829188462417,-1.3763078782535882,0.44519599256836434,-0.8554265172487281,-1.3953353375893736,-0.17028847631552607,1.2440683236221601,1.4351880669067858,0.7728377529760181,-1.0037061329445511,-0.2701346533922767,0.263104393296739,-0.7310213812969807,1.2388398269721017,0.46366664662763946,-0.09545311315395906,-0.6499121108716162,-0.25047578428123174,-0.7127984780688053,0.7110061869252203,-0.24074269104144155,1.1725672162496483,-0.039110608379132855,-1.6171364298868847,0.8312532821658801,-0.032679420067335714,0.4859103679519266,-0.7535388109234928,-0.18912123287211038,-1.0403500296557093,-0.06219828252596251,-1.2761097495726967,-0.7380962783569485,0.046532238213436,-0.5253498256135178,-0.4033347119360634,-0.08742523631256073,-0.38926161053757746,0.052737864070574125,0.3344579681239486,-0.10835434406514376,0.054127556806846194,0.6032359649720735,-1.051406108831842,0.7540278979632805,0.23644120628538473,0.1207891181609108,0.18499947890991988,0.1304225960231744,-0.24489518923344927,-0.24068375165242298,-0.2763643515085313,1.2769322738387565,0.6250457444879429,-0.17985864709213464,0.6502686683025198,-0.9452275155825481,-1.3426584570541529,-1.207128794704555,-0.2982937118808505,0.11118077103631854,1.1977346185162063,1.068086693648832,1.5337007101930478,0.129364274914311,-0.5267070376888813,-0.1507647819590437,-0.253644450631918,1.304303981456091,-1.3622893199635842,-0.5479738141889986,1.7245967171812724,-0.6053625371178464],\"xaxis\":\"x9\",\"y\":[-0.19742756926843105,0.48958431436992456,1.168655358246096,-1.3239674601960378,0.3153412681524564,-1.2867213298660525,0.13789323815829171,-1.3125707738687633,-0.9234834781507878,-0.9548407227047814,0.3281827098249989,-0.3277377584634297,-1.3389401832040264,-0.7965973626411075,-1.4073340890042276,0.8337423779644011,-0.15811866852240905,1.0849554248787707,2.0612040425799627,-2.318379508588448,-1.950184533721912,-0.011910728682155394,-1.366112972733267,1.0501167875491892,0.271741015803,-1.4163867458934332,0.7215180594005365,0.43675196186973586,-0.3507397519626802,-1.6443851500374882,-0.8490477414572171,-1.6127329815628186,-1.3087264158796403,0.0058488737954857034,-0.36321271690552726,0.08444388374930377,0.1181060177717198,-0.14842969336280984,-1.6963859240233354,-1.0863418413017474,0.10129253574241567,-0.5900410648265194,-0.5009043399907748,-1.2716423538388761,-0.4284674367119366,0.26540445885382735,0.4170753457414443,-0.36798568466917686,-0.8095269771913907,2.110941230287802,0.5663429864997228,0.08995655038933079,-0.84812317579309,0.25653928204649035,0.044956983413372655,0.4408878738134412,-0.7661276683521101,-1.6757250776250023,0.6240106192760755,0.6853774199406103,1.1571308663536402,-1.233540507022606,-0.5430963887359603,-1.053444352385449,0.07002453531421317,-0.9284087622114705,0.00940398366288766,-0.3240331489016471,-1.5350666449797785,-0.8021685333792421,0.054985419462508144,0.2873924541602581,-1.7653271429977395,0.2808187957487331,-0.2504873511898542,0.8176394956508974,0.18627545033457132,1.9915991067706624,0.44328160033777114,0.9044391218899049,2.26791900684423,-1.5256270985104692,-1.1416493459172348,-1.476047627561701,-0.5253658496613989,0.33415996539835696,0.4361804935570515,-0.7567641205192095,0.22262672530051753,-1.9071038631080481,-0.00396760837536343,1.7064732324082712,0.6034265071025826,-1.9273434592087144,0.9921617004887597,-0.5587647056959151,-0.05808663848653034,-1.2199300754263094,-1.15709736045127,-0.9743788159189748],\"yaxis\":\"y9\"},{\"line\":{\"color\":\"rgba(128, 128, 128, 1.0)\",\"dash\":\"solid\",\"shape\":\"linear\",\"width\":1.3},\"marker\":{\"size\":2,\"symbol\":\"circle\"},\"mode\":\"markers\",\"name\":\"C\",\"text\":\"\",\"type\":\"scatter\",\"x\":[-1.9039051872194404,0.41567584575502137,-0.8500551105602945,-1.671415698067484,0.34902348200098277,0.5397321899986275,0.7822989116806651,-0.7181762676338362,-1.6048847969742268,-0.28390524053597044,-0.2544920313036875,0.6580987147545254,0.2905384073895607,-0.6479322773424703,1.4560026616500317,-0.4536461754780206,0.7004603745030877,-1.5464930754789366,-0.16322468517313587,-0.7548093771049874,0.6659135464236476,2.059981525156413,-0.884493064348931,-0.38156249622353255,0.19262367405809266,0.5473919628467429,1.547864817081784,0.7295495737738722,-1.0412645454837997,-1.4386762374682316,0.649166310831736,-2.3441776498198332,-0.2471046319944664,0.30042921252640914,-1.4319025000255197,-0.39701453731115993,2.369867746154535,-0.5926917296631201,-0.2987824930791812,-0.4728537299883391,2.1497965061361333,1.2177318058678004,-0.3136206903877042,1.6492744026324628,-0.9269217399175947,0.3175296680171701,2.4208137981136284,-0.4232717640908274,-0.032071324577330126,-1.6133508281147728,0.30110401618146465,-1.6943928569303872,0.02329836798108102,-0.6582175383544171,-0.9231732652496449,-0.3665566365075626,0.4846993344503613,1.104977891592252,-0.9035272204986705,-0.12985610274943768,-0.1821179267844909,-0.15059695921959254,0.28568805152605853,-1.1989949589496258,0.017817989819181007,-0.34868779585261733,-1.3128165938969547,2.7361308864903373,0.14705769934721588,1.7839586180818037,0.2792922855416744,-0.7230348685840761,-1.4779738212518898,-1.4618062917125283,1.9703481657211541,1.2676591244598243,0.22817150219098725,0.8577007057173187,-1.2560616239825597,-0.9302539650051844,1.1963756510029406,0.5267467063123779,-0.1348262964779555,-0.30604736190366066,0.022555198762383655,-0.16793166099803278,0.6500910390970416,-1.650632391323068,-1.9996797908113744,1.0858725584498004,0.005392031409097878,1.7117229874270576,0.4965048249908904,-0.6806504054977754,-0.41912197067726653,0.3686131823036771,-0.3102240940882463,-0.5326242897864948,0.13540925071550378,1.2241412510202085],\"xaxis\":\"x10\",\"y\":[-0.19742756926843105,0.48958431436992456,1.168655358246096,-1.3239674601960378,0.3153412681524564,-1.2867213298660525,0.13789323815829171,-1.3125707738687633,-0.9234834781507878,-0.9548407227047814,0.3281827098249989,-0.3277377584634297,-1.3389401832040264,-0.7965973626411075,-1.4073340890042276,0.8337423779644011,-0.15811866852240905,1.0849554248787707,2.0612040425799627,-2.318379508588448,-1.950184533721912,-0.011910728682155394,-1.366112972733267,1.0501167875491892,0.271741015803,-1.4163867458934332,0.7215180594005365,0.43675196186973586,-0.3507397519626802,-1.6443851500374882,-0.8490477414572171,-1.6127329815628186,-1.3087264158796403,0.0058488737954857034,-0.36321271690552726,0.08444388374930377,0.1181060177717198,-0.14842969336280984,-1.6963859240233354,-1.0863418413017474,0.10129253574241567,-0.5900410648265194,-0.5009043399907748,-1.2716423538388761,-0.4284674367119366,0.26540445885382735,0.4170753457414443,-0.36798568466917686,-0.8095269771913907,2.110941230287802,0.5663429864997228,0.08995655038933079,-0.84812317579309,0.25653928204649035,0.044956983413372655,0.4408878738134412,-0.7661276683521101,-1.6757250776250023,0.6240106192760755,0.6853774199406103,1.1571308663536402,-1.233540507022606,-0.5430963887359603,-1.053444352385449,0.07002453531421317,-0.9284087622114705,0.00940398366288766,-0.3240331489016471,-1.5350666449797785,-0.8021685333792421,0.054985419462508144,0.2873924541602581,-1.7653271429977395,0.2808187957487331,-0.2504873511898542,0.8176394956508974,0.18627545033457132,1.9915991067706624,0.44328160033777114,0.9044391218899049,2.26791900684423,-1.5256270985104692,-1.1416493459172348,-1.476047627561701,-0.5253658496613989,0.33415996539835696,0.4361804935570515,-0.7567641205192095,0.22262672530051753,-1.9071038631080481,-0.00396760837536343,1.7064732324082712,0.6034265071025826,-1.9273434592087144,0.9921617004887597,-0.5587647056959151,-0.05808663848653034,-1.2199300754263094,-1.15709736045127,-0.9743788159189748],\"yaxis\":\"y10\"},{\"histfunc\":\"count\",\"histnorm\":\"\",\"marker\":{\"color\":\"rgba(50, 171, 96, 1.0)\",\"line\":{\"color\":\"#4D5663\",\"width\":1.3}},\"name\":\"C\",\"nbinsx\":10,\"opacity\":0.8,\"orientation\":\"v\",\"type\":\"histogram\",\"x\":[-0.19742756926843105,0.48958431436992456,1.168655358246096,-1.3239674601960378,0.3153412681524564,-1.2867213298660525,0.13789323815829171,-1.3125707738687633,-0.9234834781507878,-0.9548407227047814,0.3281827098249989,-0.3277377584634297,-1.3389401832040264,-0.7965973626411075,-1.4073340890042276,0.8337423779644011,-0.15811866852240905,1.0849554248787707,2.0612040425799627,-2.318379508588448,-1.950184533721912,-0.011910728682155394,-1.366112972733267,1.0501167875491892,0.271741015803,-1.4163867458934332,0.7215180594005365,0.43675196186973586,-0.3507397519626802,-1.6443851500374882,-0.8490477414572171,-1.6127329815628186,-1.3087264158796403,0.0058488737954857034,-0.36321271690552726,0.08444388374930377,0.1181060177717198,-0.14842969336280984,-1.6963859240233354,-1.0863418413017474,0.10129253574241567,-0.5900410648265194,-0.5009043399907748,-1.2716423538388761,-0.4284674367119366,0.26540445885382735,0.4170753457414443,-0.36798568466917686,-0.8095269771913907,2.110941230287802,0.5663429864997228,0.08995655038933079,-0.84812317579309,0.25653928204649035,0.044956983413372655,0.4408878738134412,-0.7661276683521101,-1.6757250776250023,0.6240106192760755,0.6853774199406103,1.1571308663536402,-1.233540507022606,-0.5430963887359603,-1.053444352385449,0.07002453531421317,-0.9284087622114705,0.00940398366288766,-0.3240331489016471,-1.5350666449797785,-0.8021685333792421,0.054985419462508144,0.2873924541602581,-1.7653271429977395,0.2808187957487331,-0.2504873511898542,0.8176394956508974,0.18627545033457132,1.9915991067706624,0.44328160033777114,0.9044391218899049,2.26791900684423,-1.5256270985104692,-1.1416493459172348,-1.476047627561701,-0.5253658496613989,0.33415996539835696,0.4361804935570515,-0.7567641205192095,0.22262672530051753,-1.9071038631080481,-0.00396760837536343,1.7064732324082712,0.6034265071025826,-1.9273434592087144,0.9921617004887597,-0.5587647056959151,-0.05808663848653034,-1.2199300754263094,-1.15709736045127,-0.9743788159189748],\"xaxis\":\"x11\",\"yaxis\":\"y11\"},{\"line\":{\"color\":\"rgba(128, 128, 128, 1.0)\",\"dash\":\"solid\",\"shape\":\"linear\",\"width\":1.3},\"marker\":{\"size\":2,\"symbol\":\"circle\"},\"mode\":\"markers\",\"name\":\"C\",\"text\":\"\",\"type\":\"scatter\",\"x\":[0.738190830937213,0.05388632898957935,1.0881527464783645,-1.0077265322775444,-0.41881847699678193,-0.2915529980778208,-1.2590941502756594,-1.229551033330486,-0.18140644511752788,-0.2870228963830413,-2.2089798603151674,0.6843054039418736,0.6742624926357605,-0.5910863898055728,1.1462985693719674,0.4741505151953946,-1.22184361711703,0.3545396509616731,0.2437784655319529,0.8851937685556265,0.4632827238928113,1.0863756187270626,-0.1181561527572261,0.1369261680083311,2.0348524973218987,-1.8861768832689836,-0.016705368751881017,0.7290175886085175,1.318164717746607,-0.08419407473425462,0.5188272566189656,-0.11785375633774303,0.6816241022779139,1.1633798931878614,1.3009309850009134,1.1031064057176247,-1.7268011580280418,-0.1877113285912264,0.6433668159665754,0.5175660426550832,-0.4262770712301764,1.4345996252642592,-1.5851546875837106,1.7431000816154405,1.7045490658714484,0.18649227181534667,-0.46457495515943703,-0.6659601290687353,0.6471493021984399,-0.5650773246995385,0.23816150687538057,-0.7569262775599286,-0.9098285535133858,-1.4010829422108781,1.112587332750602,-1.1688615137051739,0.8938407717187248,0.8681635351258409,1.2854867980875944,1.5847484818220776,-0.7351580187684134,-0.20030886020076985,0.6193994652155762,0.8534211177717292,0.5637404340111039,0.2971366085488249,1.488990189483893,-1.1136939284905183,0.36931992078898696,0.6012505232665935,-1.228684022050812,0.4474824371666456,-0.8482997954231998,-0.85839217274234,0.5816657109309396,0.561463492438676,-0.17762971790881574,2.253819024780938,1.8383271645432007,-0.017723983247172517,-1.4086179887604693,-0.455262052154905,3.027749410400535,-0.7706272831937817,0.044998032882978274,0.5093813314163811,-0.8738320491940496,-0.3788672274267904,0.8985220013506069,0.11688284615129714,0.08085665790681583,1.2423065994338762,-0.0884143933777113,0.345420570043961,0.4132818552246082,-0.6301355000040854,0.822477330774026,0.10555307862137166,-2.1584819195642595,0.8402591907285277],\"xaxis\":\"x12\",\"y\":[-0.19742756926843105,0.48958431436992456,1.168655358246096,-1.3239674601960378,0.3153412681524564,-1.2867213298660525,0.13789323815829171,-1.3125707738687633,-0.9234834781507878,-0.9548407227047814,0.3281827098249989,-0.3277377584634297,-1.3389401832040264,-0.7965973626411075,-1.4073340890042276,0.8337423779644011,-0.15811866852240905,1.0849554248787707,2.0612040425799627,-2.318379508588448,-1.950184533721912,-0.011910728682155394,-1.366112972733267,1.0501167875491892,0.271741015803,-1.4163867458934332,0.7215180594005365,0.43675196186973586,-0.3507397519626802,-1.6443851500374882,-0.8490477414572171,-1.6127329815628186,-1.3087264158796403,0.0058488737954857034,-0.36321271690552726,0.08444388374930377,0.1181060177717198,-0.14842969336280984,-1.6963859240233354,-1.0863418413017474,0.10129253574241567,-0.5900410648265194,-0.5009043399907748,-1.2716423538388761,-0.4284674367119366,0.26540445885382735,0.4170753457414443,-0.36798568466917686,-0.8095269771913907,2.110941230287802,0.5663429864997228,0.08995655038933079,-0.84812317579309,0.25653928204649035,0.044956983413372655,0.4408878738134412,-0.7661276683521101,-1.6757250776250023,0.6240106192760755,0.6853774199406103,1.1571308663536402,-1.233540507022606,-0.5430963887359603,-1.053444352385449,0.07002453531421317,-0.9284087622114705,0.00940398366288766,-0.3240331489016471,-1.5350666449797785,-0.8021685333792421,0.054985419462508144,0.2873924541602581,-1.7653271429977395,0.2808187957487331,-0.2504873511898542,0.8176394956508974,0.18627545033457132,1.9915991067706624,0.44328160033777114,0.9044391218899049,2.26791900684423,-1.5256270985104692,-1.1416493459172348,-1.476047627561701,-0.5253658496613989,0.33415996539835696,0.4361804935570515,-0.7567641205192095,0.22262672530051753,-1.9071038631080481,-0.00396760837536343,1.7064732324082712,0.6034265071025826,-1.9273434592087144,0.9921617004887597,-0.5587647056959151,-0.05808663848653034,-1.2199300754263094,-1.15709736045127,-0.9743788159189748],\"yaxis\":\"y12\"},{\"line\":{\"color\":\"rgba(128, 128, 128, 1.0)\",\"dash\":\"solid\",\"shape\":\"linear\",\"width\":1.3},\"marker\":{\"size\":2,\"symbol\":\"circle\"},\"mode\":\"markers\",\"name\":\"D\",\"text\":\"\",\"type\":\"scatter\",\"x\":[0.19570059565133208,-0.11638330238179669,-0.5263256747464582,0.8610945321778738,-0.3345094465099812,0.4408512168711264,2.0611077294617712,1.1374697047856683,-2.1227841875235915,1.0292971245745437,-0.8364203147960749,-0.6258215956665029,0.32260095981402637,-0.5338387260601835,0.6554935664092758,1.3736166940602932,-0.16495693119745544,0.24892874967136702,-0.29073261749369766,-0.4848063202571289,0.6565018657582203,-0.36886003694137837,0.9473286259130218,-0.15192208276392827,1.2988105359456485,0.22536144692944,-1.7445131583390414,-1.7640829188462417,-1.3763078782535882,0.44519599256836434,-0.8554265172487281,-1.3953353375893736,-0.17028847631552607,1.2440683236221601,1.4351880669067858,0.7728377529760181,-1.0037061329445511,-0.2701346533922767,0.263104393296739,-0.7310213812969807,1.2388398269721017,0.46366664662763946,-0.09545311315395906,-0.6499121108716162,-0.25047578428123174,-0.7127984780688053,0.7110061869252203,-0.24074269104144155,1.1725672162496483,-0.039110608379132855,-1.6171364298868847,0.8312532821658801,-0.032679420067335714,0.4859103679519266,-0.7535388109234928,-0.18912123287211038,-1.0403500296557093,-0.06219828252596251,-1.2761097495726967,-0.7380962783569485,0.046532238213436,-0.5253498256135178,-0.4033347119360634,-0.08742523631256073,-0.38926161053757746,0.052737864070574125,0.3344579681239486,-0.10835434406514376,0.054127556806846194,0.6032359649720735,-1.051406108831842,0.7540278979632805,0.23644120628538473,0.1207891181609108,0.18499947890991988,0.1304225960231744,-0.24489518923344927,-0.24068375165242298,-0.2763643515085313,1.2769322738387565,0.6250457444879429,-0.17985864709213464,0.6502686683025198,-0.9452275155825481,-1.3426584570541529,-1.207128794704555,-0.2982937118808505,0.11118077103631854,1.1977346185162063,1.068086693648832,1.5337007101930478,0.129364274914311,-0.5267070376888813,-0.1507647819590437,-0.253644450631918,1.304303981456091,-1.3622893199635842,-0.5479738141889986,1.7245967171812724,-0.6053625371178464],\"xaxis\":\"x13\",\"y\":[0.738190830937213,0.05388632898957935,1.0881527464783645,-1.0077265322775444,-0.41881847699678193,-0.2915529980778208,-1.2590941502756594,-1.229551033330486,-0.18140644511752788,-0.2870228963830413,-2.2089798603151674,0.6843054039418736,0.6742624926357605,-0.5910863898055728,1.1462985693719674,0.4741505151953946,-1.22184361711703,0.3545396509616731,0.2437784655319529,0.8851937685556265,0.4632827238928113,1.0863756187270626,-0.1181561527572261,0.1369261680083311,2.0348524973218987,-1.8861768832689836,-0.016705368751881017,0.7290175886085175,1.318164717746607,-0.08419407473425462,0.5188272566189656,-0.11785375633774303,0.6816241022779139,1.1633798931878614,1.3009309850009134,1.1031064057176247,-1.7268011580280418,-0.1877113285912264,0.6433668159665754,0.5175660426550832,-0.4262770712301764,1.4345996252642592,-1.5851546875837106,1.7431000816154405,1.7045490658714484,0.18649227181534667,-0.46457495515943703,-0.6659601290687353,0.6471493021984399,-0.5650773246995385,0.23816150687538057,-0.7569262775599286,-0.9098285535133858,-1.4010829422108781,1.112587332750602,-1.1688615137051739,0.8938407717187248,0.8681635351258409,1.2854867980875944,1.5847484818220776,-0.7351580187684134,-0.20030886020076985,0.6193994652155762,0.8534211177717292,0.5637404340111039,0.2971366085488249,1.488990189483893,-1.1136939284905183,0.36931992078898696,0.6012505232665935,-1.228684022050812,0.4474824371666456,-0.8482997954231998,-0.85839217274234,0.5816657109309396,0.561463492438676,-0.17762971790881574,2.253819024780938,1.8383271645432007,-0.017723983247172517,-1.4086179887604693,-0.455262052154905,3.027749410400535,-0.7706272831937817,0.044998032882978274,0.5093813314163811,-0.8738320491940496,-0.3788672274267904,0.8985220013506069,0.11688284615129714,0.08085665790681583,1.2423065994338762,-0.0884143933777113,0.345420570043961,0.4132818552246082,-0.6301355000040854,0.822477330774026,0.10555307862137166,-2.1584819195642595,0.8402591907285277],\"yaxis\":\"y13\"},{\"line\":{\"color\":\"rgba(128, 128, 128, 1.0)\",\"dash\":\"solid\",\"shape\":\"linear\",\"width\":1.3},\"marker\":{\"size\":2,\"symbol\":\"circle\"},\"mode\":\"markers\",\"name\":\"D\",\"text\":\"\",\"type\":\"scatter\",\"x\":[-1.9039051872194404,0.41567584575502137,-0.8500551105602945,-1.671415698067484,0.34902348200098277,0.5397321899986275,0.7822989116806651,-0.7181762676338362,-1.6048847969742268,-0.28390524053597044,-0.2544920313036875,0.6580987147545254,0.2905384073895607,-0.6479322773424703,1.4560026616500317,-0.4536461754780206,0.7004603745030877,-1.5464930754789366,-0.16322468517313587,-0.7548093771049874,0.6659135464236476,2.059981525156413,-0.884493064348931,-0.38156249622353255,0.19262367405809266,0.5473919628467429,1.547864817081784,0.7295495737738722,-1.0412645454837997,-1.4386762374682316,0.649166310831736,-2.3441776498198332,-0.2471046319944664,0.30042921252640914,-1.4319025000255197,-0.39701453731115993,2.369867746154535,-0.5926917296631201,-0.2987824930791812,-0.4728537299883391,2.1497965061361333,1.2177318058678004,-0.3136206903877042,1.6492744026324628,-0.9269217399175947,0.3175296680171701,2.4208137981136284,-0.4232717640908274,-0.032071324577330126,-1.6133508281147728,0.30110401618146465,-1.6943928569303872,0.02329836798108102,-0.6582175383544171,-0.9231732652496449,-0.3665566365075626,0.4846993344503613,1.104977891592252,-0.9035272204986705,-0.12985610274943768,-0.1821179267844909,-0.15059695921959254,0.28568805152605853,-1.1989949589496258,0.017817989819181007,-0.34868779585261733,-1.3128165938969547,2.7361308864903373,0.14705769934721588,1.7839586180818037,0.2792922855416744,-0.7230348685840761,-1.4779738212518898,-1.4618062917125283,1.9703481657211541,1.2676591244598243,0.22817150219098725,0.8577007057173187,-1.2560616239825597,-0.9302539650051844,1.1963756510029406,0.5267467063123779,-0.1348262964779555,-0.30604736190366066,0.022555198762383655,-0.16793166099803278,0.6500910390970416,-1.650632391323068,-1.9996797908113744,1.0858725584498004,0.005392031409097878,1.7117229874270576,0.4965048249908904,-0.6806504054977754,-0.41912197067726653,0.3686131823036771,-0.3102240940882463,-0.5326242897864948,0.13540925071550378,1.2241412510202085],\"xaxis\":\"x14\",\"y\":[0.738190830937213,0.05388632898957935,1.0881527464783645,-1.0077265322775444,-0.41881847699678193,-0.2915529980778208,-1.2590941502756594,-1.229551033330486,-0.18140644511752788,-0.2870228963830413,-2.2089798603151674,0.6843054039418736,0.6742624926357605,-0.5910863898055728,1.1462985693719674,0.4741505151953946,-1.22184361711703,0.3545396509616731,0.2437784655319529,0.8851937685556265,0.4632827238928113,1.0863756187270626,-0.1181561527572261,0.1369261680083311,2.0348524973218987,-1.8861768832689836,-0.016705368751881017,0.7290175886085175,1.318164717746607,-0.08419407473425462,0.5188272566189656,-0.11785375633774303,0.6816241022779139,1.1633798931878614,1.3009309850009134,1.1031064057176247,-1.7268011580280418,-0.1877113285912264,0.6433668159665754,0.5175660426550832,-0.4262770712301764,1.4345996252642592,-1.5851546875837106,1.7431000816154405,1.7045490658714484,0.18649227181534667,-0.46457495515943703,-0.6659601290687353,0.6471493021984399,-0.5650773246995385,0.23816150687538057,-0.7569262775599286,-0.9098285535133858,-1.4010829422108781,1.112587332750602,-1.1688615137051739,0.8938407717187248,0.8681635351258409,1.2854867980875944,1.5847484818220776,-0.7351580187684134,-0.20030886020076985,0.6193994652155762,0.8534211177717292,0.5637404340111039,0.2971366085488249,1.488990189483893,-1.1136939284905183,0.36931992078898696,0.6012505232665935,-1.228684022050812,0.4474824371666456,-0.8482997954231998,-0.85839217274234,0.5816657109309396,0.561463492438676,-0.17762971790881574,2.253819024780938,1.8383271645432007,-0.017723983247172517,-1.4086179887604693,-0.455262052154905,3.027749410400535,-0.7706272831937817,0.044998032882978274,0.5093813314163811,-0.8738320491940496,-0.3788672274267904,0.8985220013506069,0.11688284615129714,0.08085665790681583,1.2423065994338762,-0.0884143933777113,0.345420570043961,0.4132818552246082,-0.6301355000040854,0.822477330774026,0.10555307862137166,-2.1584819195642595,0.8402591907285277],\"yaxis\":\"y14\"},{\"line\":{\"color\":\"rgba(128, 128, 128, 1.0)\",\"dash\":\"solid\",\"shape\":\"linear\",\"width\":1.3},\"marker\":{\"size\":2,\"symbol\":\"circle\"},\"mode\":\"markers\",\"name\":\"D\",\"text\":\"\",\"type\":\"scatter\",\"x\":[-0.19742756926843105,0.48958431436992456,1.168655358246096,-1.3239674601960378,0.3153412681524564,-1.2867213298660525,0.13789323815829171,-1.3125707738687633,-0.9234834781507878,-0.9548407227047814,0.3281827098249989,-0.3277377584634297,-1.3389401832040264,-0.7965973626411075,-1.4073340890042276,0.8337423779644011,-0.15811866852240905,1.0849554248787707,2.0612040425799627,-2.318379508588448,-1.950184533721912,-0.011910728682155394,-1.366112972733267,1.0501167875491892,0.271741015803,-1.4163867458934332,0.7215180594005365,0.43675196186973586,-0.3507397519626802,-1.6443851500374882,-0.8490477414572171,-1.6127329815628186,-1.3087264158796403,0.0058488737954857034,-0.36321271690552726,0.08444388374930377,0.1181060177717198,-0.14842969336280984,-1.6963859240233354,-1.0863418413017474,0.10129253574241567,-0.5900410648265194,-0.5009043399907748,-1.2716423538388761,-0.4284674367119366,0.26540445885382735,0.4170753457414443,-0.36798568466917686,-0.8095269771913907,2.110941230287802,0.5663429864997228,0.08995655038933079,-0.84812317579309,0.25653928204649035,0.044956983413372655,0.4408878738134412,-0.7661276683521101,-1.6757250776250023,0.6240106192760755,0.6853774199406103,1.1571308663536402,-1.233540507022606,-0.5430963887359603,-1.053444352385449,0.07002453531421317,-0.9284087622114705,0.00940398366288766,-0.3240331489016471,-1.5350666449797785,-0.8021685333792421,0.054985419462508144,0.2873924541602581,-1.7653271429977395,0.2808187957487331,-0.2504873511898542,0.8176394956508974,0.18627545033457132,1.9915991067706624,0.44328160033777114,0.9044391218899049,2.26791900684423,-1.5256270985104692,-1.1416493459172348,-1.476047627561701,-0.5253658496613989,0.33415996539835696,0.4361804935570515,-0.7567641205192095,0.22262672530051753,-1.9071038631080481,-0.00396760837536343,1.7064732324082712,0.6034265071025826,-1.9273434592087144,0.9921617004887597,-0.5587647056959151,-0.05808663848653034,-1.2199300754263094,-1.15709736045127,-0.9743788159189748],\"xaxis\":\"x15\",\"y\":[0.738190830937213,0.05388632898957935,1.0881527464783645,-1.0077265322775444,-0.41881847699678193,-0.2915529980778208,-1.2590941502756594,-1.229551033330486,-0.18140644511752788,-0.2870228963830413,-2.2089798603151674,0.6843054039418736,0.6742624926357605,-0.5910863898055728,1.1462985693719674,0.4741505151953946,-1.22184361711703,0.3545396509616731,0.2437784655319529,0.8851937685556265,0.4632827238928113,1.0863756187270626,-0.1181561527572261,0.1369261680083311,2.0348524973218987,-1.8861768832689836,-0.016705368751881017,0.7290175886085175,1.318164717746607,-0.08419407473425462,0.5188272566189656,-0.11785375633774303,0.6816241022779139,1.1633798931878614,1.3009309850009134,1.1031064057176247,-1.7268011580280418,-0.1877113285912264,0.6433668159665754,0.5175660426550832,-0.4262770712301764,1.4345996252642592,-1.5851546875837106,1.7431000816154405,1.7045490658714484,0.18649227181534667,-0.46457495515943703,-0.6659601290687353,0.6471493021984399,-0.5650773246995385,0.23816150687538057,-0.7569262775599286,-0.9098285535133858,-1.4010829422108781,1.112587332750602,-1.1688615137051739,0.8938407717187248,0.8681635351258409,1.2854867980875944,1.5847484818220776,-0.7351580187684134,-0.20030886020076985,0.6193994652155762,0.8534211177717292,0.5637404340111039,0.2971366085488249,1.488990189483893,-1.1136939284905183,0.36931992078898696,0.6012505232665935,-1.228684022050812,0.4474824371666456,-0.8482997954231998,-0.85839217274234,0.5816657109309396,0.561463492438676,-0.17762971790881574,2.253819024780938,1.8383271645432007,-0.017723983247172517,-1.4086179887604693,-0.455262052154905,3.027749410400535,-0.7706272831937817,0.044998032882978274,0.5093813314163811,-0.8738320491940496,-0.3788672274267904,0.8985220013506069,0.11688284615129714,0.08085665790681583,1.2423065994338762,-0.0884143933777113,0.345420570043961,0.4132818552246082,-0.6301355000040854,0.822477330774026,0.10555307862137166,-2.1584819195642595,0.8402591907285277],\"yaxis\":\"y15\"},{\"histfunc\":\"count\",\"histnorm\":\"\",\"marker\":{\"color\":\"rgba(128, 0, 128, 1.0)\",\"line\":{\"color\":\"#4D5663\",\"width\":1.3}},\"name\":\"D\",\"nbinsx\":10,\"opacity\":0.8,\"orientation\":\"v\",\"type\":\"histogram\",\"x\":[0.738190830937213,0.05388632898957935,1.0881527464783645,-1.0077265322775444,-0.41881847699678193,-0.2915529980778208,-1.2590941502756594,-1.229551033330486,-0.18140644511752788,-0.2870228963830413,-2.2089798603151674,0.6843054039418736,0.6742624926357605,-0.5910863898055728,1.1462985693719674,0.4741505151953946,-1.22184361711703,0.3545396509616731,0.2437784655319529,0.8851937685556265,0.4632827238928113,1.0863756187270626,-0.1181561527572261,0.1369261680083311,2.0348524973218987,-1.8861768832689836,-0.016705368751881017,0.7290175886085175,1.318164717746607,-0.08419407473425462,0.5188272566189656,-0.11785375633774303,0.6816241022779139,1.1633798931878614,1.3009309850009134,1.1031064057176247,-1.7268011580280418,-0.1877113285912264,0.6433668159665754,0.5175660426550832,-0.4262770712301764,1.4345996252642592,-1.5851546875837106,1.7431000816154405,1.7045490658714484,0.18649227181534667,-0.46457495515943703,-0.6659601290687353,0.6471493021984399,-0.5650773246995385,0.23816150687538057,-0.7569262775599286,-0.9098285535133858,-1.4010829422108781,1.112587332750602,-1.1688615137051739,0.8938407717187248,0.8681635351258409,1.2854867980875944,1.5847484818220776,-0.7351580187684134,-0.20030886020076985,0.6193994652155762,0.8534211177717292,0.5637404340111039,0.2971366085488249,1.488990189483893,-1.1136939284905183,0.36931992078898696,0.6012505232665935,-1.228684022050812,0.4474824371666456,-0.8482997954231998,-0.85839217274234,0.5816657109309396,0.561463492438676,-0.17762971790881574,2.253819024780938,1.8383271645432007,-0.017723983247172517,-1.4086179887604693,-0.455262052154905,3.027749410400535,-0.7706272831937817,0.044998032882978274,0.5093813314163811,-0.8738320491940496,-0.3788672274267904,0.8985220013506069,0.11688284615129714,0.08085665790681583,1.2423065994338762,-0.0884143933777113,0.345420570043961,0.4132818552246082,-0.6301355000040854,0.822477330774026,0.10555307862137166,-2.1584819195642595,0.8402591907285277],\"xaxis\":\"x16\",\"yaxis\":\"y16\"}],                        {\"bargap\":0.02,\"legend\":{\"bgcolor\":\"#F5F6F9\",\"font\":{\"color\":\"#4D5663\"}},\"paper_bgcolor\":\"#F5F6F9\",\"plot_bgcolor\":\"#F5F6F9\",\"showlegend\":false,\"template\":{\"data\":{\"bar\":[{\"error_x\":{\"color\":\"#2a3f5f\"},\"error_y\":{\"color\":\"#2a3f5f\"},\"marker\":{\"line\":{\"color\":\"#E5ECF6\",\"width\":0.5},\"pattern\":{\"fillmode\":\"overlay\",\"size\":10,\"solidity\":0.2}},\"type\":\"bar\"}],\"barpolar\":[{\"marker\":{\"line\":{\"color\":\"#E5ECF6\",\"width\":0.5},\"pattern\":{\"fillmode\":\"overlay\",\"size\":10,\"solidity\":0.2}},\"type\":\"barpolar\"}],\"carpet\":[{\"aaxis\":{\"endlinecolor\":\"#2a3f5f\",\"gridcolor\":\"white\",\"linecolor\":\"white\",\"minorgridcolor\":\"white\",\"startlinecolor\":\"#2a3f5f\"},\"baxis\":{\"endlinecolor\":\"#2a3f5f\",\"gridcolor\":\"white\",\"linecolor\":\"white\",\"minorgridcolor\":\"white\",\"startlinecolor\":\"#2a3f5f\"},\"type\":\"carpet\"}],\"choropleth\":[{\"colorbar\":{\"outlinewidth\":0,\"ticks\":\"\"},\"type\":\"choropleth\"}],\"contour\":[{\"colorbar\":{\"outlinewidth\":0,\"ticks\":\"\"},\"colorscale\":[[0.0,\"#0d0887\"],[0.1111111111111111,\"#46039f\"],[0.2222222222222222,\"#7201a8\"],[0.3333333333333333,\"#9c179e\"],[0.4444444444444444,\"#bd3786\"],[0.5555555555555556,\"#d8576b\"],[0.6666666666666666,\"#ed7953\"],[0.7777777777777778,\"#fb9f3a\"],[0.8888888888888888,\"#fdca26\"],[1.0,\"#f0f921\"]],\"type\":\"contour\"}],\"contourcarpet\":[{\"colorbar\":{\"outlinewidth\":0,\"ticks\":\"\"},\"type\":\"contourcarpet\"}],\"heatmap\":[{\"colorbar\":{\"outlinewidth\":0,\"ticks\":\"\"},\"colorscale\":[[0.0,\"#0d0887\"],[0.1111111111111111,\"#46039f\"],[0.2222222222222222,\"#7201a8\"],[0.3333333333333333,\"#9c179e\"],[0.4444444444444444,\"#bd3786\"],[0.5555555555555556,\"#d8576b\"],[0.6666666666666666,\"#ed7953\"],[0.7777777777777778,\"#fb9f3a\"],[0.8888888888888888,\"#fdca26\"],[1.0,\"#f0f921\"]],\"type\":\"heatmap\"}],\"heatmapgl\":[{\"colorbar\":{\"outlinewidth\":0,\"ticks\":\"\"},\"colorscale\":[[0.0,\"#0d0887\"],[0.1111111111111111,\"#46039f\"],[0.2222222222222222,\"#7201a8\"],[0.3333333333333333,\"#9c179e\"],[0.4444444444444444,\"#bd3786\"],[0.5555555555555556,\"#d8576b\"],[0.6666666666666666,\"#ed7953\"],[0.7777777777777778,\"#fb9f3a\"],[0.8888888888888888,\"#fdca26\"],[1.0,\"#f0f921\"]],\"type\":\"heatmapgl\"}],\"histogram\":[{\"marker\":{\"pattern\":{\"fillmode\":\"overlay\",\"size\":10,\"solidity\":0.2}},\"type\":\"histogram\"}],\"histogram2d\":[{\"colorbar\":{\"outlinewidth\":0,\"ticks\":\"\"},\"colorscale\":[[0.0,\"#0d0887\"],[0.1111111111111111,\"#46039f\"],[0.2222222222222222,\"#7201a8\"],[0.3333333333333333,\"#9c179e\"],[0.4444444444444444,\"#bd3786\"],[0.5555555555555556,\"#d8576b\"],[0.6666666666666666,\"#ed7953\"],[0.7777777777777778,\"#fb9f3a\"],[0.8888888888888888,\"#fdca26\"],[1.0,\"#f0f921\"]],\"type\":\"histogram2d\"}],\"histogram2dcontour\":[{\"colorbar\":{\"outlinewidth\":0,\"ticks\":\"\"},\"colorscale\":[[0.0,\"#0d0887\"],[0.1111111111111111,\"#46039f\"],[0.2222222222222222,\"#7201a8\"],[0.3333333333333333,\"#9c179e\"],[0.4444444444444444,\"#bd3786\"],[0.5555555555555556,\"#d8576b\"],[0.6666666666666666,\"#ed7953\"],[0.7777777777777778,\"#fb9f3a\"],[0.8888888888888888,\"#fdca26\"],[1.0,\"#f0f921\"]],\"type\":\"histogram2dcontour\"}],\"mesh3d\":[{\"colorbar\":{\"outlinewidth\":0,\"ticks\":\"\"},\"type\":\"mesh3d\"}],\"parcoords\":[{\"line\":{\"colorbar\":{\"outlinewidth\":0,\"ticks\":\"\"}},\"type\":\"parcoords\"}],\"pie\":[{\"automargin\":true,\"type\":\"pie\"}],\"scatter\":[{\"marker\":{\"colorbar\":{\"outlinewidth\":0,\"ticks\":\"\"}},\"type\":\"scatter\"}],\"scatter3d\":[{\"line\":{\"colorbar\":{\"outlinewidth\":0,\"ticks\":\"\"}},\"marker\":{\"colorbar\":{\"outlinewidth\":0,\"ticks\":\"\"}},\"type\":\"scatter3d\"}],\"scattercarpet\":[{\"marker\":{\"colorbar\":{\"outlinewidth\":0,\"ticks\":\"\"}},\"type\":\"scattercarpet\"}],\"scattergeo\":[{\"marker\":{\"colorbar\":{\"outlinewidth\":0,\"ticks\":\"\"}},\"type\":\"scattergeo\"}],\"scattergl\":[{\"marker\":{\"colorbar\":{\"outlinewidth\":0,\"ticks\":\"\"}},\"type\":\"scattergl\"}],\"scattermapbox\":[{\"marker\":{\"colorbar\":{\"outlinewidth\":0,\"ticks\":\"\"}},\"type\":\"scattermapbox\"}],\"scatterpolar\":[{\"marker\":{\"colorbar\":{\"outlinewidth\":0,\"ticks\":\"\"}},\"type\":\"scatterpolar\"}],\"scatterpolargl\":[{\"marker\":{\"colorbar\":{\"outlinewidth\":0,\"ticks\":\"\"}},\"type\":\"scatterpolargl\"}],\"scatterternary\":[{\"marker\":{\"colorbar\":{\"outlinewidth\":0,\"ticks\":\"\"}},\"type\":\"scatterternary\"}],\"surface\":[{\"colorbar\":{\"outlinewidth\":0,\"ticks\":\"\"},\"colorscale\":[[0.0,\"#0d0887\"],[0.1111111111111111,\"#46039f\"],[0.2222222222222222,\"#7201a8\"],[0.3333333333333333,\"#9c179e\"],[0.4444444444444444,\"#bd3786\"],[0.5555555555555556,\"#d8576b\"],[0.6666666666666666,\"#ed7953\"],[0.7777777777777778,\"#fb9f3a\"],[0.8888888888888888,\"#fdca26\"],[1.0,\"#f0f921\"]],\"type\":\"surface\"}],\"table\":[{\"cells\":{\"fill\":{\"color\":\"#EBF0F8\"},\"line\":{\"color\":\"white\"}},\"header\":{\"fill\":{\"color\":\"#C8D4E3\"},\"line\":{\"color\":\"white\"}},\"type\":\"table\"}]},\"layout\":{\"annotationdefaults\":{\"arrowcolor\":\"#2a3f5f\",\"arrowhead\":0,\"arrowwidth\":1},\"autotypenumbers\":\"strict\",\"coloraxis\":{\"colorbar\":{\"outlinewidth\":0,\"ticks\":\"\"}},\"colorscale\":{\"diverging\":[[0,\"#8e0152\"],[0.1,\"#c51b7d\"],[0.2,\"#de77ae\"],[0.3,\"#f1b6da\"],[0.4,\"#fde0ef\"],[0.5,\"#f7f7f7\"],[0.6,\"#e6f5d0\"],[0.7,\"#b8e186\"],[0.8,\"#7fbc41\"],[0.9,\"#4d9221\"],[1,\"#276419\"]],\"sequential\":[[0.0,\"#0d0887\"],[0.1111111111111111,\"#46039f\"],[0.2222222222222222,\"#7201a8\"],[0.3333333333333333,\"#9c179e\"],[0.4444444444444444,\"#bd3786\"],[0.5555555555555556,\"#d8576b\"],[0.6666666666666666,\"#ed7953\"],[0.7777777777777778,\"#fb9f3a\"],[0.8888888888888888,\"#fdca26\"],[1.0,\"#f0f921\"]],\"sequentialminus\":[[0.0,\"#0d0887\"],[0.1111111111111111,\"#46039f\"],[0.2222222222222222,\"#7201a8\"],[0.3333333333333333,\"#9c179e\"],[0.4444444444444444,\"#bd3786\"],[0.5555555555555556,\"#d8576b\"],[0.6666666666666666,\"#ed7953\"],[0.7777777777777778,\"#fb9f3a\"],[0.8888888888888888,\"#fdca26\"],[1.0,\"#f0f921\"]]},\"colorway\":[\"#636efa\",\"#EF553B\",\"#00cc96\",\"#ab63fa\",\"#FFA15A\",\"#19d3f3\",\"#FF6692\",\"#B6E880\",\"#FF97FF\",\"#FECB52\"],\"font\":{\"color\":\"#2a3f5f\"},\"geo\":{\"bgcolor\":\"white\",\"lakecolor\":\"white\",\"landcolor\":\"#E5ECF6\",\"showlakes\":true,\"showland\":true,\"subunitcolor\":\"white\"},\"hoverlabel\":{\"align\":\"left\"},\"hovermode\":\"closest\",\"mapbox\":{\"style\":\"light\"},\"paper_bgcolor\":\"white\",\"plot_bgcolor\":\"#E5ECF6\",\"polar\":{\"angularaxis\":{\"gridcolor\":\"white\",\"linecolor\":\"white\",\"ticks\":\"\"},\"bgcolor\":\"#E5ECF6\",\"radialaxis\":{\"gridcolor\":\"white\",\"linecolor\":\"white\",\"ticks\":\"\"}},\"scene\":{\"xaxis\":{\"backgroundcolor\":\"#E5ECF6\",\"gridcolor\":\"white\",\"gridwidth\":2,\"linecolor\":\"white\",\"showbackground\":true,\"ticks\":\"\",\"zerolinecolor\":\"white\"},\"yaxis\":{\"backgroundcolor\":\"#E5ECF6\",\"gridcolor\":\"white\",\"gridwidth\":2,\"linecolor\":\"white\",\"showbackground\":true,\"ticks\":\"\",\"zerolinecolor\":\"white\"},\"zaxis\":{\"backgroundcolor\":\"#E5ECF6\",\"gridcolor\":\"white\",\"gridwidth\":2,\"linecolor\":\"white\",\"showbackground\":true,\"ticks\":\"\",\"zerolinecolor\":\"white\"}},\"shapedefaults\":{\"line\":{\"color\":\"#2a3f5f\"}},\"ternary\":{\"aaxis\":{\"gridcolor\":\"white\",\"linecolor\":\"white\",\"ticks\":\"\"},\"baxis\":{\"gridcolor\":\"white\",\"linecolor\":\"white\",\"ticks\":\"\"},\"bgcolor\":\"#E5ECF6\",\"caxis\":{\"gridcolor\":\"white\",\"linecolor\":\"white\",\"ticks\":\"\"}},\"title\":{\"x\":0.05},\"xaxis\":{\"automargin\":true,\"gridcolor\":\"white\",\"linecolor\":\"white\",\"ticks\":\"\",\"title\":{\"standoff\":15},\"zerolinecolor\":\"white\",\"zerolinewidth\":2},\"yaxis\":{\"automargin\":true,\"gridcolor\":\"white\",\"linecolor\":\"white\",\"ticks\":\"\",\"title\":{\"standoff\":15},\"zerolinecolor\":\"white\",\"zerolinewidth\":2}}},\"title\":{\"font\":{\"color\":\"#4D5663\"}},\"xaxis\":{\"anchor\":\"y\",\"domain\":[0.0,0.2125],\"gridcolor\":\"#E1E5ED\",\"showgrid\":false,\"tickfont\":{\"color\":\"#4D5663\"},\"title\":{\"font\":{\"color\":\"#4D5663\"},\"text\":\"\"},\"zerolinecolor\":\"#E1E5ED\"},\"xaxis10\":{\"anchor\":\"y10\",\"domain\":[0.2625,0.475],\"gridcolor\":\"#E1E5ED\",\"showgrid\":false,\"tickfont\":{\"color\":\"#4D5663\"},\"title\":{\"font\":{\"color\":\"#4D5663\"},\"text\":\"\"},\"zerolinecolor\":\"#E1E5ED\"},\"xaxis11\":{\"anchor\":\"y11\",\"domain\":[0.525,0.7375],\"gridcolor\":\"#E1E5ED\",\"showgrid\":false,\"tickfont\":{\"color\":\"#4D5663\"},\"title\":{\"font\":{\"color\":\"#4D5663\"},\"text\":\"\"},\"zerolinecolor\":\"#E1E5ED\"},\"xaxis12\":{\"anchor\":\"y12\",\"domain\":[0.7875,1.0],\"gridcolor\":\"#E1E5ED\",\"showgrid\":false,\"tickfont\":{\"color\":\"#4D5663\"},\"title\":{\"font\":{\"color\":\"#4D5663\"},\"text\":\"\"},\"zerolinecolor\":\"#E1E5ED\"},\"xaxis13\":{\"anchor\":\"y13\",\"domain\":[0.0,0.2125],\"gridcolor\":\"#E1E5ED\",\"showgrid\":false,\"tickfont\":{\"color\":\"#4D5663\"},\"title\":{\"font\":{\"color\":\"#4D5663\"},\"text\":\"\"},\"zerolinecolor\":\"#E1E5ED\"},\"xaxis14\":{\"anchor\":\"y14\",\"domain\":[0.2625,0.475],\"gridcolor\":\"#E1E5ED\",\"showgrid\":false,\"tickfont\":{\"color\":\"#4D5663\"},\"title\":{\"font\":{\"color\":\"#4D5663\"},\"text\":\"\"},\"zerolinecolor\":\"#E1E5ED\"},\"xaxis15\":{\"anchor\":\"y15\",\"domain\":[0.525,0.7375],\"gridcolor\":\"#E1E5ED\",\"showgrid\":false,\"tickfont\":{\"color\":\"#4D5663\"},\"title\":{\"font\":{\"color\":\"#4D5663\"},\"text\":\"\"},\"zerolinecolor\":\"#E1E5ED\"},\"xaxis16\":{\"anchor\":\"y16\",\"domain\":[0.7875,1.0],\"gridcolor\":\"#E1E5ED\",\"showgrid\":false,\"tickfont\":{\"color\":\"#4D5663\"},\"title\":{\"font\":{\"color\":\"#4D5663\"},\"text\":\"\"},\"zerolinecolor\":\"#E1E5ED\"},\"xaxis2\":{\"anchor\":\"y2\",\"domain\":[0.2625,0.475],\"gridcolor\":\"#E1E5ED\",\"showgrid\":false,\"tickfont\":{\"color\":\"#4D5663\"},\"title\":{\"font\":{\"color\":\"#4D5663\"},\"text\":\"\"},\"zerolinecolor\":\"#E1E5ED\"},\"xaxis3\":{\"anchor\":\"y3\",\"domain\":[0.525,0.7375],\"gridcolor\":\"#E1E5ED\",\"showgrid\":false,\"tickfont\":{\"color\":\"#4D5663\"},\"title\":{\"font\":{\"color\":\"#4D5663\"},\"text\":\"\"},\"zerolinecolor\":\"#E1E5ED\"},\"xaxis4\":{\"anchor\":\"y4\",\"domain\":[0.7875,1.0],\"gridcolor\":\"#E1E5ED\",\"showgrid\":false,\"tickfont\":{\"color\":\"#4D5663\"},\"title\":{\"font\":{\"color\":\"#4D5663\"},\"text\":\"\"},\"zerolinecolor\":\"#E1E5ED\"},\"xaxis5\":{\"anchor\":\"y5\",\"domain\":[0.0,0.2125],\"gridcolor\":\"#E1E5ED\",\"showgrid\":false,\"tickfont\":{\"color\":\"#4D5663\"},\"title\":{\"font\":{\"color\":\"#4D5663\"},\"text\":\"\"},\"zerolinecolor\":\"#E1E5ED\"},\"xaxis6\":{\"anchor\":\"y6\",\"domain\":[0.2625,0.475],\"gridcolor\":\"#E1E5ED\",\"showgrid\":false,\"tickfont\":{\"color\":\"#4D5663\"},\"title\":{\"font\":{\"color\":\"#4D5663\"},\"text\":\"\"},\"zerolinecolor\":\"#E1E5ED\"},\"xaxis7\":{\"anchor\":\"y7\",\"domain\":[0.525,0.7375],\"gridcolor\":\"#E1E5ED\",\"showgrid\":false,\"tickfont\":{\"color\":\"#4D5663\"},\"title\":{\"font\":{\"color\":\"#4D5663\"},\"text\":\"\"},\"zerolinecolor\":\"#E1E5ED\"},\"xaxis8\":{\"anchor\":\"y8\",\"domain\":[0.7875,1.0],\"gridcolor\":\"#E1E5ED\",\"showgrid\":false,\"tickfont\":{\"color\":\"#4D5663\"},\"title\":{\"font\":{\"color\":\"#4D5663\"},\"text\":\"\"},\"zerolinecolor\":\"#E1E5ED\"},\"xaxis9\":{\"anchor\":\"y9\",\"domain\":[0.0,0.2125],\"gridcolor\":\"#E1E5ED\",\"showgrid\":false,\"tickfont\":{\"color\":\"#4D5663\"},\"title\":{\"font\":{\"color\":\"#4D5663\"},\"text\":\"\"},\"zerolinecolor\":\"#E1E5ED\"},\"yaxis\":{\"anchor\":\"x\",\"domain\":[0.8025,1.0],\"gridcolor\":\"#E1E5ED\",\"showgrid\":false,\"tickfont\":{\"color\":\"#4D5663\"},\"title\":{\"font\":{\"color\":\"#4D5663\"},\"text\":\"\"},\"zerolinecolor\":\"#E1E5ED\"},\"yaxis10\":{\"anchor\":\"x10\",\"domain\":[0.2675,0.465],\"gridcolor\":\"#E1E5ED\",\"showgrid\":false,\"tickfont\":{\"color\":\"#4D5663\"},\"title\":{\"font\":{\"color\":\"#4D5663\"},\"text\":\"\"},\"zerolinecolor\":\"#E1E5ED\"},\"yaxis11\":{\"anchor\":\"x11\",\"domain\":[0.2675,0.465],\"gridcolor\":\"#E1E5ED\",\"showgrid\":false,\"tickfont\":{\"color\":\"#4D5663\"},\"title\":{\"font\":{\"color\":\"#4D5663\"},\"text\":\"\"},\"zerolinecolor\":\"#E1E5ED\"},\"yaxis12\":{\"anchor\":\"x12\",\"domain\":[0.2675,0.465],\"gridcolor\":\"#E1E5ED\",\"showgrid\":false,\"tickfont\":{\"color\":\"#4D5663\"},\"title\":{\"font\":{\"color\":\"#4D5663\"},\"text\":\"\"},\"zerolinecolor\":\"#E1E5ED\"},\"yaxis13\":{\"anchor\":\"x13\",\"domain\":[0.0,0.1975],\"gridcolor\":\"#E1E5ED\",\"showgrid\":false,\"tickfont\":{\"color\":\"#4D5663\"},\"title\":{\"font\":{\"color\":\"#4D5663\"},\"text\":\"\"},\"zerolinecolor\":\"#E1E5ED\"},\"yaxis14\":{\"anchor\":\"x14\",\"domain\":[0.0,0.1975],\"gridcolor\":\"#E1E5ED\",\"showgrid\":false,\"tickfont\":{\"color\":\"#4D5663\"},\"title\":{\"font\":{\"color\":\"#4D5663\"},\"text\":\"\"},\"zerolinecolor\":\"#E1E5ED\"},\"yaxis15\":{\"anchor\":\"x15\",\"domain\":[0.0,0.1975],\"gridcolor\":\"#E1E5ED\",\"showgrid\":false,\"tickfont\":{\"color\":\"#4D5663\"},\"title\":{\"font\":{\"color\":\"#4D5663\"},\"text\":\"\"},\"zerolinecolor\":\"#E1E5ED\"},\"yaxis16\":{\"anchor\":\"x16\",\"domain\":[0.0,0.1975],\"gridcolor\":\"#E1E5ED\",\"showgrid\":false,\"tickfont\":{\"color\":\"#4D5663\"},\"title\":{\"font\":{\"color\":\"#4D5663\"},\"text\":\"\"},\"zerolinecolor\":\"#E1E5ED\"},\"yaxis2\":{\"anchor\":\"x2\",\"domain\":[0.8025,1.0],\"gridcolor\":\"#E1E5ED\",\"showgrid\":false,\"tickfont\":{\"color\":\"#4D5663\"},\"title\":{\"font\":{\"color\":\"#4D5663\"},\"text\":\"\"},\"zerolinecolor\":\"#E1E5ED\"},\"yaxis3\":{\"anchor\":\"x3\",\"domain\":[0.8025,1.0],\"gridcolor\":\"#E1E5ED\",\"showgrid\":false,\"tickfont\":{\"color\":\"#4D5663\"},\"title\":{\"font\":{\"color\":\"#4D5663\"},\"text\":\"\"},\"zerolinecolor\":\"#E1E5ED\"},\"yaxis4\":{\"anchor\":\"x4\",\"domain\":[0.8025,1.0],\"gridcolor\":\"#E1E5ED\",\"showgrid\":false,\"tickfont\":{\"color\":\"#4D5663\"},\"title\":{\"font\":{\"color\":\"#4D5663\"},\"text\":\"\"},\"zerolinecolor\":\"#E1E5ED\"},\"yaxis5\":{\"anchor\":\"x5\",\"domain\":[0.535,0.7325],\"gridcolor\":\"#E1E5ED\",\"showgrid\":false,\"tickfont\":{\"color\":\"#4D5663\"},\"title\":{\"font\":{\"color\":\"#4D5663\"},\"text\":\"\"},\"zerolinecolor\":\"#E1E5ED\"},\"yaxis6\":{\"anchor\":\"x6\",\"domain\":[0.535,0.7325],\"gridcolor\":\"#E1E5ED\",\"showgrid\":false,\"tickfont\":{\"color\":\"#4D5663\"},\"title\":{\"font\":{\"color\":\"#4D5663\"},\"text\":\"\"},\"zerolinecolor\":\"#E1E5ED\"},\"yaxis7\":{\"anchor\":\"x7\",\"domain\":[0.535,0.7325],\"gridcolor\":\"#E1E5ED\",\"showgrid\":false,\"tickfont\":{\"color\":\"#4D5663\"},\"title\":{\"font\":{\"color\":\"#4D5663\"},\"text\":\"\"},\"zerolinecolor\":\"#E1E5ED\"},\"yaxis8\":{\"anchor\":\"x8\",\"domain\":[0.535,0.7325],\"gridcolor\":\"#E1E5ED\",\"showgrid\":false,\"tickfont\":{\"color\":\"#4D5663\"},\"title\":{\"font\":{\"color\":\"#4D5663\"},\"text\":\"\"},\"zerolinecolor\":\"#E1E5ED\"},\"yaxis9\":{\"anchor\":\"x9\",\"domain\":[0.2675,0.465],\"gridcolor\":\"#E1E5ED\",\"showgrid\":false,\"tickfont\":{\"color\":\"#4D5663\"},\"title\":{\"font\":{\"color\":\"#4D5663\"},\"text\":\"\"},\"zerolinecolor\":\"#E1E5ED\"}},                        {\"showLink\": true, \"linkText\": \"Export to plot.ly\", \"plotlyServerURL\": \"https://plot.ly\", \"responsive\": true}                    ).then(function(){\n",
       "                            \n",
       "var gd = document.getElementById('5bede6d9-8904-4243-8e4a-36d775df6e3b');\n",
       "var x = new MutationObserver(function (mutations, observer) {{\n",
       "        var display = window.getComputedStyle(gd).display;\n",
       "        if (!display || display === 'none') {{\n",
       "            console.log([gd, 'removed!']);\n",
       "            Plotly.purge(gd);\n",
       "            observer.disconnect();\n",
       "        }}\n",
       "}});\n",
       "\n",
       "// Listen for the removal of the full notebook cells\n",
       "var notebookContainer = gd.closest('#notebook-container');\n",
       "if (notebookContainer) {{\n",
       "    x.observe(notebookContainer, {childList: true});\n",
       "}}\n",
       "\n",
       "// Listen for the clearing of the current output cell\n",
       "var outputEl = gd.closest('.output');\n",
       "if (outputEl) {{\n",
       "    x.observe(outputEl, {childList: true});\n",
       "}}\n",
       "\n",
       "                        })                };                });            </script>        </div>"
      ]
     },
     "metadata": {},
     "output_type": "display_data"
    }
   ],
   "source": [
    "df.scatter_matrix()"
   ]
  },
  {
   "cell_type": "markdown",
   "metadata": {
    "collapsed": true
   },
   "source": [
    "# Great Job!"
   ]
  }
 ],
 "metadata": {
  "kernelspec": {
   "display_name": "Python 3",
   "language": "python",
   "name": "python3"
  },
  "language_info": {
   "codemirror_mode": {
    "name": "ipython",
    "version": 3
   },
   "file_extension": ".py",
   "mimetype": "text/x-python",
   "name": "python",
   "nbconvert_exporter": "python",
   "pygments_lexer": "ipython3",
   "version": "3.8.5"
  }
 },
 "nbformat": 4,
 "nbformat_minor": 1
}
